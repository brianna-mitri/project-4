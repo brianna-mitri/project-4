{
 "cells": [
  {
   "cell_type": "markdown",
   "metadata": {},
   "source": [
    "## Setup"
   ]
  },
  {
   "cell_type": "code",
   "execution_count": 119,
   "metadata": {},
   "outputs": [],
   "source": [
    "# imports\n",
    "import zipfile\n",
    "import pandas as pd\n",
    "import numpy as np\n",
    "import matplotlib.pyplot as plt"
   ]
  },
  {
   "cell_type": "code",
   "execution_count": 2,
   "metadata": {},
   "outputs": [],
   "source": [
    "# function to open zipped file and read into df\n",
    "def unzip_to_df(zip_filepath, file_inside_zip, **read_csv_kwargs):\n",
    "    try:\n",
    "        with zipfile.ZipFile(zip_filepath, 'r') as z:\n",
    "            with z.open(file_inside_zip) as f:\n",
    "                df = pd.read_csv(f, dtype={'Manufacturer Code': str}, **read_csv_kwargs)\n",
    "        return df\n",
    "    except Exception as e:\n",
    "        print(f'Error occured: {e}')\n",
    "        return None"
   ]
  },
  {
   "cell_type": "code",
   "execution_count": 3,
   "metadata": {},
   "outputs": [],
   "source": [
    "# get df\n",
    "zip_path = '../Work/DB_Work/Output/flight_delays.zip'\n",
    "file_name = 'flight_delays.csv'\n",
    "\n",
    "delays_df = unzip_to_df(zip_path, file_name)"
   ]
  },
  {
   "cell_type": "code",
   "execution_count": 4,
   "metadata": {},
   "outputs": [
    {
     "data": {
      "text/html": [
       "<div>\n",
       "<style scoped>\n",
       "    .dataframe tbody tr th:only-of-type {\n",
       "        vertical-align: middle;\n",
       "    }\n",
       "\n",
       "    .dataframe tbody tr th {\n",
       "        vertical-align: top;\n",
       "    }\n",
       "\n",
       "    .dataframe thead th {\n",
       "        text-align: right;\n",
       "    }\n",
       "</style>\n",
       "<table border=\"1\" class=\"dataframe\">\n",
       "  <thead>\n",
       "    <tr style=\"text-align: right;\">\n",
       "      <th></th>\n",
       "      <th>Delay Bin</th>\n",
       "      <th>Departure Delay</th>\n",
       "      <th>Date</th>\n",
       "      <th>Year</th>\n",
       "      <th>Month</th>\n",
       "      <th>Day</th>\n",
       "      <th>Day of Week</th>\n",
       "      <th>Month (sin)</th>\n",
       "      <th>Month (cos)</th>\n",
       "      <th>Day (sin)</th>\n",
       "      <th>...</th>\n",
       "      <th>Air Temperature</th>\n",
       "      <th>Dew Point Temperature</th>\n",
       "      <th>Relative Humidity</th>\n",
       "      <th>Wind Speed</th>\n",
       "      <th>Wind Direction</th>\n",
       "      <th>Wind Gust</th>\n",
       "      <th>Visibility</th>\n",
       "      <th>Ceiling</th>\n",
       "      <th>Sea Level Pressure</th>\n",
       "      <th>Weather Condition Code</th>\n",
       "    </tr>\n",
       "  </thead>\n",
       "  <tbody>\n",
       "    <tr>\n",
       "      <th>0</th>\n",
       "      <td>Early</td>\n",
       "      <td>-2</td>\n",
       "      <td>01/01/2020</td>\n",
       "      <td>2020</td>\n",
       "      <td>1</td>\n",
       "      <td>1</td>\n",
       "      <td>2</td>\n",
       "      <td>0.5</td>\n",
       "      <td>0.866025</td>\n",
       "      <td>0.201299</td>\n",
       "      <td>...</td>\n",
       "      <td>57.02</td>\n",
       "      <td>33.08</td>\n",
       "      <td>40.23</td>\n",
       "      <td>5.75</td>\n",
       "      <td>80.0</td>\n",
       "      <td>0.0</td>\n",
       "      <td>10.0</td>\n",
       "      <td>NaN</td>\n",
       "      <td>1017.5</td>\n",
       "      <td>NaN</td>\n",
       "    </tr>\n",
       "    <tr>\n",
       "      <th>1</th>\n",
       "      <td>11-30 min</td>\n",
       "      <td>11</td>\n",
       "      <td>01/01/2020</td>\n",
       "      <td>2020</td>\n",
       "      <td>1</td>\n",
       "      <td>1</td>\n",
       "      <td>2</td>\n",
       "      <td>0.5</td>\n",
       "      <td>0.866025</td>\n",
       "      <td>0.201299</td>\n",
       "      <td>...</td>\n",
       "      <td>57.02</td>\n",
       "      <td>33.08</td>\n",
       "      <td>40.23</td>\n",
       "      <td>5.75</td>\n",
       "      <td>80.0</td>\n",
       "      <td>0.0</td>\n",
       "      <td>10.0</td>\n",
       "      <td>NaN</td>\n",
       "      <td>1017.5</td>\n",
       "      <td>NaN</td>\n",
       "    </tr>\n",
       "    <tr>\n",
       "      <th>2</th>\n",
       "      <td>31-60 min</td>\n",
       "      <td>45</td>\n",
       "      <td>01/01/2020</td>\n",
       "      <td>2020</td>\n",
       "      <td>1</td>\n",
       "      <td>1</td>\n",
       "      <td>2</td>\n",
       "      <td>0.5</td>\n",
       "      <td>0.866025</td>\n",
       "      <td>0.201299</td>\n",
       "      <td>...</td>\n",
       "      <td>57.02</td>\n",
       "      <td>33.08</td>\n",
       "      <td>40.23</td>\n",
       "      <td>5.75</td>\n",
       "      <td>80.0</td>\n",
       "      <td>0.0</td>\n",
       "      <td>10.0</td>\n",
       "      <td>NaN</td>\n",
       "      <td>1017.5</td>\n",
       "      <td>NaN</td>\n",
       "    </tr>\n",
       "    <tr>\n",
       "      <th>3</th>\n",
       "      <td>Early</td>\n",
       "      <td>-8</td>\n",
       "      <td>01/01/2020</td>\n",
       "      <td>2020</td>\n",
       "      <td>1</td>\n",
       "      <td>1</td>\n",
       "      <td>2</td>\n",
       "      <td>0.5</td>\n",
       "      <td>0.866025</td>\n",
       "      <td>0.201299</td>\n",
       "      <td>...</td>\n",
       "      <td>57.02</td>\n",
       "      <td>33.08</td>\n",
       "      <td>40.23</td>\n",
       "      <td>5.75</td>\n",
       "      <td>80.0</td>\n",
       "      <td>0.0</td>\n",
       "      <td>10.0</td>\n",
       "      <td>NaN</td>\n",
       "      <td>1017.5</td>\n",
       "      <td>NaN</td>\n",
       "    </tr>\n",
       "    <tr>\n",
       "      <th>4</th>\n",
       "      <td>Early</td>\n",
       "      <td>-11</td>\n",
       "      <td>01/01/2020</td>\n",
       "      <td>2020</td>\n",
       "      <td>1</td>\n",
       "      <td>1</td>\n",
       "      <td>2</td>\n",
       "      <td>0.5</td>\n",
       "      <td>0.866025</td>\n",
       "      <td>0.201299</td>\n",
       "      <td>...</td>\n",
       "      <td>57.02</td>\n",
       "      <td>33.08</td>\n",
       "      <td>40.23</td>\n",
       "      <td>5.75</td>\n",
       "      <td>80.0</td>\n",
       "      <td>0.0</td>\n",
       "      <td>10.0</td>\n",
       "      <td>NaN</td>\n",
       "      <td>1017.5</td>\n",
       "      <td>NaN</td>\n",
       "    </tr>\n",
       "  </tbody>\n",
       "</table>\n",
       "<p>5 rows × 48 columns</p>\n",
       "</div>"
      ],
      "text/plain": [
       "   Delay Bin  Departure Delay        Date  Year  Month  Day  Day of Week  \\\n",
       "0      Early               -2  01/01/2020  2020      1    1            2   \n",
       "1  11-30 min               11  01/01/2020  2020      1    1            2   \n",
       "2  31-60 min               45  01/01/2020  2020      1    1            2   \n",
       "3      Early               -8  01/01/2020  2020      1    1            2   \n",
       "4      Early              -11  01/01/2020  2020      1    1            2   \n",
       "\n",
       "   Month (sin)  Month (cos)  Day (sin)  ...  Air Temperature  \\\n",
       "0          0.5     0.866025   0.201299  ...            57.02   \n",
       "1          0.5     0.866025   0.201299  ...            57.02   \n",
       "2          0.5     0.866025   0.201299  ...            57.02   \n",
       "3          0.5     0.866025   0.201299  ...            57.02   \n",
       "4          0.5     0.866025   0.201299  ...            57.02   \n",
       "\n",
       "   Dew Point Temperature  Relative Humidity  Wind Speed Wind Direction  \\\n",
       "0                  33.08              40.23        5.75           80.0   \n",
       "1                  33.08              40.23        5.75           80.0   \n",
       "2                  33.08              40.23        5.75           80.0   \n",
       "3                  33.08              40.23        5.75           80.0   \n",
       "4                  33.08              40.23        5.75           80.0   \n",
       "\n",
       "  Wind Gust  Visibility  Ceiling Sea Level Pressure  Weather Condition Code  \n",
       "0       0.0        10.0      NaN             1017.5                     NaN  \n",
       "1       0.0        10.0      NaN             1017.5                     NaN  \n",
       "2       0.0        10.0      NaN             1017.5                     NaN  \n",
       "3       0.0        10.0      NaN             1017.5                     NaN  \n",
       "4       0.0        10.0      NaN             1017.5                     NaN  \n",
       "\n",
       "[5 rows x 48 columns]"
      ]
     },
     "execution_count": 4,
     "metadata": {},
     "output_type": "execute_result"
    }
   ],
   "source": [
    "# display\n",
    "delays_df.head()"
   ]
  },
  {
   "cell_type": "code",
   "execution_count": 5,
   "metadata": {},
   "outputs": [
    {
     "data": {
      "text/html": [
       "<div>\n",
       "<style scoped>\n",
       "    .dataframe tbody tr th:only-of-type {\n",
       "        vertical-align: middle;\n",
       "    }\n",
       "\n",
       "    .dataframe tbody tr th {\n",
       "        vertical-align: top;\n",
       "    }\n",
       "\n",
       "    .dataframe thead th {\n",
       "        text-align: right;\n",
       "    }\n",
       "</style>\n",
       "<table border=\"1\" class=\"dataframe\">\n",
       "  <thead>\n",
       "    <tr style=\"text-align: right;\">\n",
       "      <th></th>\n",
       "      <th>Date</th>\n",
       "      <th>Time</th>\n",
       "      <th>date_time</th>\n",
       "      <th>precip_accum_one_hour</th>\n",
       "      <th>air_temp</th>\n",
       "      <th>relative_humidity</th>\n",
       "      <th>wind_speed</th>\n",
       "      <th>wind_direction</th>\n",
       "      <th>sea_level_pressure</th>\n",
       "      <th>visibility</th>\n",
       "      <th>weather_cond_code</th>\n",
       "      <th>wind_gust</th>\n",
       "      <th>precip_accum_six_hour</th>\n",
       "      <th>ceiling</th>\n",
       "      <th>dew_point_temperature</th>\n",
       "    </tr>\n",
       "  </thead>\n",
       "  <tbody>\n",
       "    <tr>\n",
       "      <th>0</th>\n",
       "      <td>03/20/25</td>\n",
       "      <td>17:53</td>\n",
       "      <td>03/20/25-17:53</td>\n",
       "      <td>NaN</td>\n",
       "      <td>59.00</td>\n",
       "      <td>62.10</td>\n",
       "      <td>11.51</td>\n",
       "      <td>240.0</td>\n",
       "      <td>1017.2</td>\n",
       "      <td>10.0</td>\n",
       "      <td>&lt;NA&gt;</td>\n",
       "      <td>NaN</td>\n",
       "      <td>NaN</td>\n",
       "      <td>&lt;NA&gt;</td>\n",
       "      <td>46.04</td>\n",
       "    </tr>\n",
       "    <tr>\n",
       "      <th>1</th>\n",
       "      <td>03/20/25</td>\n",
       "      <td>16:53</td>\n",
       "      <td>03/20/25-16:53</td>\n",
       "      <td>NaN</td>\n",
       "      <td>60.98</td>\n",
       "      <td>51.51</td>\n",
       "      <td>13.81</td>\n",
       "      <td>240.0</td>\n",
       "      <td>1017.3</td>\n",
       "      <td>10.0</td>\n",
       "      <td>&lt;NA&gt;</td>\n",
       "      <td>NaN</td>\n",
       "      <td>NaN</td>\n",
       "      <td>&lt;NA&gt;</td>\n",
       "      <td>42.98</td>\n",
       "    </tr>\n",
       "    <tr>\n",
       "      <th>2</th>\n",
       "      <td>03/20/25</td>\n",
       "      <td>15:53</td>\n",
       "      <td>03/20/25-15:53</td>\n",
       "      <td>NaN</td>\n",
       "      <td>62.06</td>\n",
       "      <td>51.67</td>\n",
       "      <td>17.26</td>\n",
       "      <td>250.0</td>\n",
       "      <td>1017.7</td>\n",
       "      <td>10.0</td>\n",
       "      <td>&lt;NA&gt;</td>\n",
       "      <td>NaN</td>\n",
       "      <td>NaN</td>\n",
       "      <td>&lt;NA&gt;</td>\n",
       "      <td>44.06</td>\n",
       "    </tr>\n",
       "    <tr>\n",
       "      <th>3</th>\n",
       "      <td>03/20/25</td>\n",
       "      <td>14:53</td>\n",
       "      <td>03/20/25-14:53</td>\n",
       "      <td>NaN</td>\n",
       "      <td>62.96</td>\n",
       "      <td>50.06</td>\n",
       "      <td>13.81</td>\n",
       "      <td>260.0</td>\n",
       "      <td>1018.3</td>\n",
       "      <td>10.0</td>\n",
       "      <td>&lt;NA&gt;</td>\n",
       "      <td>NaN</td>\n",
       "      <td>NaN</td>\n",
       "      <td>&lt;NA&gt;</td>\n",
       "      <td>44.06</td>\n",
       "    </tr>\n",
       "    <tr>\n",
       "      <th>4</th>\n",
       "      <td>03/20/25</td>\n",
       "      <td>13:53</td>\n",
       "      <td>03/20/25-13:53</td>\n",
       "      <td>NaN</td>\n",
       "      <td>62.06</td>\n",
       "      <td>53.48</td>\n",
       "      <td>12.66</td>\n",
       "      <td>260.0</td>\n",
       "      <td>1018.9</td>\n",
       "      <td>10.0</td>\n",
       "      <td>&lt;NA&gt;</td>\n",
       "      <td>NaN</td>\n",
       "      <td>NaN</td>\n",
       "      <td>&lt;NA&gt;</td>\n",
       "      <td>44.96</td>\n",
       "    </tr>\n",
       "  </tbody>\n",
       "</table>\n",
       "</div>"
      ],
      "text/plain": [
       "       Date   Time       date_time  precip_accum_one_hour  air_temp  \\\n",
       "0  03/20/25  17:53  03/20/25-17:53                    NaN     59.00   \n",
       "1  03/20/25  16:53  03/20/25-16:53                    NaN     60.98   \n",
       "2  03/20/25  15:53  03/20/25-15:53                    NaN     62.06   \n",
       "3  03/20/25  14:53  03/20/25-14:53                    NaN     62.96   \n",
       "4  03/20/25  13:53  03/20/25-13:53                    NaN     62.06   \n",
       "\n",
       "   relative_humidity  wind_speed  wind_direction  sea_level_pressure  \\\n",
       "0              62.10       11.51           240.0              1017.2   \n",
       "1              51.51       13.81           240.0              1017.3   \n",
       "2              51.67       17.26           250.0              1017.7   \n",
       "3              50.06       13.81           260.0              1018.3   \n",
       "4              53.48       12.66           260.0              1018.9   \n",
       "\n",
       "   visibility  weather_cond_code  wind_gust  precip_accum_six_hour  ceiling  \\\n",
       "0        10.0               <NA>        NaN                    NaN     <NA>   \n",
       "1        10.0               <NA>        NaN                    NaN     <NA>   \n",
       "2        10.0               <NA>        NaN                    NaN     <NA>   \n",
       "3        10.0               <NA>        NaN                    NaN     <NA>   \n",
       "4        10.0               <NA>        NaN                    NaN     <NA>   \n",
       "\n",
       "   dew_point_temperature  \n",
       "0                  46.04  \n",
       "1                  42.98  \n",
       "2                  44.06  \n",
       "3                  44.06  \n",
       "4                  44.96  "
      ]
     },
     "execution_count": 5,
     "metadata": {},
     "output_type": "execute_result"
    }
   ],
   "source": [
    "# get weather df\n",
    "weather_path = '../Work/DB_Work/Data/Weather/LAX_KLAX_1997-2025.csv'\n",
    "weather_df = pd.read_csv(\n",
    "    weather_path,\n",
    "    usecols=[\n",
    "        'Date', 'Time','date_time', 'precip_accum_one_hour', 'precip_accum_six_hour', 'air_temp', 'dew_point_temperature', \n",
    "        'relative_humidity', 'wind_speed', 'wind_direction', 'wind_gust', 'visibility', 'ceiling', 'sea_level_pressure', \n",
    "        'weather_cond_code'\n",
    "    ],\n",
    "    dtype={\n",
    "        'weather_cond_code': 'Int64',\n",
    "        'ceiling': 'Int64'\n",
    "    }  #make sure it gets read as nullable int type\n",
    ")\n",
    "# display\n",
    "weather_df.head()"
   ]
  },
  {
   "cell_type": "markdown",
   "metadata": {},
   "source": [
    "## Data Check\n",
    "---"
   ]
  },
  {
   "cell_type": "markdown",
   "metadata": {},
   "source": [
    "### Data types"
   ]
  },
  {
   "cell_type": "code",
   "execution_count": 6,
   "metadata": {},
   "outputs": [
    {
     "data": {
      "text/plain": [
       "Date                      object\n",
       "Time                      object\n",
       "date_time                 object\n",
       "precip_accum_one_hour    float64\n",
       "air_temp                 float64\n",
       "relative_humidity        float64\n",
       "wind_speed               float64\n",
       "wind_direction           float64\n",
       "sea_level_pressure       float64\n",
       "visibility               float64\n",
       "weather_cond_code          Int64\n",
       "wind_gust                float64\n",
       "precip_accum_six_hour    float64\n",
       "ceiling                    Int64\n",
       "dew_point_temperature    float64\n",
       "dtype: object"
      ]
     },
     "execution_count": 6,
     "metadata": {},
     "output_type": "execute_result"
    }
   ],
   "source": [
    "# data types\n",
    "weather_df.dtypes"
   ]
  },
  {
   "cell_type": "code",
   "execution_count": 7,
   "metadata": {},
   "outputs": [
    {
     "data": {
      "text/html": [
       "<div>\n",
       "<style scoped>\n",
       "    .dataframe tbody tr th:only-of-type {\n",
       "        vertical-align: middle;\n",
       "    }\n",
       "\n",
       "    .dataframe tbody tr th {\n",
       "        vertical-align: top;\n",
       "    }\n",
       "\n",
       "    .dataframe thead th {\n",
       "        text-align: right;\n",
       "    }\n",
       "</style>\n",
       "<table border=\"1\" class=\"dataframe\">\n",
       "  <thead>\n",
       "    <tr style=\"text-align: right;\">\n",
       "      <th></th>\n",
       "      <th>Date</th>\n",
       "      <th>Time</th>\n",
       "      <th>precip_accum_one_hour</th>\n",
       "      <th>air_temp</th>\n",
       "      <th>relative_humidity</th>\n",
       "      <th>wind_speed</th>\n",
       "      <th>wind_direction</th>\n",
       "      <th>sea_level_pressure</th>\n",
       "      <th>visibility</th>\n",
       "      <th>weather_cond_code</th>\n",
       "      <th>wind_gust</th>\n",
       "      <th>precip_accum_six_hour</th>\n",
       "      <th>ceiling</th>\n",
       "      <th>dew_point_temperature</th>\n",
       "      <th>DateTime</th>\n",
       "      <th>Hour</th>\n",
       "    </tr>\n",
       "  </thead>\n",
       "  <tbody>\n",
       "    <tr>\n",
       "      <th>0</th>\n",
       "      <td>03/20/25</td>\n",
       "      <td>17:53</td>\n",
       "      <td>NaN</td>\n",
       "      <td>59.00</td>\n",
       "      <td>62.10</td>\n",
       "      <td>11.51</td>\n",
       "      <td>240.0</td>\n",
       "      <td>1017.2</td>\n",
       "      <td>10.0</td>\n",
       "      <td>&lt;NA&gt;</td>\n",
       "      <td>NaN</td>\n",
       "      <td>NaN</td>\n",
       "      <td>&lt;NA&gt;</td>\n",
       "      <td>46.04</td>\n",
       "      <td>2025-03-20 17:53:00</td>\n",
       "      <td>18</td>\n",
       "    </tr>\n",
       "    <tr>\n",
       "      <th>1</th>\n",
       "      <td>03/20/25</td>\n",
       "      <td>16:53</td>\n",
       "      <td>NaN</td>\n",
       "      <td>60.98</td>\n",
       "      <td>51.51</td>\n",
       "      <td>13.81</td>\n",
       "      <td>240.0</td>\n",
       "      <td>1017.3</td>\n",
       "      <td>10.0</td>\n",
       "      <td>&lt;NA&gt;</td>\n",
       "      <td>NaN</td>\n",
       "      <td>NaN</td>\n",
       "      <td>&lt;NA&gt;</td>\n",
       "      <td>42.98</td>\n",
       "      <td>2025-03-20 16:53:00</td>\n",
       "      <td>17</td>\n",
       "    </tr>\n",
       "    <tr>\n",
       "      <th>2</th>\n",
       "      <td>03/20/25</td>\n",
       "      <td>15:53</td>\n",
       "      <td>NaN</td>\n",
       "      <td>62.06</td>\n",
       "      <td>51.67</td>\n",
       "      <td>17.26</td>\n",
       "      <td>250.0</td>\n",
       "      <td>1017.7</td>\n",
       "      <td>10.0</td>\n",
       "      <td>&lt;NA&gt;</td>\n",
       "      <td>NaN</td>\n",
       "      <td>NaN</td>\n",
       "      <td>&lt;NA&gt;</td>\n",
       "      <td>44.06</td>\n",
       "      <td>2025-03-20 15:53:00</td>\n",
       "      <td>16</td>\n",
       "    </tr>\n",
       "    <tr>\n",
       "      <th>3</th>\n",
       "      <td>03/20/25</td>\n",
       "      <td>14:53</td>\n",
       "      <td>NaN</td>\n",
       "      <td>62.96</td>\n",
       "      <td>50.06</td>\n",
       "      <td>13.81</td>\n",
       "      <td>260.0</td>\n",
       "      <td>1018.3</td>\n",
       "      <td>10.0</td>\n",
       "      <td>&lt;NA&gt;</td>\n",
       "      <td>NaN</td>\n",
       "      <td>NaN</td>\n",
       "      <td>&lt;NA&gt;</td>\n",
       "      <td>44.06</td>\n",
       "      <td>2025-03-20 14:53:00</td>\n",
       "      <td>15</td>\n",
       "    </tr>\n",
       "    <tr>\n",
       "      <th>4</th>\n",
       "      <td>03/20/25</td>\n",
       "      <td>13:53</td>\n",
       "      <td>NaN</td>\n",
       "      <td>62.06</td>\n",
       "      <td>53.48</td>\n",
       "      <td>12.66</td>\n",
       "      <td>260.0</td>\n",
       "      <td>1018.9</td>\n",
       "      <td>10.0</td>\n",
       "      <td>&lt;NA&gt;</td>\n",
       "      <td>NaN</td>\n",
       "      <td>NaN</td>\n",
       "      <td>&lt;NA&gt;</td>\n",
       "      <td>44.96</td>\n",
       "      <td>2025-03-20 13:53:00</td>\n",
       "      <td>14</td>\n",
       "    </tr>\n",
       "  </tbody>\n",
       "</table>\n",
       "</div>"
      ],
      "text/plain": [
       "       Date   Time  precip_accum_one_hour  air_temp  relative_humidity  \\\n",
       "0  03/20/25  17:53                    NaN     59.00              62.10   \n",
       "1  03/20/25  16:53                    NaN     60.98              51.51   \n",
       "2  03/20/25  15:53                    NaN     62.06              51.67   \n",
       "3  03/20/25  14:53                    NaN     62.96              50.06   \n",
       "4  03/20/25  13:53                    NaN     62.06              53.48   \n",
       "\n",
       "   wind_speed  wind_direction  sea_level_pressure  visibility  \\\n",
       "0       11.51           240.0              1017.2        10.0   \n",
       "1       13.81           240.0              1017.3        10.0   \n",
       "2       17.26           250.0              1017.7        10.0   \n",
       "3       13.81           260.0              1018.3        10.0   \n",
       "4       12.66           260.0              1018.9        10.0   \n",
       "\n",
       "   weather_cond_code  wind_gust  precip_accum_six_hour  ceiling  \\\n",
       "0               <NA>        NaN                    NaN     <NA>   \n",
       "1               <NA>        NaN                    NaN     <NA>   \n",
       "2               <NA>        NaN                    NaN     <NA>   \n",
       "3               <NA>        NaN                    NaN     <NA>   \n",
       "4               <NA>        NaN                    NaN     <NA>   \n",
       "\n",
       "   dew_point_temperature            DateTime  Hour  \n",
       "0                  46.04 2025-03-20 17:53:00    18  \n",
       "1                  42.98 2025-03-20 16:53:00    17  \n",
       "2                  44.06 2025-03-20 15:53:00    16  \n",
       "3                  44.06 2025-03-20 14:53:00    15  \n",
       "4                  44.96 2025-03-20 13:53:00    14  "
      ]
     },
     "execution_count": 7,
     "metadata": {},
     "output_type": "execute_result"
    }
   ],
   "source": [
    "# create datetime col and remove old one\n",
    "weather_df['DateTime'] = pd.to_datetime(weather_df['date_time'], format='%m/%d/%y-%H:%M')\n",
    "weather_df['Hour'] = pd.to_datetime(weather_df['Time'], format='%H:%M').dt.round('h').dt.hour\n",
    "weather_df = weather_df.drop(columns=['date_time']).copy()\n",
    "\n",
    "# display\n",
    "weather_df.head()"
   ]
  },
  {
   "cell_type": "markdown",
   "metadata": {},
   "source": [
    "### Remove old dates"
   ]
  },
  {
   "cell_type": "code",
   "execution_count": 8,
   "metadata": {},
   "outputs": [],
   "source": [
    "# filter out old dates\n",
    "yr_threshold = 2020\n",
    "weather_df = weather_df[weather_df['DateTime'].dt.year >= yr_threshold].copy()"
   ]
  },
  {
   "cell_type": "markdown",
   "metadata": {},
   "source": [
    "### Check nulls"
   ]
  },
  {
   "cell_type": "code",
   "execution_count": 9,
   "metadata": {},
   "outputs": [
    {
     "name": "stdout",
     "output_type": "stream",
     "text": [
      "Number of rows: 53393\n"
     ]
    },
    {
     "data": {
      "text/plain": [
       "Date                         0\n",
       "Time                         0\n",
       "precip_accum_one_hour    50309\n",
       "air_temp                     2\n",
       "relative_humidity            3\n",
       "wind_speed                  16\n",
       "wind_direction            2636\n",
       "sea_level_pressure        7871\n",
       "visibility                   7\n",
       "weather_cond_code        43417\n",
       "wind_gust                51646\n",
       "precip_accum_six_hour    52846\n",
       "ceiling                  29105\n",
       "dew_point_temperature        9\n",
       "DateTime                     0\n",
       "Hour                         0\n",
       "dtype: int64"
      ]
     },
     "execution_count": 9,
     "metadata": {},
     "output_type": "execute_result"
    }
   ],
   "source": [
    "# check nulls and len\n",
    "print(f'Number of rows: {len(weather_df)}')\n",
    "weather_df.isna().sum()"
   ]
  },
  {
   "cell_type": "markdown",
   "metadata": {},
   "source": [
    "## Analyzing nulls\n",
    "---"
   ]
  },
  {
   "cell_type": "markdown",
   "metadata": {},
   "source": [
    "### Check if nulls cover large ranges"
   ]
  },
  {
   "cell_type": "code",
   "execution_count": 101,
   "metadata": {},
   "outputs": [],
   "source": [
    "# function to check nulls per col depending on date group\n",
    "def null_check(main_df, date_grp_cols):\n",
    "    # copy df\n",
    "    df = main_df.copy()\n",
    "\n",
    "    # groupby day--> see if there are still nulls for that entire day\n",
    "    null_check_df = df.groupby(date_grp_cols).count()\n",
    "\n",
    "    # display if which columns don't have a single value for a year (count)\n",
    "    columns = list(null_check_df.columns)\n",
    "    null_col_cnt = []\n",
    "    for col in columns:\n",
    "        null_time = len(null_check_df[null_check_df[col] == 0])\n",
    "\n",
    "        # only add columns that have nulls\n",
    "        if null_time > 0:\n",
    "            null_dict = {\n",
    "                'Column': col,\n",
    "                f'Null {date_grp_cols}': null_time,\n",
    "                '% Null': round(null_time/len(null_check_df) * 100, 2)\n",
    "            }\n",
    "        \n",
    "            null_col_cnt.append(null_dict)\n",
    "    \n",
    "    # sort by % null\n",
    "    sorted_null_cnt = sorted(null_col_cnt, key=lambda x: x['% Null'], reverse=True)\n",
    "\n",
    "    # display\n",
    "    print(f'Number of {date_grp_cols}: {len(null_check_df)}')\n",
    "\n",
    "    # return\n",
    "    return sorted_null_cnt"
   ]
  },
  {
   "cell_type": "markdown",
   "metadata": {},
   "source": [
    "##### Checking if there any valid column values for the entire day"
   ]
  },
  {
   "cell_type": "code",
   "execution_count": 26,
   "metadata": {},
   "outputs": [
    {
     "name": "stdout",
     "output_type": "stream",
     "text": [
      "Number of Date: 1906\n"
     ]
    },
    {
     "data": {
      "text/plain": [
       "[{'Column': 'precip_accum_six_hour', 'Null Date': 1626, '% Null': 85.31},\n",
       " {'Column': 'precip_accum_one_hour', 'Null Date': 1617, '% Null': 84.84},\n",
       " {'Column': 'wind_gust', 'Null Date': 1340, '% Null': 70.3},\n",
       " {'Column': 'weather_cond_code', 'Null Date': 1062, '% Null': 55.72},\n",
       " {'Column': 'ceiling', 'Null Date': 393, '% Null': 20.62}]"
      ]
     },
     "metadata": {},
     "output_type": "display_data"
    }
   ],
   "source": [
    "null_check(weather_df, 'Date')"
   ]
  },
  {
   "cell_type": "markdown",
   "metadata": {},
   "source": [
    "##### Checking if there any valid column values for each hour per day"
   ]
  },
  {
   "cell_type": "code",
   "execution_count": 27,
   "metadata": {},
   "outputs": [
    {
     "name": "stdout",
     "output_type": "stream",
     "text": [
      "Number of ['Date', 'Hour']: 45606\n"
     ]
    },
    {
     "data": {
      "text/plain": [
       "[{'Column': 'precip_accum_six_hour',\n",
       "  \"Null ['Date', 'Hour']\": 45059,\n",
       "  '% Null': 98.8},\n",
       " {'Column': 'wind_gust', \"Null ['Date', 'Hour']\": 44056, '% Null': 96.6},\n",
       " {'Column': 'precip_accum_one_hour',\n",
       "  \"Null ['Date', 'Hour']\": 43768,\n",
       "  '% Null': 95.97},\n",
       " {'Column': 'weather_cond_code',\n",
       "  \"Null ['Date', 'Hour']\": 39328,\n",
       "  '% Null': 86.23},\n",
       " {'Column': 'ceiling', \"Null ['Date', 'Hour']\": 26976, '% Null': 59.15},\n",
       " {'Column': 'wind_direction', \"Null ['Date', 'Hour']\": 2020, '% Null': 4.43},\n",
       " {'Column': 'sea_level_pressure', \"Null ['Date', 'Hour']\": 90, '% Null': 0.2},\n",
       " {'Column': 'wind_speed', \"Null ['Date', 'Hour']\": 5, '% Null': 0.01},\n",
       " {'Column': 'relative_humidity', \"Null ['Date', 'Hour']\": 1, '% Null': 0.0},\n",
       " {'Column': 'visibility', \"Null ['Date', 'Hour']\": 2, '% Null': 0.0},\n",
       " {'Column': 'dew_point_temperature',\n",
       "  \"Null ['Date', 'Hour']\": 1,\n",
       "  '% Null': 0.0}]"
      ]
     },
     "metadata": {},
     "output_type": "display_data"
    }
   ],
   "source": [
    "null_check(weather_df, ['Date', 'Hour'])"
   ]
  },
  {
   "cell_type": "markdown",
   "metadata": {},
   "source": [
    "### Check if nulls mean 0 --> **precip_accum** and **wind_gust** are null are likely 0"
   ]
  },
  {
   "cell_type": "code",
   "execution_count": 28,
   "metadata": {},
   "outputs": [
    {
     "name": "stdout",
     "output_type": "stream",
     "text": [
      "precip_accum_one_hour: 0\n",
      "precip_accum_six_hour: 0\n",
      "ceiling: 52\n",
      "wind_direction: 6724\n",
      "wind_gust: 0\n",
      "weather_cond_code: 0\n"
     ]
    }
   ],
   "source": [
    "# check for following columns if 0 ever shows up \n",
    "print(f\"precip_accum_one_hour: {len(weather_df[weather_df['precip_accum_one_hour'] == 0])}\")\n",
    "print(f\"precip_accum_six_hour: {len(weather_df[weather_df['precip_accum_six_hour'] == 0])}\")\n",
    "print(f\"ceiling: {len(weather_df[weather_df['ceiling'] == 0])}\")\n",
    "print(f\"wind_direction: {len(weather_df[weather_df['wind_direction'] == 0])}\")\n",
    "print(f\"wind_gust: {len(weather_df[weather_df['wind_gust'] == 0])}\")\n",
    "print(f\"weather_cond_code: {len(weather_df[weather_df['weather_cond_code'] == 0])}\")"
   ]
  },
  {
   "cell_type": "markdown",
   "metadata": {},
   "source": [
    "### Look into **weather_cond_code** --> should DROP it!!!"
   ]
  },
  {
   "cell_type": "markdown",
   "metadata": {},
   "source": [
    "##### Wind cond code--> maybe na is supposed to be 0 which means 'no value': https://docs.synopticdata.com/services/weather-condition-codes"
   ]
  },
  {
   "cell_type": "code",
   "execution_count": 29,
   "metadata": {},
   "outputs": [
    {
     "data": {
      "text/plain": [
       "<IntegerArray>\n",
       "[  <NA>,   2493,      6,     31,     13,   2481,    493,      9,   2489,\n",
       "   2494,      1,    733,   2497,     17,    751,  60093,      5,    737,\n",
       " 198485, 199445,     77,   2546,   2482,   1045,     14, 199525,   2558,\n",
       "    801,      7,    569,    494,     66,      8,   2485,   2557,    734,\n",
       "     78,    566,    591]\n",
       "Length: 39, dtype: Int64"
      ]
     },
     "execution_count": 29,
     "metadata": {},
     "output_type": "execute_result"
    }
   ],
   "source": [
    "# looking into unique values (have some that are out of normal weather condition codes)\n",
    "weather_df['weather_cond_code'].unique()"
   ]
  },
  {
   "cell_type": "markdown",
   "metadata": {},
   "source": [
    "### Check **ceiling**--> correlation with visibility"
   ]
  },
  {
   "cell_type": "markdown",
   "metadata": {},
   "source": [
    "##### Ceiling = 0 seems to correlate with lower visibility range but null ceiling values are often quite high (may be above detection range)\n",
    "- nulls can mean \"unlimited/very high ceiling\" --> indicating low chance of weather related delays"
   ]
  },
  {
   "cell_type": "code",
   "execution_count": 33,
   "metadata": {},
   "outputs": [
    {
     "data": {
      "text/plain": [
       "visibility\n",
       "0.50    19\n",
       "0.25    14\n",
       "0.12     6\n",
       "1.00     3\n",
       "1.50     3\n",
       "8.00     3\n",
       "0.06     1\n",
       "1.75     1\n",
       "2.00     1\n",
       "0.75     1\n",
       "Name: count, dtype: int64"
      ]
     },
     "execution_count": 33,
     "metadata": {},
     "output_type": "execute_result"
    }
   ],
   "source": [
    "# check visibility for ceiling = 0\n",
    "weather_df[weather_df['ceiling'] == 0].visibility.value_counts()"
   ]
  },
  {
   "cell_type": "code",
   "execution_count": 34,
   "metadata": {},
   "outputs": [
    {
     "data": {
      "text/plain": [
       "visibility\n",
       "10.00    24362\n",
       "9.00      1453\n",
       "8.00      1041\n",
       "7.00       749\n",
       "6.00       520\n",
       "5.00       340\n",
       "4.00       196\n",
       "3.00       166\n",
       "2.50        79\n",
       "2.00        51\n",
       "1.50        34\n",
       "1.00        28\n",
       "0.50        22\n",
       "0.75        21\n",
       "0.25        16\n",
       "1.25        10\n",
       "1.75         9\n",
       "15.00        1\n",
       "3.50         1\n",
       "0.12         1\n",
       "Name: count, dtype: int64"
      ]
     },
     "execution_count": 34,
     "metadata": {},
     "output_type": "execute_result"
    }
   ],
   "source": [
    "# check visibility for ceiling is null\n",
    "weather_df[weather_df['ceiling'].isna()].visibility.value_counts()"
   ]
  },
  {
   "cell_type": "markdown",
   "metadata": {},
   "source": [
    "### Check if **wind_direction** being null correlates with wind strength (wind_speed, wind_gust)"
   ]
  },
  {
   "cell_type": "markdown",
   "metadata": {},
   "source": [
    "##### Wind gust --> not much of a pattern"
   ]
  },
  {
   "cell_type": "code",
   "execution_count": 49,
   "metadata": {},
   "outputs": [
    {
     "data": {
      "text/plain": [
       "wind_gust\n",
       "17.26    7\n",
       "18.41    3\n",
       "20.71    2\n",
       "21.86    2\n",
       "19.56    1\n",
       "16.11    1\n",
       "Name: count, dtype: int64"
      ]
     },
     "execution_count": 49,
     "metadata": {},
     "output_type": "execute_result"
    }
   ],
   "source": [
    "# wind_direction is null--> see wind gust values\n",
    "weather_df[weather_df['wind_direction'].isna()].wind_gust.value_counts()"
   ]
  },
  {
   "cell_type": "code",
   "execution_count": 50,
   "metadata": {},
   "outputs": [
    {
     "data": {
      "text/plain": [
       "wind_gust\n",
       "20.71    200\n",
       "21.86    184\n",
       "23.02    156\n",
       "24.17    128\n",
       "19.56    127\n",
       "25.32    120\n",
       "18.41    104\n",
       "26.47     87\n",
       "28.77     63\n",
       "27.62     63\n",
       "17.26     56\n",
       "29.92     54\n",
       "32.22     53\n",
       "31.07     50\n",
       "33.37     34\n",
       "16.11     30\n",
       "34.52     28\n",
       "35.67     27\n",
       "37.98     21\n",
       "36.82     19\n",
       "39.13     16\n",
       "41.43     14\n",
       "40.28     14\n",
       "42.58     13\n",
       "26.46     10\n",
       "27.63     10\n",
       "43.73     10\n",
       "24.16      8\n",
       "19.57      6\n",
       "46.03      5\n",
       "32.21      4\n",
       "17.27      4\n",
       "44.88      3\n",
       "29.93      3\n",
       "21.85      2\n",
       "39.12      2\n",
       "48.33      1\n",
       "33.38      1\n",
       "40.29      1\n",
       "Name: count, dtype: int64"
      ]
     },
     "execution_count": 50,
     "metadata": {},
     "output_type": "execute_result"
    }
   ],
   "source": [
    "# wind_direction is NOT null--> see wind gust values\n",
    "weather_df[weather_df['wind_direction'].notna()].wind_gust.value_counts()"
   ]
  },
  {
   "cell_type": "markdown",
   "metadata": {},
   "source": [
    "##### Wind speed --> not much of a pattern"
   ]
  },
  {
   "cell_type": "code",
   "execution_count": 51,
   "metadata": {},
   "outputs": [
    {
     "data": {
      "text/plain": [
       "wind_speed\n",
       "3.45    1192\n",
       "4.60     711\n",
       "5.75     374\n",
       "6.91     187\n",
       "3.44     100\n",
       "4.61      56\n",
       "Name: count, dtype: int64"
      ]
     },
     "execution_count": 51,
     "metadata": {},
     "output_type": "execute_result"
    }
   ],
   "source": [
    "# wind_direction is null--> see wind speed values\n",
    "weather_df[weather_df['wind_direction'].isna()].wind_speed.value_counts()"
   ]
  },
  {
   "cell_type": "code",
   "execution_count": 52,
   "metadata": {},
   "outputs": [
    {
     "data": {
      "text/plain": [
       "wind_speed\n",
       "0.00     6723\n",
       "4.60     5704\n",
       "5.75     5425\n",
       "3.45     4996\n",
       "6.91     4412\n",
       "8.06     3528\n",
       "10.36    3420\n",
       "9.21     3353\n",
       "11.51    2915\n",
       "12.66    2709\n",
       "13.81    1868\n",
       "14.96    1291\n",
       "16.11     885\n",
       "17.26     496\n",
       "4.61      446\n",
       "3.44      410\n",
       "18.41     312\n",
       "8.05      287\n",
       "9.22      250\n",
       "11.50     220\n",
       "19.56     205\n",
       "20.71     141\n",
       "13.80     111\n",
       "21.86     106\n",
       "14.97      96\n",
       "23.02      78\n",
       "24.17      69\n",
       "25.32      58\n",
       "26.47      40\n",
       "28.77      31\n",
       "17.27      29\n",
       "29.92      27\n",
       "27.62      26\n",
       "19.57      16\n",
       "31.07      14\n",
       "32.22      11\n",
       "33.37       9\n",
       "21.85       8\n",
       "36.82       6\n",
       "35.67       6\n",
       "34.52       5\n",
       "26.46       4\n",
       "27.63       4\n",
       "24.16       4\n",
       "39.13       1\n",
       "40.28       1\n",
       "41.43       1\n",
       "Name: count, dtype: int64"
      ]
     },
     "execution_count": 52,
     "metadata": {},
     "output_type": "execute_result"
    }
   ],
   "source": [
    "# wind_direction is NOT null--> see wind speed values\n",
    "weather_df[weather_df['wind_direction'].notna()].wind_speed.value_counts()"
   ]
  },
  {
   "cell_type": "markdown",
   "metadata": {},
   "source": [
    "##### Most likely nulls from sensor or reporting gaps"
   ]
  },
  {
   "cell_type": "markdown",
   "metadata": {},
   "source": [
    "### Check time gaps for other cols --> is it safe to interpolation?"
   ]
  },
  {
   "cell_type": "code",
   "execution_count": 133,
   "metadata": {},
   "outputs": [],
   "source": [
    "def find_time_gaps(main_df, col_name):\n",
    "    # make df copy\n",
    "    df = main_df.copy()\n",
    "\n",
    "    # define cols\n",
    "    miss_col = f'{col_name}_missing'\n",
    "\n",
    "    # sort by time\n",
    "    df = df.sort_values('DateTime').reset_index(drop=True)\n",
    "\n",
    "    # create missing flag\n",
    "    df[miss_col] = df[col_name].isna()\n",
    "\n",
    "    # compare each row's missing flag to previous row\n",
    "    df['block_id'] = (\n",
    "        df[miss_col] != df[miss_col].shift()\n",
    "    ).cumsum()\n",
    "\n",
    "    # filter blocks for miss_col\n",
    "    missing_blocks = df[df[miss_col]].copy()\n",
    "\n",
    "    # summarize each missing block\n",
    "    gap_summary = (\n",
    "        missing_blocks\n",
    "        .groupby('block_id')\n",
    "        .agg(\n",
    "            start_time = ('DateTime', 'min'),\n",
    "            end_time = ('DateTime', 'max'),\n",
    "            gap_hrs = ('DateTime', 'count')\n",
    "        )\n",
    "        .reset_index()\n",
    "    )\n",
    "\n",
    "    # display\n",
    "    display(gap_summary['gap_hrs'].value_counts())"
   ]
  },
  {
   "cell_type": "markdown",
   "metadata": {},
   "source": [
    "#### sea level pressure --> mostly ok"
   ]
  },
  {
   "cell_type": "code",
   "execution_count": 134,
   "metadata": {},
   "outputs": [
    {
     "data": {
      "text/plain": [
       "gap_hrs\n",
       "1     4679\n",
       "2      968\n",
       "3      255\n",
       "4       82\n",
       "5       15\n",
       "6        5\n",
       "7        3\n",
       "27       1\n",
       "10       1\n",
       "Name: count, dtype: int64"
      ]
     },
     "metadata": {},
     "output_type": "display_data"
    }
   ],
   "source": [
    "find_time_gaps(weather_df, 'sea_level_pressure')"
   ]
  },
  {
   "cell_type": "markdown",
   "metadata": {},
   "source": [
    "##### rest cols --> ok"
   ]
  },
  {
   "cell_type": "code",
   "execution_count": 135,
   "metadata": {},
   "outputs": [
    {
     "data": {
      "text/plain": [
       "gap_hrs\n",
       "1    2014\n",
       "2     250\n",
       "3      30\n",
       "5       4\n",
       "4       3\n",
       "Name: count, dtype: int64"
      ]
     },
     "metadata": {},
     "output_type": "display_data"
    }
   ],
   "source": [
    "find_time_gaps(weather_df, 'wind_direction')"
   ]
  },
  {
   "cell_type": "code",
   "execution_count": 137,
   "metadata": {},
   "outputs": [
    {
     "data": {
      "text/plain": [
       "gap_hrs\n",
       "1    16\n",
       "Name: count, dtype: int64"
      ]
     },
     "metadata": {},
     "output_type": "display_data"
    }
   ],
   "source": [
    "find_time_gaps(weather_df, 'wind_speed')"
   ]
  },
  {
   "cell_type": "code",
   "execution_count": 136,
   "metadata": {},
   "outputs": [
    {
     "data": {
      "text/plain": [
       "gap_hrs\n",
       "1    2\n",
       "Name: count, dtype: int64"
      ]
     },
     "metadata": {},
     "output_type": "display_data"
    }
   ],
   "source": [
    "find_time_gaps(weather_df, 'air_temp')"
   ]
  },
  {
   "cell_type": "code",
   "execution_count": 138,
   "metadata": {},
   "outputs": [
    {
     "data": {
      "text/plain": [
       "gap_hrs\n",
       "1    3\n",
       "Name: count, dtype: int64"
      ]
     },
     "metadata": {},
     "output_type": "display_data"
    }
   ],
   "source": [
    "find_time_gaps(weather_df, 'relative_humidity')"
   ]
  },
  {
   "cell_type": "code",
   "execution_count": 139,
   "metadata": {},
   "outputs": [
    {
     "data": {
      "text/plain": [
       "gap_hrs\n",
       "1    7\n",
       "Name: count, dtype: int64"
      ]
     },
     "metadata": {},
     "output_type": "display_data"
    }
   ],
   "source": [
    "find_time_gaps(weather_df, 'visibility')"
   ]
  },
  {
   "cell_type": "code",
   "execution_count": 140,
   "metadata": {},
   "outputs": [
    {
     "data": {
      "text/plain": [
       "gap_hrs\n",
       "1    7\n",
       "2    1\n",
       "Name: count, dtype: int64"
      ]
     },
     "metadata": {},
     "output_type": "display_data"
    }
   ],
   "source": [
    "find_time_gaps(weather_df, 'dew_point_temperature')"
   ]
  },
  {
   "cell_type": "markdown",
   "metadata": {},
   "source": [
    "## Handle Nulls\n",
    "---"
   ]
  },
  {
   "cell_type": "markdown",
   "metadata": {},
   "source": [
    "### Define function to fill nulls"
   ]
  },
  {
   "cell_type": "code",
   "execution_count": null,
   "metadata": {},
   "outputs": [],
   "source": [
    "# fix nulls\n",
    "def fill_nulls(main_df):\n",
    "\n",
    "    # ------------------------------------\n",
    "    # Setup DF\n",
    "    # ------------------------------------\n",
    "    df = main_df.copy()  #make a copy\n",
    "\n",
    "    # sort chronologically\n",
    "    df = df.sort_values('DateTime')\n",
    "    df = df.set_index('DateTime')\n",
    "\n",
    "    # ------------------------------------\n",
    "    # Fill nulls that are supposed to be 0\n",
    "    # ------------------------------------\n",
    "    fillna_0_cols = ['precip_accum_one_hour', 'precip_accum_six_hour', 'wind_gust']\n",
    "\n",
    "    # show step\n",
    "    print(f'1) filling nulls with 0 for: {fillna_0_cols}')\n",
    "\n",
    "    # loop through\n",
    "    for col in fillna_0_cols:\n",
    "        df[col] = df[col].fillna(0)\n",
    "\n",
    "    # -----------------------------------------\n",
    "    # Drop col with too many nulls/invalid vals\n",
    "    # -----------------------------------------\n",
    "    # show step\n",
    "    print('2) weather_cond_code--> dropping column')\n",
    "    df = df.drop(columns=['weather_cond_code']).copy()\n",
    "\n",
    "    # ---------------------------------------------------------\n",
    "    # Ceiling: fill with high value & add missingness indicator\n",
    "    # ---------------------------------------------------------\n",
    "    # add missingness indicator col\n",
    "    print('3a) ceiling--> adding missingness indicator')\n",
    "    df['ceiling_missing'] = df['ceiling'].isna().astype(int)\n",
    "\n",
    "    # fill nulls in og col with high val\n",
    "    high_ceiling = 35000\n",
    "    print(f'3b) ceiling--> filling nulls with {high_ceiling} (max ceiling is {df['ceiling'].max()})')\n",
    "    df['ceiling'] = df['ceiling'].fillna(high_ceiling)\n",
    "\n",
    "    # ------------------------------------------------------------\n",
    "    # Wind Direction: Interpolate sin/cos (b/c it's 0-360 degrees)\n",
    "    # ------------------------------------------------------------\n",
    "    print('4) wind direction--> interpolate sin/cos')\n",
    "\n",
    "    # storing sin/cos to handle cyclical nature\n",
    "    df['wind_dir_rad'] = np.deg2rad(df['wind_direction'])\n",
    "    df['wind_dir_sin'] = np.sin(df['wind_dir_rad'])\n",
    "    df['wind_dir_cos'] = np.cos(df['wind_dir_rad'])\n",
    "\n",
    "    # interpolate sin/cos\n",
    "    df['wind_dir_sin'] = df['wind_dir_sin'].interpolate(method='time')\n",
    "    df['wind_dir_cos'] = df['wind_dir_cos'].interpolate(method='time')\n",
    "\n",
    "    # recompute direction\n",
    "    df['wind_direction_interp'] = np.rad2deg(\n",
    "        np.arctan2(df['wind_dir_sin'], df['wind_dir_cos'])\n",
    "    )\n",
    "\n",
    "    # convert values into 0-360 degrees\n",
    "    df['wind_direction_interp'] = (df['wind_direction_interp'] + 360) % 360\n",
    "    df['wind_direction_interp'] = df['wind_direction_interp'].round(1)\n",
    "\n",
    "    # drop old wind_dir col and sin/cos/rad cols\n",
    "    df = df.drop(columns=[\n",
    "        'wind_direction',\n",
    "        'wind_dir_rad',\n",
    "        'wind_dir_sin',\n",
    "        'wind_dir_cos'\n",
    "    ]).copy()\n",
    "\n",
    "    # return\n",
    "    return df"
   ]
  },
  {
   "cell_type": "code",
   "execution_count": 88,
   "metadata": {},
   "outputs": [
    {
     "name": "stdout",
     "output_type": "stream",
     "text": [
      "1) filling nulls with 0 for: ['precip_accum_one_hour', 'precip_accum_six_hour', 'wind_gust']\n",
      "2) weather_cond_code--> dropping column\n",
      "3a) ceiling--> adding missingness indicator\n",
      "3b) ceiling--> filling nulls with 35000 (max ceiling is 33000)\n",
      "4) wind direction--> interpolate sin/cos\n",
      "Number of rows: 53393\n"
     ]
    },
    {
     "data": {
      "text/plain": [
       "Date                        0\n",
       "Time                        0\n",
       "precip_accum_one_hour       0\n",
       "air_temp                    2\n",
       "relative_humidity           3\n",
       "wind_speed                 16\n",
       "sea_level_pressure       7871\n",
       "visibility                  7\n",
       "wind_gust                   0\n",
       "precip_accum_six_hour       0\n",
       "ceiling                     0\n",
       "dew_point_temperature       9\n",
       "Hour                        0\n",
       "ceiling_missing             0\n",
       "wind_direction_interp       0\n",
       "dtype: int64"
      ]
     },
     "execution_count": 88,
     "metadata": {},
     "output_type": "execute_result"
    }
   ],
   "source": [
    "# apply\n",
    "weather2_df = fill_nulls(weather_df)\n",
    "print(f'Number of rows: {len(weather2_df)}')\n",
    "\n",
    "# display nulls\n",
    "weather2_df.isna().sum()"
   ]
  },
  {
   "cell_type": "markdown",
   "metadata": {},
   "source": [
    "### Check nulls"
   ]
  },
  {
   "cell_type": "code",
   "execution_count": 102,
   "metadata": {},
   "outputs": [
    {
     "name": "stdout",
     "output_type": "stream",
     "text": [
      "Number of Date: 1906\n"
     ]
    },
    {
     "data": {
      "text/plain": [
       "[]"
      ]
     },
     "execution_count": 102,
     "metadata": {},
     "output_type": "execute_result"
    }
   ],
   "source": [
    "null_check(weather2_df, 'Date')"
   ]
  },
  {
   "cell_type": "code",
   "execution_count": 103,
   "metadata": {},
   "outputs": [
    {
     "name": "stdout",
     "output_type": "stream",
     "text": [
      "Number of ['Date', 'Hour']: 45606\n"
     ]
    },
    {
     "data": {
      "text/plain": [
       "[{'Column': 'sea_level_pressure', \"Null ['Date', 'Hour']\": 90, '% Null': 0.2},\n",
       " {'Column': 'wind_speed', \"Null ['Date', 'Hour']\": 5, '% Null': 0.01},\n",
       " {'Column': 'relative_humidity', \"Null ['Date', 'Hour']\": 1, '% Null': 0.0},\n",
       " {'Column': 'visibility', \"Null ['Date', 'Hour']\": 2, '% Null': 0.0},\n",
       " {'Column': 'dew_point_temperature',\n",
       "  \"Null ['Date', 'Hour']\": 1,\n",
       "  '% Null': 0.0}]"
      ]
     },
     "execution_count": 103,
     "metadata": {},
     "output_type": "execute_result"
    }
   ],
   "source": [
    "null_check(weather2_df, ['Date', 'Hour'])"
   ]
  }
 ],
 "metadata": {
  "kernelspec": {
   "display_name": "base",
   "language": "python",
   "name": "python3"
  },
  "language_info": {
   "codemirror_mode": {
    "name": "ipython",
    "version": 3
   },
   "file_extension": ".py",
   "mimetype": "text/x-python",
   "name": "python",
   "nbconvert_exporter": "python",
   "pygments_lexer": "ipython3",
   "version": "3.12.4"
  }
 },
 "nbformat": 4,
 "nbformat_minor": 2
}
