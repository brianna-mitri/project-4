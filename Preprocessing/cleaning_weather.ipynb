{
 "cells": [
  {
   "cell_type": "markdown",
   "metadata": {},
   "source": [
    "## Setup"
   ]
  },
  {
   "cell_type": "code",
   "execution_count": 1,
   "metadata": {},
   "outputs": [],
   "source": [
    "# imports\n",
    "import os\n",
    "import zipfile\n",
    "import pandas as pd\n",
    "import numpy as np\n",
    "import glob as glob"
   ]
  },
  {
   "cell_type": "code",
   "execution_count": 2,
   "metadata": {},
   "outputs": [],
   "source": [
    "# function to open zipped file and read into df\n",
    "def unzip_to_df(zip_filepath, file_inside_zip, **read_csv_kwargs):\n",
    "    try:\n",
    "        with zipfile.ZipFile(zip_filepath, 'r') as z:\n",
    "            with z.open(file_inside_zip) as f:\n",
    "                df = pd.read_csv(f, dtype={'Manufacturer Code': str}, **read_csv_kwargs)\n",
    "        return df\n",
    "    except Exception as e:\n",
    "        print(f'Error occured: {e}')\n",
    "        return None"
   ]
  },
  {
   "cell_type": "code",
   "execution_count": 3,
   "metadata": {},
   "outputs": [],
   "source": [
    "# get df\n",
    "zip_path = '../Work/DB_Work/Output/flight_delays.zip'\n",
    "file_name = 'flight_delays.csv'\n",
    "\n",
    "delays_df = unzip_to_df(zip_path, file_name)"
   ]
  },
  {
   "cell_type": "code",
   "execution_count": 4,
   "metadata": {},
   "outputs": [
    {
     "data": {
      "text/html": [
       "<div>\n",
       "<style scoped>\n",
       "    .dataframe tbody tr th:only-of-type {\n",
       "        vertical-align: middle;\n",
       "    }\n",
       "\n",
       "    .dataframe tbody tr th {\n",
       "        vertical-align: top;\n",
       "    }\n",
       "\n",
       "    .dataframe thead th {\n",
       "        text-align: right;\n",
       "    }\n",
       "</style>\n",
       "<table border=\"1\" class=\"dataframe\">\n",
       "  <thead>\n",
       "    <tr style=\"text-align: right;\">\n",
       "      <th></th>\n",
       "      <th>Delay Bin</th>\n",
       "      <th>Departure Delay</th>\n",
       "      <th>Date</th>\n",
       "      <th>Year</th>\n",
       "      <th>Month</th>\n",
       "      <th>Day</th>\n",
       "      <th>Day of Week</th>\n",
       "      <th>Month (sin)</th>\n",
       "      <th>Month (cos)</th>\n",
       "      <th>Day (sin)</th>\n",
       "      <th>...</th>\n",
       "      <th>Air Temperature</th>\n",
       "      <th>Dew Point Temperature</th>\n",
       "      <th>Relative Humidity</th>\n",
       "      <th>Wind Speed</th>\n",
       "      <th>Wind Direction</th>\n",
       "      <th>Wind Gust</th>\n",
       "      <th>Visibility</th>\n",
       "      <th>Ceiling</th>\n",
       "      <th>Sea Level Pressure</th>\n",
       "      <th>Weather Condition Code</th>\n",
       "    </tr>\n",
       "  </thead>\n",
       "  <tbody>\n",
       "    <tr>\n",
       "      <th>0</th>\n",
       "      <td>Early</td>\n",
       "      <td>-2</td>\n",
       "      <td>01/01/2020</td>\n",
       "      <td>2020</td>\n",
       "      <td>1</td>\n",
       "      <td>1</td>\n",
       "      <td>2</td>\n",
       "      <td>0.5</td>\n",
       "      <td>0.866025</td>\n",
       "      <td>0.201299</td>\n",
       "      <td>...</td>\n",
       "      <td>57.02</td>\n",
       "      <td>33.08</td>\n",
       "      <td>40.23</td>\n",
       "      <td>5.75</td>\n",
       "      <td>80.0</td>\n",
       "      <td>0.0</td>\n",
       "      <td>10.0</td>\n",
       "      <td>NaN</td>\n",
       "      <td>1017.5</td>\n",
       "      <td>NaN</td>\n",
       "    </tr>\n",
       "    <tr>\n",
       "      <th>1</th>\n",
       "      <td>11-30 min</td>\n",
       "      <td>11</td>\n",
       "      <td>01/01/2020</td>\n",
       "      <td>2020</td>\n",
       "      <td>1</td>\n",
       "      <td>1</td>\n",
       "      <td>2</td>\n",
       "      <td>0.5</td>\n",
       "      <td>0.866025</td>\n",
       "      <td>0.201299</td>\n",
       "      <td>...</td>\n",
       "      <td>57.02</td>\n",
       "      <td>33.08</td>\n",
       "      <td>40.23</td>\n",
       "      <td>5.75</td>\n",
       "      <td>80.0</td>\n",
       "      <td>0.0</td>\n",
       "      <td>10.0</td>\n",
       "      <td>NaN</td>\n",
       "      <td>1017.5</td>\n",
       "      <td>NaN</td>\n",
       "    </tr>\n",
       "    <tr>\n",
       "      <th>2</th>\n",
       "      <td>31-60 min</td>\n",
       "      <td>45</td>\n",
       "      <td>01/01/2020</td>\n",
       "      <td>2020</td>\n",
       "      <td>1</td>\n",
       "      <td>1</td>\n",
       "      <td>2</td>\n",
       "      <td>0.5</td>\n",
       "      <td>0.866025</td>\n",
       "      <td>0.201299</td>\n",
       "      <td>...</td>\n",
       "      <td>57.02</td>\n",
       "      <td>33.08</td>\n",
       "      <td>40.23</td>\n",
       "      <td>5.75</td>\n",
       "      <td>80.0</td>\n",
       "      <td>0.0</td>\n",
       "      <td>10.0</td>\n",
       "      <td>NaN</td>\n",
       "      <td>1017.5</td>\n",
       "      <td>NaN</td>\n",
       "    </tr>\n",
       "    <tr>\n",
       "      <th>3</th>\n",
       "      <td>Early</td>\n",
       "      <td>-8</td>\n",
       "      <td>01/01/2020</td>\n",
       "      <td>2020</td>\n",
       "      <td>1</td>\n",
       "      <td>1</td>\n",
       "      <td>2</td>\n",
       "      <td>0.5</td>\n",
       "      <td>0.866025</td>\n",
       "      <td>0.201299</td>\n",
       "      <td>...</td>\n",
       "      <td>57.02</td>\n",
       "      <td>33.08</td>\n",
       "      <td>40.23</td>\n",
       "      <td>5.75</td>\n",
       "      <td>80.0</td>\n",
       "      <td>0.0</td>\n",
       "      <td>10.0</td>\n",
       "      <td>NaN</td>\n",
       "      <td>1017.5</td>\n",
       "      <td>NaN</td>\n",
       "    </tr>\n",
       "    <tr>\n",
       "      <th>4</th>\n",
       "      <td>Early</td>\n",
       "      <td>-11</td>\n",
       "      <td>01/01/2020</td>\n",
       "      <td>2020</td>\n",
       "      <td>1</td>\n",
       "      <td>1</td>\n",
       "      <td>2</td>\n",
       "      <td>0.5</td>\n",
       "      <td>0.866025</td>\n",
       "      <td>0.201299</td>\n",
       "      <td>...</td>\n",
       "      <td>57.02</td>\n",
       "      <td>33.08</td>\n",
       "      <td>40.23</td>\n",
       "      <td>5.75</td>\n",
       "      <td>80.0</td>\n",
       "      <td>0.0</td>\n",
       "      <td>10.0</td>\n",
       "      <td>NaN</td>\n",
       "      <td>1017.5</td>\n",
       "      <td>NaN</td>\n",
       "    </tr>\n",
       "  </tbody>\n",
       "</table>\n",
       "<p>5 rows × 48 columns</p>\n",
       "</div>"
      ],
      "text/plain": [
       "   Delay Bin  Departure Delay        Date  Year  Month  Day  Day of Week  \\\n",
       "0      Early               -2  01/01/2020  2020      1    1            2   \n",
       "1  11-30 min               11  01/01/2020  2020      1    1            2   \n",
       "2  31-60 min               45  01/01/2020  2020      1    1            2   \n",
       "3      Early               -8  01/01/2020  2020      1    1            2   \n",
       "4      Early              -11  01/01/2020  2020      1    1            2   \n",
       "\n",
       "   Month (sin)  Month (cos)  Day (sin)  ...  Air Temperature  \\\n",
       "0          0.5     0.866025   0.201299  ...            57.02   \n",
       "1          0.5     0.866025   0.201299  ...            57.02   \n",
       "2          0.5     0.866025   0.201299  ...            57.02   \n",
       "3          0.5     0.866025   0.201299  ...            57.02   \n",
       "4          0.5     0.866025   0.201299  ...            57.02   \n",
       "\n",
       "   Dew Point Temperature  Relative Humidity  Wind Speed Wind Direction  \\\n",
       "0                  33.08              40.23        5.75           80.0   \n",
       "1                  33.08              40.23        5.75           80.0   \n",
       "2                  33.08              40.23        5.75           80.0   \n",
       "3                  33.08              40.23        5.75           80.0   \n",
       "4                  33.08              40.23        5.75           80.0   \n",
       "\n",
       "  Wind Gust  Visibility  Ceiling Sea Level Pressure  Weather Condition Code  \n",
       "0       0.0        10.0      NaN             1017.5                     NaN  \n",
       "1       0.0        10.0      NaN             1017.5                     NaN  \n",
       "2       0.0        10.0      NaN             1017.5                     NaN  \n",
       "3       0.0        10.0      NaN             1017.5                     NaN  \n",
       "4       0.0        10.0      NaN             1017.5                     NaN  \n",
       "\n",
       "[5 rows x 48 columns]"
      ]
     },
     "execution_count": 4,
     "metadata": {},
     "output_type": "execute_result"
    }
   ],
   "source": [
    "# display\n",
    "delays_df.head()"
   ]
  },
  {
   "cell_type": "code",
   "execution_count": 5,
   "metadata": {},
   "outputs": [
    {
     "data": {
      "text/html": [
       "<div>\n",
       "<style scoped>\n",
       "    .dataframe tbody tr th:only-of-type {\n",
       "        vertical-align: middle;\n",
       "    }\n",
       "\n",
       "    .dataframe tbody tr th {\n",
       "        vertical-align: top;\n",
       "    }\n",
       "\n",
       "    .dataframe thead th {\n",
       "        text-align: right;\n",
       "    }\n",
       "</style>\n",
       "<table border=\"1\" class=\"dataframe\">\n",
       "  <thead>\n",
       "    <tr style=\"text-align: right;\">\n",
       "      <th></th>\n",
       "      <th>Date</th>\n",
       "      <th>Time</th>\n",
       "      <th>date_time</th>\n",
       "      <th>precip_accum_one_hour</th>\n",
       "      <th>air_temp</th>\n",
       "      <th>relative_humidity</th>\n",
       "      <th>wind_speed</th>\n",
       "      <th>wind_direction</th>\n",
       "      <th>sea_level_pressure</th>\n",
       "      <th>visibility</th>\n",
       "      <th>weather_cond_code</th>\n",
       "      <th>wind_gust</th>\n",
       "      <th>precip_accum_six_hour</th>\n",
       "      <th>ceiling</th>\n",
       "      <th>dew_point_temperature</th>\n",
       "    </tr>\n",
       "  </thead>\n",
       "  <tbody>\n",
       "    <tr>\n",
       "      <th>0</th>\n",
       "      <td>03/20/25</td>\n",
       "      <td>17:53</td>\n",
       "      <td>03/20/25-17:53</td>\n",
       "      <td>NaN</td>\n",
       "      <td>59.00</td>\n",
       "      <td>62.10</td>\n",
       "      <td>11.51</td>\n",
       "      <td>240.0</td>\n",
       "      <td>1017.2</td>\n",
       "      <td>10.0</td>\n",
       "      <td>&lt;NA&gt;</td>\n",
       "      <td>NaN</td>\n",
       "      <td>NaN</td>\n",
       "      <td>&lt;NA&gt;</td>\n",
       "      <td>46.04</td>\n",
       "    </tr>\n",
       "    <tr>\n",
       "      <th>1</th>\n",
       "      <td>03/20/25</td>\n",
       "      <td>16:53</td>\n",
       "      <td>03/20/25-16:53</td>\n",
       "      <td>NaN</td>\n",
       "      <td>60.98</td>\n",
       "      <td>51.51</td>\n",
       "      <td>13.81</td>\n",
       "      <td>240.0</td>\n",
       "      <td>1017.3</td>\n",
       "      <td>10.0</td>\n",
       "      <td>&lt;NA&gt;</td>\n",
       "      <td>NaN</td>\n",
       "      <td>NaN</td>\n",
       "      <td>&lt;NA&gt;</td>\n",
       "      <td>42.98</td>\n",
       "    </tr>\n",
       "    <tr>\n",
       "      <th>2</th>\n",
       "      <td>03/20/25</td>\n",
       "      <td>15:53</td>\n",
       "      <td>03/20/25-15:53</td>\n",
       "      <td>NaN</td>\n",
       "      <td>62.06</td>\n",
       "      <td>51.67</td>\n",
       "      <td>17.26</td>\n",
       "      <td>250.0</td>\n",
       "      <td>1017.7</td>\n",
       "      <td>10.0</td>\n",
       "      <td>&lt;NA&gt;</td>\n",
       "      <td>NaN</td>\n",
       "      <td>NaN</td>\n",
       "      <td>&lt;NA&gt;</td>\n",
       "      <td>44.06</td>\n",
       "    </tr>\n",
       "    <tr>\n",
       "      <th>3</th>\n",
       "      <td>03/20/25</td>\n",
       "      <td>14:53</td>\n",
       "      <td>03/20/25-14:53</td>\n",
       "      <td>NaN</td>\n",
       "      <td>62.96</td>\n",
       "      <td>50.06</td>\n",
       "      <td>13.81</td>\n",
       "      <td>260.0</td>\n",
       "      <td>1018.3</td>\n",
       "      <td>10.0</td>\n",
       "      <td>&lt;NA&gt;</td>\n",
       "      <td>NaN</td>\n",
       "      <td>NaN</td>\n",
       "      <td>&lt;NA&gt;</td>\n",
       "      <td>44.06</td>\n",
       "    </tr>\n",
       "    <tr>\n",
       "      <th>4</th>\n",
       "      <td>03/20/25</td>\n",
       "      <td>13:53</td>\n",
       "      <td>03/20/25-13:53</td>\n",
       "      <td>NaN</td>\n",
       "      <td>62.06</td>\n",
       "      <td>53.48</td>\n",
       "      <td>12.66</td>\n",
       "      <td>260.0</td>\n",
       "      <td>1018.9</td>\n",
       "      <td>10.0</td>\n",
       "      <td>&lt;NA&gt;</td>\n",
       "      <td>NaN</td>\n",
       "      <td>NaN</td>\n",
       "      <td>&lt;NA&gt;</td>\n",
       "      <td>44.96</td>\n",
       "    </tr>\n",
       "  </tbody>\n",
       "</table>\n",
       "</div>"
      ],
      "text/plain": [
       "       Date   Time       date_time  precip_accum_one_hour  air_temp  \\\n",
       "0  03/20/25  17:53  03/20/25-17:53                    NaN     59.00   \n",
       "1  03/20/25  16:53  03/20/25-16:53                    NaN     60.98   \n",
       "2  03/20/25  15:53  03/20/25-15:53                    NaN     62.06   \n",
       "3  03/20/25  14:53  03/20/25-14:53                    NaN     62.96   \n",
       "4  03/20/25  13:53  03/20/25-13:53                    NaN     62.06   \n",
       "\n",
       "   relative_humidity  wind_speed  wind_direction  sea_level_pressure  \\\n",
       "0              62.10       11.51           240.0              1017.2   \n",
       "1              51.51       13.81           240.0              1017.3   \n",
       "2              51.67       17.26           250.0              1017.7   \n",
       "3              50.06       13.81           260.0              1018.3   \n",
       "4              53.48       12.66           260.0              1018.9   \n",
       "\n",
       "   visibility  weather_cond_code  wind_gust  precip_accum_six_hour  ceiling  \\\n",
       "0        10.0               <NA>        NaN                    NaN     <NA>   \n",
       "1        10.0               <NA>        NaN                    NaN     <NA>   \n",
       "2        10.0               <NA>        NaN                    NaN     <NA>   \n",
       "3        10.0               <NA>        NaN                    NaN     <NA>   \n",
       "4        10.0               <NA>        NaN                    NaN     <NA>   \n",
       "\n",
       "   dew_point_temperature  \n",
       "0                  46.04  \n",
       "1                  42.98  \n",
       "2                  44.06  \n",
       "3                  44.06  \n",
       "4                  44.96  "
      ]
     },
     "execution_count": 5,
     "metadata": {},
     "output_type": "execute_result"
    }
   ],
   "source": [
    "# get weather df\n",
    "weather_path = '../Work/DB_Work/Data/Weather/LAX_KLAX_1997-2025.csv'\n",
    "weather_df = pd.read_csv(\n",
    "    weather_path,\n",
    "    usecols=[\n",
    "        'Date', 'Time','date_time', 'precip_accum_one_hour', 'precip_accum_six_hour', 'air_temp', 'dew_point_temperature', \n",
    "        'relative_humidity', 'wind_speed', 'wind_direction', 'wind_gust', 'visibility', 'ceiling', 'sea_level_pressure', \n",
    "        'weather_cond_code'\n",
    "    ],\n",
    "    dtype={\n",
    "        'weather_cond_code': 'Int64',\n",
    "        'ceiling': 'Int64'\n",
    "    }  #make sure it gets read as nullable int type\n",
    ")\n",
    "# display\n",
    "weather_df.head()"
   ]
  },
  {
   "cell_type": "markdown",
   "metadata": {},
   "source": [
    "## Data Check\n",
    "---"
   ]
  },
  {
   "cell_type": "markdown",
   "metadata": {},
   "source": [
    "### Data types"
   ]
  },
  {
   "cell_type": "code",
   "execution_count": 6,
   "metadata": {},
   "outputs": [
    {
     "data": {
      "text/plain": [
       "Date                      object\n",
       "Time                      object\n",
       "date_time                 object\n",
       "precip_accum_one_hour    float64\n",
       "air_temp                 float64\n",
       "relative_humidity        float64\n",
       "wind_speed               float64\n",
       "wind_direction           float64\n",
       "sea_level_pressure       float64\n",
       "visibility               float64\n",
       "weather_cond_code          Int64\n",
       "wind_gust                float64\n",
       "precip_accum_six_hour    float64\n",
       "ceiling                    Int64\n",
       "dew_point_temperature    float64\n",
       "dtype: object"
      ]
     },
     "execution_count": 6,
     "metadata": {},
     "output_type": "execute_result"
    }
   ],
   "source": [
    "# data types\n",
    "weather_df.dtypes"
   ]
  },
  {
   "cell_type": "code",
   "execution_count": 7,
   "metadata": {},
   "outputs": [
    {
     "data": {
      "text/html": [
       "<div>\n",
       "<style scoped>\n",
       "    .dataframe tbody tr th:only-of-type {\n",
       "        vertical-align: middle;\n",
       "    }\n",
       "\n",
       "    .dataframe tbody tr th {\n",
       "        vertical-align: top;\n",
       "    }\n",
       "\n",
       "    .dataframe thead th {\n",
       "        text-align: right;\n",
       "    }\n",
       "</style>\n",
       "<table border=\"1\" class=\"dataframe\">\n",
       "  <thead>\n",
       "    <tr style=\"text-align: right;\">\n",
       "      <th></th>\n",
       "      <th>Date</th>\n",
       "      <th>Time</th>\n",
       "      <th>precip_accum_one_hour</th>\n",
       "      <th>air_temp</th>\n",
       "      <th>relative_humidity</th>\n",
       "      <th>wind_speed</th>\n",
       "      <th>wind_direction</th>\n",
       "      <th>sea_level_pressure</th>\n",
       "      <th>visibility</th>\n",
       "      <th>weather_cond_code</th>\n",
       "      <th>wind_gust</th>\n",
       "      <th>precip_accum_six_hour</th>\n",
       "      <th>ceiling</th>\n",
       "      <th>dew_point_temperature</th>\n",
       "      <th>DateTime</th>\n",
       "      <th>Hour</th>\n",
       "    </tr>\n",
       "  </thead>\n",
       "  <tbody>\n",
       "    <tr>\n",
       "      <th>0</th>\n",
       "      <td>03/20/25</td>\n",
       "      <td>17:53</td>\n",
       "      <td>NaN</td>\n",
       "      <td>59.00</td>\n",
       "      <td>62.10</td>\n",
       "      <td>11.51</td>\n",
       "      <td>240.0</td>\n",
       "      <td>1017.2</td>\n",
       "      <td>10.0</td>\n",
       "      <td>&lt;NA&gt;</td>\n",
       "      <td>NaN</td>\n",
       "      <td>NaN</td>\n",
       "      <td>&lt;NA&gt;</td>\n",
       "      <td>46.04</td>\n",
       "      <td>2025-03-20 17:53:00</td>\n",
       "      <td>18</td>\n",
       "    </tr>\n",
       "    <tr>\n",
       "      <th>1</th>\n",
       "      <td>03/20/25</td>\n",
       "      <td>16:53</td>\n",
       "      <td>NaN</td>\n",
       "      <td>60.98</td>\n",
       "      <td>51.51</td>\n",
       "      <td>13.81</td>\n",
       "      <td>240.0</td>\n",
       "      <td>1017.3</td>\n",
       "      <td>10.0</td>\n",
       "      <td>&lt;NA&gt;</td>\n",
       "      <td>NaN</td>\n",
       "      <td>NaN</td>\n",
       "      <td>&lt;NA&gt;</td>\n",
       "      <td>42.98</td>\n",
       "      <td>2025-03-20 16:53:00</td>\n",
       "      <td>17</td>\n",
       "    </tr>\n",
       "    <tr>\n",
       "      <th>2</th>\n",
       "      <td>03/20/25</td>\n",
       "      <td>15:53</td>\n",
       "      <td>NaN</td>\n",
       "      <td>62.06</td>\n",
       "      <td>51.67</td>\n",
       "      <td>17.26</td>\n",
       "      <td>250.0</td>\n",
       "      <td>1017.7</td>\n",
       "      <td>10.0</td>\n",
       "      <td>&lt;NA&gt;</td>\n",
       "      <td>NaN</td>\n",
       "      <td>NaN</td>\n",
       "      <td>&lt;NA&gt;</td>\n",
       "      <td>44.06</td>\n",
       "      <td>2025-03-20 15:53:00</td>\n",
       "      <td>16</td>\n",
       "    </tr>\n",
       "    <tr>\n",
       "      <th>3</th>\n",
       "      <td>03/20/25</td>\n",
       "      <td>14:53</td>\n",
       "      <td>NaN</td>\n",
       "      <td>62.96</td>\n",
       "      <td>50.06</td>\n",
       "      <td>13.81</td>\n",
       "      <td>260.0</td>\n",
       "      <td>1018.3</td>\n",
       "      <td>10.0</td>\n",
       "      <td>&lt;NA&gt;</td>\n",
       "      <td>NaN</td>\n",
       "      <td>NaN</td>\n",
       "      <td>&lt;NA&gt;</td>\n",
       "      <td>44.06</td>\n",
       "      <td>2025-03-20 14:53:00</td>\n",
       "      <td>15</td>\n",
       "    </tr>\n",
       "    <tr>\n",
       "      <th>4</th>\n",
       "      <td>03/20/25</td>\n",
       "      <td>13:53</td>\n",
       "      <td>NaN</td>\n",
       "      <td>62.06</td>\n",
       "      <td>53.48</td>\n",
       "      <td>12.66</td>\n",
       "      <td>260.0</td>\n",
       "      <td>1018.9</td>\n",
       "      <td>10.0</td>\n",
       "      <td>&lt;NA&gt;</td>\n",
       "      <td>NaN</td>\n",
       "      <td>NaN</td>\n",
       "      <td>&lt;NA&gt;</td>\n",
       "      <td>44.96</td>\n",
       "      <td>2025-03-20 13:53:00</td>\n",
       "      <td>14</td>\n",
       "    </tr>\n",
       "  </tbody>\n",
       "</table>\n",
       "</div>"
      ],
      "text/plain": [
       "       Date   Time  precip_accum_one_hour  air_temp  relative_humidity  \\\n",
       "0  03/20/25  17:53                    NaN     59.00              62.10   \n",
       "1  03/20/25  16:53                    NaN     60.98              51.51   \n",
       "2  03/20/25  15:53                    NaN     62.06              51.67   \n",
       "3  03/20/25  14:53                    NaN     62.96              50.06   \n",
       "4  03/20/25  13:53                    NaN     62.06              53.48   \n",
       "\n",
       "   wind_speed  wind_direction  sea_level_pressure  visibility  \\\n",
       "0       11.51           240.0              1017.2        10.0   \n",
       "1       13.81           240.0              1017.3        10.0   \n",
       "2       17.26           250.0              1017.7        10.0   \n",
       "3       13.81           260.0              1018.3        10.0   \n",
       "4       12.66           260.0              1018.9        10.0   \n",
       "\n",
       "   weather_cond_code  wind_gust  precip_accum_six_hour  ceiling  \\\n",
       "0               <NA>        NaN                    NaN     <NA>   \n",
       "1               <NA>        NaN                    NaN     <NA>   \n",
       "2               <NA>        NaN                    NaN     <NA>   \n",
       "3               <NA>        NaN                    NaN     <NA>   \n",
       "4               <NA>        NaN                    NaN     <NA>   \n",
       "\n",
       "   dew_point_temperature            DateTime  Hour  \n",
       "0                  46.04 2025-03-20 17:53:00    18  \n",
       "1                  42.98 2025-03-20 16:53:00    17  \n",
       "2                  44.06 2025-03-20 15:53:00    16  \n",
       "3                  44.06 2025-03-20 14:53:00    15  \n",
       "4                  44.96 2025-03-20 13:53:00    14  "
      ]
     },
     "execution_count": 7,
     "metadata": {},
     "output_type": "execute_result"
    }
   ],
   "source": [
    "# create datetime col and remove old one\n",
    "weather_df['DateTime'] = pd.to_datetime(weather_df['date_time'], format='%m/%d/%y-%H:%M')\n",
    "weather_df['Hour'] = pd.to_datetime(weather_df['Time'], format='%H:%M').dt.round('h').dt.hour\n",
    "weather_df = weather_df.drop(columns=['date_time']).copy()\n",
    "\n",
    "# display\n",
    "weather_df.head()"
   ]
  },
  {
   "cell_type": "markdown",
   "metadata": {},
   "source": [
    "### Remove old dates"
   ]
  },
  {
   "cell_type": "code",
   "execution_count": 8,
   "metadata": {},
   "outputs": [],
   "source": [
    "# filter out old dates\n",
    "yr_threshold = 2019\n",
    "weather_df = weather_df[weather_df['DateTime'].dt.year >= yr_threshold].copy()"
   ]
  },
  {
   "cell_type": "markdown",
   "metadata": {},
   "source": [
    "### Check nulls"
   ]
  },
  {
   "cell_type": "code",
   "execution_count": 9,
   "metadata": {},
   "outputs": [
    {
     "name": "stdout",
     "output_type": "stream",
     "text": [
      "Number of rows: 63383\n"
     ]
    },
    {
     "data": {
      "text/plain": [
       "Date                         0\n",
       "Time                         0\n",
       "precip_accum_one_hour    59529\n",
       "air_temp                     2\n",
       "relative_humidity            3\n",
       "wind_speed                  19\n",
       "wind_direction            3218\n",
       "sea_level_pressure        9135\n",
       "visibility                   7\n",
       "weather_cond_code        51899\n",
       "wind_gust                61345\n",
       "precip_accum_six_hour    62682\n",
       "ceiling                  34422\n",
       "dew_point_temperature        9\n",
       "DateTime                     0\n",
       "Hour                         0\n",
       "dtype: int64"
      ]
     },
     "execution_count": 9,
     "metadata": {},
     "output_type": "execute_result"
    }
   ],
   "source": [
    "# check nulls and len\n",
    "print(f'Number of rows: {len(weather_df)}')\n",
    "weather_df.isna().sum()"
   ]
  },
  {
   "cell_type": "markdown",
   "metadata": {},
   "source": [
    "## Analyzing nulls\n",
    "---"
   ]
  },
  {
   "cell_type": "markdown",
   "metadata": {},
   "source": [
    "### Check if nulls cover large ranges"
   ]
  },
  {
   "cell_type": "code",
   "execution_count": 10,
   "metadata": {},
   "outputs": [],
   "source": [
    "# function to check nulls per col depending on date group\n",
    "def null_check(main_df, date_grp_cols):\n",
    "    # copy df\n",
    "    df = main_df.copy()\n",
    "\n",
    "    # groupby day--> see if there are still nulls for that entire day\n",
    "    null_check_df = df.groupby(date_grp_cols).count()\n",
    "\n",
    "    # display if which columns don't have a single value for a year (count)\n",
    "    columns = list(null_check_df.columns)\n",
    "    null_col_cnt = []\n",
    "    for col in columns:\n",
    "        null_time = len(null_check_df[null_check_df[col] == 0])\n",
    "\n",
    "        # only add columns that have nulls\n",
    "        if null_time > 0:\n",
    "            null_dict = {\n",
    "                'Column': col,\n",
    "                f'Null {date_grp_cols}': null_time,\n",
    "                '% Null': round(null_time/len(null_check_df) * 100, 2)\n",
    "            }\n",
    "        \n",
    "            null_col_cnt.append(null_dict)\n",
    "    \n",
    "    # sort by % null\n",
    "    sorted_null_cnt = sorted(null_col_cnt, key=lambda x: x['% Null'], reverse=True)\n",
    "\n",
    "    # display\n",
    "    print(f'Number of {date_grp_cols}: {len(null_check_df)}')\n",
    "\n",
    "    # return\n",
    "    return sorted_null_cnt"
   ]
  },
  {
   "cell_type": "markdown",
   "metadata": {},
   "source": [
    "##### Checking if there any valid column values for the entire day"
   ]
  },
  {
   "cell_type": "code",
   "execution_count": 11,
   "metadata": {},
   "outputs": [
    {
     "name": "stdout",
     "output_type": "stream",
     "text": [
      "Number of Date: 2271\n"
     ]
    },
    {
     "data": {
      "text/plain": [
       "[{'Column': 'precip_accum_six_hour', 'Null Date': 1918, '% Null': 84.46},\n",
       " {'Column': 'precip_accum_one_hour', 'Null Date': 1909, '% Null': 84.06},\n",
       " {'Column': 'wind_gust', 'Null Date': 1612, '% Null': 70.98},\n",
       " {'Column': 'weather_cond_code', 'Null Date': 1278, '% Null': 56.27},\n",
       " {'Column': 'ceiling', 'Null Date': 465, '% Null': 20.48}]"
      ]
     },
     "execution_count": 11,
     "metadata": {},
     "output_type": "execute_result"
    }
   ],
   "source": [
    "null_check(weather_df, 'Date')"
   ]
  },
  {
   "cell_type": "markdown",
   "metadata": {},
   "source": [
    "##### Checking if there any valid column values for each hour per day"
   ]
  },
  {
   "cell_type": "code",
   "execution_count": 12,
   "metadata": {},
   "outputs": [
    {
     "name": "stdout",
     "output_type": "stream",
     "text": [
      "Number of ['Date', 'Hour']: 54350\n"
     ]
    },
    {
     "data": {
      "text/plain": [
       "[{'Column': 'precip_accum_six_hour',\n",
       "  \"Null ['Date', 'Hour']\": 53649,\n",
       "  '% Null': 98.71},\n",
       " {'Column': 'wind_gust', \"Null ['Date', 'Hour']\": 52534, '% Null': 96.66},\n",
       " {'Column': 'precip_accum_one_hour',\n",
       "  \"Null ['Date', 'Hour']\": 52008,\n",
       "  '% Null': 95.69},\n",
       " {'Column': 'weather_cond_code',\n",
       "  \"Null ['Date', 'Hour']\": 47070,\n",
       "  '% Null': 86.61},\n",
       " {'Column': 'ceiling', \"Null ['Date', 'Hour']\": 31962, '% Null': 58.81},\n",
       " {'Column': 'wind_direction', \"Null ['Date', 'Hour']\": 2501, '% Null': 4.6},\n",
       " {'Column': 'sea_level_pressure', \"Null ['Date', 'Hour']\": 110, '% Null': 0.2},\n",
       " {'Column': 'wind_speed', \"Null ['Date', 'Hour']\": 5, '% Null': 0.01},\n",
       " {'Column': 'relative_humidity', \"Null ['Date', 'Hour']\": 1, '% Null': 0.0},\n",
       " {'Column': 'visibility', \"Null ['Date', 'Hour']\": 2, '% Null': 0.0},\n",
       " {'Column': 'dew_point_temperature',\n",
       "  \"Null ['Date', 'Hour']\": 1,\n",
       "  '% Null': 0.0}]"
      ]
     },
     "execution_count": 12,
     "metadata": {},
     "output_type": "execute_result"
    }
   ],
   "source": [
    "null_check(weather_df, ['Date', 'Hour'])"
   ]
  },
  {
   "cell_type": "markdown",
   "metadata": {},
   "source": [
    "### Check if nulls mean 0 --> **precip_accum** and **wind_gust** are null are likely 0"
   ]
  },
  {
   "cell_type": "code",
   "execution_count": 13,
   "metadata": {},
   "outputs": [
    {
     "name": "stdout",
     "output_type": "stream",
     "text": [
      "precip_accum_one_hour: 0\n",
      "precip_accum_six_hour: 0\n",
      "ceiling: 56\n",
      "wind_direction: 7847\n",
      "wind_gust: 0\n",
      "weather_cond_code: 0\n"
     ]
    }
   ],
   "source": [
    "# check for following columns if 0 ever shows up \n",
    "print(f\"precip_accum_one_hour: {len(weather_df[weather_df['precip_accum_one_hour'] == 0])}\")\n",
    "print(f\"precip_accum_six_hour: {len(weather_df[weather_df['precip_accum_six_hour'] == 0])}\")\n",
    "print(f\"ceiling: {len(weather_df[weather_df['ceiling'] == 0])}\")\n",
    "print(f\"wind_direction: {len(weather_df[weather_df['wind_direction'] == 0])}\")\n",
    "print(f\"wind_gust: {len(weather_df[weather_df['wind_gust'] == 0])}\")\n",
    "print(f\"weather_cond_code: {len(weather_df[weather_df['weather_cond_code'] == 0])}\")"
   ]
  },
  {
   "cell_type": "markdown",
   "metadata": {},
   "source": [
    "### Look into **weather_cond_code** --> should DROP it!!!"
   ]
  },
  {
   "cell_type": "markdown",
   "metadata": {},
   "source": [
    "##### Wind cond code--> maybe na is supposed to be 0 which means 'no value': https://docs.synopticdata.com/services/weather-condition-codes"
   ]
  },
  {
   "cell_type": "code",
   "execution_count": 14,
   "metadata": {},
   "outputs": [
    {
     "data": {
      "text/plain": [
       "<IntegerArray>\n",
       "[  <NA>,   2493,      6,     31,     13,   2481,    493,      9,   2489,\n",
       "   2494,      1,    733,   2497,     17,    751,  60093,      5,    737,\n",
       " 198485, 199445,     77,   2546,   2482,   1045,     14, 199525,   2558,\n",
       "    801,      7,    569,    494,     66,      8,   2485,   2557,    734,\n",
       "     78,    566,    591,     85]\n",
       "Length: 40, dtype: Int64"
      ]
     },
     "execution_count": 14,
     "metadata": {},
     "output_type": "execute_result"
    }
   ],
   "source": [
    "# looking into unique values (have some that are out of normal weather condition codes)\n",
    "weather_df['weather_cond_code'].unique()"
   ]
  },
  {
   "cell_type": "markdown",
   "metadata": {},
   "source": [
    "### Check **ceiling**--> correlation with visibility"
   ]
  },
  {
   "cell_type": "markdown",
   "metadata": {},
   "source": [
    "##### Ceiling = 0 seems to correlate with lower visibility range but null ceiling values are often quite high (may be above detection range)\n",
    "- nulls can mean \"unlimited/very high ceiling\" --> indicating low chance of weather related delays"
   ]
  },
  {
   "cell_type": "code",
   "execution_count": 15,
   "metadata": {},
   "outputs": [
    {
     "data": {
      "text/plain": [
       "visibility\n",
       "0.50    21\n",
       "0.25    14\n",
       "0.12     6\n",
       "1.00     4\n",
       "1.50     3\n",
       "8.00     3\n",
       "0.75     2\n",
       "0.06     1\n",
       "1.75     1\n",
       "2.00     1\n",
       "Name: count, dtype: int64"
      ]
     },
     "execution_count": 15,
     "metadata": {},
     "output_type": "execute_result"
    }
   ],
   "source": [
    "# check visibility for ceiling = 0\n",
    "weather_df[weather_df['ceiling'] == 0].visibility.value_counts()"
   ]
  },
  {
   "cell_type": "code",
   "execution_count": 16,
   "metadata": {},
   "outputs": [
    {
     "data": {
      "text/plain": [
       "visibility\n",
       "10.00    29000\n",
       "9.00      1668\n",
       "8.00      1195\n",
       "7.00       848\n",
       "6.00       589\n",
       "5.00       394\n",
       "4.00       215\n",
       "3.00       194\n",
       "2.50        85\n",
       "2.00        59\n",
       "1.50        41\n",
       "1.00        30\n",
       "0.75        27\n",
       "0.50        26\n",
       "0.25        18\n",
       "1.25        14\n",
       "1.75        11\n",
       "15.00        1\n",
       "3.50         1\n",
       "0.12         1\n",
       "Name: count, dtype: int64"
      ]
     },
     "execution_count": 16,
     "metadata": {},
     "output_type": "execute_result"
    }
   ],
   "source": [
    "# check visibility for ceiling is null\n",
    "weather_df[weather_df['ceiling'].isna()].visibility.value_counts()"
   ]
  },
  {
   "cell_type": "markdown",
   "metadata": {},
   "source": [
    "### Check if **wind_direction** being null correlates with wind strength (wind_speed, wind_gust)"
   ]
  },
  {
   "cell_type": "markdown",
   "metadata": {},
   "source": [
    "##### Wind gust --> not much of a pattern"
   ]
  },
  {
   "cell_type": "code",
   "execution_count": 17,
   "metadata": {},
   "outputs": [
    {
     "data": {
      "text/plain": [
       "wind_gust\n",
       "17.26    7\n",
       "18.41    3\n",
       "16.11    3\n",
       "20.71    2\n",
       "21.86    2\n",
       "19.56    1\n",
       "Name: count, dtype: int64"
      ]
     },
     "execution_count": 17,
     "metadata": {},
     "output_type": "execute_result"
    }
   ],
   "source": [
    "# wind_direction is null--> see wind gust values\n",
    "weather_df[weather_df['wind_direction'].isna()].wind_gust.value_counts()"
   ]
  },
  {
   "cell_type": "code",
   "execution_count": 18,
   "metadata": {},
   "outputs": [
    {
     "data": {
      "text/plain": [
       "wind_gust\n",
       "20.71    225\n",
       "21.86    184\n",
       "23.02    182\n",
       "25.32    142\n",
       "24.17    128\n",
       "18.41    128\n",
       "19.56    127\n",
       "26.47     87\n",
       "28.77     77\n",
       "27.62     63\n",
       "31.07     60\n",
       "17.26     56\n",
       "29.92     54\n",
       "32.22     53\n",
       "19.57     36\n",
       "34.52     35\n",
       "16.11     34\n",
       "33.37     34\n",
       "26.46     28\n",
       "24.16     28\n",
       "35.67     27\n",
       "27.63     24\n",
       "36.82     24\n",
       "37.98     23\n",
       "17.27     19\n",
       "21.85     18\n",
       "39.13     16\n",
       "41.43     15\n",
       "40.28     14\n",
       "42.58     13\n",
       "29.93     13\n",
       "33.38     12\n",
       "32.21     11\n",
       "43.73     10\n",
       "46.03      5\n",
       "39.12      4\n",
       "44.88      3\n",
       "40.29      3\n",
       "35.68      3\n",
       "48.33      1\n",
       "44.87      1\n",
       "Name: count, dtype: int64"
      ]
     },
     "execution_count": 18,
     "metadata": {},
     "output_type": "execute_result"
    }
   ],
   "source": [
    "# wind_direction is NOT null--> see wind gust values\n",
    "weather_df[weather_df['wind_direction'].notna()].wind_gust.value_counts()"
   ]
  },
  {
   "cell_type": "markdown",
   "metadata": {},
   "source": [
    "##### Wind speed --> not much of a pattern"
   ]
  },
  {
   "cell_type": "code",
   "execution_count": 19,
   "metadata": {},
   "outputs": [
    {
     "data": {
      "text/plain": [
       "wind_speed\n",
       "3.45    1192\n",
       "4.60     711\n",
       "5.75     464\n",
       "3.44     372\n",
       "4.61     237\n",
       "6.91     223\n",
       "Name: count, dtype: int64"
      ]
     },
     "execution_count": 19,
     "metadata": {},
     "output_type": "execute_result"
    }
   ],
   "source": [
    "# wind_direction is null--> see wind speed values\n",
    "weather_df[weather_df['wind_direction'].isna()].wind_speed.value_counts()"
   ]
  },
  {
   "cell_type": "code",
   "execution_count": 20,
   "metadata": {},
   "outputs": [
    {
     "data": {
      "text/plain": [
       "wind_speed\n",
       "0.00     7846\n",
       "5.75     6393\n",
       "4.60     5704\n",
       "6.91     5266\n",
       "3.45     4996\n",
       "10.36    4099\n",
       "8.06     3528\n",
       "9.21     3353\n",
       "12.66    3296\n",
       "11.51    2915\n",
       "13.81    1868\n",
       "4.61     1477\n",
       "3.44     1298\n",
       "14.96    1291\n",
       "16.11    1069\n",
       "8.05     1024\n",
       "9.22      941\n",
       "11.50     871\n",
       "13.80     504\n",
       "17.26     496\n",
       "18.41     381\n",
       "14.97     356\n",
       "19.56     205\n",
       "20.71     174\n",
       "17.27     131\n",
       "21.86     106\n",
       "23.02     105\n",
       "25.32      70\n",
       "24.17      69\n",
       "19.57      62\n",
       "26.47      40\n",
       "28.77      37\n",
       "21.85      30\n",
       "29.92      27\n",
       "27.62      26\n",
       "24.16      23\n",
       "31.07      17\n",
       "27.63      13\n",
       "26.46      12\n",
       "32.22      11\n",
       "33.37       9\n",
       "35.67       6\n",
       "36.82       6\n",
       "34.52       5\n",
       "32.21       3\n",
       "29.93       2\n",
       "39.13       1\n",
       "40.28       1\n",
       "41.43       1\n",
       "35.68       1\n",
       "Name: count, dtype: int64"
      ]
     },
     "execution_count": 20,
     "metadata": {},
     "output_type": "execute_result"
    }
   ],
   "source": [
    "# wind_direction is NOT null--> see wind speed values\n",
    "weather_df[weather_df['wind_direction'].notna()].wind_speed.value_counts()"
   ]
  },
  {
   "cell_type": "markdown",
   "metadata": {},
   "source": [
    "##### Most likely nulls from sensor or reporting gaps"
   ]
  },
  {
   "cell_type": "markdown",
   "metadata": {},
   "source": [
    "### Check time gaps for other cols --> is it safe to interpolation?"
   ]
  },
  {
   "cell_type": "code",
   "execution_count": 21,
   "metadata": {},
   "outputs": [],
   "source": [
    "def find_time_gaps(main_df, col_name):\n",
    "    # make df copy\n",
    "    df = main_df.copy()\n",
    "\n",
    "    # define cols\n",
    "    miss_col = f'{col_name}_missing'\n",
    "\n",
    "    # sort by time\n",
    "    df = df.sort_values('DateTime').reset_index(drop=True)\n",
    "\n",
    "    # create missing flag\n",
    "    df[miss_col] = df[col_name].isna()\n",
    "\n",
    "    # compare each row's missing flag to previous row\n",
    "    df['block_id'] = (\n",
    "        df[miss_col] != df[miss_col].shift()\n",
    "    ).cumsum()\n",
    "\n",
    "    # filter blocks for miss_col\n",
    "    missing_blocks = df[df[miss_col]].copy()\n",
    "\n",
    "    # summarize each missing block\n",
    "    gap_summary = (\n",
    "        missing_blocks\n",
    "        .groupby('block_id')\n",
    "        .agg(\n",
    "            start_time = ('DateTime', 'min'),\n",
    "            end_time = ('DateTime', 'max'),\n",
    "            gap_hrs = ('DateTime', 'count')\n",
    "        )\n",
    "        .reset_index()\n",
    "    )\n",
    "\n",
    "    # display\n",
    "    display(gap_summary['gap_hrs'].value_counts())"
   ]
  },
  {
   "cell_type": "markdown",
   "metadata": {},
   "source": [
    "#### sea level pressure --> mostly ok"
   ]
  },
  {
   "cell_type": "code",
   "execution_count": 22,
   "metadata": {},
   "outputs": [
    {
     "data": {
      "text/plain": [
       "gap_hrs\n",
       "1     5500\n",
       "2     1110\n",
       "3      286\n",
       "4       91\n",
       "5       18\n",
       "6        5\n",
       "7        3\n",
       "15       1\n",
       "27       1\n",
       "10       1\n",
       "Name: count, dtype: int64"
      ]
     },
     "metadata": {},
     "output_type": "display_data"
    }
   ],
   "source": [
    "find_time_gaps(weather_df, 'sea_level_pressure')"
   ]
  },
  {
   "cell_type": "markdown",
   "metadata": {},
   "source": [
    "##### rest cols --> ok"
   ]
  },
  {
   "cell_type": "code",
   "execution_count": 23,
   "metadata": {},
   "outputs": [
    {
     "data": {
      "text/plain": [
       "gap_hrs\n",
       "1    2427\n",
       "2     309\n",
       "3      41\n",
       "5       6\n",
       "4       5\n",
       "Name: count, dtype: int64"
      ]
     },
     "metadata": {},
     "output_type": "display_data"
    }
   ],
   "source": [
    "find_time_gaps(weather_df, 'wind_direction')"
   ]
  },
  {
   "cell_type": "code",
   "execution_count": 24,
   "metadata": {},
   "outputs": [
    {
     "data": {
      "text/plain": [
       "gap_hrs\n",
       "1    19\n",
       "Name: count, dtype: int64"
      ]
     },
     "metadata": {},
     "output_type": "display_data"
    }
   ],
   "source": [
    "find_time_gaps(weather_df, 'wind_speed')"
   ]
  },
  {
   "cell_type": "code",
   "execution_count": 25,
   "metadata": {},
   "outputs": [
    {
     "data": {
      "text/plain": [
       "gap_hrs\n",
       "1    2\n",
       "Name: count, dtype: int64"
      ]
     },
     "metadata": {},
     "output_type": "display_data"
    }
   ],
   "source": [
    "find_time_gaps(weather_df, 'air_temp')"
   ]
  },
  {
   "cell_type": "code",
   "execution_count": 26,
   "metadata": {},
   "outputs": [
    {
     "data": {
      "text/plain": [
       "gap_hrs\n",
       "1    3\n",
       "Name: count, dtype: int64"
      ]
     },
     "metadata": {},
     "output_type": "display_data"
    }
   ],
   "source": [
    "find_time_gaps(weather_df, 'relative_humidity')"
   ]
  },
  {
   "cell_type": "code",
   "execution_count": 27,
   "metadata": {},
   "outputs": [
    {
     "data": {
      "text/plain": [
       "gap_hrs\n",
       "1    7\n",
       "Name: count, dtype: int64"
      ]
     },
     "metadata": {},
     "output_type": "display_data"
    }
   ],
   "source": [
    "find_time_gaps(weather_df, 'visibility')"
   ]
  },
  {
   "cell_type": "code",
   "execution_count": 28,
   "metadata": {},
   "outputs": [
    {
     "data": {
      "text/plain": [
       "gap_hrs\n",
       "1    7\n",
       "2    1\n",
       "Name: count, dtype: int64"
      ]
     },
     "metadata": {},
     "output_type": "display_data"
    }
   ],
   "source": [
    "find_time_gaps(weather_df, 'dew_point_temperature')"
   ]
  },
  {
   "cell_type": "markdown",
   "metadata": {},
   "source": [
    "## Handle Nulls\n",
    "---"
   ]
  },
  {
   "cell_type": "markdown",
   "metadata": {},
   "source": [
    "### Define function to fill nulls"
   ]
  },
  {
   "cell_type": "code",
   "execution_count": 29,
   "metadata": {},
   "outputs": [],
   "source": [
    "# fix nulls\n",
    "def fill_nulls(main_df):\n",
    "\n",
    "    # ------------------------------------\n",
    "    # Setup DF\n",
    "    # ------------------------------------\n",
    "    df = main_df.copy()  #make a copy\n",
    "\n",
    "    # sort chronologically\n",
    "    df = df.sort_values('DateTime')\n",
    "    df = df.set_index('DateTime')\n",
    "\n",
    "    # ------------------------------------\n",
    "    # Fill nulls that are supposed to be 0\n",
    "    # ------------------------------------\n",
    "    fillna_0_cols = ['precip_accum_one_hour', 'precip_accum_six_hour', 'wind_gust']\n",
    "\n",
    "    # show step\n",
    "    print(f'1) filling nulls with 0 for: {fillna_0_cols}')\n",
    "\n",
    "    # loop through\n",
    "    for col in fillna_0_cols:\n",
    "        df[col] = df[col].fillna(0)\n",
    "\n",
    "    # -----------------------------------------\n",
    "    # Drop col with too many nulls/invalid vals\n",
    "    # -----------------------------------------\n",
    "    # show step\n",
    "    print('2) weather_cond_code--> dropping column')\n",
    "    df = df.drop(columns=['weather_cond_code']).copy()\n",
    "\n",
    "    # ---------------------------------------------------------\n",
    "    # Ceiling: fill with high value & add missingness indicator\n",
    "    # ---------------------------------------------------------\n",
    "    # add missingness indicator col\n",
    "    print('3a) ceiling--> adding missingness indicator')\n",
    "    df['ceiling_missing'] = df['ceiling'].isna().astype(int)\n",
    "\n",
    "    # fill nulls in og col with high val\n",
    "    high_ceiling = 35000\n",
    "    print(f'3b) ceiling--> filling nulls with {high_ceiling} (max ceiling is {df['ceiling'].max()})')\n",
    "    df['ceiling'] = df['ceiling'].fillna(high_ceiling)\n",
    "\n",
    "    # ------------------------------------------------------------\n",
    "    # Wind Direction: Interpolate sin/cos (b/c it's 0-360 degrees)\n",
    "    # ------------------------------------------------------------\n",
    "    print('4) wind direction--> interpolate sin/cos')\n",
    "\n",
    "    # storing sin/cos to handle cyclical nature\n",
    "    df['wind_dir_rad'] = np.deg2rad(df['wind_direction'])\n",
    "    df['wind_dir_sin'] = np.sin(df['wind_dir_rad'])\n",
    "    df['wind_dir_cos'] = np.cos(df['wind_dir_rad'])\n",
    "\n",
    "    # interpolate sin/cos\n",
    "    df['wind_dir_sin'] = df['wind_dir_sin'].interpolate(method='time')\n",
    "    df['wind_dir_cos'] = df['wind_dir_cos'].interpolate(method='time')\n",
    "\n",
    "    # recompute direction\n",
    "    df['wind_direction_interp'] = np.rad2deg(\n",
    "        np.arctan2(df['wind_dir_sin'], df['wind_dir_cos'])\n",
    "    )\n",
    "\n",
    "    # convert values into 0-360 degrees\n",
    "    df['wind_direction_interp'] = (df['wind_direction_interp'] + 360) % 360\n",
    "    df['wind_direction_interp'] = df['wind_direction_interp'].round(1)\n",
    "\n",
    "    # drop old wind_dir col and sin/cos/rad cols\n",
    "    df = df.drop(columns=[\n",
    "        'wind_direction',\n",
    "        'wind_dir_rad',\n",
    "        'wind_dir_sin',\n",
    "        'wind_dir_cos'\n",
    "    ]).copy()\n",
    "\n",
    "    # ------------------------------------------------------------\n",
    "    # Rest of nulls: Interpolate for continuous non-cylical cols\n",
    "    # ------------------------------------------------------------\n",
    "    # for sea level add missing column\n",
    "    print('5a) sea_level_pressure--> adding missingness indicator')\n",
    "    df['sea_level_pressure_missing'] = df['sea_level_pressure'].isna().astype(int)\n",
    "\n",
    "    # interpolate for leftover cols\n",
    "    print('5b) sea_level_pressure--> interpolate')\n",
    "    # loop through\n",
    "    leftover_cols = list(df.columns[df.isna().any()])\n",
    "    for col in leftover_cols:\n",
    "        # interpolate\n",
    "        df[col] = df[col].interpolate(method='time')\n",
    "\n",
    "    # return\n",
    "    return df"
   ]
  },
  {
   "cell_type": "code",
   "execution_count": 30,
   "metadata": {},
   "outputs": [
    {
     "name": "stdout",
     "output_type": "stream",
     "text": [
      "1) filling nulls with 0 for: ['precip_accum_one_hour', 'precip_accum_six_hour', 'wind_gust']\n",
      "2) weather_cond_code--> dropping column\n",
      "3a) ceiling--> adding missingness indicator\n",
      "3b) ceiling--> filling nulls with 35000 (max ceiling is 33000)\n",
      "4) wind direction--> interpolate sin/cos\n",
      "5a) sea_level_pressure--> adding missingness indicator\n",
      "5b) sea_level_pressure--> interpolate\n",
      "Number of rows: 63383\n"
     ]
    },
    {
     "data": {
      "text/plain": [
       "Date                          0\n",
       "Time                          0\n",
       "precip_accum_one_hour         0\n",
       "air_temp                      0\n",
       "relative_humidity             0\n",
       "wind_speed                    0\n",
       "sea_level_pressure            1\n",
       "visibility                    0\n",
       "wind_gust                     0\n",
       "precip_accum_six_hour         0\n",
       "ceiling                       0\n",
       "dew_point_temperature         0\n",
       "Hour                          0\n",
       "ceiling_missing               0\n",
       "wind_direction_interp         0\n",
       "sea_level_pressure_missing    0\n",
       "dtype: int64"
      ]
     },
     "execution_count": 30,
     "metadata": {},
     "output_type": "execute_result"
    }
   ],
   "source": [
    "# apply\n",
    "weather2_df = fill_nulls(weather_df)\n",
    "print(f'Number of rows: {len(weather2_df)}')\n",
    "\n",
    "# display nulls\n",
    "weather2_df.isna().sum()"
   ]
  },
  {
   "cell_type": "markdown",
   "metadata": {},
   "source": [
    "### Check nulls"
   ]
  },
  {
   "cell_type": "code",
   "execution_count": 31,
   "metadata": {},
   "outputs": [
    {
     "name": "stdout",
     "output_type": "stream",
     "text": [
      "Number of Date: 2271\n"
     ]
    },
    {
     "data": {
      "text/plain": [
       "[]"
      ]
     },
     "execution_count": 31,
     "metadata": {},
     "output_type": "execute_result"
    }
   ],
   "source": [
    "null_check(weather2_df, 'Date')"
   ]
  },
  {
   "cell_type": "code",
   "execution_count": 32,
   "metadata": {},
   "outputs": [
    {
     "name": "stdout",
     "output_type": "stream",
     "text": [
      "Number of ['Date', 'Hour']: 54350\n"
     ]
    },
    {
     "data": {
      "text/plain": [
       "[]"
      ]
     },
     "execution_count": 32,
     "metadata": {},
     "output_type": "execute_result"
    }
   ],
   "source": [
    "null_check(weather2_df, ['Date', 'Hour'])"
   ]
  },
  {
   "cell_type": "markdown",
   "metadata": {},
   "source": [
    "## Ouput\n",
    "---"
   ]
  },
  {
   "cell_type": "markdown",
   "metadata": {},
   "source": [
    "### drop columns"
   ]
  },
  {
   "cell_type": "code",
   "execution_count": 33,
   "metadata": {},
   "outputs": [],
   "source": [
    "# drop\n",
    "drop_cols = ['Date', 'Time','Hour']\n",
    "weather2_df = weather2_df.drop(columns=drop_cols).copy()"
   ]
  },
  {
   "cell_type": "markdown",
   "metadata": {},
   "source": [
    "### display df"
   ]
  },
  {
   "cell_type": "code",
   "execution_count": 34,
   "metadata": {},
   "outputs": [
    {
     "data": {
      "text/html": [
       "<div>\n",
       "<style scoped>\n",
       "    .dataframe tbody tr th:only-of-type {\n",
       "        vertical-align: middle;\n",
       "    }\n",
       "\n",
       "    .dataframe tbody tr th {\n",
       "        vertical-align: top;\n",
       "    }\n",
       "\n",
       "    .dataframe thead th {\n",
       "        text-align: right;\n",
       "    }\n",
       "</style>\n",
       "<table border=\"1\" class=\"dataframe\">\n",
       "  <thead>\n",
       "    <tr style=\"text-align: right;\">\n",
       "      <th></th>\n",
       "      <th>precip_accum_one_hour</th>\n",
       "      <th>air_temp</th>\n",
       "      <th>relative_humidity</th>\n",
       "      <th>wind_speed</th>\n",
       "      <th>sea_level_pressure</th>\n",
       "      <th>visibility</th>\n",
       "      <th>wind_gust</th>\n",
       "      <th>precip_accum_six_hour</th>\n",
       "      <th>ceiling</th>\n",
       "      <th>dew_point_temperature</th>\n",
       "      <th>ceiling_missing</th>\n",
       "      <th>wind_direction_interp</th>\n",
       "      <th>sea_level_pressure_missing</th>\n",
       "    </tr>\n",
       "    <tr>\n",
       "      <th>DateTime</th>\n",
       "      <th></th>\n",
       "      <th></th>\n",
       "      <th></th>\n",
       "      <th></th>\n",
       "      <th></th>\n",
       "      <th></th>\n",
       "      <th></th>\n",
       "      <th></th>\n",
       "      <th></th>\n",
       "      <th></th>\n",
       "      <th></th>\n",
       "      <th></th>\n",
       "      <th></th>\n",
       "    </tr>\n",
       "  </thead>\n",
       "  <tbody>\n",
       "    <tr>\n",
       "      <th>2019-01-01 00:49:00</th>\n",
       "      <td>0.0</td>\n",
       "      <td>51.80</td>\n",
       "      <td>18.60</td>\n",
       "      <td>4.61</td>\n",
       "      <td>NaN</td>\n",
       "      <td>10.0</td>\n",
       "      <td>0.0</td>\n",
       "      <td>0.0</td>\n",
       "      <td>35000</td>\n",
       "      <td>10.40</td>\n",
       "      <td>1</td>\n",
       "      <td>90.0</td>\n",
       "      <td>1</td>\n",
       "    </tr>\n",
       "    <tr>\n",
       "      <th>2019-01-01 00:53:00</th>\n",
       "      <td>0.0</td>\n",
       "      <td>51.08</td>\n",
       "      <td>18.80</td>\n",
       "      <td>4.61</td>\n",
       "      <td>1015.3</td>\n",
       "      <td>10.0</td>\n",
       "      <td>0.0</td>\n",
       "      <td>0.0</td>\n",
       "      <td>35000</td>\n",
       "      <td>10.04</td>\n",
       "      <td>1</td>\n",
       "      <td>100.0</td>\n",
       "      <td>0</td>\n",
       "    </tr>\n",
       "    <tr>\n",
       "      <th>2019-01-01 01:53:00</th>\n",
       "      <td>0.0</td>\n",
       "      <td>51.98</td>\n",
       "      <td>18.18</td>\n",
       "      <td>0.00</td>\n",
       "      <td>1016.0</td>\n",
       "      <td>10.0</td>\n",
       "      <td>0.0</td>\n",
       "      <td>0.0</td>\n",
       "      <td>35000</td>\n",
       "      <td>10.04</td>\n",
       "      <td>1</td>\n",
       "      <td>0.0</td>\n",
       "      <td>0</td>\n",
       "    </tr>\n",
       "    <tr>\n",
       "      <th>2019-01-01 02:53:00</th>\n",
       "      <td>0.0</td>\n",
       "      <td>48.92</td>\n",
       "      <td>21.20</td>\n",
       "      <td>5.75</td>\n",
       "      <td>1015.9</td>\n",
       "      <td>10.0</td>\n",
       "      <td>0.0</td>\n",
       "      <td>0.0</td>\n",
       "      <td>35000</td>\n",
       "      <td>10.94</td>\n",
       "      <td>1</td>\n",
       "      <td>170.0</td>\n",
       "      <td>0</td>\n",
       "    </tr>\n",
       "    <tr>\n",
       "      <th>2019-01-01 03:53:00</th>\n",
       "      <td>0.0</td>\n",
       "      <td>42.98</td>\n",
       "      <td>36.13</td>\n",
       "      <td>3.44</td>\n",
       "      <td>1016.1</td>\n",
       "      <td>10.0</td>\n",
       "      <td>0.0</td>\n",
       "      <td>0.0</td>\n",
       "      <td>35000</td>\n",
       "      <td>17.96</td>\n",
       "      <td>1</td>\n",
       "      <td>130.0</td>\n",
       "      <td>0</td>\n",
       "    </tr>\n",
       "  </tbody>\n",
       "</table>\n",
       "</div>"
      ],
      "text/plain": [
       "                     precip_accum_one_hour  air_temp  relative_humidity  \\\n",
       "DateTime                                                                  \n",
       "2019-01-01 00:49:00                    0.0     51.80              18.60   \n",
       "2019-01-01 00:53:00                    0.0     51.08              18.80   \n",
       "2019-01-01 01:53:00                    0.0     51.98              18.18   \n",
       "2019-01-01 02:53:00                    0.0     48.92              21.20   \n",
       "2019-01-01 03:53:00                    0.0     42.98              36.13   \n",
       "\n",
       "                     wind_speed  sea_level_pressure  visibility  wind_gust  \\\n",
       "DateTime                                                                     \n",
       "2019-01-01 00:49:00        4.61                 NaN        10.0        0.0   \n",
       "2019-01-01 00:53:00        4.61              1015.3        10.0        0.0   \n",
       "2019-01-01 01:53:00        0.00              1016.0        10.0        0.0   \n",
       "2019-01-01 02:53:00        5.75              1015.9        10.0        0.0   \n",
       "2019-01-01 03:53:00        3.44              1016.1        10.0        0.0   \n",
       "\n",
       "                     precip_accum_six_hour  ceiling  dew_point_temperature  \\\n",
       "DateTime                                                                     \n",
       "2019-01-01 00:49:00                    0.0    35000                  10.40   \n",
       "2019-01-01 00:53:00                    0.0    35000                  10.04   \n",
       "2019-01-01 01:53:00                    0.0    35000                  10.04   \n",
       "2019-01-01 02:53:00                    0.0    35000                  10.94   \n",
       "2019-01-01 03:53:00                    0.0    35000                  17.96   \n",
       "\n",
       "                     ceiling_missing  wind_direction_interp  \\\n",
       "DateTime                                                      \n",
       "2019-01-01 00:49:00                1                   90.0   \n",
       "2019-01-01 00:53:00                1                  100.0   \n",
       "2019-01-01 01:53:00                1                    0.0   \n",
       "2019-01-01 02:53:00                1                  170.0   \n",
       "2019-01-01 03:53:00                1                  130.0   \n",
       "\n",
       "                     sea_level_pressure_missing  \n",
       "DateTime                                         \n",
       "2019-01-01 00:49:00                           1  \n",
       "2019-01-01 00:53:00                           0  \n",
       "2019-01-01 01:53:00                           0  \n",
       "2019-01-01 02:53:00                           0  \n",
       "2019-01-01 03:53:00                           0  "
      ]
     },
     "execution_count": 34,
     "metadata": {},
     "output_type": "execute_result"
    }
   ],
   "source": [
    "weather2_df.head()"
   ]
  },
  {
   "cell_type": "markdown",
   "metadata": {},
   "source": [
    "### export as zip"
   ]
  },
  {
   "cell_type": "code",
   "execution_count": 35,
   "metadata": {},
   "outputs": [],
   "source": [
    "# export as zipped file\n",
    "weather2_df.to_csv(\n",
    "    'Output/Weather/LAX_2019-2024_cleaned.zip',\n",
    "    compression={\n",
    "        'method': 'zip',\n",
    "        'archive_name': 'LAX_2019-2024_cleaned.csv'\n",
    "    }\n",
    ")"
   ]
  },
  {
   "cell_type": "markdown",
   "metadata": {},
   "source": [
    "# Destination Airports\n",
    "---"
   ]
  },
  {
   "cell_type": "markdown",
   "metadata": {},
   "source": [
    "## Get destination airports csv"
   ]
  },
  {
   "cell_type": "code",
   "execution_count": 157,
   "metadata": {},
   "outputs": [],
   "source": [
    "# definition to convert stations from IATA code (like LAX) to station id (like KLAX)\n",
    "def get_station_id(iata_code: str) -> str:\n",
    "    # special mappings for Hawaii & Alaska\n",
    "    special_map = {\n",
    "        # Alaska\n",
    "        \"ANC\": \"PANC\",\n",
    "        \n",
    "        # Hawaii\n",
    "        \"HNL\": \"PHNL\",\n",
    "        \"KOA\": \"PHKO\",\n",
    "        \"LIH\": \"PHLI\",\n",
    "        \"OGG\": \"PHOG\",\n",
    "        \"ITO\": \"PHTO\",\n",
    "    }\n",
    "    \n",
    "    # return special map value, if not then add K\n",
    "    return special_map.get(iata_code, f\"K{iata_code}\")"
   ]
  },
  {
   "cell_type": "markdown",
   "metadata": {},
   "source": [
    "## Import csvs"
   ]
  },
  {
   "cell_type": "code",
   "execution_count": null,
   "metadata": {},
   "outputs": [
    {
     "name": "stderr",
     "output_type": "stream",
     "text": [
      "C:\\Users\\brian\\AppData\\Local\\Temp\\ipykernel_230476\\665654210.py:15: DtypeWarning: Columns (4,5,6,7,10,12,13,14,17,18,27,29) have mixed types. Specify dtype option on import or set low_memory=False.\n",
      "  df = pd.read_csv(\n",
      "C:\\Users\\brian\\AppData\\Local\\Temp\\ipykernel_230476\\665654210.py:15: DtypeWarning: Columns (4,5,6,7,8,9,10,11,12,22,30,32) have mixed types. Specify dtype option on import or set low_memory=False.\n",
      "  df = pd.read_csv(\n",
      "C:\\Users\\brian\\AppData\\Local\\Temp\\ipykernel_230476\\665654210.py:15: DtypeWarning: Columns (4,5,6,7,8,9,10,11,16,22,30,32) have mixed types. Specify dtype option on import or set low_memory=False.\n",
      "  df = pd.read_csv(\n"
     ]
    }
   ],
   "source": [
    "# get input path\n",
    "weather_folder = '../Resources/Weather'\n",
    "\n",
    "# get csv files\n",
    "csv_files = glob.glob(os.path.join(weather_folder, '*.csv'))\n",
    "\n",
    "# dict to hold dataframes\n",
    "destination_dfs = {}\n",
    "\n",
    "for file_path in csv_files:\n",
    "    file_name = os.path.basename(file_path)\n",
    "    station_id = file_name.split('_')[0]\n",
    "\n",
    "    # read csv into df\n",
    "    df = pd.read_csv(\n",
    "        file_path,\n",
    "        usecols=[\n",
    "            'Date', 'Time','date_time', 'precip_accum_one_hour', 'precip_accum_six_hour', 'air_temp', 'dew_point_temperature', \n",
    "            'relative_humidity', 'wind_speed', 'wind_direction', 'wind_gust', 'visibility', 'ceiling', 'sea_level_pressure', \n",
    "            'weather_cond_code'\n",
    "        ]\n",
    "        # dtype={\n",
    "        #     #'weather_cond_code': 'Int64',\n",
    "        #     #'ceiling': 'Int64'\n",
    "        # }  #make sure it gets read as nullable int type\n",
    "    )\n",
    "\n",
    "    # store dict: station id is key and df is value\n",
    "    destination_dfs[station_id] = df"
   ]
  },
  {
   "cell_type": "code",
   "execution_count": 186,
   "metadata": {},
   "outputs": [
    {
     "name": "stderr",
     "output_type": "stream",
     "text": [
      "C:\\Users\\brian\\AppData\\Local\\Temp\\ipykernel_230476\\787825414.py:15: DtypeWarning: Columns (3,4,5,6,7,8,9,10,11,12,13,14,15,16,17,18,19,20,21,22,23,24,25,26,27,28,29,30,31,32,33,34,41,42,43) have mixed types. Specify dtype option on import or set low_memory=False.\n",
      "  df = pd.read_csv(file_path)\n",
      "C:\\Users\\brian\\AppData\\Local\\Temp\\ipykernel_230476\\787825414.py:15: DtypeWarning: Columns (3,4,5,6,7,8,9,10,11,12,13,14,16,18,19,20,21,22,23,24,25,26,27,28,29,30,31,32,33,34,35,36,37,41,42,43,44,45,46) have mixed types. Specify dtype option on import or set low_memory=False.\n",
      "  df = pd.read_csv(file_path)\n",
      "C:\\Users\\brian\\AppData\\Local\\Temp\\ipykernel_230476\\787825414.py:15: DtypeWarning: Columns (3,4,5,6,7,8,9,10,11,12,14,16,17,18,19,20,21,22,23,24,25,26,27,28,29,30,31,32,33,34,35,36,37,41,42,43,44,45,46) have mixed types. Specify dtype option on import or set low_memory=False.\n",
      "  df = pd.read_csv(file_path)\n"
     ]
    }
   ],
   "source": [
    "# Path to your \"Weather\" folder\n",
    "folder_path = '../Resources/Weather'\n",
    "\n",
    "# List out all CSV files in the folder\n",
    "csv_files = [f for f in os.listdir(folder_path) if f.endswith('.csv')]\n",
    "\n",
    "# Create a dictionary to hold the DataFrames\n",
    "dfs = {}\n",
    "\n",
    "for csv_file in csv_files:\n",
    "    # Create the full path to the CSV file\n",
    "    file_path = os.path.join(folder_path, csv_file)\n",
    "    \n",
    "    # Read the CSV into a DataFrame\n",
    "    df = pd.read_csv(file_path)\n",
    "    \n",
    "    # You can use the filename (minus .csv) as the dictionary key\n",
    "    key_name = csv_file.replace('.csv', '')\n",
    "    dfs[key_name] = df"
   ]
  },
  {
   "cell_type": "code",
   "execution_count": 188,
   "metadata": {},
   "outputs": [
    {
     "data": {
      "text/html": [
       "<div>\n",
       "<style scoped>\n",
       "    .dataframe tbody tr th:only-of-type {\n",
       "        vertical-align: middle;\n",
       "    }\n",
       "\n",
       "    .dataframe tbody tr th {\n",
       "        vertical-align: top;\n",
       "    }\n",
       "\n",
       "    .dataframe thead th {\n",
       "        text-align: right;\n",
       "    }\n",
       "</style>\n",
       "<table border=\"1\" class=\"dataframe\">\n",
       "  <thead>\n",
       "    <tr style=\"text-align: right;\">\n",
       "      <th></th>\n",
       "      <th>Date</th>\n",
       "      <th>Time</th>\n",
       "      <th>date_time</th>\n",
       "      <th>altimeter</th>\n",
       "      <th>air_temp</th>\n",
       "      <th>relative_humidity</th>\n",
       "      <th>wind_speed</th>\n",
       "      <th>wind_direction</th>\n",
       "      <th>cloud_layer_1_code</th>\n",
       "      <th>cloud_layer_2_code</th>\n",
       "      <th>...</th>\n",
       "      <th>wet_bulb_temp</th>\n",
       "      <th>wind_cardinal_direction</th>\n",
       "      <th>weather_condition</th>\n",
       "      <th>weather_summary</th>\n",
       "      <th>cloud_layer_1</th>\n",
       "      <th>cloud_layer_2</th>\n",
       "      <th>cloud_layer_3</th>\n",
       "      <th>wind_chill</th>\n",
       "      <th>Unnamed: 42</th>\n",
       "      <th>heat_index</th>\n",
       "    </tr>\n",
       "  </thead>\n",
       "  <tbody>\n",
       "    <tr>\n",
       "      <th>0</th>\n",
       "      <td>NaN</td>\n",
       "      <td>NaN</td>\n",
       "      <td>NaN</td>\n",
       "      <td>INHG</td>\n",
       "      <td>Fahrenheit</td>\n",
       "      <td>%</td>\n",
       "      <td>Miles/hour</td>\n",
       "      <td>Degrees</td>\n",
       "      <td>code</td>\n",
       "      <td>code</td>\n",
       "      <td>...</td>\n",
       "      <td>Fahrenheit</td>\n",
       "      <td>NaN</td>\n",
       "      <td>NaN</td>\n",
       "      <td>NaN</td>\n",
       "      <td>ft</td>\n",
       "      <td>ft</td>\n",
       "      <td>ft</td>\n",
       "      <td>Fahrenheit</td>\n",
       "      <td>Fahrenheit</td>\n",
       "      <td>Fahrenheit</td>\n",
       "    </tr>\n",
       "    <tr>\n",
       "      <th>1</th>\n",
       "      <td>03/22/25</td>\n",
       "      <td>05:52</td>\n",
       "      <td>03/22/25-05:52</td>\n",
       "      <td>29.96</td>\n",
       "      <td>48.02</td>\n",
       "      <td>40.2</td>\n",
       "      <td>10.36</td>\n",
       "      <td>230</td>\n",
       "      <td>2506</td>\n",
       "      <td>NaN</td>\n",
       "      <td>...</td>\n",
       "      <td>38.61</td>\n",
       "      <td>SW</td>\n",
       "      <td>NaN</td>\n",
       "      <td>thin scattered</td>\n",
       "      <td>[object Object]</td>\n",
       "      <td>NaN</td>\n",
       "      <td>NaN</td>\n",
       "      <td>43.47</td>\n",
       "      <td>24.76</td>\n",
       "      <td>NaN</td>\n",
       "    </tr>\n",
       "    <tr>\n",
       "      <th>2</th>\n",
       "      <td>03/22/25</td>\n",
       "      <td>04:52</td>\n",
       "      <td>03/22/25-04:52</td>\n",
       "      <td>29.97</td>\n",
       "      <td>48.92</td>\n",
       "      <td>40.65</td>\n",
       "      <td>11.51</td>\n",
       "      <td>220</td>\n",
       "      <td>1</td>\n",
       "      <td>NaN</td>\n",
       "      <td>...</td>\n",
       "      <td>39.4</td>\n",
       "      <td>SW</td>\n",
       "      <td>NaN</td>\n",
       "      <td>clear</td>\n",
       "      <td>[object Object]</td>\n",
       "      <td>NaN</td>\n",
       "      <td>NaN</td>\n",
       "      <td>44.2</td>\n",
       "      <td>25.84</td>\n",
       "      <td>NaN</td>\n",
       "    </tr>\n",
       "    <tr>\n",
       "      <th>3</th>\n",
       "      <td>03/22/25</td>\n",
       "      <td>03:52</td>\n",
       "      <td>03/22/25-03:52</td>\n",
       "      <td>29.98</td>\n",
       "      <td>48.92</td>\n",
       "      <td>40.65</td>\n",
       "      <td>10.36</td>\n",
       "      <td>220</td>\n",
       "      <td>1</td>\n",
       "      <td>NaN</td>\n",
       "      <td>...</td>\n",
       "      <td>39.4</td>\n",
       "      <td>SW</td>\n",
       "      <td>NaN</td>\n",
       "      <td>clear</td>\n",
       "      <td>[object Object]</td>\n",
       "      <td>NaN</td>\n",
       "      <td>NaN</td>\n",
       "      <td>44.58</td>\n",
       "      <td>25.84</td>\n",
       "      <td>NaN</td>\n",
       "    </tr>\n",
       "    <tr>\n",
       "      <th>4</th>\n",
       "      <td>03/22/25</td>\n",
       "      <td>02:52</td>\n",
       "      <td>03/22/25-02:52</td>\n",
       "      <td>29.99</td>\n",
       "      <td>50</td>\n",
       "      <td>39.05</td>\n",
       "      <td>6.91</td>\n",
       "      <td>200</td>\n",
       "      <td>1</td>\n",
       "      <td>NaN</td>\n",
       "      <td>...</td>\n",
       "      <td>39.96</td>\n",
       "      <td>SSW</td>\n",
       "      <td>NaN</td>\n",
       "      <td>clear</td>\n",
       "      <td>[object Object]</td>\n",
       "      <td>NaN</td>\n",
       "      <td>NaN</td>\n",
       "      <td>47.23</td>\n",
       "      <td>25.84</td>\n",
       "      <td>NaN</td>\n",
       "    </tr>\n",
       "    <tr>\n",
       "      <th>...</th>\n",
       "      <td>...</td>\n",
       "      <td>...</td>\n",
       "      <td>...</td>\n",
       "      <td>...</td>\n",
       "      <td>...</td>\n",
       "      <td>...</td>\n",
       "      <td>...</td>\n",
       "      <td>...</td>\n",
       "      <td>...</td>\n",
       "      <td>...</td>\n",
       "      <td>...</td>\n",
       "      <td>...</td>\n",
       "      <td>...</td>\n",
       "      <td>...</td>\n",
       "      <td>...</td>\n",
       "      <td>...</td>\n",
       "      <td>...</td>\n",
       "      <td>...</td>\n",
       "      <td>...</td>\n",
       "      <td>...</td>\n",
       "      <td>...</td>\n",
       "    </tr>\n",
       "    <tr>\n",
       "      <th>237403</th>\n",
       "      <td>08/14/02</td>\n",
       "      <td>20:50</td>\n",
       "      <td>08/14/02-20:50</td>\n",
       "      <td>30.1</td>\n",
       "      <td>77.0</td>\n",
       "      <td>83.48</td>\n",
       "      <td>8.05</td>\n",
       "      <td>160.0</td>\n",
       "      <td>506</td>\n",
       "      <td>1403.0</td>\n",
       "      <td>...</td>\n",
       "      <td>73.18</td>\n",
       "      <td>SSE</td>\n",
       "      <td>NaN</td>\n",
       "      <td>broken</td>\n",
       "      <td>[object Object]</td>\n",
       "      <td>[object Object]</td>\n",
       "      <td>[object Object]</td>\n",
       "      <td>NaN</td>\n",
       "      <td>71.6</td>\n",
       "      <td>NaN</td>\n",
       "    </tr>\n",
       "    <tr>\n",
       "      <th>237404</th>\n",
       "      <td>08/14/02</td>\n",
       "      <td>19:50</td>\n",
       "      <td>08/14/02-19:50</td>\n",
       "      <td>30.09</td>\n",
       "      <td>78.8</td>\n",
       "      <td>78.68</td>\n",
       "      <td>10.36</td>\n",
       "      <td>150.0</td>\n",
       "      <td>652</td>\n",
       "      <td>1403.0</td>\n",
       "      <td>...</td>\n",
       "      <td>73.67</td>\n",
       "      <td>SSE</td>\n",
       "      <td>NaN</td>\n",
       "      <td>broken</td>\n",
       "      <td>[object Object]</td>\n",
       "      <td>[object Object]</td>\n",
       "      <td>[object Object]</td>\n",
       "      <td>NaN</td>\n",
       "      <td>71.6</td>\n",
       "      <td>NaN</td>\n",
       "    </tr>\n",
       "    <tr>\n",
       "      <th>237405</th>\n",
       "      <td>08/14/02</td>\n",
       "      <td>18:50</td>\n",
       "      <td>08/14/02-18:50</td>\n",
       "      <td>30.08</td>\n",
       "      <td>80.6</td>\n",
       "      <td>74.19</td>\n",
       "      <td>17.27</td>\n",
       "      <td>120.0</td>\n",
       "      <td>752</td>\n",
       "      <td>2503.0</td>\n",
       "      <td>...</td>\n",
       "      <td>74.16</td>\n",
       "      <td>ESE</td>\n",
       "      <td>NaN</td>\n",
       "      <td>broken</td>\n",
       "      <td>[object Object]</td>\n",
       "      <td>[object Object]</td>\n",
       "      <td>NaN</td>\n",
       "      <td>NaN</td>\n",
       "      <td>71.62</td>\n",
       "      <td>84.58</td>\n",
       "    </tr>\n",
       "    <tr>\n",
       "      <th>237406</th>\n",
       "      <td>08/14/02</td>\n",
       "      <td>16:50</td>\n",
       "      <td>08/14/02-16:50</td>\n",
       "      <td>30.05</td>\n",
       "      <td>87.98</td>\n",
       "      <td>49.91</td>\n",
       "      <td>8.05</td>\n",
       "      <td>160.0</td>\n",
       "      <td>506</td>\n",
       "      <td>602.0</td>\n",
       "      <td>...</td>\n",
       "      <td>73.15</td>\n",
       "      <td>SSE</td>\n",
       "      <td>NaN</td>\n",
       "      <td>broken</td>\n",
       "      <td>[object Object]</td>\n",
       "      <td>[object Object]</td>\n",
       "      <td>[object Object]</td>\n",
       "      <td>NaN</td>\n",
       "      <td>67.01</td>\n",
       "      <td>90.99</td>\n",
       "    </tr>\n",
       "    <tr>\n",
       "      <th>237407</th>\n",
       "      <td>08/14/02</td>\n",
       "      <td>15:50</td>\n",
       "      <td>08/14/02-15:50</td>\n",
       "      <td>30.06</td>\n",
       "      <td>89.6</td>\n",
       "      <td>52.35</td>\n",
       "      <td>9.22</td>\n",
       "      <td>110.0</td>\n",
       "      <td>702</td>\n",
       "      <td>1602.0</td>\n",
       "      <td>...</td>\n",
       "      <td>75.34</td>\n",
       "      <td>ESE</td>\n",
       "      <td>NaN</td>\n",
       "      <td>broken</td>\n",
       "      <td>[object Object]</td>\n",
       "      <td>[object Object]</td>\n",
       "      <td>[object Object]</td>\n",
       "      <td>NaN</td>\n",
       "      <td>69.91</td>\n",
       "      <td>94.89</td>\n",
       "    </tr>\n",
       "  </tbody>\n",
       "</table>\n",
       "<p>237408 rows × 44 columns</p>\n",
       "</div>"
      ],
      "text/plain": [
       "            Date   Time       date_time altimeter    air_temp  \\\n",
       "0            NaN    NaN             NaN      INHG  Fahrenheit   \n",
       "1       03/22/25  05:52  03/22/25-05:52     29.96       48.02   \n",
       "2       03/22/25  04:52  03/22/25-04:52     29.97       48.92   \n",
       "3       03/22/25  03:52  03/22/25-03:52     29.98       48.92   \n",
       "4       03/22/25  02:52  03/22/25-02:52     29.99          50   \n",
       "...          ...    ...             ...       ...         ...   \n",
       "237403  08/14/02  20:50  08/14/02-20:50      30.1        77.0   \n",
       "237404  08/14/02  19:50  08/14/02-19:50     30.09        78.8   \n",
       "237405  08/14/02  18:50  08/14/02-18:50     30.08        80.6   \n",
       "237406  08/14/02  16:50  08/14/02-16:50     30.05       87.98   \n",
       "237407  08/14/02  15:50  08/14/02-15:50     30.06        89.6   \n",
       "\n",
       "       relative_humidity  wind_speed wind_direction cloud_layer_1_code  \\\n",
       "0                      %  Miles/hour        Degrees               code   \n",
       "1                   40.2       10.36            230               2506   \n",
       "2                  40.65       11.51            220                  1   \n",
       "3                  40.65       10.36            220                  1   \n",
       "4                  39.05        6.91            200                  1   \n",
       "...                  ...         ...            ...                ...   \n",
       "237403             83.48        8.05          160.0                506   \n",
       "237404             78.68       10.36          150.0                652   \n",
       "237405             74.19       17.27          120.0                752   \n",
       "237406             49.91        8.05          160.0                506   \n",
       "237407             52.35        9.22          110.0                702   \n",
       "\n",
       "       cloud_layer_2_code  ... wet_bulb_temp wind_cardinal_direction  \\\n",
       "0                    code  ...    Fahrenheit                     NaN   \n",
       "1                     NaN  ...         38.61                      SW   \n",
       "2                     NaN  ...          39.4                      SW   \n",
       "3                     NaN  ...          39.4                      SW   \n",
       "4                     NaN  ...         39.96                     SSW   \n",
       "...                   ...  ...           ...                     ...   \n",
       "237403             1403.0  ...         73.18                     SSE   \n",
       "237404             1403.0  ...         73.67                     SSE   \n",
       "237405             2503.0  ...         74.16                     ESE   \n",
       "237406              602.0  ...         73.15                     SSE   \n",
       "237407             1602.0  ...         75.34                     ESE   \n",
       "\n",
       "       weather_condition weather_summary    cloud_layer_1    cloud_layer_2  \\\n",
       "0                    NaN             NaN               ft               ft   \n",
       "1                    NaN  thin scattered  [object Object]              NaN   \n",
       "2                    NaN           clear  [object Object]              NaN   \n",
       "3                    NaN           clear  [object Object]              NaN   \n",
       "4                    NaN           clear  [object Object]              NaN   \n",
       "...                  ...             ...              ...              ...   \n",
       "237403               NaN          broken  [object Object]  [object Object]   \n",
       "237404               NaN          broken  [object Object]  [object Object]   \n",
       "237405               NaN          broken  [object Object]  [object Object]   \n",
       "237406               NaN          broken  [object Object]  [object Object]   \n",
       "237407               NaN          broken  [object Object]  [object Object]   \n",
       "\n",
       "          cloud_layer_3  wind_chill Unnamed: 42  heat_index  \n",
       "0                    ft  Fahrenheit  Fahrenheit  Fahrenheit  \n",
       "1                   NaN       43.47       24.76         NaN  \n",
       "2                   NaN        44.2       25.84         NaN  \n",
       "3                   NaN       44.58       25.84         NaN  \n",
       "4                   NaN       47.23       25.84         NaN  \n",
       "...                 ...         ...         ...         ...  \n",
       "237403  [object Object]         NaN        71.6         NaN  \n",
       "237404  [object Object]         NaN        71.6         NaN  \n",
       "237405              NaN         NaN       71.62       84.58  \n",
       "237406  [object Object]         NaN       67.01       90.99  \n",
       "237407  [object Object]         NaN       69.91       94.89  \n",
       "\n",
       "[237408 rows x 44 columns]"
      ]
     },
     "execution_count": 188,
     "metadata": {},
     "output_type": "execute_result"
    }
   ],
   "source": [
    "dfs['KCLT_1997-2025']"
   ]
  },
  {
   "cell_type": "code",
   "execution_count": 184,
   "metadata": {},
   "outputs": [
    {
     "data": {
      "text/plain": [
       "Date                     object\n",
       "Time                     object\n",
       "date_time                object\n",
       "precip_accum_one_hour    object\n",
       "air_temp                 object\n",
       "relative_humidity        object\n",
       "wind_speed               object\n",
       "wind_direction           object\n",
       "sea_level_pressure       object\n",
       "visibility               object\n",
       "wind_gust                object\n",
       "weather_cond_code        object\n",
       "precip_accum_six_hour    object\n",
       "ceiling                  object\n",
       "dew_point_temperature    object\n",
       "dtype: object"
      ]
     },
     "execution_count": 184,
     "metadata": {},
     "output_type": "execute_result"
    }
   ],
   "source": [
    "destination_dfs['KLAS'].dtypes"
   ]
  },
  {
   "cell_type": "code",
   "execution_count": 175,
   "metadata": {},
   "outputs": [
    {
     "name": "stderr",
     "output_type": "stream",
     "text": [
      "C:\\Users\\brian\\AppData\\Local\\Temp\\ipykernel_230476\\650028871.py:15: DtypeWarning: Columns (3,4,5,6,7,8,9,10,11,12,13,14,15,16,17,18,19,20,21,22,23,24,25,26,27,28,29,30,31,32,33,34,41,42,43) have mixed types. Specify dtype option on import or set low_memory=False.\n",
      "  df = pd.read_csv(file_path)\n",
      "C:\\Users\\brian\\AppData\\Local\\Temp\\ipykernel_230476\\650028871.py:15: DtypeWarning: Columns (3,4,5,6,7,8,9,10,11,12,13,14,16,18,19,20,21,22,23,24,25,26,27,28,29,30,31,32,33,34,35,36,37,41,42,43,44,45,46) have mixed types. Specify dtype option on import or set low_memory=False.\n",
      "  df = pd.read_csv(file_path)\n",
      "C:\\Users\\brian\\AppData\\Local\\Temp\\ipykernel_230476\\650028871.py:15: DtypeWarning: Columns (3,4,5,6,7,8,9,10,11,12,14,16,17,18,19,20,21,22,23,24,25,26,27,28,29,30,31,32,33,34,35,36,37,41,42,43,44,45,46) have mixed types. Specify dtype option on import or set low_memory=False.\n",
      "  df = pd.read_csv(file_path)\n"
     ]
    }
   ],
   "source": [
    "# get input path\n",
    "weather_folder = '../Resources/Weather'\n",
    "\n",
    "# get csv files\n",
    "csv_files = glob.glob(os.path.join(weather_folder, '*.csv'))\n",
    "\n",
    "# dict to hold dataframes\n",
    "destination_dfs = {}\n",
    "\n",
    "for file_path in csv_files:\n",
    "    file_name = os.path.basename(file_path)\n",
    "    station_id = file_name.split('_')[0]\n",
    "\n",
    "    # read csv into df\n",
    "    df = pd.read_csv(file_path)\n",
    "\n",
    "    # store dict: station id is key and df is value\n",
    "    destination_dfs[station_id] = df"
   ]
  },
  {
   "cell_type": "code",
   "execution_count": 174,
   "metadata": {},
   "outputs": [
    {
     "data": {
      "text/plain": [
       "[]"
      ]
     },
     "execution_count": 174,
     "metadata": {},
     "output_type": "execute_result"
    }
   ],
   "source": [
    "csv_files"
   ]
  },
  {
   "cell_type": "code",
   "execution_count": 162,
   "metadata": {},
   "outputs": [
    {
     "data": {
      "text/plain": [
       "0         EWR\n",
       "1         CLT\n",
       "2         MIA\n",
       "3         JFK\n",
       "4         MSP\n",
       "         ... \n",
       "854612    ORD\n",
       "854613    MSP\n",
       "854614    FLL\n",
       "854615    CLT\n",
       "854616    ATL\n",
       "Name: Destination Airport, Length: 854617, dtype: object"
      ]
     },
     "execution_count": 162,
     "metadata": {},
     "output_type": "execute_result"
    }
   ],
   "source": [
    "delays_df['Destination Airport']"
   ]
  },
  {
   "cell_type": "code",
   "execution_count": 160,
   "metadata": {},
   "outputs": [
    {
     "data": {
      "text/plain": [
       "Destination Airport\n",
       "SFO    50831\n",
       "LAS    46416\n",
       "JFK    42020\n",
       "DEN    32844\n",
       "PHX    31670\n",
       "       ...  \n",
       "BHM        3\n",
       "DSM        1\n",
       "BTR        1\n",
       "CID        1\n",
       "BUR        1\n",
       "Name: count, Length: 110, dtype: int64"
      ]
     },
     "execution_count": 160,
     "metadata": {},
     "output_type": "execute_result"
    }
   ],
   "source": [
    "delays_df['Destination Airport'].value_counts()"
   ]
  }
 ],
 "metadata": {
  "kernelspec": {
   "display_name": "base",
   "language": "python",
   "name": "python3"
  },
  "language_info": {
   "codemirror_mode": {
    "name": "ipython",
    "version": 3
   },
   "file_extension": ".py",
   "mimetype": "text/x-python",
   "name": "python",
   "nbconvert_exporter": "python",
   "pygments_lexer": "ipython3",
   "version": "3.12.4"
  }
 },
 "nbformat": 4,
 "nbformat_minor": 2
}
