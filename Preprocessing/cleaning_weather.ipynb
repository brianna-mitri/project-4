{
 "cells": [
  {
   "cell_type": "markdown",
   "metadata": {},
   "source": [
    "## Setup"
   ]
  },
  {
   "cell_type": "code",
   "execution_count": null,
   "metadata": {},
   "outputs": [],
   "source": [
    "# imports\n",
    "import zipfile\n",
    "import pandas as pd"
   ]
  },
  {
   "cell_type": "code",
   "execution_count": 3,
   "metadata": {},
   "outputs": [],
   "source": [
    "# function to open zipped file and read into df\n",
    "def unzip_to_df(zip_filepath, file_inside_zip, **read_csv_kwargs):\n",
    "    try:\n",
    "        with zipfile.ZipFile(zip_filepath, 'r') as z:\n",
    "            with z.open(file_inside_zip) as f:\n",
    "                df = pd.read_csv(f, dtype={'Manufacturer Code': str}, **read_csv_kwargs)\n",
    "        return df\n",
    "    except Exception as e:\n",
    "        print(f'Error occured: {e}')\n",
    "        return None"
   ]
  },
  {
   "cell_type": "code",
   "execution_count": 4,
   "metadata": {},
   "outputs": [],
   "source": [
    "# get df\n",
    "zip_path = '../Work/DB_Work/Output/flight_delays.zip'\n",
    "file_name = 'flight_delays.csv'\n",
    "\n",
    "delays_df = unzip_to_df(zip_path, file_name)"
   ]
  },
  {
   "cell_type": "code",
   "execution_count": 5,
   "metadata": {},
   "outputs": [
    {
     "data": {
      "text/html": [
       "<div>\n",
       "<style scoped>\n",
       "    .dataframe tbody tr th:only-of-type {\n",
       "        vertical-align: middle;\n",
       "    }\n",
       "\n",
       "    .dataframe tbody tr th {\n",
       "        vertical-align: top;\n",
       "    }\n",
       "\n",
       "    .dataframe thead th {\n",
       "        text-align: right;\n",
       "    }\n",
       "</style>\n",
       "<table border=\"1\" class=\"dataframe\">\n",
       "  <thead>\n",
       "    <tr style=\"text-align: right;\">\n",
       "      <th></th>\n",
       "      <th>Delay Bin</th>\n",
       "      <th>Departure Delay</th>\n",
       "      <th>Date</th>\n",
       "      <th>Year</th>\n",
       "      <th>Month</th>\n",
       "      <th>Day</th>\n",
       "      <th>Day of Week</th>\n",
       "      <th>Scheduled Departure Hour</th>\n",
       "      <th>Scheduled Departure Time</th>\n",
       "      <th>Actual Departure Time</th>\n",
       "      <th>...</th>\n",
       "      <th>Air Temperature</th>\n",
       "      <th>Dew Point Temperature</th>\n",
       "      <th>Relative Humidity</th>\n",
       "      <th>Wind Speed</th>\n",
       "      <th>Wind Direction</th>\n",
       "      <th>Wind Gust</th>\n",
       "      <th>Visibility</th>\n",
       "      <th>Ceiling</th>\n",
       "      <th>Sea Level Pressure</th>\n",
       "      <th>Weather Condition Code</th>\n",
       "    </tr>\n",
       "  </thead>\n",
       "  <tbody>\n",
       "    <tr>\n",
       "      <th>0</th>\n",
       "      <td>Early</td>\n",
       "      <td>-2</td>\n",
       "      <td>01/01/2020</td>\n",
       "      <td>2020</td>\n",
       "      <td>1</td>\n",
       "      <td>1</td>\n",
       "      <td>2</td>\n",
       "      <td>0</td>\n",
       "      <td>00:15</td>\n",
       "      <td>00:13</td>\n",
       "      <td>...</td>\n",
       "      <td>57.02</td>\n",
       "      <td>33.08</td>\n",
       "      <td>40.23</td>\n",
       "      <td>5.75</td>\n",
       "      <td>80.0</td>\n",
       "      <td>0.0</td>\n",
       "      <td>10.0</td>\n",
       "      <td>NaN</td>\n",
       "      <td>1017.5</td>\n",
       "      <td>NaN</td>\n",
       "    </tr>\n",
       "    <tr>\n",
       "      <th>1</th>\n",
       "      <td>11-30 min</td>\n",
       "      <td>11</td>\n",
       "      <td>01/01/2020</td>\n",
       "      <td>2020</td>\n",
       "      <td>1</td>\n",
       "      <td>1</td>\n",
       "      <td>2</td>\n",
       "      <td>0</td>\n",
       "      <td>00:30</td>\n",
       "      <td>00:41</td>\n",
       "      <td>...</td>\n",
       "      <td>57.02</td>\n",
       "      <td>33.08</td>\n",
       "      <td>40.23</td>\n",
       "      <td>5.75</td>\n",
       "      <td>80.0</td>\n",
       "      <td>0.0</td>\n",
       "      <td>10.0</td>\n",
       "      <td>NaN</td>\n",
       "      <td>1017.5</td>\n",
       "      <td>NaN</td>\n",
       "    </tr>\n",
       "    <tr>\n",
       "      <th>2</th>\n",
       "      <td>31-60 min</td>\n",
       "      <td>45</td>\n",
       "      <td>01/01/2020</td>\n",
       "      <td>2020</td>\n",
       "      <td>1</td>\n",
       "      <td>1</td>\n",
       "      <td>2</td>\n",
       "      <td>0</td>\n",
       "      <td>00:30</td>\n",
       "      <td>01:15</td>\n",
       "      <td>...</td>\n",
       "      <td>57.02</td>\n",
       "      <td>33.08</td>\n",
       "      <td>40.23</td>\n",
       "      <td>5.75</td>\n",
       "      <td>80.0</td>\n",
       "      <td>0.0</td>\n",
       "      <td>10.0</td>\n",
       "      <td>NaN</td>\n",
       "      <td>1017.5</td>\n",
       "      <td>NaN</td>\n",
       "    </tr>\n",
       "    <tr>\n",
       "      <th>3</th>\n",
       "      <td>Early</td>\n",
       "      <td>-8</td>\n",
       "      <td>01/01/2020</td>\n",
       "      <td>2020</td>\n",
       "      <td>1</td>\n",
       "      <td>1</td>\n",
       "      <td>2</td>\n",
       "      <td>0</td>\n",
       "      <td>00:30</td>\n",
       "      <td>00:22</td>\n",
       "      <td>...</td>\n",
       "      <td>57.02</td>\n",
       "      <td>33.08</td>\n",
       "      <td>40.23</td>\n",
       "      <td>5.75</td>\n",
       "      <td>80.0</td>\n",
       "      <td>0.0</td>\n",
       "      <td>10.0</td>\n",
       "      <td>NaN</td>\n",
       "      <td>1017.5</td>\n",
       "      <td>NaN</td>\n",
       "    </tr>\n",
       "    <tr>\n",
       "      <th>4</th>\n",
       "      <td>Early</td>\n",
       "      <td>-11</td>\n",
       "      <td>01/01/2020</td>\n",
       "      <td>2020</td>\n",
       "      <td>1</td>\n",
       "      <td>1</td>\n",
       "      <td>2</td>\n",
       "      <td>0</td>\n",
       "      <td>00:40</td>\n",
       "      <td>00:29</td>\n",
       "      <td>...</td>\n",
       "      <td>57.02</td>\n",
       "      <td>33.08</td>\n",
       "      <td>40.23</td>\n",
       "      <td>5.75</td>\n",
       "      <td>80.0</td>\n",
       "      <td>0.0</td>\n",
       "      <td>10.0</td>\n",
       "      <td>NaN</td>\n",
       "      <td>1017.5</td>\n",
       "      <td>NaN</td>\n",
       "    </tr>\n",
       "  </tbody>\n",
       "</table>\n",
       "<p>5 rows × 41 columns</p>\n",
       "</div>"
      ],
      "text/plain": [
       "   Delay Bin  Departure Delay        Date  Year  Month  Day  Day of Week  \\\n",
       "0      Early               -2  01/01/2020  2020      1    1            2   \n",
       "1  11-30 min               11  01/01/2020  2020      1    1            2   \n",
       "2  31-60 min               45  01/01/2020  2020      1    1            2   \n",
       "3      Early               -8  01/01/2020  2020      1    1            2   \n",
       "4      Early              -11  01/01/2020  2020      1    1            2   \n",
       "\n",
       "   Scheduled Departure Hour Scheduled Departure Time Actual Departure Time  \\\n",
       "0                         0                    00:15                 00:13   \n",
       "1                         0                    00:30                 00:41   \n",
       "2                         0                    00:30                 01:15   \n",
       "3                         0                    00:30                 00:22   \n",
       "4                         0                    00:40                 00:29   \n",
       "\n",
       "   ...  Air Temperature  Dew Point Temperature Relative Humidity  Wind Speed  \\\n",
       "0  ...            57.02                  33.08             40.23        5.75   \n",
       "1  ...            57.02                  33.08             40.23        5.75   \n",
       "2  ...            57.02                  33.08             40.23        5.75   \n",
       "3  ...            57.02                  33.08             40.23        5.75   \n",
       "4  ...            57.02                  33.08             40.23        5.75   \n",
       "\n",
       "  Wind Direction Wind Gust Visibility Ceiling Sea Level Pressure  \\\n",
       "0           80.0       0.0       10.0     NaN             1017.5   \n",
       "1           80.0       0.0       10.0     NaN             1017.5   \n",
       "2           80.0       0.0       10.0     NaN             1017.5   \n",
       "3           80.0       0.0       10.0     NaN             1017.5   \n",
       "4           80.0       0.0       10.0     NaN             1017.5   \n",
       "\n",
       "   Weather Condition Code  \n",
       "0                     NaN  \n",
       "1                     NaN  \n",
       "2                     NaN  \n",
       "3                     NaN  \n",
       "4                     NaN  \n",
       "\n",
       "[5 rows x 41 columns]"
      ]
     },
     "execution_count": 5,
     "metadata": {},
     "output_type": "execute_result"
    }
   ],
   "source": [
    "# display\n",
    "delays_df.head()"
   ]
  },
  {
   "cell_type": "code",
   "execution_count": 27,
   "metadata": {},
   "outputs": [
    {
     "data": {
      "text/html": [
       "<div>\n",
       "<style scoped>\n",
       "    .dataframe tbody tr th:only-of-type {\n",
       "        vertical-align: middle;\n",
       "    }\n",
       "\n",
       "    .dataframe tbody tr th {\n",
       "        vertical-align: top;\n",
       "    }\n",
       "\n",
       "    .dataframe thead th {\n",
       "        text-align: right;\n",
       "    }\n",
       "</style>\n",
       "<table border=\"1\" class=\"dataframe\">\n",
       "  <thead>\n",
       "    <tr style=\"text-align: right;\">\n",
       "      <th></th>\n",
       "      <th>Date</th>\n",
       "      <th>Time</th>\n",
       "      <th>date_time</th>\n",
       "      <th>precip_accum_one_hour</th>\n",
       "      <th>air_temp</th>\n",
       "      <th>relative_humidity</th>\n",
       "      <th>wind_speed</th>\n",
       "      <th>wind_direction</th>\n",
       "      <th>sea_level_pressure</th>\n",
       "      <th>visibility</th>\n",
       "      <th>weather_cond_code</th>\n",
       "      <th>wind_gust</th>\n",
       "      <th>precip_accum_six_hour</th>\n",
       "      <th>ceiling</th>\n",
       "      <th>dew_point_temperature</th>\n",
       "    </tr>\n",
       "  </thead>\n",
       "  <tbody>\n",
       "    <tr>\n",
       "      <th>0</th>\n",
       "      <td>03/20/25</td>\n",
       "      <td>17:53</td>\n",
       "      <td>03/20/25-17:53</td>\n",
       "      <td>NaN</td>\n",
       "      <td>59.00</td>\n",
       "      <td>62.10</td>\n",
       "      <td>11.51</td>\n",
       "      <td>240.0</td>\n",
       "      <td>1017.2</td>\n",
       "      <td>10.0</td>\n",
       "      <td>&lt;NA&gt;</td>\n",
       "      <td>NaN</td>\n",
       "      <td>NaN</td>\n",
       "      <td>NaN</td>\n",
       "      <td>46.04</td>\n",
       "    </tr>\n",
       "    <tr>\n",
       "      <th>1</th>\n",
       "      <td>03/20/25</td>\n",
       "      <td>16:53</td>\n",
       "      <td>03/20/25-16:53</td>\n",
       "      <td>NaN</td>\n",
       "      <td>60.98</td>\n",
       "      <td>51.51</td>\n",
       "      <td>13.81</td>\n",
       "      <td>240.0</td>\n",
       "      <td>1017.3</td>\n",
       "      <td>10.0</td>\n",
       "      <td>&lt;NA&gt;</td>\n",
       "      <td>NaN</td>\n",
       "      <td>NaN</td>\n",
       "      <td>NaN</td>\n",
       "      <td>42.98</td>\n",
       "    </tr>\n",
       "    <tr>\n",
       "      <th>2</th>\n",
       "      <td>03/20/25</td>\n",
       "      <td>15:53</td>\n",
       "      <td>03/20/25-15:53</td>\n",
       "      <td>NaN</td>\n",
       "      <td>62.06</td>\n",
       "      <td>51.67</td>\n",
       "      <td>17.26</td>\n",
       "      <td>250.0</td>\n",
       "      <td>1017.7</td>\n",
       "      <td>10.0</td>\n",
       "      <td>&lt;NA&gt;</td>\n",
       "      <td>NaN</td>\n",
       "      <td>NaN</td>\n",
       "      <td>NaN</td>\n",
       "      <td>44.06</td>\n",
       "    </tr>\n",
       "    <tr>\n",
       "      <th>3</th>\n",
       "      <td>03/20/25</td>\n",
       "      <td>14:53</td>\n",
       "      <td>03/20/25-14:53</td>\n",
       "      <td>NaN</td>\n",
       "      <td>62.96</td>\n",
       "      <td>50.06</td>\n",
       "      <td>13.81</td>\n",
       "      <td>260.0</td>\n",
       "      <td>1018.3</td>\n",
       "      <td>10.0</td>\n",
       "      <td>&lt;NA&gt;</td>\n",
       "      <td>NaN</td>\n",
       "      <td>NaN</td>\n",
       "      <td>NaN</td>\n",
       "      <td>44.06</td>\n",
       "    </tr>\n",
       "    <tr>\n",
       "      <th>4</th>\n",
       "      <td>03/20/25</td>\n",
       "      <td>13:53</td>\n",
       "      <td>03/20/25-13:53</td>\n",
       "      <td>NaN</td>\n",
       "      <td>62.06</td>\n",
       "      <td>53.48</td>\n",
       "      <td>12.66</td>\n",
       "      <td>260.0</td>\n",
       "      <td>1018.9</td>\n",
       "      <td>10.0</td>\n",
       "      <td>&lt;NA&gt;</td>\n",
       "      <td>NaN</td>\n",
       "      <td>NaN</td>\n",
       "      <td>NaN</td>\n",
       "      <td>44.96</td>\n",
       "    </tr>\n",
       "  </tbody>\n",
       "</table>\n",
       "</div>"
      ],
      "text/plain": [
       "       Date   Time       date_time  precip_accum_one_hour  air_temp  \\\n",
       "0  03/20/25  17:53  03/20/25-17:53                    NaN     59.00   \n",
       "1  03/20/25  16:53  03/20/25-16:53                    NaN     60.98   \n",
       "2  03/20/25  15:53  03/20/25-15:53                    NaN     62.06   \n",
       "3  03/20/25  14:53  03/20/25-14:53                    NaN     62.96   \n",
       "4  03/20/25  13:53  03/20/25-13:53                    NaN     62.06   \n",
       "\n",
       "   relative_humidity  wind_speed  wind_direction  sea_level_pressure  \\\n",
       "0              62.10       11.51           240.0              1017.2   \n",
       "1              51.51       13.81           240.0              1017.3   \n",
       "2              51.67       17.26           250.0              1017.7   \n",
       "3              50.06       13.81           260.0              1018.3   \n",
       "4              53.48       12.66           260.0              1018.9   \n",
       "\n",
       "   visibility  weather_cond_code  wind_gust  precip_accum_six_hour  ceiling  \\\n",
       "0        10.0               <NA>        NaN                    NaN      NaN   \n",
       "1        10.0               <NA>        NaN                    NaN      NaN   \n",
       "2        10.0               <NA>        NaN                    NaN      NaN   \n",
       "3        10.0               <NA>        NaN                    NaN      NaN   \n",
       "4        10.0               <NA>        NaN                    NaN      NaN   \n",
       "\n",
       "   dew_point_temperature  \n",
       "0                  46.04  \n",
       "1                  42.98  \n",
       "2                  44.06  \n",
       "3                  44.06  \n",
       "4                  44.96  "
      ]
     },
     "execution_count": 27,
     "metadata": {},
     "output_type": "execute_result"
    }
   ],
   "source": [
    "# get weather df\n",
    "weather_path = '../Work/DB_Work/Data/Weather/LAX_KLAX_1997-2025.csv'\n",
    "weather_df = pd.read_csv(\n",
    "    weather_path,\n",
    "    usecols=[\n",
    "        'Date', 'Time','date_time', 'precip_accum_one_hour', 'precip_accum_six_hour', 'air_temp', 'dew_point_temperature', \n",
    "        'relative_humidity', 'wind_speed', 'wind_direction', 'wind_gust', 'visibility', 'ceiling', 'sea_level_pressure', \n",
    "        'weather_cond_code'\n",
    "    ],\n",
    "    dtype={\"weather_cond_code\": \"Int64\"}  #make sure it gets read as nullable int type\n",
    ")\n",
    "# display\n",
    "weather_df.head()"
   ]
  },
  {
   "cell_type": "markdown",
   "metadata": {},
   "source": [
    "## Data Check\n",
    "---"
   ]
  },
  {
   "cell_type": "markdown",
   "metadata": {},
   "source": [
    "### Data types"
   ]
  },
  {
   "cell_type": "code",
   "execution_count": 28,
   "metadata": {},
   "outputs": [
    {
     "data": {
      "text/plain": [
       "Date                      object\n",
       "Time                      object\n",
       "date_time                 object\n",
       "precip_accum_one_hour    float64\n",
       "air_temp                 float64\n",
       "relative_humidity        float64\n",
       "wind_speed               float64\n",
       "wind_direction           float64\n",
       "sea_level_pressure       float64\n",
       "visibility               float64\n",
       "weather_cond_code          Int64\n",
       "wind_gust                float64\n",
       "precip_accum_six_hour    float64\n",
       "ceiling                  float64\n",
       "dew_point_temperature    float64\n",
       "dtype: object"
      ]
     },
     "execution_count": 28,
     "metadata": {},
     "output_type": "execute_result"
    }
   ],
   "source": [
    "# data types\n",
    "weather_df.dtypes"
   ]
  },
  {
   "cell_type": "code",
   "execution_count": 29,
   "metadata": {},
   "outputs": [
    {
     "data": {
      "text/html": [
       "<div>\n",
       "<style scoped>\n",
       "    .dataframe tbody tr th:only-of-type {\n",
       "        vertical-align: middle;\n",
       "    }\n",
       "\n",
       "    .dataframe tbody tr th {\n",
       "        vertical-align: top;\n",
       "    }\n",
       "\n",
       "    .dataframe thead th {\n",
       "        text-align: right;\n",
       "    }\n",
       "</style>\n",
       "<table border=\"1\" class=\"dataframe\">\n",
       "  <thead>\n",
       "    <tr style=\"text-align: right;\">\n",
       "      <th></th>\n",
       "      <th>Date</th>\n",
       "      <th>Time</th>\n",
       "      <th>precip_accum_one_hour</th>\n",
       "      <th>air_temp</th>\n",
       "      <th>relative_humidity</th>\n",
       "      <th>wind_speed</th>\n",
       "      <th>wind_direction</th>\n",
       "      <th>sea_level_pressure</th>\n",
       "      <th>visibility</th>\n",
       "      <th>weather_cond_code</th>\n",
       "      <th>wind_gust</th>\n",
       "      <th>precip_accum_six_hour</th>\n",
       "      <th>ceiling</th>\n",
       "      <th>dew_point_temperature</th>\n",
       "      <th>DateTime</th>\n",
       "      <th>Hour</th>\n",
       "    </tr>\n",
       "  </thead>\n",
       "  <tbody>\n",
       "    <tr>\n",
       "      <th>0</th>\n",
       "      <td>03/20/25</td>\n",
       "      <td>17:53</td>\n",
       "      <td>NaN</td>\n",
       "      <td>59.00</td>\n",
       "      <td>62.10</td>\n",
       "      <td>11.51</td>\n",
       "      <td>240.0</td>\n",
       "      <td>1017.2</td>\n",
       "      <td>10.0</td>\n",
       "      <td>&lt;NA&gt;</td>\n",
       "      <td>NaN</td>\n",
       "      <td>NaN</td>\n",
       "      <td>NaN</td>\n",
       "      <td>46.04</td>\n",
       "      <td>2025-03-20 17:53:00</td>\n",
       "      <td>18</td>\n",
       "    </tr>\n",
       "    <tr>\n",
       "      <th>1</th>\n",
       "      <td>03/20/25</td>\n",
       "      <td>16:53</td>\n",
       "      <td>NaN</td>\n",
       "      <td>60.98</td>\n",
       "      <td>51.51</td>\n",
       "      <td>13.81</td>\n",
       "      <td>240.0</td>\n",
       "      <td>1017.3</td>\n",
       "      <td>10.0</td>\n",
       "      <td>&lt;NA&gt;</td>\n",
       "      <td>NaN</td>\n",
       "      <td>NaN</td>\n",
       "      <td>NaN</td>\n",
       "      <td>42.98</td>\n",
       "      <td>2025-03-20 16:53:00</td>\n",
       "      <td>17</td>\n",
       "    </tr>\n",
       "    <tr>\n",
       "      <th>2</th>\n",
       "      <td>03/20/25</td>\n",
       "      <td>15:53</td>\n",
       "      <td>NaN</td>\n",
       "      <td>62.06</td>\n",
       "      <td>51.67</td>\n",
       "      <td>17.26</td>\n",
       "      <td>250.0</td>\n",
       "      <td>1017.7</td>\n",
       "      <td>10.0</td>\n",
       "      <td>&lt;NA&gt;</td>\n",
       "      <td>NaN</td>\n",
       "      <td>NaN</td>\n",
       "      <td>NaN</td>\n",
       "      <td>44.06</td>\n",
       "      <td>2025-03-20 15:53:00</td>\n",
       "      <td>16</td>\n",
       "    </tr>\n",
       "    <tr>\n",
       "      <th>3</th>\n",
       "      <td>03/20/25</td>\n",
       "      <td>14:53</td>\n",
       "      <td>NaN</td>\n",
       "      <td>62.96</td>\n",
       "      <td>50.06</td>\n",
       "      <td>13.81</td>\n",
       "      <td>260.0</td>\n",
       "      <td>1018.3</td>\n",
       "      <td>10.0</td>\n",
       "      <td>&lt;NA&gt;</td>\n",
       "      <td>NaN</td>\n",
       "      <td>NaN</td>\n",
       "      <td>NaN</td>\n",
       "      <td>44.06</td>\n",
       "      <td>2025-03-20 14:53:00</td>\n",
       "      <td>15</td>\n",
       "    </tr>\n",
       "    <tr>\n",
       "      <th>4</th>\n",
       "      <td>03/20/25</td>\n",
       "      <td>13:53</td>\n",
       "      <td>NaN</td>\n",
       "      <td>62.06</td>\n",
       "      <td>53.48</td>\n",
       "      <td>12.66</td>\n",
       "      <td>260.0</td>\n",
       "      <td>1018.9</td>\n",
       "      <td>10.0</td>\n",
       "      <td>&lt;NA&gt;</td>\n",
       "      <td>NaN</td>\n",
       "      <td>NaN</td>\n",
       "      <td>NaN</td>\n",
       "      <td>44.96</td>\n",
       "      <td>2025-03-20 13:53:00</td>\n",
       "      <td>14</td>\n",
       "    </tr>\n",
       "  </tbody>\n",
       "</table>\n",
       "</div>"
      ],
      "text/plain": [
       "       Date   Time  precip_accum_one_hour  air_temp  relative_humidity  \\\n",
       "0  03/20/25  17:53                    NaN     59.00              62.10   \n",
       "1  03/20/25  16:53                    NaN     60.98              51.51   \n",
       "2  03/20/25  15:53                    NaN     62.06              51.67   \n",
       "3  03/20/25  14:53                    NaN     62.96              50.06   \n",
       "4  03/20/25  13:53                    NaN     62.06              53.48   \n",
       "\n",
       "   wind_speed  wind_direction  sea_level_pressure  visibility  \\\n",
       "0       11.51           240.0              1017.2        10.0   \n",
       "1       13.81           240.0              1017.3        10.0   \n",
       "2       17.26           250.0              1017.7        10.0   \n",
       "3       13.81           260.0              1018.3        10.0   \n",
       "4       12.66           260.0              1018.9        10.0   \n",
       "\n",
       "   weather_cond_code  wind_gust  precip_accum_six_hour  ceiling  \\\n",
       "0               <NA>        NaN                    NaN      NaN   \n",
       "1               <NA>        NaN                    NaN      NaN   \n",
       "2               <NA>        NaN                    NaN      NaN   \n",
       "3               <NA>        NaN                    NaN      NaN   \n",
       "4               <NA>        NaN                    NaN      NaN   \n",
       "\n",
       "   dew_point_temperature            DateTime  Hour  \n",
       "0                  46.04 2025-03-20 17:53:00    18  \n",
       "1                  42.98 2025-03-20 16:53:00    17  \n",
       "2                  44.06 2025-03-20 15:53:00    16  \n",
       "3                  44.06 2025-03-20 14:53:00    15  \n",
       "4                  44.96 2025-03-20 13:53:00    14  "
      ]
     },
     "execution_count": 29,
     "metadata": {},
     "output_type": "execute_result"
    }
   ],
   "source": [
    "# create datetime col and remove old one\n",
    "weather_df['DateTime'] = pd.to_datetime(weather_df['date_time'], format='%m/%d/%y-%H:%M')\n",
    "weather_df['Hour'] = pd.to_datetime(weather_df['Time'], format='%H:%M').dt.round('h').dt.hour\n",
    "weather_df = weather_df.drop(columns=['date_time']).copy()\n",
    "\n",
    "# display\n",
    "weather_df.head()"
   ]
  },
  {
   "cell_type": "markdown",
   "metadata": {},
   "source": [
    "### Remove old dates"
   ]
  },
  {
   "cell_type": "code",
   "execution_count": 30,
   "metadata": {},
   "outputs": [],
   "source": [
    "# filter out old dates\n",
    "yr_threshold = 2020\n",
    "weather_df = weather_df[weather_df['DateTime'].dt.year >= yr_threshold].copy()"
   ]
  },
  {
   "cell_type": "markdown",
   "metadata": {},
   "source": [
    "### Check nulls"
   ]
  },
  {
   "cell_type": "code",
   "execution_count": 31,
   "metadata": {},
   "outputs": [
    {
     "name": "stdout",
     "output_type": "stream",
     "text": [
      "Number of rows: 53393\n"
     ]
    },
    {
     "data": {
      "text/plain": [
       "Date                         0\n",
       "Time                         0\n",
       "precip_accum_one_hour    50309\n",
       "air_temp                     2\n",
       "relative_humidity            3\n",
       "wind_speed                  16\n",
       "wind_direction            2636\n",
       "sea_level_pressure        7871\n",
       "visibility                   7\n",
       "weather_cond_code        43417\n",
       "wind_gust                51646\n",
       "precip_accum_six_hour    52846\n",
       "ceiling                  29105\n",
       "dew_point_temperature        9\n",
       "DateTime                     0\n",
       "Hour                         0\n",
       "dtype: int64"
      ]
     },
     "execution_count": 31,
     "metadata": {},
     "output_type": "execute_result"
    }
   ],
   "source": [
    "# check nulls and len\n",
    "print(f'Number of rows: {len(weather_df)}')\n",
    "weather_df.isna().sum()"
   ]
  },
  {
   "cell_type": "markdown",
   "metadata": {},
   "source": [
    "## Analyzing nulls\n",
    "---"
   ]
  },
  {
   "cell_type": "markdown",
   "metadata": {},
   "source": [
    "### Check if nulls cover large ranges"
   ]
  },
  {
   "cell_type": "code",
   "execution_count": 77,
   "metadata": {},
   "outputs": [],
   "source": [
    "# function to check nulls per col depending on date group\n",
    "def null_check(main_df, date_grp_cols):\n",
    "    # copy df\n",
    "    df = main_df.copy()\n",
    "\n",
    "    # groupby day--> see if there are still nulls for that entire day\n",
    "    null_check_df = df.groupby(date_grp_cols).count().reset_index()\n",
    "\n",
    "    # display if which columns don't have a single value for a year (count)\n",
    "    columns = list(null_check_df.columns)\n",
    "    null_col_cnt = []\n",
    "    for col in columns:\n",
    "        null_time = len(null_check_df[null_check_df[col] == 0])\n",
    "\n",
    "        # only add columns that have nulls\n",
    "        if null_time > 0:\n",
    "            null_dict = {\n",
    "                'Column': col,\n",
    "                f'Null {date_grp_cols}': null_time,\n",
    "                '% Null': round(null_time/len(null_check_df) * 100, 2)\n",
    "            }\n",
    "        \n",
    "            null_col_cnt.append(null_dict)\n",
    "    \n",
    "    # sort by % null\n",
    "    sorted_null_cnt = sorted(null_col_cnt, key=lambda x: x['% Null'], reverse=True)\n",
    "\n",
    "    # display\n",
    "    print(f'Number of {date_grp_cols}: {len(null_check_df)}')\n",
    "    display(sorted_null_cnt)\n",
    "\n",
    "    # return\n",
    "    sorted_null_cnt"
   ]
  },
  {
   "cell_type": "markdown",
   "metadata": {},
   "source": [
    "##### Checking if there any valid column values for the entire day"
   ]
  },
  {
   "cell_type": "code",
   "execution_count": 78,
   "metadata": {},
   "outputs": [
    {
     "name": "stdout",
     "output_type": "stream",
     "text": [
      "Number of Date: 1906\n"
     ]
    },
    {
     "data": {
      "text/plain": [
       "[{'Column': 'precip_accum_six_hour', 'Null Date': 1626, '% Null': 85.31},\n",
       " {'Column': 'precip_accum_one_hour', 'Null Date': 1617, '% Null': 84.84},\n",
       " {'Column': 'wind_gust', 'Null Date': 1340, '% Null': 70.3},\n",
       " {'Column': 'weather_cond_code', 'Null Date': 1062, '% Null': 55.72},\n",
       " {'Column': 'ceiling', 'Null Date': 393, '% Null': 20.62}]"
      ]
     },
     "metadata": {},
     "output_type": "display_data"
    }
   ],
   "source": [
    "null_check(weather_df, 'Date')"
   ]
  },
  {
   "cell_type": "markdown",
   "metadata": {},
   "source": [
    "##### Checking if there any valid column values for each hour per day"
   ]
  },
  {
   "cell_type": "code",
   "execution_count": 79,
   "metadata": {},
   "outputs": [
    {
     "name": "stdout",
     "output_type": "stream",
     "text": [
      "Number of ['Date', 'Hour']: 45606\n"
     ]
    },
    {
     "data": {
      "text/plain": [
       "[{'Column': 'precip_accum_six_hour',\n",
       "  \"Null ['Date', 'Hour']\": 45059,\n",
       "  '% Null': 98.8},\n",
       " {'Column': 'wind_gust', \"Null ['Date', 'Hour']\": 44056, '% Null': 96.6},\n",
       " {'Column': 'precip_accum_one_hour',\n",
       "  \"Null ['Date', 'Hour']\": 43768,\n",
       "  '% Null': 95.97},\n",
       " {'Column': 'weather_cond_code',\n",
       "  \"Null ['Date', 'Hour']\": 39328,\n",
       "  '% Null': 86.23},\n",
       " {'Column': 'ceiling', \"Null ['Date', 'Hour']\": 26976, '% Null': 59.15},\n",
       " {'Column': 'wind_direction', \"Null ['Date', 'Hour']\": 2020, '% Null': 4.43},\n",
       " {'Column': 'Hour', \"Null ['Date', 'Hour']\": 1901, '% Null': 4.17},\n",
       " {'Column': 'sea_level_pressure', \"Null ['Date', 'Hour']\": 90, '% Null': 0.2},\n",
       " {'Column': 'wind_speed', \"Null ['Date', 'Hour']\": 5, '% Null': 0.01},\n",
       " {'Column': 'relative_humidity', \"Null ['Date', 'Hour']\": 1, '% Null': 0.0},\n",
       " {'Column': 'visibility', \"Null ['Date', 'Hour']\": 2, '% Null': 0.0},\n",
       " {'Column': 'dew_point_temperature',\n",
       "  \"Null ['Date', 'Hour']\": 1,\n",
       "  '% Null': 0.0}]"
      ]
     },
     "metadata": {},
     "output_type": "display_data"
    }
   ],
   "source": [
    "null_check(weather_df, ['Date', 'Hour'])"
   ]
  },
  {
   "cell_type": "markdown",
   "metadata": {},
   "source": [
    "### Check if nulls mean 0 --> precip_accum and wind_gust are null are likely 0"
   ]
  },
  {
   "cell_type": "code",
   "execution_count": 35,
   "metadata": {},
   "outputs": [
    {
     "name": "stdout",
     "output_type": "stream",
     "text": [
      "precip_accum_one_hour: 0\n",
      "precip_accum_six_hour: 0\n",
      "ceiling: 52\n",
      "wind_direction: 6724\n",
      "wind_gust: 0\n",
      "weather_cond_code: 0\n"
     ]
    }
   ],
   "source": [
    "# check for following columns if 0 ever shows up \n",
    "print(f\"precip_accum_one_hour: {len(weather_df[weather_df['precip_accum_one_hour'] == 0])}\")\n",
    "print(f\"precip_accum_six_hour: {len(weather_df[weather_df['precip_accum_six_hour'] == 0])}\")\n",
    "print(f\"ceiling: {len(weather_df[weather_df['ceiling'] == 0])}\")\n",
    "print(f\"wind_direction: {len(weather_df[weather_df['wind_direction'] == 0])}\")\n",
    "print(f\"wind_gust: {len(weather_df[weather_df['wind_gust'] == 0])}\")\n",
    "print(f\"weather_cond_code: {len(weather_df[weather_df['weather_cond_code'] == 0])}\")"
   ]
  },
  {
   "cell_type": "markdown",
   "metadata": {},
   "source": [
    "### Look into weather_cond_code --> should DROP it!!!"
   ]
  },
  {
   "cell_type": "markdown",
   "metadata": {},
   "source": [
    "##### Wind cond code--> maybe na is supposed to be 0 which means 'no value': https://docs.synopticdata.com/services/weather-condition-codes"
   ]
  },
  {
   "cell_type": "code",
   "execution_count": null,
   "metadata": {},
   "outputs": [
    {
     "data": {
      "text/plain": [
       "<IntegerArray>\n",
       "[  <NA>,   2493,      6,     31,     13,   2481,    493,      9,   2489,\n",
       "   2494,      1,    733,   2497,     17,    751,  60093,      5,    737,\n",
       " 198485, 199445,     77,   2546,   2482,   1045,     14, 199525,   2558,\n",
       "    801,      7,    569,    494,     66,      8,   2485,   2557,    734,\n",
       "     78,    566,    591]\n",
       "Length: 39, dtype: Int64"
      ]
     },
     "execution_count": 36,
     "metadata": {},
     "output_type": "execute_result"
    }
   ],
   "source": [
    "# looking into unique values (have some that are out of normal weather condition codes)\n",
    "weather_df['weather_cond_code'].unique()"
   ]
  },
  {
   "cell_type": "markdown",
   "metadata": {},
   "source": [
    "### Check if wind direction being 0 correlates with wind speed as 0"
   ]
  },
  {
   "cell_type": "markdown",
   "metadata": {},
   "source": [
    "##### Yes--> so nulls in wind direction likely don't mean 0"
   ]
  },
  {
   "cell_type": "code",
   "execution_count": 37,
   "metadata": {},
   "outputs": [
    {
     "data": {
      "text/plain": [
       "wind_speed\n",
       "0.00    6723\n",
       "3.45       1\n",
       "Name: count, dtype: int64"
      ]
     },
     "execution_count": 37,
     "metadata": {},
     "output_type": "execute_result"
    }
   ],
   "source": [
    "# see wind speed values for wind_direction=0\n",
    "weather_df[weather_df['wind_direction'] == 0].wind_speed.value_counts()"
   ]
  },
  {
   "cell_type": "code",
   "execution_count": 38,
   "metadata": {},
   "outputs": [
    {
     "data": {
      "text/plain": [
       "wind_direction\n",
       "0.0    6723\n",
       "Name: count, dtype: int64"
      ]
     },
     "execution_count": 38,
     "metadata": {},
     "output_type": "execute_result"
    }
   ],
   "source": [
    "# see wind direction values for wind speed = 0\n",
    "weather_df[weather_df['wind_speed'] == 0].wind_direction.value_counts()"
   ]
  },
  {
   "cell_type": "code",
   "execution_count": null,
   "metadata": {},
   "outputs": [
    {
     "data": {
      "text/plain": [
       "wind_speed\n",
       "3.45    1192\n",
       "4.60     711\n",
       "5.75     374\n",
       "6.91     187\n",
       "3.44     100\n",
       "4.61      56\n",
       "Name: count, dtype: int64"
      ]
     },
     "execution_count": 48,
     "metadata": {},
     "output_type": "execute_result"
    }
   ],
   "source": [
    "# check if wind speed is 0 for any wind_direction\n",
    "weather_df[weather_df['wind_direction'].isna()].wind_speed.value_counts()"
   ]
  },
  {
   "cell_type": "markdown",
   "metadata": {},
   "source": [
    "### check cieling"
   ]
  },
  {
   "cell_type": "code",
   "execution_count": 40,
   "metadata": {},
   "outputs": [
    {
     "data": {
      "text/plain": [
       "Series([], Name: count, dtype: int64)"
      ]
     },
     "execution_count": 40,
     "metadata": {},
     "output_type": "execute_result"
    }
   ],
   "source": [
    "weather_df[weather_df['ceiling'] == 0].value_counts()"
   ]
  },
  {
   "cell_type": "code",
   "execution_count": 41,
   "metadata": {},
   "outputs": [
    {
     "data": {
      "text/html": [
       "<div>\n",
       "<style scoped>\n",
       "    .dataframe tbody tr th:only-of-type {\n",
       "        vertical-align: middle;\n",
       "    }\n",
       "\n",
       "    .dataframe tbody tr th {\n",
       "        vertical-align: top;\n",
       "    }\n",
       "\n",
       "    .dataframe thead th {\n",
       "        text-align: right;\n",
       "    }\n",
       "</style>\n",
       "<table border=\"1\" class=\"dataframe\">\n",
       "  <thead>\n",
       "    <tr style=\"text-align: right;\">\n",
       "      <th></th>\n",
       "      <th>Date</th>\n",
       "      <th>Time</th>\n",
       "      <th>precip_accum_one_hour</th>\n",
       "      <th>air_temp</th>\n",
       "      <th>relative_humidity</th>\n",
       "      <th>wind_speed</th>\n",
       "      <th>wind_direction</th>\n",
       "      <th>sea_level_pressure</th>\n",
       "      <th>visibility</th>\n",
       "      <th>weather_cond_code</th>\n",
       "      <th>wind_gust</th>\n",
       "      <th>precip_accum_six_hour</th>\n",
       "      <th>ceiling</th>\n",
       "      <th>dew_point_temperature</th>\n",
       "      <th>DateTime</th>\n",
       "      <th>Hour</th>\n",
       "    </tr>\n",
       "  </thead>\n",
       "  <tbody>\n",
       "    <tr>\n",
       "      <th>0</th>\n",
       "      <td>03/20/25</td>\n",
       "      <td>17:53</td>\n",
       "      <td>NaN</td>\n",
       "      <td>59.00</td>\n",
       "      <td>62.10</td>\n",
       "      <td>11.51</td>\n",
       "      <td>240.0</td>\n",
       "      <td>1017.2</td>\n",
       "      <td>10.0</td>\n",
       "      <td>&lt;NA&gt;</td>\n",
       "      <td>NaN</td>\n",
       "      <td>NaN</td>\n",
       "      <td>NaN</td>\n",
       "      <td>46.04</td>\n",
       "      <td>2025-03-20 17:53:00</td>\n",
       "      <td>18</td>\n",
       "    </tr>\n",
       "    <tr>\n",
       "      <th>1</th>\n",
       "      <td>03/20/25</td>\n",
       "      <td>16:53</td>\n",
       "      <td>NaN</td>\n",
       "      <td>60.98</td>\n",
       "      <td>51.51</td>\n",
       "      <td>13.81</td>\n",
       "      <td>240.0</td>\n",
       "      <td>1017.3</td>\n",
       "      <td>10.0</td>\n",
       "      <td>&lt;NA&gt;</td>\n",
       "      <td>NaN</td>\n",
       "      <td>NaN</td>\n",
       "      <td>NaN</td>\n",
       "      <td>42.98</td>\n",
       "      <td>2025-03-20 16:53:00</td>\n",
       "      <td>17</td>\n",
       "    </tr>\n",
       "    <tr>\n",
       "      <th>2</th>\n",
       "      <td>03/20/25</td>\n",
       "      <td>15:53</td>\n",
       "      <td>NaN</td>\n",
       "      <td>62.06</td>\n",
       "      <td>51.67</td>\n",
       "      <td>17.26</td>\n",
       "      <td>250.0</td>\n",
       "      <td>1017.7</td>\n",
       "      <td>10.0</td>\n",
       "      <td>&lt;NA&gt;</td>\n",
       "      <td>NaN</td>\n",
       "      <td>NaN</td>\n",
       "      <td>NaN</td>\n",
       "      <td>44.06</td>\n",
       "      <td>2025-03-20 15:53:00</td>\n",
       "      <td>16</td>\n",
       "    </tr>\n",
       "    <tr>\n",
       "      <th>3</th>\n",
       "      <td>03/20/25</td>\n",
       "      <td>14:53</td>\n",
       "      <td>NaN</td>\n",
       "      <td>62.96</td>\n",
       "      <td>50.06</td>\n",
       "      <td>13.81</td>\n",
       "      <td>260.0</td>\n",
       "      <td>1018.3</td>\n",
       "      <td>10.0</td>\n",
       "      <td>&lt;NA&gt;</td>\n",
       "      <td>NaN</td>\n",
       "      <td>NaN</td>\n",
       "      <td>NaN</td>\n",
       "      <td>44.06</td>\n",
       "      <td>2025-03-20 14:53:00</td>\n",
       "      <td>15</td>\n",
       "    </tr>\n",
       "    <tr>\n",
       "      <th>4</th>\n",
       "      <td>03/20/25</td>\n",
       "      <td>13:53</td>\n",
       "      <td>NaN</td>\n",
       "      <td>62.06</td>\n",
       "      <td>53.48</td>\n",
       "      <td>12.66</td>\n",
       "      <td>260.0</td>\n",
       "      <td>1018.9</td>\n",
       "      <td>10.0</td>\n",
       "      <td>&lt;NA&gt;</td>\n",
       "      <td>NaN</td>\n",
       "      <td>NaN</td>\n",
       "      <td>NaN</td>\n",
       "      <td>44.96</td>\n",
       "      <td>2025-03-20 13:53:00</td>\n",
       "      <td>14</td>\n",
       "    </tr>\n",
       "    <tr>\n",
       "      <th>...</th>\n",
       "      <td>...</td>\n",
       "      <td>...</td>\n",
       "      <td>...</td>\n",
       "      <td>...</td>\n",
       "      <td>...</td>\n",
       "      <td>...</td>\n",
       "      <td>...</td>\n",
       "      <td>...</td>\n",
       "      <td>...</td>\n",
       "      <td>...</td>\n",
       "      <td>...</td>\n",
       "      <td>...</td>\n",
       "      <td>...</td>\n",
       "      <td>...</td>\n",
       "      <td>...</td>\n",
       "      <td>...</td>\n",
       "    </tr>\n",
       "    <tr>\n",
       "      <th>53387</th>\n",
       "      <td>01/01/20</td>\n",
       "      <td>05:53</td>\n",
       "      <td>NaN</td>\n",
       "      <td>51.08</td>\n",
       "      <td>49.97</td>\n",
       "      <td>4.61</td>\n",
       "      <td>70.0</td>\n",
       "      <td>1017.7</td>\n",
       "      <td>10.0</td>\n",
       "      <td>&lt;NA&gt;</td>\n",
       "      <td>NaN</td>\n",
       "      <td>NaN</td>\n",
       "      <td>NaN</td>\n",
       "      <td>33.08</td>\n",
       "      <td>2020-01-01 05:53:00</td>\n",
       "      <td>6</td>\n",
       "    </tr>\n",
       "    <tr>\n",
       "      <th>53388</th>\n",
       "      <td>01/01/20</td>\n",
       "      <td>04:53</td>\n",
       "      <td>NaN</td>\n",
       "      <td>51.98</td>\n",
       "      <td>48.34</td>\n",
       "      <td>3.44</td>\n",
       "      <td>120.0</td>\n",
       "      <td>1017.6</td>\n",
       "      <td>10.0</td>\n",
       "      <td>&lt;NA&gt;</td>\n",
       "      <td>NaN</td>\n",
       "      <td>NaN</td>\n",
       "      <td>NaN</td>\n",
       "      <td>33.08</td>\n",
       "      <td>2020-01-01 04:53:00</td>\n",
       "      <td>5</td>\n",
       "    </tr>\n",
       "    <tr>\n",
       "      <th>53390</th>\n",
       "      <td>01/01/20</td>\n",
       "      <td>02:53</td>\n",
       "      <td>NaN</td>\n",
       "      <td>53.96</td>\n",
       "      <td>43.04</td>\n",
       "      <td>4.61</td>\n",
       "      <td>60.0</td>\n",
       "      <td>1017.9</td>\n",
       "      <td>10.0</td>\n",
       "      <td>&lt;NA&gt;</td>\n",
       "      <td>NaN</td>\n",
       "      <td>NaN</td>\n",
       "      <td>NaN</td>\n",
       "      <td>32.00</td>\n",
       "      <td>2020-01-01 02:53:00</td>\n",
       "      <td>3</td>\n",
       "    </tr>\n",
       "    <tr>\n",
       "      <th>53391</th>\n",
       "      <td>01/01/20</td>\n",
       "      <td>01:53</td>\n",
       "      <td>NaN</td>\n",
       "      <td>53.06</td>\n",
       "      <td>46.46</td>\n",
       "      <td>3.44</td>\n",
       "      <td>60.0</td>\n",
       "      <td>1017.8</td>\n",
       "      <td>10.0</td>\n",
       "      <td>&lt;NA&gt;</td>\n",
       "      <td>NaN</td>\n",
       "      <td>NaN</td>\n",
       "      <td>NaN</td>\n",
       "      <td>33.08</td>\n",
       "      <td>2020-01-01 01:53:00</td>\n",
       "      <td>2</td>\n",
       "    </tr>\n",
       "    <tr>\n",
       "      <th>53392</th>\n",
       "      <td>01/01/20</td>\n",
       "      <td>00:53</td>\n",
       "      <td>NaN</td>\n",
       "      <td>59.00</td>\n",
       "      <td>37.47</td>\n",
       "      <td>6.91</td>\n",
       "      <td>20.0</td>\n",
       "      <td>1017.2</td>\n",
       "      <td>10.0</td>\n",
       "      <td>&lt;NA&gt;</td>\n",
       "      <td>NaN</td>\n",
       "      <td>NaN</td>\n",
       "      <td>NaN</td>\n",
       "      <td>33.08</td>\n",
       "      <td>2020-01-01 00:53:00</td>\n",
       "      <td>1</td>\n",
       "    </tr>\n",
       "  </tbody>\n",
       "</table>\n",
       "<p>29105 rows × 16 columns</p>\n",
       "</div>"
      ],
      "text/plain": [
       "           Date   Time  precip_accum_one_hour  air_temp  relative_humidity  \\\n",
       "0      03/20/25  17:53                    NaN     59.00              62.10   \n",
       "1      03/20/25  16:53                    NaN     60.98              51.51   \n",
       "2      03/20/25  15:53                    NaN     62.06              51.67   \n",
       "3      03/20/25  14:53                    NaN     62.96              50.06   \n",
       "4      03/20/25  13:53                    NaN     62.06              53.48   \n",
       "...         ...    ...                    ...       ...                ...   \n",
       "53387  01/01/20  05:53                    NaN     51.08              49.97   \n",
       "53388  01/01/20  04:53                    NaN     51.98              48.34   \n",
       "53390  01/01/20  02:53                    NaN     53.96              43.04   \n",
       "53391  01/01/20  01:53                    NaN     53.06              46.46   \n",
       "53392  01/01/20  00:53                    NaN     59.00              37.47   \n",
       "\n",
       "       wind_speed  wind_direction  sea_level_pressure  visibility  \\\n",
       "0           11.51           240.0              1017.2        10.0   \n",
       "1           13.81           240.0              1017.3        10.0   \n",
       "2           17.26           250.0              1017.7        10.0   \n",
       "3           13.81           260.0              1018.3        10.0   \n",
       "4           12.66           260.0              1018.9        10.0   \n",
       "...           ...             ...                 ...         ...   \n",
       "53387        4.61            70.0              1017.7        10.0   \n",
       "53388        3.44           120.0              1017.6        10.0   \n",
       "53390        4.61            60.0              1017.9        10.0   \n",
       "53391        3.44            60.0              1017.8        10.0   \n",
       "53392        6.91            20.0              1017.2        10.0   \n",
       "\n",
       "       weather_cond_code  wind_gust  precip_accum_six_hour  ceiling  \\\n",
       "0                   <NA>        NaN                    NaN      NaN   \n",
       "1                   <NA>        NaN                    NaN      NaN   \n",
       "2                   <NA>        NaN                    NaN      NaN   \n",
       "3                   <NA>        NaN                    NaN      NaN   \n",
       "4                   <NA>        NaN                    NaN      NaN   \n",
       "...                  ...        ...                    ...      ...   \n",
       "53387               <NA>        NaN                    NaN      NaN   \n",
       "53388               <NA>        NaN                    NaN      NaN   \n",
       "53390               <NA>        NaN                    NaN      NaN   \n",
       "53391               <NA>        NaN                    NaN      NaN   \n",
       "53392               <NA>        NaN                    NaN      NaN   \n",
       "\n",
       "       dew_point_temperature            DateTime  Hour  \n",
       "0                      46.04 2025-03-20 17:53:00    18  \n",
       "1                      42.98 2025-03-20 16:53:00    17  \n",
       "2                      44.06 2025-03-20 15:53:00    16  \n",
       "3                      44.06 2025-03-20 14:53:00    15  \n",
       "4                      44.96 2025-03-20 13:53:00    14  \n",
       "...                      ...                 ...   ...  \n",
       "53387                  33.08 2020-01-01 05:53:00     6  \n",
       "53388                  33.08 2020-01-01 04:53:00     5  \n",
       "53390                  32.00 2020-01-01 02:53:00     3  \n",
       "53391                  33.08 2020-01-01 01:53:00     2  \n",
       "53392                  33.08 2020-01-01 00:53:00     1  \n",
       "\n",
       "[29105 rows x 16 columns]"
      ]
     },
     "execution_count": 41,
     "metadata": {},
     "output_type": "execute_result"
    }
   ],
   "source": [
    "weather_df[weather_df['ceiling'].isna()]"
   ]
  },
  {
   "cell_type": "markdown",
   "metadata": {},
   "source": [
    "## Handle Nulls\n",
    "---"
   ]
  },
  {
   "cell_type": "markdown",
   "metadata": {},
   "source": [
    "### Define function to fill nulls"
   ]
  },
  {
   "cell_type": "code",
   "execution_count": 51,
   "metadata": {},
   "outputs": [],
   "source": [
    "# fix nulls\n",
    "def fill_nulls(main_df):\n",
    "\n",
    "    # make a copy\n",
    "    df = main_df.copy()\n",
    "\n",
    "    # ------------------------------------\n",
    "    # Fill nulls that are supposed to be 0\n",
    "    # ------------------------------------\n",
    "    df['precip_accum_one_hour'] = df['precip_accum_one_hour'].fillna(0)\n",
    "    df['precip_accum_six_hour'] = df['precip_accum_six_hour'].fillna(0)\n",
    "    df['wind_gust'] = df['wind_gust'].fillna(0)\n",
    "\n",
    "    # ------------------------------------\n",
    "    # Drop col with too many nulls\n",
    "    # ------------------------------------\n",
    "    df = df.drop(columns=['weather_cond_code']).copy()\n",
    "\n",
    "    # return\n",
    "    return df"
   ]
  },
  {
   "cell_type": "code",
   "execution_count": 52,
   "metadata": {},
   "outputs": [
    {
     "name": "stdout",
     "output_type": "stream",
     "text": [
      "Number of rows: 53393\n"
     ]
    },
    {
     "data": {
      "text/plain": [
       "Date                         0\n",
       "Time                         0\n",
       "precip_accum_one_hour        0\n",
       "air_temp                     2\n",
       "relative_humidity            3\n",
       "wind_speed                  16\n",
       "wind_direction            2636\n",
       "sea_level_pressure        7871\n",
       "visibility                   7\n",
       "wind_gust                    0\n",
       "precip_accum_six_hour        0\n",
       "ceiling                  29105\n",
       "dew_point_temperature        9\n",
       "DateTime                     0\n",
       "Hour                         0\n",
       "dtype: int64"
      ]
     },
     "execution_count": 52,
     "metadata": {},
     "output_type": "execute_result"
    }
   ],
   "source": [
    "# apply\n",
    "weather2_df = fill_nulls(weather_df)\n",
    "print(f'Number of rows: {len(weather2_df)}')\n",
    "weather2_df.isna().sum()"
   ]
  },
  {
   "cell_type": "markdown",
   "metadata": {},
   "source": [
    "### Check nulls"
   ]
  },
  {
   "cell_type": "code",
   "execution_count": 83,
   "metadata": {},
   "outputs": [
    {
     "name": "stdout",
     "output_type": "stream",
     "text": [
      "Number of Date: 1906\n"
     ]
    },
    {
     "data": {
      "text/plain": [
       "[{'Column': 'ceiling', 'Null Date': 393, '% Null': 20.62}]"
      ]
     },
     "metadata": {},
     "output_type": "display_data"
    }
   ],
   "source": [
    "null_check(weather2_df, 'Date')"
   ]
  },
  {
   "cell_type": "code",
   "execution_count": 81,
   "metadata": {},
   "outputs": [
    {
     "name": "stdout",
     "output_type": "stream",
     "text": [
      "Number of ['Date', 'Hour']: 45606\n"
     ]
    },
    {
     "data": {
      "text/plain": [
       "[{'Column': 'ceiling', \"Null ['Date', 'Hour']\": 26976, '% Null': 59.15},\n",
       " {'Column': 'wind_direction', \"Null ['Date', 'Hour']\": 2020, '% Null': 4.43},\n",
       " {'Column': 'Hour', \"Null ['Date', 'Hour']\": 1901, '% Null': 4.17},\n",
       " {'Column': 'sea_level_pressure', \"Null ['Date', 'Hour']\": 90, '% Null': 0.2},\n",
       " {'Column': 'wind_speed', \"Null ['Date', 'Hour']\": 5, '% Null': 0.01},\n",
       " {'Column': 'relative_humidity', \"Null ['Date', 'Hour']\": 1, '% Null': 0.0},\n",
       " {'Column': 'visibility', \"Null ['Date', 'Hour']\": 2, '% Null': 0.0},\n",
       " {'Column': 'dew_point_temperature',\n",
       "  \"Null ['Date', 'Hour']\": 1,\n",
       "  '% Null': 0.0}]"
      ]
     },
     "metadata": {},
     "output_type": "display_data"
    }
   ],
   "source": [
    "null_check(weather2_df, ['Date', 'Hour'])"
   ]
  }
 ],
 "metadata": {
  "kernelspec": {
   "display_name": "base",
   "language": "python",
   "name": "python3"
  },
  "language_info": {
   "codemirror_mode": {
    "name": "ipython",
    "version": 3
   },
   "file_extension": ".py",
   "mimetype": "text/x-python",
   "name": "python",
   "nbconvert_exporter": "python",
   "pygments_lexer": "ipython3",
   "version": "3.12.4"
  }
 },
 "nbformat": 4,
 "nbformat_minor": 2
}
