{
 "cells": [
  {
   "cell_type": "markdown",
   "metadata": {},
   "source": [
    "## Setup"
   ]
  },
  {
   "cell_type": "code",
   "execution_count": 43,
   "metadata": {},
   "outputs": [],
   "source": [
    "# imports\n",
    "import os\n",
    "import zipfile\n",
    "import pandas as pd\n",
    "import numpy as np\n",
    "import glob as glob"
   ]
  },
  {
   "cell_type": "code",
   "execution_count": 44,
   "metadata": {},
   "outputs": [],
   "source": [
    "# function to open zipped file and read into df\n",
    "def unzip_to_df(zip_filepath, file_inside_zip, **read_csv_kwargs):\n",
    "    try:\n",
    "        with zipfile.ZipFile(zip_filepath, 'r') as z:\n",
    "            with z.open(file_inside_zip) as f:\n",
    "                df = pd.read_csv(f, dtype={'Manufacturer Code': str}, **read_csv_kwargs)\n",
    "        return df\n",
    "    except Exception as e:\n",
    "        print(f'Error occured: {e}')\n",
    "        return None"
   ]
  },
  {
   "cell_type": "code",
   "execution_count": 45,
   "metadata": {},
   "outputs": [],
   "source": [
    "# get df\n",
    "zip_path = '../Work/DB_Work/Output/flight_delays.zip'\n",
    "file_name = 'flight_delays.csv'\n",
    "\n",
    "delays_df = unzip_to_df(zip_path, file_name)"
   ]
  },
  {
   "cell_type": "code",
   "execution_count": 46,
   "metadata": {},
   "outputs": [
    {
     "data": {
      "text/html": [
       "<div>\n",
       "<style scoped>\n",
       "    .dataframe tbody tr th:only-of-type {\n",
       "        vertical-align: middle;\n",
       "    }\n",
       "\n",
       "    .dataframe tbody tr th {\n",
       "        vertical-align: top;\n",
       "    }\n",
       "\n",
       "    .dataframe thead th {\n",
       "        text-align: right;\n",
       "    }\n",
       "</style>\n",
       "<table border=\"1\" class=\"dataframe\">\n",
       "  <thead>\n",
       "    <tr style=\"text-align: right;\">\n",
       "      <th></th>\n",
       "      <th>Delay Bin</th>\n",
       "      <th>Departure Delay</th>\n",
       "      <th>Date</th>\n",
       "      <th>Year</th>\n",
       "      <th>Month</th>\n",
       "      <th>Day</th>\n",
       "      <th>Day of Week</th>\n",
       "      <th>Month (sin)</th>\n",
       "      <th>Month (cos)</th>\n",
       "      <th>Day (sin)</th>\n",
       "      <th>...</th>\n",
       "      <th>Air Temperature</th>\n",
       "      <th>Dew Point Temperature</th>\n",
       "      <th>Relative Humidity</th>\n",
       "      <th>Wind Speed</th>\n",
       "      <th>Wind Direction</th>\n",
       "      <th>Wind Gust</th>\n",
       "      <th>Visibility</th>\n",
       "      <th>Ceiling</th>\n",
       "      <th>Sea Level Pressure</th>\n",
       "      <th>Weather Condition Code</th>\n",
       "    </tr>\n",
       "  </thead>\n",
       "  <tbody>\n",
       "    <tr>\n",
       "      <th>0</th>\n",
       "      <td>Early</td>\n",
       "      <td>-2</td>\n",
       "      <td>01/01/2020</td>\n",
       "      <td>2020</td>\n",
       "      <td>1</td>\n",
       "      <td>1</td>\n",
       "      <td>2</td>\n",
       "      <td>0.5</td>\n",
       "      <td>0.866025</td>\n",
       "      <td>0.201299</td>\n",
       "      <td>...</td>\n",
       "      <td>57.02</td>\n",
       "      <td>33.08</td>\n",
       "      <td>40.23</td>\n",
       "      <td>5.75</td>\n",
       "      <td>80.0</td>\n",
       "      <td>0.0</td>\n",
       "      <td>10.0</td>\n",
       "      <td>NaN</td>\n",
       "      <td>1017.5</td>\n",
       "      <td>NaN</td>\n",
       "    </tr>\n",
       "    <tr>\n",
       "      <th>1</th>\n",
       "      <td>11-30 min</td>\n",
       "      <td>11</td>\n",
       "      <td>01/01/2020</td>\n",
       "      <td>2020</td>\n",
       "      <td>1</td>\n",
       "      <td>1</td>\n",
       "      <td>2</td>\n",
       "      <td>0.5</td>\n",
       "      <td>0.866025</td>\n",
       "      <td>0.201299</td>\n",
       "      <td>...</td>\n",
       "      <td>57.02</td>\n",
       "      <td>33.08</td>\n",
       "      <td>40.23</td>\n",
       "      <td>5.75</td>\n",
       "      <td>80.0</td>\n",
       "      <td>0.0</td>\n",
       "      <td>10.0</td>\n",
       "      <td>NaN</td>\n",
       "      <td>1017.5</td>\n",
       "      <td>NaN</td>\n",
       "    </tr>\n",
       "    <tr>\n",
       "      <th>2</th>\n",
       "      <td>31-60 min</td>\n",
       "      <td>45</td>\n",
       "      <td>01/01/2020</td>\n",
       "      <td>2020</td>\n",
       "      <td>1</td>\n",
       "      <td>1</td>\n",
       "      <td>2</td>\n",
       "      <td>0.5</td>\n",
       "      <td>0.866025</td>\n",
       "      <td>0.201299</td>\n",
       "      <td>...</td>\n",
       "      <td>57.02</td>\n",
       "      <td>33.08</td>\n",
       "      <td>40.23</td>\n",
       "      <td>5.75</td>\n",
       "      <td>80.0</td>\n",
       "      <td>0.0</td>\n",
       "      <td>10.0</td>\n",
       "      <td>NaN</td>\n",
       "      <td>1017.5</td>\n",
       "      <td>NaN</td>\n",
       "    </tr>\n",
       "    <tr>\n",
       "      <th>3</th>\n",
       "      <td>Early</td>\n",
       "      <td>-8</td>\n",
       "      <td>01/01/2020</td>\n",
       "      <td>2020</td>\n",
       "      <td>1</td>\n",
       "      <td>1</td>\n",
       "      <td>2</td>\n",
       "      <td>0.5</td>\n",
       "      <td>0.866025</td>\n",
       "      <td>0.201299</td>\n",
       "      <td>...</td>\n",
       "      <td>57.02</td>\n",
       "      <td>33.08</td>\n",
       "      <td>40.23</td>\n",
       "      <td>5.75</td>\n",
       "      <td>80.0</td>\n",
       "      <td>0.0</td>\n",
       "      <td>10.0</td>\n",
       "      <td>NaN</td>\n",
       "      <td>1017.5</td>\n",
       "      <td>NaN</td>\n",
       "    </tr>\n",
       "    <tr>\n",
       "      <th>4</th>\n",
       "      <td>Early</td>\n",
       "      <td>-11</td>\n",
       "      <td>01/01/2020</td>\n",
       "      <td>2020</td>\n",
       "      <td>1</td>\n",
       "      <td>1</td>\n",
       "      <td>2</td>\n",
       "      <td>0.5</td>\n",
       "      <td>0.866025</td>\n",
       "      <td>0.201299</td>\n",
       "      <td>...</td>\n",
       "      <td>57.02</td>\n",
       "      <td>33.08</td>\n",
       "      <td>40.23</td>\n",
       "      <td>5.75</td>\n",
       "      <td>80.0</td>\n",
       "      <td>0.0</td>\n",
       "      <td>10.0</td>\n",
       "      <td>NaN</td>\n",
       "      <td>1017.5</td>\n",
       "      <td>NaN</td>\n",
       "    </tr>\n",
       "  </tbody>\n",
       "</table>\n",
       "<p>5 rows × 48 columns</p>\n",
       "</div>"
      ],
      "text/plain": [
       "   Delay Bin  Departure Delay        Date  Year  Month  Day  Day of Week  \\\n",
       "0      Early               -2  01/01/2020  2020      1    1            2   \n",
       "1  11-30 min               11  01/01/2020  2020      1    1            2   \n",
       "2  31-60 min               45  01/01/2020  2020      1    1            2   \n",
       "3      Early               -8  01/01/2020  2020      1    1            2   \n",
       "4      Early              -11  01/01/2020  2020      1    1            2   \n",
       "\n",
       "   Month (sin)  Month (cos)  Day (sin)  ...  Air Temperature  \\\n",
       "0          0.5     0.866025   0.201299  ...            57.02   \n",
       "1          0.5     0.866025   0.201299  ...            57.02   \n",
       "2          0.5     0.866025   0.201299  ...            57.02   \n",
       "3          0.5     0.866025   0.201299  ...            57.02   \n",
       "4          0.5     0.866025   0.201299  ...            57.02   \n",
       "\n",
       "   Dew Point Temperature  Relative Humidity  Wind Speed Wind Direction  \\\n",
       "0                  33.08              40.23        5.75           80.0   \n",
       "1                  33.08              40.23        5.75           80.0   \n",
       "2                  33.08              40.23        5.75           80.0   \n",
       "3                  33.08              40.23        5.75           80.0   \n",
       "4                  33.08              40.23        5.75           80.0   \n",
       "\n",
       "  Wind Gust  Visibility  Ceiling Sea Level Pressure  Weather Condition Code  \n",
       "0       0.0        10.0      NaN             1017.5                     NaN  \n",
       "1       0.0        10.0      NaN             1017.5                     NaN  \n",
       "2       0.0        10.0      NaN             1017.5                     NaN  \n",
       "3       0.0        10.0      NaN             1017.5                     NaN  \n",
       "4       0.0        10.0      NaN             1017.5                     NaN  \n",
       "\n",
       "[5 rows x 48 columns]"
      ]
     },
     "execution_count": 46,
     "metadata": {},
     "output_type": "execute_result"
    }
   ],
   "source": [
    "# display\n",
    "delays_df.head()"
   ]
  },
  {
   "cell_type": "markdown",
   "metadata": {},
   "source": [
    "# Start Airport\n",
    "---"
   ]
  },
  {
   "cell_type": "code",
   "execution_count": 47,
   "metadata": {},
   "outputs": [
    {
     "data": {
      "text/html": [
       "<div>\n",
       "<style scoped>\n",
       "    .dataframe tbody tr th:only-of-type {\n",
       "        vertical-align: middle;\n",
       "    }\n",
       "\n",
       "    .dataframe tbody tr th {\n",
       "        vertical-align: top;\n",
       "    }\n",
       "\n",
       "    .dataframe thead th {\n",
       "        text-align: right;\n",
       "    }\n",
       "</style>\n",
       "<table border=\"1\" class=\"dataframe\">\n",
       "  <thead>\n",
       "    <tr style=\"text-align: right;\">\n",
       "      <th></th>\n",
       "      <th>Date</th>\n",
       "      <th>Time</th>\n",
       "      <th>date_time</th>\n",
       "      <th>precip_accum_one_hour</th>\n",
       "      <th>air_temp</th>\n",
       "      <th>relative_humidity</th>\n",
       "      <th>wind_speed</th>\n",
       "      <th>wind_direction</th>\n",
       "      <th>sea_level_pressure</th>\n",
       "      <th>visibility</th>\n",
       "      <th>weather_cond_code</th>\n",
       "      <th>wind_gust</th>\n",
       "      <th>precip_accum_six_hour</th>\n",
       "      <th>ceiling</th>\n",
       "      <th>dew_point_temperature</th>\n",
       "    </tr>\n",
       "  </thead>\n",
       "  <tbody>\n",
       "    <tr>\n",
       "      <th>0</th>\n",
       "      <td>03/20/25</td>\n",
       "      <td>17:53</td>\n",
       "      <td>03/20/25-17:53</td>\n",
       "      <td>NaN</td>\n",
       "      <td>59.00</td>\n",
       "      <td>62.10</td>\n",
       "      <td>11.51</td>\n",
       "      <td>240.0</td>\n",
       "      <td>1017.2</td>\n",
       "      <td>10.0</td>\n",
       "      <td>&lt;NA&gt;</td>\n",
       "      <td>NaN</td>\n",
       "      <td>NaN</td>\n",
       "      <td>&lt;NA&gt;</td>\n",
       "      <td>46.04</td>\n",
       "    </tr>\n",
       "    <tr>\n",
       "      <th>1</th>\n",
       "      <td>03/20/25</td>\n",
       "      <td>16:53</td>\n",
       "      <td>03/20/25-16:53</td>\n",
       "      <td>NaN</td>\n",
       "      <td>60.98</td>\n",
       "      <td>51.51</td>\n",
       "      <td>13.81</td>\n",
       "      <td>240.0</td>\n",
       "      <td>1017.3</td>\n",
       "      <td>10.0</td>\n",
       "      <td>&lt;NA&gt;</td>\n",
       "      <td>NaN</td>\n",
       "      <td>NaN</td>\n",
       "      <td>&lt;NA&gt;</td>\n",
       "      <td>42.98</td>\n",
       "    </tr>\n",
       "    <tr>\n",
       "      <th>2</th>\n",
       "      <td>03/20/25</td>\n",
       "      <td>15:53</td>\n",
       "      <td>03/20/25-15:53</td>\n",
       "      <td>NaN</td>\n",
       "      <td>62.06</td>\n",
       "      <td>51.67</td>\n",
       "      <td>17.26</td>\n",
       "      <td>250.0</td>\n",
       "      <td>1017.7</td>\n",
       "      <td>10.0</td>\n",
       "      <td>&lt;NA&gt;</td>\n",
       "      <td>NaN</td>\n",
       "      <td>NaN</td>\n",
       "      <td>&lt;NA&gt;</td>\n",
       "      <td>44.06</td>\n",
       "    </tr>\n",
       "    <tr>\n",
       "      <th>3</th>\n",
       "      <td>03/20/25</td>\n",
       "      <td>14:53</td>\n",
       "      <td>03/20/25-14:53</td>\n",
       "      <td>NaN</td>\n",
       "      <td>62.96</td>\n",
       "      <td>50.06</td>\n",
       "      <td>13.81</td>\n",
       "      <td>260.0</td>\n",
       "      <td>1018.3</td>\n",
       "      <td>10.0</td>\n",
       "      <td>&lt;NA&gt;</td>\n",
       "      <td>NaN</td>\n",
       "      <td>NaN</td>\n",
       "      <td>&lt;NA&gt;</td>\n",
       "      <td>44.06</td>\n",
       "    </tr>\n",
       "    <tr>\n",
       "      <th>4</th>\n",
       "      <td>03/20/25</td>\n",
       "      <td>13:53</td>\n",
       "      <td>03/20/25-13:53</td>\n",
       "      <td>NaN</td>\n",
       "      <td>62.06</td>\n",
       "      <td>53.48</td>\n",
       "      <td>12.66</td>\n",
       "      <td>260.0</td>\n",
       "      <td>1018.9</td>\n",
       "      <td>10.0</td>\n",
       "      <td>&lt;NA&gt;</td>\n",
       "      <td>NaN</td>\n",
       "      <td>NaN</td>\n",
       "      <td>&lt;NA&gt;</td>\n",
       "      <td>44.96</td>\n",
       "    </tr>\n",
       "  </tbody>\n",
       "</table>\n",
       "</div>"
      ],
      "text/plain": [
       "       Date   Time       date_time  precip_accum_one_hour  air_temp  \\\n",
       "0  03/20/25  17:53  03/20/25-17:53                    NaN     59.00   \n",
       "1  03/20/25  16:53  03/20/25-16:53                    NaN     60.98   \n",
       "2  03/20/25  15:53  03/20/25-15:53                    NaN     62.06   \n",
       "3  03/20/25  14:53  03/20/25-14:53                    NaN     62.96   \n",
       "4  03/20/25  13:53  03/20/25-13:53                    NaN     62.06   \n",
       "\n",
       "   relative_humidity  wind_speed  wind_direction  sea_level_pressure  \\\n",
       "0              62.10       11.51           240.0              1017.2   \n",
       "1              51.51       13.81           240.0              1017.3   \n",
       "2              51.67       17.26           250.0              1017.7   \n",
       "3              50.06       13.81           260.0              1018.3   \n",
       "4              53.48       12.66           260.0              1018.9   \n",
       "\n",
       "   visibility  weather_cond_code  wind_gust  precip_accum_six_hour  ceiling  \\\n",
       "0        10.0               <NA>        NaN                    NaN     <NA>   \n",
       "1        10.0               <NA>        NaN                    NaN     <NA>   \n",
       "2        10.0               <NA>        NaN                    NaN     <NA>   \n",
       "3        10.0               <NA>        NaN                    NaN     <NA>   \n",
       "4        10.0               <NA>        NaN                    NaN     <NA>   \n",
       "\n",
       "   dew_point_temperature  \n",
       "0                  46.04  \n",
       "1                  42.98  \n",
       "2                  44.06  \n",
       "3                  44.06  \n",
       "4                  44.96  "
      ]
     },
     "execution_count": 47,
     "metadata": {},
     "output_type": "execute_result"
    }
   ],
   "source": [
    "# get weather df\n",
    "weather_path = '../Work/DB_Work/Data/Weather/LAX_KLAX_1997-2025.csv'\n",
    "weather_df = pd.read_csv(\n",
    "    weather_path,\n",
    "    usecols=[\n",
    "        'Date', 'Time','date_time', 'precip_accum_one_hour', 'precip_accum_six_hour', 'air_temp', 'dew_point_temperature', \n",
    "        'relative_humidity', 'wind_speed', 'wind_direction', 'wind_gust', 'visibility', 'ceiling', 'sea_level_pressure', \n",
    "        'weather_cond_code'\n",
    "    ],\n",
    "    dtype={\n",
    "        'weather_cond_code': 'Int64',\n",
    "        'ceiling': 'Int64'\n",
    "    }  #make sure it gets read as nullable int type\n",
    ")\n",
    "# display\n",
    "weather_df.head()"
   ]
  },
  {
   "cell_type": "markdown",
   "metadata": {},
   "source": [
    "## Data Check\n",
    "---"
   ]
  },
  {
   "cell_type": "markdown",
   "metadata": {},
   "source": [
    "### Data types"
   ]
  },
  {
   "cell_type": "code",
   "execution_count": 48,
   "metadata": {},
   "outputs": [
    {
     "data": {
      "text/plain": [
       "Date                      object\n",
       "Time                      object\n",
       "date_time                 object\n",
       "precip_accum_one_hour    float64\n",
       "air_temp                 float64\n",
       "relative_humidity        float64\n",
       "wind_speed               float64\n",
       "wind_direction           float64\n",
       "sea_level_pressure       float64\n",
       "visibility               float64\n",
       "weather_cond_code          Int64\n",
       "wind_gust                float64\n",
       "precip_accum_six_hour    float64\n",
       "ceiling                    Int64\n",
       "dew_point_temperature    float64\n",
       "dtype: object"
      ]
     },
     "execution_count": 48,
     "metadata": {},
     "output_type": "execute_result"
    }
   ],
   "source": [
    "# data types\n",
    "weather_df.dtypes"
   ]
  },
  {
   "cell_type": "code",
   "execution_count": 49,
   "metadata": {},
   "outputs": [
    {
     "data": {
      "text/html": [
       "<div>\n",
       "<style scoped>\n",
       "    .dataframe tbody tr th:only-of-type {\n",
       "        vertical-align: middle;\n",
       "    }\n",
       "\n",
       "    .dataframe tbody tr th {\n",
       "        vertical-align: top;\n",
       "    }\n",
       "\n",
       "    .dataframe thead th {\n",
       "        text-align: right;\n",
       "    }\n",
       "</style>\n",
       "<table border=\"1\" class=\"dataframe\">\n",
       "  <thead>\n",
       "    <tr style=\"text-align: right;\">\n",
       "      <th></th>\n",
       "      <th>Date</th>\n",
       "      <th>Time</th>\n",
       "      <th>precip_accum_one_hour</th>\n",
       "      <th>air_temp</th>\n",
       "      <th>relative_humidity</th>\n",
       "      <th>wind_speed</th>\n",
       "      <th>wind_direction</th>\n",
       "      <th>sea_level_pressure</th>\n",
       "      <th>visibility</th>\n",
       "      <th>weather_cond_code</th>\n",
       "      <th>wind_gust</th>\n",
       "      <th>precip_accum_six_hour</th>\n",
       "      <th>ceiling</th>\n",
       "      <th>dew_point_temperature</th>\n",
       "      <th>DateTime</th>\n",
       "      <th>Hour</th>\n",
       "    </tr>\n",
       "  </thead>\n",
       "  <tbody>\n",
       "    <tr>\n",
       "      <th>0</th>\n",
       "      <td>03/20/25</td>\n",
       "      <td>17:53</td>\n",
       "      <td>NaN</td>\n",
       "      <td>59.00</td>\n",
       "      <td>62.10</td>\n",
       "      <td>11.51</td>\n",
       "      <td>240.0</td>\n",
       "      <td>1017.2</td>\n",
       "      <td>10.0</td>\n",
       "      <td>&lt;NA&gt;</td>\n",
       "      <td>NaN</td>\n",
       "      <td>NaN</td>\n",
       "      <td>&lt;NA&gt;</td>\n",
       "      <td>46.04</td>\n",
       "      <td>2025-03-20 17:53:00</td>\n",
       "      <td>18</td>\n",
       "    </tr>\n",
       "    <tr>\n",
       "      <th>1</th>\n",
       "      <td>03/20/25</td>\n",
       "      <td>16:53</td>\n",
       "      <td>NaN</td>\n",
       "      <td>60.98</td>\n",
       "      <td>51.51</td>\n",
       "      <td>13.81</td>\n",
       "      <td>240.0</td>\n",
       "      <td>1017.3</td>\n",
       "      <td>10.0</td>\n",
       "      <td>&lt;NA&gt;</td>\n",
       "      <td>NaN</td>\n",
       "      <td>NaN</td>\n",
       "      <td>&lt;NA&gt;</td>\n",
       "      <td>42.98</td>\n",
       "      <td>2025-03-20 16:53:00</td>\n",
       "      <td>17</td>\n",
       "    </tr>\n",
       "    <tr>\n",
       "      <th>2</th>\n",
       "      <td>03/20/25</td>\n",
       "      <td>15:53</td>\n",
       "      <td>NaN</td>\n",
       "      <td>62.06</td>\n",
       "      <td>51.67</td>\n",
       "      <td>17.26</td>\n",
       "      <td>250.0</td>\n",
       "      <td>1017.7</td>\n",
       "      <td>10.0</td>\n",
       "      <td>&lt;NA&gt;</td>\n",
       "      <td>NaN</td>\n",
       "      <td>NaN</td>\n",
       "      <td>&lt;NA&gt;</td>\n",
       "      <td>44.06</td>\n",
       "      <td>2025-03-20 15:53:00</td>\n",
       "      <td>16</td>\n",
       "    </tr>\n",
       "    <tr>\n",
       "      <th>3</th>\n",
       "      <td>03/20/25</td>\n",
       "      <td>14:53</td>\n",
       "      <td>NaN</td>\n",
       "      <td>62.96</td>\n",
       "      <td>50.06</td>\n",
       "      <td>13.81</td>\n",
       "      <td>260.0</td>\n",
       "      <td>1018.3</td>\n",
       "      <td>10.0</td>\n",
       "      <td>&lt;NA&gt;</td>\n",
       "      <td>NaN</td>\n",
       "      <td>NaN</td>\n",
       "      <td>&lt;NA&gt;</td>\n",
       "      <td>44.06</td>\n",
       "      <td>2025-03-20 14:53:00</td>\n",
       "      <td>15</td>\n",
       "    </tr>\n",
       "    <tr>\n",
       "      <th>4</th>\n",
       "      <td>03/20/25</td>\n",
       "      <td>13:53</td>\n",
       "      <td>NaN</td>\n",
       "      <td>62.06</td>\n",
       "      <td>53.48</td>\n",
       "      <td>12.66</td>\n",
       "      <td>260.0</td>\n",
       "      <td>1018.9</td>\n",
       "      <td>10.0</td>\n",
       "      <td>&lt;NA&gt;</td>\n",
       "      <td>NaN</td>\n",
       "      <td>NaN</td>\n",
       "      <td>&lt;NA&gt;</td>\n",
       "      <td>44.96</td>\n",
       "      <td>2025-03-20 13:53:00</td>\n",
       "      <td>14</td>\n",
       "    </tr>\n",
       "  </tbody>\n",
       "</table>\n",
       "</div>"
      ],
      "text/plain": [
       "       Date   Time  precip_accum_one_hour  air_temp  relative_humidity  \\\n",
       "0  03/20/25  17:53                    NaN     59.00              62.10   \n",
       "1  03/20/25  16:53                    NaN     60.98              51.51   \n",
       "2  03/20/25  15:53                    NaN     62.06              51.67   \n",
       "3  03/20/25  14:53                    NaN     62.96              50.06   \n",
       "4  03/20/25  13:53                    NaN     62.06              53.48   \n",
       "\n",
       "   wind_speed  wind_direction  sea_level_pressure  visibility  \\\n",
       "0       11.51           240.0              1017.2        10.0   \n",
       "1       13.81           240.0              1017.3        10.0   \n",
       "2       17.26           250.0              1017.7        10.0   \n",
       "3       13.81           260.0              1018.3        10.0   \n",
       "4       12.66           260.0              1018.9        10.0   \n",
       "\n",
       "   weather_cond_code  wind_gust  precip_accum_six_hour  ceiling  \\\n",
       "0               <NA>        NaN                    NaN     <NA>   \n",
       "1               <NA>        NaN                    NaN     <NA>   \n",
       "2               <NA>        NaN                    NaN     <NA>   \n",
       "3               <NA>        NaN                    NaN     <NA>   \n",
       "4               <NA>        NaN                    NaN     <NA>   \n",
       "\n",
       "   dew_point_temperature            DateTime  Hour  \n",
       "0                  46.04 2025-03-20 17:53:00    18  \n",
       "1                  42.98 2025-03-20 16:53:00    17  \n",
       "2                  44.06 2025-03-20 15:53:00    16  \n",
       "3                  44.06 2025-03-20 14:53:00    15  \n",
       "4                  44.96 2025-03-20 13:53:00    14  "
      ]
     },
     "execution_count": 49,
     "metadata": {},
     "output_type": "execute_result"
    }
   ],
   "source": [
    "# create datetime col and remove old one\n",
    "weather_df['DateTime'] = pd.to_datetime(weather_df['date_time'], format='%m/%d/%y-%H:%M')\n",
    "weather_df['Hour'] = pd.to_datetime(weather_df['Time'], format='%H:%M').dt.round('h').dt.hour\n",
    "weather_df = weather_df.drop(columns=['date_time']).copy()\n",
    "\n",
    "# display\n",
    "weather_df.head()"
   ]
  },
  {
   "cell_type": "markdown",
   "metadata": {},
   "source": [
    "### Remove old dates"
   ]
  },
  {
   "cell_type": "code",
   "execution_count": 50,
   "metadata": {},
   "outputs": [],
   "source": [
    "# filter out old dates\n",
    "yr_threshold = 2019\n",
    "weather_df = weather_df[weather_df['DateTime'].dt.year >= yr_threshold].copy()"
   ]
  },
  {
   "cell_type": "markdown",
   "metadata": {},
   "source": [
    "### Check nulls"
   ]
  },
  {
   "cell_type": "code",
   "execution_count": 51,
   "metadata": {},
   "outputs": [
    {
     "name": "stdout",
     "output_type": "stream",
     "text": [
      "Number of rows: 63383\n"
     ]
    },
    {
     "data": {
      "text/plain": [
       "Date                         0\n",
       "Time                         0\n",
       "precip_accum_one_hour    59529\n",
       "air_temp                     2\n",
       "relative_humidity            3\n",
       "wind_speed                  19\n",
       "wind_direction            3218\n",
       "sea_level_pressure        9135\n",
       "visibility                   7\n",
       "weather_cond_code        51899\n",
       "wind_gust                61345\n",
       "precip_accum_six_hour    62682\n",
       "ceiling                  34422\n",
       "dew_point_temperature        9\n",
       "DateTime                     0\n",
       "Hour                         0\n",
       "dtype: int64"
      ]
     },
     "execution_count": 51,
     "metadata": {},
     "output_type": "execute_result"
    }
   ],
   "source": [
    "# check nulls and len\n",
    "print(f'Number of rows: {len(weather_df)}')\n",
    "weather_df.isna().sum()"
   ]
  },
  {
   "cell_type": "markdown",
   "metadata": {},
   "source": [
    "## Analyzing nulls\n",
    "---"
   ]
  },
  {
   "cell_type": "markdown",
   "metadata": {},
   "source": [
    "### Check if nulls cover large ranges"
   ]
  },
  {
   "cell_type": "code",
   "execution_count": 52,
   "metadata": {},
   "outputs": [],
   "source": [
    "# function to check nulls per col depending on date group\n",
    "def null_check(main_df, date_grp_cols):\n",
    "    # copy df\n",
    "    df = main_df.copy()\n",
    "\n",
    "    # groupby day--> see if there are still nulls for that entire day\n",
    "    null_check_df = df.groupby(date_grp_cols).count()\n",
    "\n",
    "    # display if which columns don't have a single value for a year (count)\n",
    "    columns = list(null_check_df.columns)\n",
    "    null_col_cnt = []\n",
    "    for col in columns:\n",
    "        null_time = len(null_check_df[null_check_df[col] == 0])\n",
    "\n",
    "        # only add columns that have nulls\n",
    "        if null_time > 0:\n",
    "            null_dict = {\n",
    "                'Column': col,\n",
    "                f'Null {date_grp_cols}': null_time,\n",
    "                '% Null': round(null_time/len(null_check_df) * 100, 2)\n",
    "            }\n",
    "        \n",
    "            null_col_cnt.append(null_dict)\n",
    "    \n",
    "    # sort by % null\n",
    "    sorted_null_cnt = sorted(null_col_cnt, key=lambda x: x['% Null'], reverse=True)\n",
    "\n",
    "    # display\n",
    "    print(f'Number of {date_grp_cols}: {len(null_check_df)}')\n",
    "\n",
    "    # return\n",
    "    return sorted_null_cnt"
   ]
  },
  {
   "cell_type": "markdown",
   "metadata": {},
   "source": [
    "##### Checking if there any valid column values for the entire day"
   ]
  },
  {
   "cell_type": "code",
   "execution_count": 53,
   "metadata": {},
   "outputs": [
    {
     "name": "stdout",
     "output_type": "stream",
     "text": [
      "Number of Date: 2271\n"
     ]
    },
    {
     "data": {
      "text/plain": [
       "[{'Column': 'precip_accum_six_hour', 'Null Date': 1918, '% Null': 84.46},\n",
       " {'Column': 'precip_accum_one_hour', 'Null Date': 1909, '% Null': 84.06},\n",
       " {'Column': 'wind_gust', 'Null Date': 1612, '% Null': 70.98},\n",
       " {'Column': 'weather_cond_code', 'Null Date': 1278, '% Null': 56.27},\n",
       " {'Column': 'ceiling', 'Null Date': 465, '% Null': 20.48}]"
      ]
     },
     "execution_count": 53,
     "metadata": {},
     "output_type": "execute_result"
    }
   ],
   "source": [
    "null_check(weather_df, 'Date')"
   ]
  },
  {
   "cell_type": "markdown",
   "metadata": {},
   "source": [
    "##### Checking if there any valid column values for each hour per day"
   ]
  },
  {
   "cell_type": "code",
   "execution_count": 54,
   "metadata": {},
   "outputs": [
    {
     "name": "stdout",
     "output_type": "stream",
     "text": [
      "Number of ['Date', 'Hour']: 54350\n"
     ]
    },
    {
     "data": {
      "text/plain": [
       "[{'Column': 'precip_accum_six_hour',\n",
       "  \"Null ['Date', 'Hour']\": 53649,\n",
       "  '% Null': 98.71},\n",
       " {'Column': 'wind_gust', \"Null ['Date', 'Hour']\": 52534, '% Null': 96.66},\n",
       " {'Column': 'precip_accum_one_hour',\n",
       "  \"Null ['Date', 'Hour']\": 52008,\n",
       "  '% Null': 95.69},\n",
       " {'Column': 'weather_cond_code',\n",
       "  \"Null ['Date', 'Hour']\": 47070,\n",
       "  '% Null': 86.61},\n",
       " {'Column': 'ceiling', \"Null ['Date', 'Hour']\": 31962, '% Null': 58.81},\n",
       " {'Column': 'wind_direction', \"Null ['Date', 'Hour']\": 2501, '% Null': 4.6},\n",
       " {'Column': 'sea_level_pressure', \"Null ['Date', 'Hour']\": 110, '% Null': 0.2},\n",
       " {'Column': 'wind_speed', \"Null ['Date', 'Hour']\": 5, '% Null': 0.01},\n",
       " {'Column': 'relative_humidity', \"Null ['Date', 'Hour']\": 1, '% Null': 0.0},\n",
       " {'Column': 'visibility', \"Null ['Date', 'Hour']\": 2, '% Null': 0.0},\n",
       " {'Column': 'dew_point_temperature',\n",
       "  \"Null ['Date', 'Hour']\": 1,\n",
       "  '% Null': 0.0}]"
      ]
     },
     "execution_count": 54,
     "metadata": {},
     "output_type": "execute_result"
    }
   ],
   "source": [
    "null_check(weather_df, ['Date', 'Hour'])"
   ]
  },
  {
   "cell_type": "markdown",
   "metadata": {},
   "source": [
    "### Check if nulls mean 0 --> **precip_accum** and **wind_gust** are null are likely 0"
   ]
  },
  {
   "cell_type": "code",
   "execution_count": 55,
   "metadata": {},
   "outputs": [
    {
     "name": "stdout",
     "output_type": "stream",
     "text": [
      "precip_accum_one_hour: 0\n",
      "precip_accum_six_hour: 0\n",
      "ceiling: 56\n",
      "wind_direction: 7847\n",
      "wind_gust: 0\n",
      "weather_cond_code: 0\n"
     ]
    }
   ],
   "source": [
    "# check for following columns if 0 ever shows up \n",
    "print(f\"precip_accum_one_hour: {len(weather_df[weather_df['precip_accum_one_hour'] == 0])}\")\n",
    "print(f\"precip_accum_six_hour: {len(weather_df[weather_df['precip_accum_six_hour'] == 0])}\")\n",
    "print(f\"ceiling: {len(weather_df[weather_df['ceiling'] == 0])}\")\n",
    "print(f\"wind_direction: {len(weather_df[weather_df['wind_direction'] == 0])}\")\n",
    "print(f\"wind_gust: {len(weather_df[weather_df['wind_gust'] == 0])}\")\n",
    "print(f\"weather_cond_code: {len(weather_df[weather_df['weather_cond_code'] == 0])}\")"
   ]
  },
  {
   "cell_type": "markdown",
   "metadata": {},
   "source": [
    "### Look into **weather_cond_code** --> should DROP it!!!"
   ]
  },
  {
   "cell_type": "markdown",
   "metadata": {},
   "source": [
    "##### Wind cond code--> maybe na is supposed to be 0 which means 'no value': https://docs.synopticdata.com/services/weather-condition-codes"
   ]
  },
  {
   "cell_type": "code",
   "execution_count": 56,
   "metadata": {},
   "outputs": [
    {
     "data": {
      "text/plain": [
       "<IntegerArray>\n",
       "[  <NA>,   2493,      6,     31,     13,   2481,    493,      9,   2489,\n",
       "   2494,      1,    733,   2497,     17,    751,  60093,      5,    737,\n",
       " 198485, 199445,     77,   2546,   2482,   1045,     14, 199525,   2558,\n",
       "    801,      7,    569,    494,     66,      8,   2485,   2557,    734,\n",
       "     78,    566,    591,     85]\n",
       "Length: 40, dtype: Int64"
      ]
     },
     "execution_count": 56,
     "metadata": {},
     "output_type": "execute_result"
    }
   ],
   "source": [
    "# looking into unique values (have some that are out of normal weather condition codes)\n",
    "weather_df['weather_cond_code'].unique()"
   ]
  },
  {
   "cell_type": "markdown",
   "metadata": {},
   "source": [
    "### Check **ceiling**--> correlation with visibility"
   ]
  },
  {
   "cell_type": "markdown",
   "metadata": {},
   "source": [
    "##### Ceiling = 0 seems to correlate with lower visibility range but null ceiling values are often quite high (may be above detection range)\n",
    "- nulls can mean \"unlimited/very high ceiling\" --> indicating low chance of weather related delays"
   ]
  },
  {
   "cell_type": "code",
   "execution_count": 57,
   "metadata": {},
   "outputs": [
    {
     "data": {
      "text/plain": [
       "visibility\n",
       "0.50    21\n",
       "0.25    14\n",
       "0.12     6\n",
       "1.00     4\n",
       "1.50     3\n",
       "8.00     3\n",
       "0.75     2\n",
       "0.06     1\n",
       "1.75     1\n",
       "2.00     1\n",
       "Name: count, dtype: int64"
      ]
     },
     "execution_count": 57,
     "metadata": {},
     "output_type": "execute_result"
    }
   ],
   "source": [
    "# check visibility for ceiling = 0\n",
    "weather_df[weather_df['ceiling'] == 0].visibility.value_counts()"
   ]
  },
  {
   "cell_type": "code",
   "execution_count": 58,
   "metadata": {},
   "outputs": [
    {
     "data": {
      "text/plain": [
       "visibility\n",
       "10.00    29000\n",
       "9.00      1668\n",
       "8.00      1195\n",
       "7.00       848\n",
       "6.00       589\n",
       "5.00       394\n",
       "4.00       215\n",
       "3.00       194\n",
       "2.50        85\n",
       "2.00        59\n",
       "1.50        41\n",
       "1.00        30\n",
       "0.75        27\n",
       "0.50        26\n",
       "0.25        18\n",
       "1.25        14\n",
       "1.75        11\n",
       "15.00        1\n",
       "3.50         1\n",
       "0.12         1\n",
       "Name: count, dtype: int64"
      ]
     },
     "execution_count": 58,
     "metadata": {},
     "output_type": "execute_result"
    }
   ],
   "source": [
    "# check visibility for ceiling is null\n",
    "weather_df[weather_df['ceiling'].isna()].visibility.value_counts()"
   ]
  },
  {
   "cell_type": "markdown",
   "metadata": {},
   "source": [
    "### Check if **wind_direction** being null correlates with wind strength (wind_speed, wind_gust)"
   ]
  },
  {
   "cell_type": "markdown",
   "metadata": {},
   "source": [
    "##### Wind gust --> not much of a pattern"
   ]
  },
  {
   "cell_type": "code",
   "execution_count": 59,
   "metadata": {},
   "outputs": [
    {
     "data": {
      "text/plain": [
       "wind_gust\n",
       "17.26    7\n",
       "18.41    3\n",
       "16.11    3\n",
       "20.71    2\n",
       "21.86    2\n",
       "19.56    1\n",
       "Name: count, dtype: int64"
      ]
     },
     "execution_count": 59,
     "metadata": {},
     "output_type": "execute_result"
    }
   ],
   "source": [
    "# wind_direction is null--> see wind gust values\n",
    "weather_df[weather_df['wind_direction'].isna()].wind_gust.value_counts()"
   ]
  },
  {
   "cell_type": "code",
   "execution_count": 60,
   "metadata": {},
   "outputs": [
    {
     "data": {
      "text/plain": [
       "wind_gust\n",
       "20.71    225\n",
       "21.86    184\n",
       "23.02    182\n",
       "25.32    142\n",
       "24.17    128\n",
       "18.41    128\n",
       "19.56    127\n",
       "26.47     87\n",
       "28.77     77\n",
       "27.62     63\n",
       "31.07     60\n",
       "17.26     56\n",
       "29.92     54\n",
       "32.22     53\n",
       "19.57     36\n",
       "34.52     35\n",
       "16.11     34\n",
       "33.37     34\n",
       "26.46     28\n",
       "24.16     28\n",
       "35.67     27\n",
       "27.63     24\n",
       "36.82     24\n",
       "37.98     23\n",
       "17.27     19\n",
       "21.85     18\n",
       "39.13     16\n",
       "41.43     15\n",
       "40.28     14\n",
       "42.58     13\n",
       "29.93     13\n",
       "33.38     12\n",
       "32.21     11\n",
       "43.73     10\n",
       "46.03      5\n",
       "39.12      4\n",
       "44.88      3\n",
       "40.29      3\n",
       "35.68      3\n",
       "48.33      1\n",
       "44.87      1\n",
       "Name: count, dtype: int64"
      ]
     },
     "execution_count": 60,
     "metadata": {},
     "output_type": "execute_result"
    }
   ],
   "source": [
    "# wind_direction is NOT null--> see wind gust values\n",
    "weather_df[weather_df['wind_direction'].notna()].wind_gust.value_counts()"
   ]
  },
  {
   "cell_type": "markdown",
   "metadata": {},
   "source": [
    "##### Wind speed --> not much of a pattern"
   ]
  },
  {
   "cell_type": "code",
   "execution_count": 61,
   "metadata": {},
   "outputs": [
    {
     "data": {
      "text/plain": [
       "wind_speed\n",
       "3.45    1192\n",
       "4.60     711\n",
       "5.75     464\n",
       "3.44     372\n",
       "4.61     237\n",
       "6.91     223\n",
       "Name: count, dtype: int64"
      ]
     },
     "execution_count": 61,
     "metadata": {},
     "output_type": "execute_result"
    }
   ],
   "source": [
    "# wind_direction is null--> see wind speed values\n",
    "weather_df[weather_df['wind_direction'].isna()].wind_speed.value_counts()"
   ]
  },
  {
   "cell_type": "code",
   "execution_count": 62,
   "metadata": {},
   "outputs": [
    {
     "data": {
      "text/plain": [
       "wind_speed\n",
       "0.00     7846\n",
       "5.75     6393\n",
       "4.60     5704\n",
       "6.91     5266\n",
       "3.45     4996\n",
       "10.36    4099\n",
       "8.06     3528\n",
       "9.21     3353\n",
       "12.66    3296\n",
       "11.51    2915\n",
       "13.81    1868\n",
       "4.61     1477\n",
       "3.44     1298\n",
       "14.96    1291\n",
       "16.11    1069\n",
       "8.05     1024\n",
       "9.22      941\n",
       "11.50     871\n",
       "13.80     504\n",
       "17.26     496\n",
       "18.41     381\n",
       "14.97     356\n",
       "19.56     205\n",
       "20.71     174\n",
       "17.27     131\n",
       "21.86     106\n",
       "23.02     105\n",
       "25.32      70\n",
       "24.17      69\n",
       "19.57      62\n",
       "26.47      40\n",
       "28.77      37\n",
       "21.85      30\n",
       "29.92      27\n",
       "27.62      26\n",
       "24.16      23\n",
       "31.07      17\n",
       "27.63      13\n",
       "26.46      12\n",
       "32.22      11\n",
       "33.37       9\n",
       "35.67       6\n",
       "36.82       6\n",
       "34.52       5\n",
       "32.21       3\n",
       "29.93       2\n",
       "39.13       1\n",
       "40.28       1\n",
       "41.43       1\n",
       "35.68       1\n",
       "Name: count, dtype: int64"
      ]
     },
     "execution_count": 62,
     "metadata": {},
     "output_type": "execute_result"
    }
   ],
   "source": [
    "# wind_direction is NOT null--> see wind speed values\n",
    "weather_df[weather_df['wind_direction'].notna()].wind_speed.value_counts()"
   ]
  },
  {
   "cell_type": "markdown",
   "metadata": {},
   "source": [
    "##### Most likely nulls from sensor or reporting gaps"
   ]
  },
  {
   "cell_type": "markdown",
   "metadata": {},
   "source": [
    "### Check time gaps for other cols --> is it safe to interpolation?"
   ]
  },
  {
   "cell_type": "code",
   "execution_count": 63,
   "metadata": {},
   "outputs": [],
   "source": [
    "def find_time_gaps(main_df, col_name):\n",
    "    # make df copy\n",
    "    df = main_df.copy()\n",
    "\n",
    "    # define cols\n",
    "    miss_col = f'{col_name}_missing'\n",
    "\n",
    "    # sort by time\n",
    "    df = df.sort_values('DateTime').reset_index(drop=True)\n",
    "\n",
    "    # create missing flag\n",
    "    df[miss_col] = df[col_name].isna()\n",
    "\n",
    "    # compare each row's missing flag to previous row\n",
    "    df['block_id'] = (\n",
    "        df[miss_col] != df[miss_col].shift()\n",
    "    ).cumsum()\n",
    "\n",
    "    # filter blocks for miss_col\n",
    "    missing_blocks = df[df[miss_col]].copy()\n",
    "\n",
    "    # summarize each missing block\n",
    "    gap_summary = (\n",
    "        missing_blocks\n",
    "        .groupby('block_id')\n",
    "        .agg(\n",
    "            start_time = ('DateTime', 'min'),\n",
    "            end_time = ('DateTime', 'max'),\n",
    "            gap_hrs = ('DateTime', 'count')\n",
    "        )\n",
    "        .reset_index()\n",
    "    )\n",
    "\n",
    "    # display\n",
    "    display(gap_summary['gap_hrs'].value_counts())"
   ]
  },
  {
   "cell_type": "markdown",
   "metadata": {},
   "source": [
    "#### sea level pressure --> mostly ok"
   ]
  },
  {
   "cell_type": "code",
   "execution_count": 64,
   "metadata": {},
   "outputs": [
    {
     "data": {
      "text/plain": [
       "gap_hrs\n",
       "1     5500\n",
       "2     1110\n",
       "3      286\n",
       "4       91\n",
       "5       18\n",
       "6        5\n",
       "7        3\n",
       "15       1\n",
       "27       1\n",
       "10       1\n",
       "Name: count, dtype: int64"
      ]
     },
     "metadata": {},
     "output_type": "display_data"
    }
   ],
   "source": [
    "find_time_gaps(weather_df, 'sea_level_pressure')"
   ]
  },
  {
   "cell_type": "markdown",
   "metadata": {},
   "source": [
    "##### rest cols --> ok"
   ]
  },
  {
   "cell_type": "code",
   "execution_count": 65,
   "metadata": {},
   "outputs": [
    {
     "data": {
      "text/plain": [
       "gap_hrs\n",
       "1    2427\n",
       "2     309\n",
       "3      41\n",
       "5       6\n",
       "4       5\n",
       "Name: count, dtype: int64"
      ]
     },
     "metadata": {},
     "output_type": "display_data"
    }
   ],
   "source": [
    "find_time_gaps(weather_df, 'wind_direction')"
   ]
  },
  {
   "cell_type": "code",
   "execution_count": 66,
   "metadata": {},
   "outputs": [
    {
     "data": {
      "text/plain": [
       "gap_hrs\n",
       "1    19\n",
       "Name: count, dtype: int64"
      ]
     },
     "metadata": {},
     "output_type": "display_data"
    }
   ],
   "source": [
    "find_time_gaps(weather_df, 'wind_speed')"
   ]
  },
  {
   "cell_type": "code",
   "execution_count": 67,
   "metadata": {},
   "outputs": [
    {
     "data": {
      "text/plain": [
       "gap_hrs\n",
       "1    2\n",
       "Name: count, dtype: int64"
      ]
     },
     "metadata": {},
     "output_type": "display_data"
    }
   ],
   "source": [
    "find_time_gaps(weather_df, 'air_temp')"
   ]
  },
  {
   "cell_type": "code",
   "execution_count": 68,
   "metadata": {},
   "outputs": [
    {
     "data": {
      "text/plain": [
       "gap_hrs\n",
       "1    3\n",
       "Name: count, dtype: int64"
      ]
     },
     "metadata": {},
     "output_type": "display_data"
    }
   ],
   "source": [
    "find_time_gaps(weather_df, 'relative_humidity')"
   ]
  },
  {
   "cell_type": "code",
   "execution_count": 69,
   "metadata": {},
   "outputs": [
    {
     "data": {
      "text/plain": [
       "gap_hrs\n",
       "1    7\n",
       "Name: count, dtype: int64"
      ]
     },
     "metadata": {},
     "output_type": "display_data"
    }
   ],
   "source": [
    "find_time_gaps(weather_df, 'visibility')"
   ]
  },
  {
   "cell_type": "code",
   "execution_count": 70,
   "metadata": {},
   "outputs": [
    {
     "data": {
      "text/plain": [
       "gap_hrs\n",
       "1    7\n",
       "2    1\n",
       "Name: count, dtype: int64"
      ]
     },
     "metadata": {},
     "output_type": "display_data"
    }
   ],
   "source": [
    "find_time_gaps(weather_df, 'dew_point_temperature')"
   ]
  },
  {
   "cell_type": "markdown",
   "metadata": {},
   "source": [
    "## Handle Nulls\n",
    "---"
   ]
  },
  {
   "cell_type": "markdown",
   "metadata": {},
   "source": [
    "### Define function to fill nulls"
   ]
  },
  {
   "cell_type": "code",
   "execution_count": 71,
   "metadata": {},
   "outputs": [],
   "source": [
    "# fix nulls\n",
    "def fill_nulls(main_df):\n",
    "\n",
    "    # ------------------------------------\n",
    "    # Setup DF\n",
    "    # ------------------------------------\n",
    "    df = main_df.copy()  #make a copy\n",
    "\n",
    "    # sort chronologically\n",
    "    df = df.sort_values('DateTime')\n",
    "    df = df.set_index('DateTime')\n",
    "\n",
    "    # ------------------------------------\n",
    "    # Fill nulls that are supposed to be 0\n",
    "    # ------------------------------------\n",
    "    fillna_0_cols = ['precip_accum_one_hour', 'precip_accum_six_hour', 'wind_gust']\n",
    "\n",
    "    # show step\n",
    "    print(f'1) filling nulls with 0 for: {fillna_0_cols}')\n",
    "\n",
    "    # loop through\n",
    "    for col in fillna_0_cols:\n",
    "        df[col] = df[col].fillna(0)\n",
    "\n",
    "    # -----------------------------------------\n",
    "    # Drop col with too many nulls/invalid vals\n",
    "    # -----------------------------------------\n",
    "    # show step\n",
    "    print('2) weather_cond_code--> dropping column')\n",
    "    df = df.drop(columns=['weather_cond_code']).copy()\n",
    "\n",
    "    # ---------------------------------------------------------\n",
    "    # Ceiling: fill with high value & add missingness indicator\n",
    "    # ---------------------------------------------------------\n",
    "    # add missingness indicator col\n",
    "    print('3a) ceiling--> adding missingness indicator')\n",
    "    df['ceiling_missing'] = df['ceiling'].isna().astype(int)\n",
    "\n",
    "    # fill nulls in og col with high val\n",
    "    high_ceiling = 35000\n",
    "    print(f'3b) ceiling--> filling nulls with {high_ceiling} (max ceiling is {df['ceiling'].max()})')\n",
    "    df['ceiling'] = df['ceiling'].fillna(high_ceiling)\n",
    "\n",
    "    # ------------------------------------------------------------\n",
    "    # Wind Direction: Interpolate sin/cos (b/c it's 0-360 degrees)\n",
    "    # ------------------------------------------------------------\n",
    "    print('4) wind direction--> interpolate sin/cos')\n",
    "\n",
    "    # storing sin/cos to handle cyclical nature\n",
    "    df['wind_dir_rad'] = np.deg2rad(df['wind_direction'])\n",
    "    df['wind_dir_sin'] = np.sin(df['wind_dir_rad'])\n",
    "    df['wind_dir_cos'] = np.cos(df['wind_dir_rad'])\n",
    "\n",
    "    # interpolate sin/cos\n",
    "    df['wind_dir_sin'] = df['wind_dir_sin'].interpolate(method='time')\n",
    "    df['wind_dir_cos'] = df['wind_dir_cos'].interpolate(method='time')\n",
    "\n",
    "    # recompute direction\n",
    "    df['wind_direction_interp'] = np.rad2deg(\n",
    "        np.arctan2(df['wind_dir_sin'], df['wind_dir_cos'])\n",
    "    )\n",
    "\n",
    "    # convert values into 0-360 degrees\n",
    "    df['wind_direction_interp'] = (df['wind_direction_interp'] + 360) % 360\n",
    "    df['wind_direction_interp'] = df['wind_direction_interp'].round(1)\n",
    "\n",
    "    # # drop old wind_dir col and sin/cos/rad cols\n",
    "    # df = df.drop(columns=[\n",
    "    #     'wind_direction',\n",
    "    #     'wind_dir_rad',\n",
    "    #     'wind_dir_sin',\n",
    "    #     'wind_dir_cos'\n",
    "    # ]).copy()\n",
    "    # drop wind direction and rad cols\n",
    "    df = df.drop(columns=[\n",
    "        'wind_direction',\n",
    "        #'wind_direction_interp',\n",
    "        'wind_dir_rad'\n",
    "    ]).copy()\n",
    "\n",
    "    # ------------------------------------------------------------\n",
    "    # Rest of nulls: Interpolate for continuous non-cylical cols\n",
    "    # ------------------------------------------------------------\n",
    "    # for sea level add missing column\n",
    "    print('5a) sea_level_pressure--> adding missingness indicator')\n",
    "    df['sea_level_pressure_missing'] = df['sea_level_pressure'].isna().astype(int)\n",
    "\n",
    "    # interpolate for leftover cols\n",
    "    # loop through\n",
    "    leftover_cols = list(df.columns[df.isna().any()])\n",
    "    print(f'5b) interpolate rest: {leftover_cols}')\n",
    "    for col in leftover_cols:\n",
    "        # interpolate\n",
    "        df[col] = df[col].interpolate(method='time')\n",
    "    \n",
    "    print('-----------------------------------------')\n",
    "\n",
    "    # return\n",
    "    return df"
   ]
  },
  {
   "cell_type": "code",
   "execution_count": 72,
   "metadata": {},
   "outputs": [
    {
     "name": "stdout",
     "output_type": "stream",
     "text": [
      "1) filling nulls with 0 for: ['precip_accum_one_hour', 'precip_accum_six_hour', 'wind_gust']\n",
      "2) weather_cond_code--> dropping column\n",
      "3a) ceiling--> adding missingness indicator\n",
      "3b) ceiling--> filling nulls with 35000 (max ceiling is 33000)\n",
      "4) wind direction--> interpolate sin/cos\n",
      "5a) sea_level_pressure--> adding missingness indicator\n",
      "5b) interpolate rest: ['air_temp', 'relative_humidity', 'wind_speed', 'sea_level_pressure', 'visibility', 'dew_point_temperature']\n",
      "-----------------------------------------\n",
      "Number of rows: 63383\n"
     ]
    },
    {
     "data": {
      "text/plain": [
       "Date                          0\n",
       "Time                          0\n",
       "precip_accum_one_hour         0\n",
       "air_temp                      0\n",
       "relative_humidity             0\n",
       "wind_speed                    0\n",
       "sea_level_pressure            1\n",
       "visibility                    0\n",
       "wind_gust                     0\n",
       "precip_accum_six_hour         0\n",
       "ceiling                       0\n",
       "dew_point_temperature         0\n",
       "Hour                          0\n",
       "ceiling_missing               0\n",
       "wind_dir_sin                  0\n",
       "wind_dir_cos                  0\n",
       "wind_direction_interp         0\n",
       "sea_level_pressure_missing    0\n",
       "dtype: int64"
      ]
     },
     "execution_count": 72,
     "metadata": {},
     "output_type": "execute_result"
    }
   ],
   "source": [
    "# apply\n",
    "weather2_df = fill_nulls(weather_df)\n",
    "print(f'Number of rows: {len(weather2_df)}')\n",
    "\n",
    "# display nulls\n",
    "weather2_df.isna().sum()"
   ]
  },
  {
   "cell_type": "markdown",
   "metadata": {},
   "source": [
    "### Check nulls"
   ]
  },
  {
   "cell_type": "code",
   "execution_count": 73,
   "metadata": {},
   "outputs": [
    {
     "name": "stdout",
     "output_type": "stream",
     "text": [
      "Number of Date: 2271\n"
     ]
    },
    {
     "data": {
      "text/plain": [
       "[]"
      ]
     },
     "execution_count": 73,
     "metadata": {},
     "output_type": "execute_result"
    }
   ],
   "source": [
    "null_check(weather2_df, 'Date')"
   ]
  },
  {
   "cell_type": "code",
   "execution_count": 74,
   "metadata": {},
   "outputs": [
    {
     "name": "stdout",
     "output_type": "stream",
     "text": [
      "Number of ['Date', 'Hour']: 54350\n"
     ]
    },
    {
     "data": {
      "text/plain": [
       "[]"
      ]
     },
     "execution_count": 74,
     "metadata": {},
     "output_type": "execute_result"
    }
   ],
   "source": [
    "null_check(weather2_df, ['Date', 'Hour'])"
   ]
  },
  {
   "cell_type": "markdown",
   "metadata": {},
   "source": [
    "## Ouput\n",
    "---"
   ]
  },
  {
   "cell_type": "markdown",
   "metadata": {},
   "source": [
    "### drop columns"
   ]
  },
  {
   "cell_type": "code",
   "execution_count": 75,
   "metadata": {},
   "outputs": [],
   "source": [
    "# drop\n",
    "drop_cols = ['Date', 'Time','Hour']\n",
    "weather2_df = weather2_df.drop(columns=drop_cols).copy()"
   ]
  },
  {
   "cell_type": "markdown",
   "metadata": {},
   "source": [
    "### display df"
   ]
  },
  {
   "cell_type": "code",
   "execution_count": 76,
   "metadata": {},
   "outputs": [
    {
     "data": {
      "text/html": [
       "<div>\n",
       "<style scoped>\n",
       "    .dataframe tbody tr th:only-of-type {\n",
       "        vertical-align: middle;\n",
       "    }\n",
       "\n",
       "    .dataframe tbody tr th {\n",
       "        vertical-align: top;\n",
       "    }\n",
       "\n",
       "    .dataframe thead th {\n",
       "        text-align: right;\n",
       "    }\n",
       "</style>\n",
       "<table border=\"1\" class=\"dataframe\">\n",
       "  <thead>\n",
       "    <tr style=\"text-align: right;\">\n",
       "      <th></th>\n",
       "      <th>precip_accum_one_hour</th>\n",
       "      <th>air_temp</th>\n",
       "      <th>relative_humidity</th>\n",
       "      <th>wind_speed</th>\n",
       "      <th>sea_level_pressure</th>\n",
       "      <th>visibility</th>\n",
       "      <th>wind_gust</th>\n",
       "      <th>precip_accum_six_hour</th>\n",
       "      <th>ceiling</th>\n",
       "      <th>dew_point_temperature</th>\n",
       "      <th>ceiling_missing</th>\n",
       "      <th>wind_dir_sin</th>\n",
       "      <th>wind_dir_cos</th>\n",
       "      <th>wind_direction_interp</th>\n",
       "      <th>sea_level_pressure_missing</th>\n",
       "    </tr>\n",
       "    <tr>\n",
       "      <th>DateTime</th>\n",
       "      <th></th>\n",
       "      <th></th>\n",
       "      <th></th>\n",
       "      <th></th>\n",
       "      <th></th>\n",
       "      <th></th>\n",
       "      <th></th>\n",
       "      <th></th>\n",
       "      <th></th>\n",
       "      <th></th>\n",
       "      <th></th>\n",
       "      <th></th>\n",
       "      <th></th>\n",
       "      <th></th>\n",
       "      <th></th>\n",
       "    </tr>\n",
       "  </thead>\n",
       "  <tbody>\n",
       "    <tr>\n",
       "      <th>2019-01-01 00:49:00</th>\n",
       "      <td>0.0</td>\n",
       "      <td>51.80</td>\n",
       "      <td>18.60</td>\n",
       "      <td>4.61</td>\n",
       "      <td>NaN</td>\n",
       "      <td>10.0</td>\n",
       "      <td>0.0</td>\n",
       "      <td>0.0</td>\n",
       "      <td>35000</td>\n",
       "      <td>10.40</td>\n",
       "      <td>1</td>\n",
       "      <td>1.000000</td>\n",
       "      <td>6.123234e-17</td>\n",
       "      <td>90.0</td>\n",
       "      <td>1</td>\n",
       "    </tr>\n",
       "    <tr>\n",
       "      <th>2019-01-01 00:53:00</th>\n",
       "      <td>0.0</td>\n",
       "      <td>51.08</td>\n",
       "      <td>18.80</td>\n",
       "      <td>4.61</td>\n",
       "      <td>1015.3</td>\n",
       "      <td>10.0</td>\n",
       "      <td>0.0</td>\n",
       "      <td>0.0</td>\n",
       "      <td>35000</td>\n",
       "      <td>10.04</td>\n",
       "      <td>1</td>\n",
       "      <td>0.984808</td>\n",
       "      <td>-1.736482e-01</td>\n",
       "      <td>100.0</td>\n",
       "      <td>0</td>\n",
       "    </tr>\n",
       "    <tr>\n",
       "      <th>2019-01-01 01:53:00</th>\n",
       "      <td>0.0</td>\n",
       "      <td>51.98</td>\n",
       "      <td>18.18</td>\n",
       "      <td>0.00</td>\n",
       "      <td>1016.0</td>\n",
       "      <td>10.0</td>\n",
       "      <td>0.0</td>\n",
       "      <td>0.0</td>\n",
       "      <td>35000</td>\n",
       "      <td>10.04</td>\n",
       "      <td>1</td>\n",
       "      <td>0.000000</td>\n",
       "      <td>1.000000e+00</td>\n",
       "      <td>0.0</td>\n",
       "      <td>0</td>\n",
       "    </tr>\n",
       "    <tr>\n",
       "      <th>2019-01-01 02:53:00</th>\n",
       "      <td>0.0</td>\n",
       "      <td>48.92</td>\n",
       "      <td>21.20</td>\n",
       "      <td>5.75</td>\n",
       "      <td>1015.9</td>\n",
       "      <td>10.0</td>\n",
       "      <td>0.0</td>\n",
       "      <td>0.0</td>\n",
       "      <td>35000</td>\n",
       "      <td>10.94</td>\n",
       "      <td>1</td>\n",
       "      <td>0.173648</td>\n",
       "      <td>-9.848078e-01</td>\n",
       "      <td>170.0</td>\n",
       "      <td>0</td>\n",
       "    </tr>\n",
       "    <tr>\n",
       "      <th>2019-01-01 03:53:00</th>\n",
       "      <td>0.0</td>\n",
       "      <td>42.98</td>\n",
       "      <td>36.13</td>\n",
       "      <td>3.44</td>\n",
       "      <td>1016.1</td>\n",
       "      <td>10.0</td>\n",
       "      <td>0.0</td>\n",
       "      <td>0.0</td>\n",
       "      <td>35000</td>\n",
       "      <td>17.96</td>\n",
       "      <td>1</td>\n",
       "      <td>0.766044</td>\n",
       "      <td>-6.427876e-01</td>\n",
       "      <td>130.0</td>\n",
       "      <td>0</td>\n",
       "    </tr>\n",
       "  </tbody>\n",
       "</table>\n",
       "</div>"
      ],
      "text/plain": [
       "                     precip_accum_one_hour  air_temp  relative_humidity  \\\n",
       "DateTime                                                                  \n",
       "2019-01-01 00:49:00                    0.0     51.80              18.60   \n",
       "2019-01-01 00:53:00                    0.0     51.08              18.80   \n",
       "2019-01-01 01:53:00                    0.0     51.98              18.18   \n",
       "2019-01-01 02:53:00                    0.0     48.92              21.20   \n",
       "2019-01-01 03:53:00                    0.0     42.98              36.13   \n",
       "\n",
       "                     wind_speed  sea_level_pressure  visibility  wind_gust  \\\n",
       "DateTime                                                                     \n",
       "2019-01-01 00:49:00        4.61                 NaN        10.0        0.0   \n",
       "2019-01-01 00:53:00        4.61              1015.3        10.0        0.0   \n",
       "2019-01-01 01:53:00        0.00              1016.0        10.0        0.0   \n",
       "2019-01-01 02:53:00        5.75              1015.9        10.0        0.0   \n",
       "2019-01-01 03:53:00        3.44              1016.1        10.0        0.0   \n",
       "\n",
       "                     precip_accum_six_hour  ceiling  dew_point_temperature  \\\n",
       "DateTime                                                                     \n",
       "2019-01-01 00:49:00                    0.0    35000                  10.40   \n",
       "2019-01-01 00:53:00                    0.0    35000                  10.04   \n",
       "2019-01-01 01:53:00                    0.0    35000                  10.04   \n",
       "2019-01-01 02:53:00                    0.0    35000                  10.94   \n",
       "2019-01-01 03:53:00                    0.0    35000                  17.96   \n",
       "\n",
       "                     ceiling_missing  wind_dir_sin  wind_dir_cos  \\\n",
       "DateTime                                                           \n",
       "2019-01-01 00:49:00                1      1.000000  6.123234e-17   \n",
       "2019-01-01 00:53:00                1      0.984808 -1.736482e-01   \n",
       "2019-01-01 01:53:00                1      0.000000  1.000000e+00   \n",
       "2019-01-01 02:53:00                1      0.173648 -9.848078e-01   \n",
       "2019-01-01 03:53:00                1      0.766044 -6.427876e-01   \n",
       "\n",
       "                     wind_direction_interp  sea_level_pressure_missing  \n",
       "DateTime                                                                \n",
       "2019-01-01 00:49:00                   90.0                           1  \n",
       "2019-01-01 00:53:00                  100.0                           0  \n",
       "2019-01-01 01:53:00                    0.0                           0  \n",
       "2019-01-01 02:53:00                  170.0                           0  \n",
       "2019-01-01 03:53:00                  130.0                           0  "
      ]
     },
     "execution_count": 76,
     "metadata": {},
     "output_type": "execute_result"
    }
   ],
   "source": [
    "weather2_df.head()"
   ]
  },
  {
   "cell_type": "markdown",
   "metadata": {},
   "source": [
    "### export as zip"
   ]
  },
  {
   "cell_type": "code",
   "execution_count": 77,
   "metadata": {},
   "outputs": [],
   "source": [
    "# export as zipped file\n",
    "weather2_df.to_csv(\n",
    "    'Output/Weather/LAX_2019-2024_cleaned.zip',\n",
    "    compression={\n",
    "        'method': 'zip',\n",
    "        'archive_name': 'LAX_2019-2024_cleaned.csv'\n",
    "    }\n",
    ")"
   ]
  },
  {
   "cell_type": "markdown",
   "metadata": {},
   "source": [
    "# Destination Airports\n",
    "---"
   ]
  },
  {
   "cell_type": "markdown",
   "metadata": {},
   "source": [
    "## Get destination airports weather csv's"
   ]
  },
  {
   "cell_type": "markdown",
   "metadata": {},
   "source": [
    "### get station ids"
   ]
  },
  {
   "cell_type": "code",
   "execution_count": 78,
   "metadata": {},
   "outputs": [],
   "source": [
    "# definition to convert stations from IATA code (like LAX) to station id (like KLAX)\n",
    "def get_station_id(iata_code: str) -> str:\n",
    "    # special mappings for Hawaii & Alaska\n",
    "    special_map = {\n",
    "        # Alaska\n",
    "        \"ANC\": \"PANC\",\n",
    "        \n",
    "        # Hawaii\n",
    "        \"HNL\": \"PHNL\",\n",
    "        \"KOA\": \"PHKO\",\n",
    "        \"LIH\": \"PHLI\",\n",
    "        \"OGG\": \"PHOG\",\n",
    "        \"ITO\": \"PHTO\",\n",
    "    }\n",
    "    \n",
    "    # return special map value, if not then add K\n",
    "    return special_map.get(iata_code, f\"K{iata_code}\")"
   ]
  },
  {
   "cell_type": "code",
   "execution_count": 79,
   "metadata": {},
   "outputs": [
    {
     "data": {
      "text/plain": [
       "['KEWR',\n",
       " 'KCLT',\n",
       " 'KMIA',\n",
       " 'KJFK',\n",
       " 'KMSP',\n",
       " 'KORD',\n",
       " 'KIAH',\n",
       " 'KDEN',\n",
       " 'KDFW',\n",
       " 'KAUS',\n",
       " 'KBOS',\n",
       " 'KSLC',\n",
       " 'KPHX',\n",
       " 'KIAD',\n",
       " 'KHOU',\n",
       " 'KMSY',\n",
       " 'KATL',\n",
       " 'KLAS',\n",
       " 'KBWI',\n",
       " 'KSFO',\n",
       " 'KDTW',\n",
       " 'KSMF',\n",
       " 'PHNL',\n",
       " 'KOAK',\n",
       " 'KSEA',\n",
       " 'KTUS',\n",
       " 'KMDW',\n",
       " 'KSTL',\n",
       " 'KMCO',\n",
       " 'KSJC',\n",
       " 'KPHL',\n",
       " 'KPDX',\n",
       " 'PHOG',\n",
       " 'KASE',\n",
       " 'KJAC',\n",
       " 'KSAN',\n",
       " 'KCLE',\n",
       " 'KDCA',\n",
       " 'KFLL',\n",
       " 'PHKO',\n",
       " 'KTPA',\n",
       " 'KBNA',\n",
       " 'PHLI',\n",
       " 'KDAL',\n",
       " 'KMCI',\n",
       " 'KSTS',\n",
       " 'KMSN',\n",
       " 'KSAT',\n",
       " 'KFAT',\n",
       " 'KRDM',\n",
       " 'KEGE',\n",
       " 'KEUG',\n",
       " 'KMFR',\n",
       " 'KSBA',\n",
       " 'KELP',\n",
       " 'KBZN',\n",
       " 'KCMH',\n",
       " 'KABQ',\n",
       " 'KSDF',\n",
       " 'KRDU',\n",
       " 'KIND',\n",
       " 'KSBP',\n",
       " 'KMSO',\n",
       " 'KMRY',\n",
       " 'KBOI',\n",
       " 'KMKE',\n",
       " 'KSUN',\n",
       " 'KHDN',\n",
       " 'KCOS',\n",
       " 'KCVG',\n",
       " 'KMMH',\n",
       " 'KPAE',\n",
       " 'KPSC',\n",
       " 'KMEM',\n",
       " 'KRNO',\n",
       " 'PHTO',\n",
       " 'KBUF',\n",
       " 'KOMA',\n",
       " 'KSGU',\n",
       " 'KACV',\n",
       " 'KPRC',\n",
       " 'KSCK',\n",
       " 'KRDD',\n",
       " 'KBDL',\n",
       " 'KPSP',\n",
       " 'PANC',\n",
       " 'KMTJ',\n",
       " 'KGEG',\n",
       " 'KPIT',\n",
       " 'KOKC',\n",
       " 'KFCA',\n",
       " 'KPBI',\n",
       " 'KRSW',\n",
       " 'KRIC',\n",
       " 'KCHS',\n",
       " 'KJAX',\n",
       " 'KTUL',\n",
       " 'KGJT',\n",
       " 'KDRO',\n",
       " 'KSAF',\n",
       " 'KLGA',\n",
       " 'KBTR',\n",
       " 'KSBN',\n",
       " 'KXNA',\n",
       " 'KBIH',\n",
       " 'KBHM',\n",
       " 'KFLG',\n",
       " 'KCID',\n",
       " 'KDSM',\n",
       " 'KBUR']"
      ]
     },
     "execution_count": 79,
     "metadata": {},
     "output_type": "execute_result"
    }
   ],
   "source": [
    "# create list of station ids from list of all station codes\n",
    "station_codes = list(delays_df['Destination Airport'].unique())\n",
    "station_ids = []\n",
    "\n",
    "for station_code in station_codes:\n",
    "    # add to list \n",
    "    station_ids.append(get_station_id(station_code))\n",
    "\n",
    "# display\n",
    "station_ids"
   ]
  },
  {
   "cell_type": "code",
   "execution_count": 80,
   "metadata": {},
   "outputs": [
    {
     "data": {
      "text/plain": [
       "110"
      ]
     },
     "execution_count": 80,
     "metadata": {},
     "output_type": "execute_result"
    }
   ],
   "source": [
    "len(station_ids)"
   ]
  },
  {
   "cell_type": "markdown",
   "metadata": {},
   "source": [
    "### convert csv's to dfs"
   ]
  },
  {
   "cell_type": "code",
   "execution_count": 81,
   "metadata": {},
   "outputs": [],
   "source": [
    "# definition to convert stations from station id (like KLAX) to IATA code (like LAX)\n",
    "def get_station_code(station_id: str) -> str:\n",
    "    # special mappings for Hawaii & Alaska\n",
    "    special_map = {\n",
    "        # Alaska\n",
    "        \"PANC\": \"ANC\",\n",
    "        \n",
    "        # Hawaii\n",
    "        \"PHNL\": \"HNL\",\n",
    "        \"PHKO\": \"KOA\",\n",
    "        \"PHLI\": \"LIH\",\n",
    "        \"PHOG\": \"OGG\",\n",
    "        \"PHTO\": \"ITO\",\n",
    "    }\n",
    "    \n",
    "    # return special map value, if not then add K\n",
    "    return special_map.get(station_id, f\"{station_id[1:]}\")"
   ]
  },
  {
   "cell_type": "code",
   "execution_count": 82,
   "metadata": {},
   "outputs": [
    {
     "name": "stdout",
     "output_type": "stream",
     "text": [
      "Done loading for: ABQ\n",
      "Done loading for: ACV\n",
      "Done loading for: ASE\n",
      "Done loading for: ATL\n",
      "Done loading for: AUS\n",
      "Done loading for: BDL\n",
      "Done loading for: BHM\n",
      "Done loading for: BIH\n",
      "Done loading for: BIL\n",
      "Done loading for: BLI\n",
      "Done loading for: BNA\n",
      "Done loading for: BOI\n",
      "Done loading for: BOS\n",
      "Done loading for: BTR\n",
      "Done loading for: BUF\n",
      "Done loading for: BUR\n",
      "Done loading for: BWI\n",
      "Done loading for: BZN\n",
      "Done loading for: CHS\n",
      "Done loading for: CID\n",
      "Done loading for: CLE\n",
      "Done loading for: CLT\n",
      "Done loading for: CMH\n",
      "Done loading for: COS\n",
      "Done loading for: CVG\n",
      "Done loading for: DAL\n",
      "Done loading for: DCA\n",
      "Done loading for: DEN\n",
      "Done loading for: DFW\n",
      "Done loading for: DRO\n",
      "Done loading for: DSM\n",
      "Done loading for: DTW\n",
      "Done loading for: EGE\n",
      "Done loading for: ELP\n",
      "Done loading for: EUG\n",
      "Done loading for: EWR\n",
      "Done loading for: FAR\n",
      "Done loading for: FAT\n",
      "Done loading for: FLG\n",
      "Done loading for: FLL\n",
      "Done loading for: FSD\n",
      "Done loading for: GEG\n",
      "Done loading for: GJT\n",
      "Done loading for: GRR\n",
      "Done loading for: HDN\n",
      "Done loading for: HOU\n",
      "Done loading for: IAD\n",
      "Done loading for: IAH\n",
      "Done loading for: ICT\n",
      "Done loading for: IDA\n",
      "Done loading for: IND\n",
      "Done loading for: JAC\n",
      "Done loading for: JAX\n",
      "Done loading for: JFK\n",
      "Done loading for: LAS\n",
      "Done loading for: LGA\n",
      "Done loading for: LIT\n",
      "Done loading for: LRD\n",
      "Done loading for: MCI\n",
      "Done loading for: MCO\n",
      "Done loading for: MDW\n",
      "Done loading for: MEM\n",
      "Done loading for: MFE\n",
      "Done loading for: MFR\n",
      "Done loading for: MIA\n",
      "Done loading for: MKE\n",
      "Done loading for: MMH\n",
      "Done loading for: MRY\n",
      "Done loading for: MSN\n",
      "Done loading for: MSO\n",
      "Done loading for: MSP\n",
      "Done loading for: MSY\n",
      "Done loading for: MTJ\n",
      "Done loading for: OAK\n",
      "Done loading for: OKC\n",
      "Done loading for: OMA\n",
      "Done loading for: ORD\n",
      "Done loading for: PAE\n",
      "Done loading for: PBI\n",
      "Done loading for: PDX\n",
      "Done loading for: PHL\n",
      "Done loading for: PHX\n",
      "Done loading for: PIT\n",
      "Done loading for: PRC\n",
      "Done loading for: PSC\n",
      "Done loading for: PSP\n",
      "Done loading for: PVU\n",
      "Done loading for: RAP\n",
      "Done loading for: RDD\n",
      "Done loading for: RDM\n",
      "Done loading for: RDU\n",
      "Done loading for: RFD\n",
      "Done loading for: RIC\n",
      "Done loading for: RNO\n",
      "Done loading for: RSW\n",
      "Done loading for: SAF\n",
      "Done loading for: SAN\n",
      "Done loading for: SAT\n",
      "Done loading for: SBA\n",
      "Done loading for: SBN\n",
      "Done loading for: SBP\n",
      "Done loading for: SCK\n",
      "Done loading for: SDF\n",
      "Done loading for: SEA\n",
      "Done loading for: SFO\n",
      "Done loading for: SGF\n",
      "Done loading for: SGU\n",
      "Done loading for: SHV\n",
      "Done loading for: SJC\n",
      "Done loading for: SMF\n",
      "Done loading for: SNA\n",
      "Done loading for: STL\n",
      "Done loading for: STS\n",
      "Done loading for: TPA\n",
      "Done loading for: TUL\n",
      "Done loading for: TUS\n",
      "Done loading for: XNA\n",
      "Done loading for: ANC\n",
      "Done loading for: KOA\n",
      "Done loading for: LIH\n",
      "Done loading for: HNL\n",
      "Done loading for: OGG\n",
      "Done loading for: ITO\n"
     ]
    }
   ],
   "source": [
    "# get input path\n",
    "weather_folder = '../Resources/Weather'\n",
    "\n",
    "# get csv files\n",
    "csv_files = glob.glob(os.path.join(weather_folder, '*.csv'))\n",
    "\n",
    "# cols to select\n",
    "desired_cols = [\n",
    "    'Date', 'Time','date_time', 'precip_accum_one_hour', 'precip_accum_six_hour', 'air_temp', 'dew_point_temperature', \n",
    "    'relative_humidity', 'wind_speed', 'wind_direction', 'wind_gust', 'visibility', 'ceiling', 'sea_level_pressure', \n",
    "    'weather_cond_code'\n",
    "]\n",
    "\n",
    "# dict to hold dataframes\n",
    "destination_dfs = {}\n",
    "\n",
    "try: \n",
    "    for file_path in csv_files:\n",
    "        file_name = os.path.basename(file_path)\n",
    "        # get key name\n",
    "        station_id = file_name.split('_')[0]\n",
    "        station_code = get_station_code(station_id)\n",
    "\n",
    "        # read csv into df\n",
    "        df = pd.read_csv(\n",
    "            file_path,\n",
    "            skiprows=[1],\n",
    "            usecols=desired_cols,\n",
    "            dtype={\n",
    "                'weather_cond_code': 'Int64',\n",
    "                'ceiling': 'Int64'\n",
    "            }  #make sure it gets read as nullable int type\n",
    "        )\n",
    "\n",
    "        # reorder cols\n",
    "        df = df[desired_cols]\n",
    "\n",
    "        # store dict: station id is key and df is value\n",
    "        destination_dfs[station_code] = df\n",
    "\n",
    "        # print\n",
    "        print(f'Done loading for: {station_code}')\n",
    "except Exception as e:\n",
    "    print(f'Error reading {station_code}: {e}')"
   ]
  },
  {
   "cell_type": "markdown",
   "metadata": {},
   "source": [
    "### Missing"
   ]
  },
  {
   "cell_type": "code",
   "execution_count": 116,
   "metadata": {},
   "outputs": [
    {
     "name": "stderr",
     "output_type": "stream",
     "text": [
      "C:\\Users\\brian\\AppData\\Local\\Temp\\ipykernel_15468\\3060233666.py:26: DtypeWarning: Columns (28,34,42,43,44) have mixed types. Specify dtype option on import or set low_memory=False.\n",
      "  raw_df = pd.read_csv(\n"
     ]
    },
    {
     "name": "stdout",
     "output_type": "stream",
     "text": [
      "Done loading for: ABQ. Missing columns: []\n"
     ]
    },
    {
     "name": "stderr",
     "output_type": "stream",
     "text": [
      "C:\\Users\\brian\\AppData\\Local\\Temp\\ipykernel_15468\\3060233666.py:26: DtypeWarning: Columns (26,33,41,42,43) have mixed types. Specify dtype option on import or set low_memory=False.\n",
      "  raw_df = pd.read_csv(\n"
     ]
    },
    {
     "name": "stdout",
     "output_type": "stream",
     "text": [
      "Done loading for: ACV. Missing columns: []\n"
     ]
    },
    {
     "name": "stderr",
     "output_type": "stream",
     "text": [
      "C:\\Users\\brian\\AppData\\Local\\Temp\\ipykernel_15468\\3060233666.py:26: DtypeWarning: Columns (27,33,41,42,43) have mixed types. Specify dtype option on import or set low_memory=False.\n",
      "  raw_df = pd.read_csv(\n"
     ]
    },
    {
     "name": "stdout",
     "output_type": "stream",
     "text": [
      "Done loading for: ASE. Missing columns: []\n"
     ]
    },
    {
     "name": "stderr",
     "output_type": "stream",
     "text": [
      "C:\\Users\\brian\\AppData\\Local\\Temp\\ipykernel_15468\\3060233666.py:26: DtypeWarning: Columns (21,30) have mixed types. Specify dtype option on import or set low_memory=False.\n",
      "  raw_df = pd.read_csv(\n"
     ]
    },
    {
     "name": "stdout",
     "output_type": "stream",
     "text": [
      "Done loading for: ATL. Missing columns: []\n"
     ]
    },
    {
     "name": "stderr",
     "output_type": "stream",
     "text": [
      "C:\\Users\\brian\\AppData\\Local\\Temp\\ipykernel_15468\\3060233666.py:26: DtypeWarning: Columns (14,18) have mixed types. Specify dtype option on import or set low_memory=False.\n",
      "  raw_df = pd.read_csv(\n"
     ]
    },
    {
     "name": "stdout",
     "output_type": "stream",
     "text": [
      "Done loading for: ATW. Missing columns: ['precip_accum_six_hour']\n"
     ]
    },
    {
     "name": "stderr",
     "output_type": "stream",
     "text": [
      "C:\\Users\\brian\\AppData\\Local\\Temp\\ipykernel_15468\\3060233666.py:26: DtypeWarning: Columns (15,30) have mixed types. Specify dtype option on import or set low_memory=False.\n",
      "  raw_df = pd.read_csv(\n"
     ]
    },
    {
     "name": "stdout",
     "output_type": "stream",
     "text": [
      "Done loading for: AUS. Missing columns: []\n"
     ]
    },
    {
     "name": "stderr",
     "output_type": "stream",
     "text": [
      "C:\\Users\\brian\\AppData\\Local\\Temp\\ipykernel_15468\\3060233666.py:26: DtypeWarning: Columns (22,30) have mixed types. Specify dtype option on import or set low_memory=False.\n",
      "  raw_df = pd.read_csv(\n"
     ]
    },
    {
     "name": "stdout",
     "output_type": "stream",
     "text": [
      "Done loading for: BDL. Missing columns: []\n"
     ]
    },
    {
     "name": "stderr",
     "output_type": "stream",
     "text": [
      "C:\\Users\\brian\\AppData\\Local\\Temp\\ipykernel_15468\\3060233666.py:26: DtypeWarning: Columns (20,30) have mixed types. Specify dtype option on import or set low_memory=False.\n",
      "  raw_df = pd.read_csv(\n"
     ]
    },
    {
     "name": "stdout",
     "output_type": "stream",
     "text": [
      "Done loading for: BHM. Missing columns: []\n"
     ]
    },
    {
     "name": "stderr",
     "output_type": "stream",
     "text": [
      "C:\\Users\\brian\\AppData\\Local\\Temp\\ipykernel_15468\\3060233666.py:26: DtypeWarning: Columns (27,33,41,42,43) have mixed types. Specify dtype option on import or set low_memory=False.\n",
      "  raw_df = pd.read_csv(\n"
     ]
    },
    {
     "name": "stdout",
     "output_type": "stream",
     "text": [
      "Done loading for: BIH. Missing columns: []\n"
     ]
    },
    {
     "name": "stderr",
     "output_type": "stream",
     "text": [
      "C:\\Users\\brian\\AppData\\Local\\Temp\\ipykernel_15468\\3060233666.py:26: DtypeWarning: Columns (30,36,44,45,46) have mixed types. Specify dtype option on import or set low_memory=False.\n",
      "  raw_df = pd.read_csv(\n"
     ]
    },
    {
     "name": "stdout",
     "output_type": "stream",
     "text": [
      "Done loading for: BIL. Missing columns: []\n"
     ]
    },
    {
     "name": "stderr",
     "output_type": "stream",
     "text": [
      "C:\\Users\\brian\\AppData\\Local\\Temp\\ipykernel_15468\\3060233666.py:26: DtypeWarning: Columns (27,33,41,42,43) have mixed types. Specify dtype option on import or set low_memory=False.\n",
      "  raw_df = pd.read_csv(\n"
     ]
    },
    {
     "name": "stdout",
     "output_type": "stream",
     "text": [
      "Done loading for: BLI. Missing columns: []\n"
     ]
    },
    {
     "name": "stderr",
     "output_type": "stream",
     "text": [
      "C:\\Users\\brian\\AppData\\Local\\Temp\\ipykernel_15468\\3060233666.py:26: DtypeWarning: Columns (22,30) have mixed types. Specify dtype option on import or set low_memory=False.\n",
      "  raw_df = pd.read_csv(\n"
     ]
    },
    {
     "name": "stdout",
     "output_type": "stream",
     "text": [
      "Done loading for: BNA. Missing columns: []\n"
     ]
    },
    {
     "name": "stderr",
     "output_type": "stream",
     "text": [
      "C:\\Users\\brian\\AppData\\Local\\Temp\\ipykernel_15468\\3060233666.py:26: DtypeWarning: Columns (27,33,41,42,43) have mixed types. Specify dtype option on import or set low_memory=False.\n",
      "  raw_df = pd.read_csv(\n"
     ]
    },
    {
     "name": "stdout",
     "output_type": "stream",
     "text": [
      "Done loading for: BOI. Missing columns: []\n"
     ]
    },
    {
     "name": "stderr",
     "output_type": "stream",
     "text": [
      "C:\\Users\\brian\\AppData\\Local\\Temp\\ipykernel_15468\\3060233666.py:26: DtypeWarning: Columns (22,29) have mixed types. Specify dtype option on import or set low_memory=False.\n",
      "  raw_df = pd.read_csv(\n"
     ]
    },
    {
     "name": "stdout",
     "output_type": "stream",
     "text": [
      "Done loading for: BOS. Missing columns: []\n"
     ]
    },
    {
     "name": "stderr",
     "output_type": "stream",
     "text": [
      "C:\\Users\\brian\\AppData\\Local\\Temp\\ipykernel_15468\\3060233666.py:26: DtypeWarning: Columns (19,30) have mixed types. Specify dtype option on import or set low_memory=False.\n",
      "  raw_df = pd.read_csv(\n"
     ]
    },
    {
     "name": "stdout",
     "output_type": "stream",
     "text": [
      "Done loading for: BTR. Missing columns: []\n"
     ]
    },
    {
     "name": "stderr",
     "output_type": "stream",
     "text": [
      "C:\\Users\\brian\\AppData\\Local\\Temp\\ipykernel_15468\\3060233666.py:26: DtypeWarning: Columns (23,31) have mixed types. Specify dtype option on import or set low_memory=False.\n",
      "  raw_df = pd.read_csv(\n"
     ]
    },
    {
     "name": "stdout",
     "output_type": "stream",
     "text": [
      "Done loading for: BUF. Missing columns: []\n"
     ]
    },
    {
     "name": "stderr",
     "output_type": "stream",
     "text": [
      "C:\\Users\\brian\\AppData\\Local\\Temp\\ipykernel_15468\\3060233666.py:26: DtypeWarning: Columns (26,33,41,42,43) have mixed types. Specify dtype option on import or set low_memory=False.\n",
      "  raw_df = pd.read_csv(\n"
     ]
    },
    {
     "name": "stdout",
     "output_type": "stream",
     "text": [
      "Done loading for: BUR. Missing columns: []\n"
     ]
    },
    {
     "name": "stderr",
     "output_type": "stream",
     "text": [
      "C:\\Users\\brian\\AppData\\Local\\Temp\\ipykernel_15468\\3060233666.py:26: DtypeWarning: Columns (22,30) have mixed types. Specify dtype option on import or set low_memory=False.\n",
      "  raw_df = pd.read_csv(\n"
     ]
    },
    {
     "name": "stdout",
     "output_type": "stream",
     "text": [
      "Done loading for: BWI. Missing columns: []\n"
     ]
    },
    {
     "name": "stderr",
     "output_type": "stream",
     "text": [
      "C:\\Users\\brian\\AppData\\Local\\Temp\\ipykernel_15468\\3060233666.py:26: DtypeWarning: Columns (27,33,41,42,43) have mixed types. Specify dtype option on import or set low_memory=False.\n",
      "  raw_df = pd.read_csv(\n"
     ]
    },
    {
     "name": "stdout",
     "output_type": "stream",
     "text": [
      "Done loading for: BZN. Missing columns: []\n"
     ]
    },
    {
     "name": "stderr",
     "output_type": "stream",
     "text": [
      "C:\\Users\\brian\\AppData\\Local\\Temp\\ipykernel_15468\\3060233666.py:26: DtypeWarning: Columns (23,29) have mixed types. Specify dtype option on import or set low_memory=False.\n",
      "  raw_df = pd.read_csv(\n"
     ]
    },
    {
     "name": "stdout",
     "output_type": "stream",
     "text": [
      "Done loading for: CHS. Missing columns: []\n"
     ]
    },
    {
     "name": "stderr",
     "output_type": "stream",
     "text": [
      "C:\\Users\\brian\\AppData\\Local\\Temp\\ipykernel_15468\\3060233666.py:26: DtypeWarning: Columns (21,29) have mixed types. Specify dtype option on import or set low_memory=False.\n",
      "  raw_df = pd.read_csv(\n"
     ]
    },
    {
     "name": "stdout",
     "output_type": "stream",
     "text": [
      "Done loading for: CID. Missing columns: []\n"
     ]
    },
    {
     "name": "stderr",
     "output_type": "stream",
     "text": [
      "C:\\Users\\brian\\AppData\\Local\\Temp\\ipykernel_15468\\3060233666.py:26: DtypeWarning: Columns (23,31) have mixed types. Specify dtype option on import or set low_memory=False.\n",
      "  raw_df = pd.read_csv(\n"
     ]
    },
    {
     "name": "stdout",
     "output_type": "stream",
     "text": [
      "Done loading for: CLE. Missing columns: []\n"
     ]
    },
    {
     "name": "stderr",
     "output_type": "stream",
     "text": [
      "C:\\Users\\brian\\AppData\\Local\\Temp\\ipykernel_15468\\3060233666.py:26: DtypeWarning: Columns (22,30) have mixed types. Specify dtype option on import or set low_memory=False.\n",
      "  raw_df = pd.read_csv(\n"
     ]
    },
    {
     "name": "stdout",
     "output_type": "stream",
     "text": [
      "Done loading for: CLT. Missing columns: []\n"
     ]
    },
    {
     "name": "stderr",
     "output_type": "stream",
     "text": [
      "C:\\Users\\brian\\AppData\\Local\\Temp\\ipykernel_15468\\3060233666.py:26: DtypeWarning: Columns (22,30) have mixed types. Specify dtype option on import or set low_memory=False.\n",
      "  raw_df = pd.read_csv(\n"
     ]
    },
    {
     "name": "stdout",
     "output_type": "stream",
     "text": [
      "Done loading for: CMH. Missing columns: []\n"
     ]
    },
    {
     "name": "stderr",
     "output_type": "stream",
     "text": [
      "C:\\Users\\brian\\AppData\\Local\\Temp\\ipykernel_15468\\3060233666.py:26: DtypeWarning: Columns (28,34,42,43,44) have mixed types. Specify dtype option on import or set low_memory=False.\n",
      "  raw_df = pd.read_csv(\n"
     ]
    },
    {
     "name": "stdout",
     "output_type": "stream",
     "text": [
      "Done loading for: COS. Missing columns: []\n"
     ]
    },
    {
     "name": "stderr",
     "output_type": "stream",
     "text": [
      "C:\\Users\\brian\\AppData\\Local\\Temp\\ipykernel_15468\\3060233666.py:26: DtypeWarning: Columns (22,30) have mixed types. Specify dtype option on import or set low_memory=False.\n",
      "  raw_df = pd.read_csv(\n"
     ]
    },
    {
     "name": "stdout",
     "output_type": "stream",
     "text": [
      "Done loading for: CVG. Missing columns: []\n"
     ]
    },
    {
     "name": "stderr",
     "output_type": "stream",
     "text": [
      "C:\\Users\\brian\\AppData\\Local\\Temp\\ipykernel_15468\\3060233666.py:26: DtypeWarning: Columns (23,30) have mixed types. Specify dtype option on import or set low_memory=False.\n",
      "  raw_df = pd.read_csv(\n"
     ]
    },
    {
     "name": "stdout",
     "output_type": "stream",
     "text": [
      "Done loading for: DAL. Missing columns: []\n"
     ]
    },
    {
     "name": "stderr",
     "output_type": "stream",
     "text": [
      "C:\\Users\\brian\\AppData\\Local\\Temp\\ipykernel_15468\\3060233666.py:26: DtypeWarning: Columns (23,30) have mixed types. Specify dtype option on import or set low_memory=False.\n",
      "  raw_df = pd.read_csv(\n"
     ]
    },
    {
     "name": "stdout",
     "output_type": "stream",
     "text": [
      "Done loading for: DCA. Missing columns: []\n"
     ]
    },
    {
     "name": "stderr",
     "output_type": "stream",
     "text": [
      "C:\\Users\\brian\\AppData\\Local\\Temp\\ipykernel_15468\\3060233666.py:26: DtypeWarning: Columns (28,34,42,43,44) have mixed types. Specify dtype option on import or set low_memory=False.\n",
      "  raw_df = pd.read_csv(\n"
     ]
    },
    {
     "name": "stdout",
     "output_type": "stream",
     "text": [
      "Done loading for: DEN. Missing columns: []\n"
     ]
    },
    {
     "name": "stderr",
     "output_type": "stream",
     "text": [
      "C:\\Users\\brian\\AppData\\Local\\Temp\\ipykernel_15468\\3060233666.py:26: DtypeWarning: Columns (22,30) have mixed types. Specify dtype option on import or set low_memory=False.\n",
      "  raw_df = pd.read_csv(\n"
     ]
    },
    {
     "name": "stdout",
     "output_type": "stream",
     "text": [
      "Done loading for: DFW. Missing columns: []\n"
     ]
    },
    {
     "name": "stderr",
     "output_type": "stream",
     "text": [
      "C:\\Users\\brian\\AppData\\Local\\Temp\\ipykernel_15468\\3060233666.py:26: DtypeWarning: Columns (27,33,41,42,43) have mixed types. Specify dtype option on import or set low_memory=False.\n",
      "  raw_df = pd.read_csv(\n"
     ]
    },
    {
     "name": "stdout",
     "output_type": "stream",
     "text": [
      "Done loading for: DRO. Missing columns: []\n"
     ]
    },
    {
     "name": "stderr",
     "output_type": "stream",
     "text": [
      "C:\\Users\\brian\\AppData\\Local\\Temp\\ipykernel_15468\\3060233666.py:26: DtypeWarning: Columns (18,30) have mixed types. Specify dtype option on import or set low_memory=False.\n",
      "  raw_df = pd.read_csv(\n"
     ]
    },
    {
     "name": "stdout",
     "output_type": "stream",
     "text": [
      "Done loading for: DSM. Missing columns: []\n"
     ]
    },
    {
     "name": "stderr",
     "output_type": "stream",
     "text": [
      "C:\\Users\\brian\\AppData\\Local\\Temp\\ipykernel_15468\\3060233666.py:26: DtypeWarning: Columns (21,29) have mixed types. Specify dtype option on import or set low_memory=False.\n",
      "  raw_df = pd.read_csv(\n"
     ]
    },
    {
     "name": "stdout",
     "output_type": "stream",
     "text": [
      "Done loading for: DTW. Missing columns: []\n"
     ]
    },
    {
     "name": "stderr",
     "output_type": "stream",
     "text": [
      "C:\\Users\\brian\\AppData\\Local\\Temp\\ipykernel_15468\\3060233666.py:26: DtypeWarning: Columns (28,30,39,40,41,42,43) have mixed types. Specify dtype option on import or set low_memory=False.\n",
      "  raw_df = pd.read_csv(\n"
     ]
    },
    {
     "name": "stdout",
     "output_type": "stream",
     "text": [
      "Done loading for: EGE. Missing columns: []\n"
     ]
    },
    {
     "name": "stderr",
     "output_type": "stream",
     "text": [
      "C:\\Users\\brian\\AppData\\Local\\Temp\\ipykernel_15468\\3060233666.py:26: DtypeWarning: Columns (23,30) have mixed types. Specify dtype option on import or set low_memory=False.\n",
      "  raw_df = pd.read_csv(\n"
     ]
    },
    {
     "name": "stdout",
     "output_type": "stream",
     "text": [
      "Done loading for: ELP. Missing columns: []\n"
     ]
    },
    {
     "name": "stderr",
     "output_type": "stream",
     "text": [
      "C:\\Users\\brian\\AppData\\Local\\Temp\\ipykernel_15468\\3060233666.py:26: DtypeWarning: Columns (27,34,42,43,44) have mixed types. Specify dtype option on import or set low_memory=False.\n",
      "  raw_df = pd.read_csv(\n"
     ]
    },
    {
     "name": "stdout",
     "output_type": "stream",
     "text": [
      "Done loading for: EUG. Missing columns: []\n"
     ]
    },
    {
     "name": "stderr",
     "output_type": "stream",
     "text": [
      "C:\\Users\\brian\\AppData\\Local\\Temp\\ipykernel_15468\\3060233666.py:26: DtypeWarning: Columns (22,30) have mixed types. Specify dtype option on import or set low_memory=False.\n",
      "  raw_df = pd.read_csv(\n"
     ]
    },
    {
     "name": "stdout",
     "output_type": "stream",
     "text": [
      "Done loading for: EWR. Missing columns: []\n"
     ]
    },
    {
     "name": "stderr",
     "output_type": "stream",
     "text": [
      "C:\\Users\\brian\\AppData\\Local\\Temp\\ipykernel_15468\\3060233666.py:26: DtypeWarning: Columns (23,29) have mixed types. Specify dtype option on import or set low_memory=False.\n",
      "  raw_df = pd.read_csv(\n"
     ]
    },
    {
     "name": "stdout",
     "output_type": "stream",
     "text": [
      "Done loading for: FAR. Missing columns: []\n"
     ]
    },
    {
     "name": "stderr",
     "output_type": "stream",
     "text": [
      "C:\\Users\\brian\\AppData\\Local\\Temp\\ipykernel_15468\\3060233666.py:26: DtypeWarning: Columns (26,33,41,42,43) have mixed types. Specify dtype option on import or set low_memory=False.\n",
      "  raw_df = pd.read_csv(\n"
     ]
    },
    {
     "name": "stdout",
     "output_type": "stream",
     "text": [
      "Done loading for: FAT. Missing columns: []\n"
     ]
    },
    {
     "name": "stderr",
     "output_type": "stream",
     "text": [
      "C:\\Users\\brian\\AppData\\Local\\Temp\\ipykernel_15468\\3060233666.py:26: DtypeWarning: Columns (27,33,41,42,43) have mixed types. Specify dtype option on import or set low_memory=False.\n",
      "  raw_df = pd.read_csv(\n"
     ]
    },
    {
     "name": "stdout",
     "output_type": "stream",
     "text": [
      "Done loading for: FLG. Missing columns: []\n"
     ]
    },
    {
     "name": "stderr",
     "output_type": "stream",
     "text": [
      "C:\\Users\\brian\\AppData\\Local\\Temp\\ipykernel_15468\\3060233666.py:26: DtypeWarning: Columns (23,29) have mixed types. Specify dtype option on import or set low_memory=False.\n",
      "  raw_df = pd.read_csv(\n"
     ]
    },
    {
     "name": "stdout",
     "output_type": "stream",
     "text": [
      "Done loading for: FLL. Missing columns: []\n"
     ]
    },
    {
     "name": "stderr",
     "output_type": "stream",
     "text": [
      "C:\\Users\\brian\\AppData\\Local\\Temp\\ipykernel_15468\\3060233666.py:26: DtypeWarning: Columns (22,30) have mixed types. Specify dtype option on import or set low_memory=False.\n",
      "  raw_df = pd.read_csv(\n"
     ]
    },
    {
     "name": "stdout",
     "output_type": "stream",
     "text": [
      "Done loading for: FSD. Missing columns: []\n"
     ]
    },
    {
     "name": "stderr",
     "output_type": "stream",
     "text": [
      "C:\\Users\\brian\\AppData\\Local\\Temp\\ipykernel_15468\\3060233666.py:26: DtypeWarning: Columns (28,34,42,43,44) have mixed types. Specify dtype option on import or set low_memory=False.\n",
      "  raw_df = pd.read_csv(\n"
     ]
    },
    {
     "name": "stdout",
     "output_type": "stream",
     "text": [
      "Done loading for: GEG. Missing columns: []\n"
     ]
    },
    {
     "name": "stderr",
     "output_type": "stream",
     "text": [
      "C:\\Users\\brian\\AppData\\Local\\Temp\\ipykernel_15468\\3060233666.py:26: DtypeWarning: Columns (27,33,41,42,43) have mixed types. Specify dtype option on import or set low_memory=False.\n",
      "  raw_df = pd.read_csv(\n"
     ]
    },
    {
     "name": "stdout",
     "output_type": "stream",
     "text": [
      "Done loading for: GJT. Missing columns: []\n"
     ]
    },
    {
     "name": "stderr",
     "output_type": "stream",
     "text": [
      "C:\\Users\\brian\\AppData\\Local\\Temp\\ipykernel_15468\\3060233666.py:26: DtypeWarning: Columns (20,30) have mixed types. Specify dtype option on import or set low_memory=False.\n",
      "  raw_df = pd.read_csv(\n"
     ]
    },
    {
     "name": "stdout",
     "output_type": "stream",
     "text": [
      "Done loading for: GRR. Missing columns: []\n"
     ]
    },
    {
     "name": "stderr",
     "output_type": "stream",
     "text": [
      "C:\\Users\\brian\\AppData\\Local\\Temp\\ipykernel_15468\\3060233666.py:26: DtypeWarning: Columns (29,39,40,41,42,43) have mixed types. Specify dtype option on import or set low_memory=False.\n",
      "  raw_df = pd.read_csv(\n"
     ]
    },
    {
     "name": "stdout",
     "output_type": "stream",
     "text": [
      "Done loading for: HDN. Missing columns: []\n"
     ]
    },
    {
     "name": "stderr",
     "output_type": "stream",
     "text": [
      "C:\\Users\\brian\\AppData\\Local\\Temp\\ipykernel_15468\\3060233666.py:26: DtypeWarning: Columns (21,31) have mixed types. Specify dtype option on import or set low_memory=False.\n",
      "  raw_df = pd.read_csv(\n"
     ]
    },
    {
     "name": "stdout",
     "output_type": "stream",
     "text": [
      "Done loading for: HOU. Missing columns: []\n"
     ]
    },
    {
     "name": "stderr",
     "output_type": "stream",
     "text": [
      "C:\\Users\\brian\\AppData\\Local\\Temp\\ipykernel_15468\\3060233666.py:26: DtypeWarning: Columns (22,30) have mixed types. Specify dtype option on import or set low_memory=False.\n",
      "  raw_df = pd.read_csv(\n"
     ]
    },
    {
     "name": "stdout",
     "output_type": "stream",
     "text": [
      "Done loading for: IAD. Missing columns: []\n"
     ]
    },
    {
     "name": "stderr",
     "output_type": "stream",
     "text": [
      "C:\\Users\\brian\\AppData\\Local\\Temp\\ipykernel_15468\\3060233666.py:26: DtypeWarning: Columns (21,29) have mixed types. Specify dtype option on import or set low_memory=False.\n",
      "  raw_df = pd.read_csv(\n"
     ]
    },
    {
     "name": "stdout",
     "output_type": "stream",
     "text": [
      "Done loading for: IAH. Missing columns: []\n"
     ]
    },
    {
     "name": "stderr",
     "output_type": "stream",
     "text": [
      "C:\\Users\\brian\\AppData\\Local\\Temp\\ipykernel_15468\\3060233666.py:26: DtypeWarning: Columns (21,30) have mixed types. Specify dtype option on import or set low_memory=False.\n",
      "  raw_df = pd.read_csv(\n"
     ]
    },
    {
     "name": "stdout",
     "output_type": "stream",
     "text": [
      "Done loading for: ICT. Missing columns: []\n"
     ]
    },
    {
     "name": "stderr",
     "output_type": "stream",
     "text": [
      "C:\\Users\\brian\\AppData\\Local\\Temp\\ipykernel_15468\\3060233666.py:26: DtypeWarning: Columns (27,33,41,42,43) have mixed types. Specify dtype option on import or set low_memory=False.\n",
      "  raw_df = pd.read_csv(\n"
     ]
    },
    {
     "name": "stdout",
     "output_type": "stream",
     "text": [
      "Done loading for: IDA. Missing columns: []\n"
     ]
    },
    {
     "name": "stderr",
     "output_type": "stream",
     "text": [
      "C:\\Users\\brian\\AppData\\Local\\Temp\\ipykernel_15468\\3060233666.py:26: DtypeWarning: Columns (23,30) have mixed types. Specify dtype option on import or set low_memory=False.\n",
      "  raw_df = pd.read_csv(\n"
     ]
    },
    {
     "name": "stdout",
     "output_type": "stream",
     "text": [
      "Done loading for: IND. Missing columns: []\n"
     ]
    },
    {
     "name": "stderr",
     "output_type": "stream",
     "text": [
      "C:\\Users\\brian\\AppData\\Local\\Temp\\ipykernel_15468\\3060233666.py:26: DtypeWarning: Columns (25,30,41,42,43) have mixed types. Specify dtype option on import or set low_memory=False.\n",
      "  raw_df = pd.read_csv(\n"
     ]
    },
    {
     "name": "stdout",
     "output_type": "stream",
     "text": [
      "Done loading for: JAC. Missing columns: []\n"
     ]
    },
    {
     "name": "stderr",
     "output_type": "stream",
     "text": [
      "C:\\Users\\brian\\AppData\\Local\\Temp\\ipykernel_15468\\3060233666.py:26: DtypeWarning: Columns (22,29) have mixed types. Specify dtype option on import or set low_memory=False.\n",
      "  raw_df = pd.read_csv(\n"
     ]
    },
    {
     "name": "stdout",
     "output_type": "stream",
     "text": [
      "Done loading for: JAX. Missing columns: []\n"
     ]
    },
    {
     "name": "stderr",
     "output_type": "stream",
     "text": [
      "C:\\Users\\brian\\AppData\\Local\\Temp\\ipykernel_15468\\3060233666.py:26: DtypeWarning: Columns (23,30) have mixed types. Specify dtype option on import or set low_memory=False.\n",
      "  raw_df = pd.read_csv(\n"
     ]
    },
    {
     "name": "stdout",
     "output_type": "stream",
     "text": [
      "Done loading for: JFK. Missing columns: []\n"
     ]
    },
    {
     "name": "stderr",
     "output_type": "stream",
     "text": [
      "C:\\Users\\brian\\AppData\\Local\\Temp\\ipykernel_15468\\3060233666.py:26: DtypeWarning: Columns (27,33,41,42,43) have mixed types. Specify dtype option on import or set low_memory=False.\n",
      "  raw_df = pd.read_csv(\n"
     ]
    },
    {
     "name": "stdout",
     "output_type": "stream",
     "text": [
      "Done loading for: LAS. Missing columns: []\n"
     ]
    },
    {
     "name": "stderr",
     "output_type": "stream",
     "text": [
      "C:\\Users\\brian\\AppData\\Local\\Temp\\ipykernel_15468\\3060233666.py:26: DtypeWarning: Columns (21,30) have mixed types. Specify dtype option on import or set low_memory=False.\n",
      "  raw_df = pd.read_csv(\n"
     ]
    },
    {
     "name": "stdout",
     "output_type": "stream",
     "text": [
      "Done loading for: LGA. Missing columns: []\n"
     ]
    },
    {
     "name": "stderr",
     "output_type": "stream",
     "text": [
      "C:\\Users\\brian\\AppData\\Local\\Temp\\ipykernel_15468\\3060233666.py:26: DtypeWarning: Columns (20,30) have mixed types. Specify dtype option on import or set low_memory=False.\n",
      "  raw_df = pd.read_csv(\n"
     ]
    },
    {
     "name": "stdout",
     "output_type": "stream",
     "text": [
      "Done loading for: LIT. Missing columns: []\n"
     ]
    },
    {
     "name": "stderr",
     "output_type": "stream",
     "text": [
      "C:\\Users\\brian\\AppData\\Local\\Temp\\ipykernel_15468\\3060233666.py:26: DtypeWarning: Columns (16,29) have mixed types. Specify dtype option on import or set low_memory=False.\n",
      "  raw_df = pd.read_csv(\n"
     ]
    },
    {
     "name": "stdout",
     "output_type": "stream",
     "text": [
      "Done loading for: LRD. Missing columns: []\n"
     ]
    },
    {
     "name": "stderr",
     "output_type": "stream",
     "text": [
      "C:\\Users\\brian\\AppData\\Local\\Temp\\ipykernel_15468\\3060233666.py:26: DtypeWarning: Columns (21,30) have mixed types. Specify dtype option on import or set low_memory=False.\n",
      "  raw_df = pd.read_csv(\n"
     ]
    },
    {
     "name": "stdout",
     "output_type": "stream",
     "text": [
      "Done loading for: MCI. Missing columns: []\n"
     ]
    },
    {
     "name": "stderr",
     "output_type": "stream",
     "text": [
      "C:\\Users\\brian\\AppData\\Local\\Temp\\ipykernel_15468\\3060233666.py:26: DtypeWarning: Columns (20,29) have mixed types. Specify dtype option on import or set low_memory=False.\n",
      "  raw_df = pd.read_csv(\n"
     ]
    },
    {
     "name": "stdout",
     "output_type": "stream",
     "text": [
      "Done loading for: MCO. Missing columns: []\n"
     ]
    },
    {
     "name": "stderr",
     "output_type": "stream",
     "text": [
      "C:\\Users\\brian\\AppData\\Local\\Temp\\ipykernel_15468\\3060233666.py:26: DtypeWarning: Columns (22,30) have mixed types. Specify dtype option on import or set low_memory=False.\n",
      "  raw_df = pd.read_csv(\n"
     ]
    },
    {
     "name": "stdout",
     "output_type": "stream",
     "text": [
      "Done loading for: MDW. Missing columns: []\n"
     ]
    },
    {
     "name": "stderr",
     "output_type": "stream",
     "text": [
      "C:\\Users\\brian\\AppData\\Local\\Temp\\ipykernel_15468\\3060233666.py:26: DtypeWarning: Columns (22,30) have mixed types. Specify dtype option on import or set low_memory=False.\n",
      "  raw_df = pd.read_csv(\n"
     ]
    },
    {
     "name": "stdout",
     "output_type": "stream",
     "text": [
      "Done loading for: MEM. Missing columns: []\n"
     ]
    },
    {
     "name": "stderr",
     "output_type": "stream",
     "text": [
      "C:\\Users\\brian\\AppData\\Local\\Temp\\ipykernel_15468\\3060233666.py:26: DtypeWarning: Columns (22,29) have mixed types. Specify dtype option on import or set low_memory=False.\n",
      "  raw_df = pd.read_csv(\n"
     ]
    },
    {
     "name": "stdout",
     "output_type": "stream",
     "text": [
      "Done loading for: MFE. Missing columns: []\n"
     ]
    },
    {
     "name": "stderr",
     "output_type": "stream",
     "text": [
      "C:\\Users\\brian\\AppData\\Local\\Temp\\ipykernel_15468\\3060233666.py:26: DtypeWarning: Columns (27,33,41,42,43) have mixed types. Specify dtype option on import or set low_memory=False.\n",
      "  raw_df = pd.read_csv(\n"
     ]
    },
    {
     "name": "stdout",
     "output_type": "stream",
     "text": [
      "Done loading for: MFR. Missing columns: []\n"
     ]
    },
    {
     "name": "stderr",
     "output_type": "stream",
     "text": [
      "C:\\Users\\brian\\AppData\\Local\\Temp\\ipykernel_15468\\3060233666.py:26: DtypeWarning: Columns (24,30) have mixed types. Specify dtype option on import or set low_memory=False.\n",
      "  raw_df = pd.read_csv(\n"
     ]
    },
    {
     "name": "stdout",
     "output_type": "stream",
     "text": [
      "Done loading for: MIA. Missing columns: []\n"
     ]
    },
    {
     "name": "stderr",
     "output_type": "stream",
     "text": [
      "C:\\Users\\brian\\AppData\\Local\\Temp\\ipykernel_15468\\3060233666.py:26: DtypeWarning: Columns (21,31) have mixed types. Specify dtype option on import or set low_memory=False.\n",
      "  raw_df = pd.read_csv(\n"
     ]
    },
    {
     "name": "stdout",
     "output_type": "stream",
     "text": [
      "Done loading for: MKE. Missing columns: []\n"
     ]
    },
    {
     "name": "stderr",
     "output_type": "stream",
     "text": [
      "C:\\Users\\brian\\AppData\\Local\\Temp\\ipykernel_15468\\3060233666.py:26: DtypeWarning: Columns (29,35) have mixed types. Specify dtype option on import or set low_memory=False.\n",
      "  raw_df = pd.read_csv(\n"
     ]
    },
    {
     "name": "stdout",
     "output_type": "stream",
     "text": [
      "Done loading for: MMH. Missing columns: []\n"
     ]
    },
    {
     "name": "stderr",
     "output_type": "stream",
     "text": [
      "C:\\Users\\brian\\AppData\\Local\\Temp\\ipykernel_15468\\3060233666.py:26: DtypeWarning: Columns (27,33,41,42,43) have mixed types. Specify dtype option on import or set low_memory=False.\n",
      "  raw_df = pd.read_csv(\n"
     ]
    },
    {
     "name": "stdout",
     "output_type": "stream",
     "text": [
      "Done loading for: MRY. Missing columns: []\n"
     ]
    },
    {
     "name": "stderr",
     "output_type": "stream",
     "text": [
      "C:\\Users\\brian\\AppData\\Local\\Temp\\ipykernel_15468\\3060233666.py:26: DtypeWarning: Columns (21,30) have mixed types. Specify dtype option on import or set low_memory=False.\n",
      "  raw_df = pd.read_csv(\n"
     ]
    },
    {
     "name": "stdout",
     "output_type": "stream",
     "text": [
      "Done loading for: MSN. Missing columns: []\n"
     ]
    },
    {
     "name": "stderr",
     "output_type": "stream",
     "text": [
      "C:\\Users\\brian\\AppData\\Local\\Temp\\ipykernel_15468\\3060233666.py:26: DtypeWarning: Columns (27,33,41,42,43) have mixed types. Specify dtype option on import or set low_memory=False.\n",
      "  raw_df = pd.read_csv(\n"
     ]
    },
    {
     "name": "stdout",
     "output_type": "stream",
     "text": [
      "Done loading for: MSO. Missing columns: []\n"
     ]
    },
    {
     "name": "stderr",
     "output_type": "stream",
     "text": [
      "C:\\Users\\brian\\AppData\\Local\\Temp\\ipykernel_15468\\3060233666.py:26: DtypeWarning: Columns (21,30) have mixed types. Specify dtype option on import or set low_memory=False.\n",
      "  raw_df = pd.read_csv(\n"
     ]
    },
    {
     "name": "stdout",
     "output_type": "stream",
     "text": [
      "Done loading for: MSP. Missing columns: []\n"
     ]
    },
    {
     "name": "stderr",
     "output_type": "stream",
     "text": [
      "C:\\Users\\brian\\AppData\\Local\\Temp\\ipykernel_15468\\3060233666.py:26: DtypeWarning: Columns (22,29) have mixed types. Specify dtype option on import or set low_memory=False.\n",
      "  raw_df = pd.read_csv(\n"
     ]
    },
    {
     "name": "stdout",
     "output_type": "stream",
     "text": [
      "Done loading for: MSY. Missing columns: []\n"
     ]
    },
    {
     "name": "stderr",
     "output_type": "stream",
     "text": [
      "C:\\Users\\brian\\AppData\\Local\\Temp\\ipykernel_15468\\3060233666.py:26: DtypeWarning: Columns (27,33,41,42,43) have mixed types. Specify dtype option on import or set low_memory=False.\n",
      "  raw_df = pd.read_csv(\n"
     ]
    },
    {
     "name": "stdout",
     "output_type": "stream",
     "text": [
      "Done loading for: MTJ. Missing columns: []\n"
     ]
    },
    {
     "name": "stderr",
     "output_type": "stream",
     "text": [
      "C:\\Users\\brian\\AppData\\Local\\Temp\\ipykernel_15468\\3060233666.py:26: DtypeWarning: Columns (27,33,41,42,43) have mixed types. Specify dtype option on import or set low_memory=False.\n",
      "  raw_df = pd.read_csv(\n"
     ]
    },
    {
     "name": "stdout",
     "output_type": "stream",
     "text": [
      "Done loading for: OAK. Missing columns: []\n"
     ]
    },
    {
     "name": "stderr",
     "output_type": "stream",
     "text": [
      "C:\\Users\\brian\\AppData\\Local\\Temp\\ipykernel_15468\\3060233666.py:26: DtypeWarning: Columns (18,30) have mixed types. Specify dtype option on import or set low_memory=False.\n",
      "  raw_df = pd.read_csv(\n"
     ]
    },
    {
     "name": "stdout",
     "output_type": "stream",
     "text": [
      "Done loading for: OKC. Missing columns: []\n"
     ]
    },
    {
     "name": "stderr",
     "output_type": "stream",
     "text": [
      "C:\\Users\\brian\\AppData\\Local\\Temp\\ipykernel_15468\\3060233666.py:26: DtypeWarning: Columns (22,30) have mixed types. Specify dtype option on import or set low_memory=False.\n",
      "  raw_df = pd.read_csv(\n"
     ]
    },
    {
     "name": "stdout",
     "output_type": "stream",
     "text": [
      "Done loading for: OMA. Missing columns: []\n"
     ]
    },
    {
     "name": "stderr",
     "output_type": "stream",
     "text": [
      "C:\\Users\\brian\\AppData\\Local\\Temp\\ipykernel_15468\\3060233666.py:26: DtypeWarning: Columns (20,30) have mixed types. Specify dtype option on import or set low_memory=False.\n",
      "  raw_df = pd.read_csv(\n"
     ]
    },
    {
     "name": "stdout",
     "output_type": "stream",
     "text": [
      "Done loading for: ORD. Missing columns: []\n"
     ]
    },
    {
     "name": "stderr",
     "output_type": "stream",
     "text": [
      "C:\\Users\\brian\\AppData\\Local\\Temp\\ipykernel_15468\\3060233666.py:26: DtypeWarning: Columns (27,33,41,42,43) have mixed types. Specify dtype option on import or set low_memory=False.\n",
      "  raw_df = pd.read_csv(\n"
     ]
    },
    {
     "name": "stdout",
     "output_type": "stream",
     "text": [
      "Done loading for: PAE. Missing columns: []\n"
     ]
    },
    {
     "name": "stderr",
     "output_type": "stream",
     "text": [
      "C:\\Users\\brian\\AppData\\Local\\Temp\\ipykernel_15468\\3060233666.py:26: DtypeWarning: Columns (21,29) have mixed types. Specify dtype option on import or set low_memory=False.\n",
      "  raw_df = pd.read_csv(\n"
     ]
    },
    {
     "name": "stdout",
     "output_type": "stream",
     "text": [
      "Done loading for: PBI. Missing columns: []\n"
     ]
    },
    {
     "name": "stderr",
     "output_type": "stream",
     "text": [
      "C:\\Users\\brian\\AppData\\Local\\Temp\\ipykernel_15468\\3060233666.py:26: DtypeWarning: Columns (28,34,42,43,44) have mixed types. Specify dtype option on import or set low_memory=False.\n",
      "  raw_df = pd.read_csv(\n"
     ]
    },
    {
     "name": "stdout",
     "output_type": "stream",
     "text": [
      "Done loading for: PDX. Missing columns: []\n"
     ]
    },
    {
     "name": "stderr",
     "output_type": "stream",
     "text": [
      "C:\\Users\\brian\\AppData\\Local\\Temp\\ipykernel_15468\\3060233666.py:26: DtypeWarning: Columns (22,29) have mixed types. Specify dtype option on import or set low_memory=False.\n",
      "  raw_df = pd.read_csv(\n"
     ]
    },
    {
     "name": "stdout",
     "output_type": "stream",
     "text": [
      "Done loading for: PHL. Missing columns: []\n"
     ]
    },
    {
     "name": "stderr",
     "output_type": "stream",
     "text": [
      "C:\\Users\\brian\\AppData\\Local\\Temp\\ipykernel_15468\\3060233666.py:26: DtypeWarning: Columns (27,33,41,42,43) have mixed types. Specify dtype option on import or set low_memory=False.\n",
      "  raw_df = pd.read_csv(\n"
     ]
    },
    {
     "name": "stdout",
     "output_type": "stream",
     "text": [
      "Done loading for: PHX. Missing columns: []\n"
     ]
    },
    {
     "name": "stderr",
     "output_type": "stream",
     "text": [
      "C:\\Users\\brian\\AppData\\Local\\Temp\\ipykernel_15468\\3060233666.py:26: DtypeWarning: Columns (23,31) have mixed types. Specify dtype option on import or set low_memory=False.\n",
      "  raw_df = pd.read_csv(\n"
     ]
    },
    {
     "name": "stdout",
     "output_type": "stream",
     "text": [
      "Done loading for: PIT. Missing columns: []\n"
     ]
    },
    {
     "name": "stderr",
     "output_type": "stream",
     "text": [
      "C:\\Users\\brian\\AppData\\Local\\Temp\\ipykernel_15468\\3060233666.py:26: DtypeWarning: Columns (27,33,41,42,43) have mixed types. Specify dtype option on import or set low_memory=False.\n",
      "  raw_df = pd.read_csv(\n"
     ]
    },
    {
     "name": "stdout",
     "output_type": "stream",
     "text": [
      "Done loading for: PRC. Missing columns: []\n"
     ]
    },
    {
     "name": "stderr",
     "output_type": "stream",
     "text": [
      "C:\\Users\\brian\\AppData\\Local\\Temp\\ipykernel_15468\\3060233666.py:26: DtypeWarning: Columns (27,33,41,42,43) have mixed types. Specify dtype option on import or set low_memory=False.\n",
      "  raw_df = pd.read_csv(\n"
     ]
    },
    {
     "name": "stdout",
     "output_type": "stream",
     "text": [
      "Done loading for: PSC. Missing columns: []\n"
     ]
    },
    {
     "name": "stderr",
     "output_type": "stream",
     "text": [
      "C:\\Users\\brian\\AppData\\Local\\Temp\\ipykernel_15468\\3060233666.py:26: DtypeWarning: Columns (27,33,41,42,43) have mixed types. Specify dtype option on import or set low_memory=False.\n",
      "  raw_df = pd.read_csv(\n"
     ]
    },
    {
     "name": "stdout",
     "output_type": "stream",
     "text": [
      "Done loading for: PSP. Missing columns: []\n"
     ]
    },
    {
     "name": "stderr",
     "output_type": "stream",
     "text": [
      "C:\\Users\\brian\\AppData\\Local\\Temp\\ipykernel_15468\\3060233666.py:26: DtypeWarning: Columns (29,39,40,41,42,43) have mixed types. Specify dtype option on import or set low_memory=False.\n",
      "  raw_df = pd.read_csv(\n"
     ]
    },
    {
     "name": "stdout",
     "output_type": "stream",
     "text": [
      "Done loading for: PVU. Missing columns: []\n"
     ]
    },
    {
     "name": "stderr",
     "output_type": "stream",
     "text": [
      "C:\\Users\\brian\\AppData\\Local\\Temp\\ipykernel_15468\\3060233666.py:26: DtypeWarning: Columns (19,29) have mixed types. Specify dtype option on import or set low_memory=False.\n",
      "  raw_df = pd.read_csv(\n"
     ]
    },
    {
     "name": "stdout",
     "output_type": "stream",
     "text": [
      "Done loading for: RAP. Missing columns: []\n"
     ]
    },
    {
     "name": "stderr",
     "output_type": "stream",
     "text": [
      "C:\\Users\\brian\\AppData\\Local\\Temp\\ipykernel_15468\\3060233666.py:26: DtypeWarning: Columns (27,33,42,43,44) have mixed types. Specify dtype option on import or set low_memory=False.\n",
      "  raw_df = pd.read_csv(\n"
     ]
    },
    {
     "name": "stdout",
     "output_type": "stream",
     "text": [
      "Done loading for: RDD. Missing columns: []\n"
     ]
    },
    {
     "name": "stderr",
     "output_type": "stream",
     "text": [
      "C:\\Users\\brian\\AppData\\Local\\Temp\\ipykernel_15468\\3060233666.py:26: DtypeWarning: Columns (27,33,39,40,41,42,43) have mixed types. Specify dtype option on import or set low_memory=False.\n",
      "  raw_df = pd.read_csv(\n"
     ]
    },
    {
     "name": "stdout",
     "output_type": "stream",
     "text": [
      "Done loading for: RDM. Missing columns: []\n"
     ]
    },
    {
     "name": "stderr",
     "output_type": "stream",
     "text": [
      "C:\\Users\\brian\\AppData\\Local\\Temp\\ipykernel_15468\\3060233666.py:26: DtypeWarning: Columns (23,30) have mixed types. Specify dtype option on import or set low_memory=False.\n",
      "  raw_df = pd.read_csv(\n"
     ]
    },
    {
     "name": "stdout",
     "output_type": "stream",
     "text": [
      "Done loading for: RDU. Missing columns: []\n"
     ]
    },
    {
     "name": "stderr",
     "output_type": "stream",
     "text": [
      "C:\\Users\\brian\\AppData\\Local\\Temp\\ipykernel_15468\\3060233666.py:26: DtypeWarning: Columns (21,30) have mixed types. Specify dtype option on import or set low_memory=False.\n",
      "  raw_df = pd.read_csv(\n"
     ]
    },
    {
     "name": "stdout",
     "output_type": "stream",
     "text": [
      "Done loading for: RFD. Missing columns: []\n"
     ]
    },
    {
     "name": "stderr",
     "output_type": "stream",
     "text": [
      "C:\\Users\\brian\\AppData\\Local\\Temp\\ipykernel_15468\\3060233666.py:26: DtypeWarning: Columns (20,30) have mixed types. Specify dtype option on import or set low_memory=False.\n",
      "  raw_df = pd.read_csv(\n"
     ]
    },
    {
     "name": "stdout",
     "output_type": "stream",
     "text": [
      "Done loading for: RIC. Missing columns: []\n"
     ]
    },
    {
     "name": "stderr",
     "output_type": "stream",
     "text": [
      "C:\\Users\\brian\\AppData\\Local\\Temp\\ipykernel_15468\\3060233666.py:26: DtypeWarning: Columns (28,34,42,43,44) have mixed types. Specify dtype option on import or set low_memory=False.\n",
      "  raw_df = pd.read_csv(\n"
     ]
    },
    {
     "name": "stdout",
     "output_type": "stream",
     "text": [
      "Done loading for: RNO. Missing columns: []\n"
     ]
    },
    {
     "name": "stderr",
     "output_type": "stream",
     "text": [
      "C:\\Users\\brian\\AppData\\Local\\Temp\\ipykernel_15468\\3060233666.py:26: DtypeWarning: Columns (21,29) have mixed types. Specify dtype option on import or set low_memory=False.\n",
      "  raw_df = pd.read_csv(\n"
     ]
    },
    {
     "name": "stdout",
     "output_type": "stream",
     "text": [
      "Done loading for: RSW. Missing columns: []\n"
     ]
    },
    {
     "name": "stderr",
     "output_type": "stream",
     "text": [
      "C:\\Users\\brian\\AppData\\Local\\Temp\\ipykernel_15468\\3060233666.py:26: DtypeWarning: Columns (27,33,41,42,43) have mixed types. Specify dtype option on import or set low_memory=False.\n",
      "  raw_df = pd.read_csv(\n"
     ]
    },
    {
     "name": "stdout",
     "output_type": "stream",
     "text": [
      "Done loading for: SAF. Missing columns: []\n"
     ]
    },
    {
     "name": "stderr",
     "output_type": "stream",
     "text": [
      "C:\\Users\\brian\\AppData\\Local\\Temp\\ipykernel_15468\\3060233666.py:26: DtypeWarning: Columns (26,33,41,42,43) have mixed types. Specify dtype option on import or set low_memory=False.\n",
      "  raw_df = pd.read_csv(\n"
     ]
    },
    {
     "name": "stdout",
     "output_type": "stream",
     "text": [
      "Done loading for: SAN. Missing columns: []\n"
     ]
    },
    {
     "name": "stderr",
     "output_type": "stream",
     "text": [
      "C:\\Users\\brian\\AppData\\Local\\Temp\\ipykernel_15468\\3060233666.py:26: DtypeWarning: Columns (16,30) have mixed types. Specify dtype option on import or set low_memory=False.\n",
      "  raw_df = pd.read_csv(\n"
     ]
    },
    {
     "name": "stdout",
     "output_type": "stream",
     "text": [
      "Done loading for: SAT. Missing columns: []\n"
     ]
    },
    {
     "name": "stderr",
     "output_type": "stream",
     "text": [
      "C:\\Users\\brian\\AppData\\Local\\Temp\\ipykernel_15468\\3060233666.py:26: DtypeWarning: Columns (26,33,41,42,43) have mixed types. Specify dtype option on import or set low_memory=False.\n",
      "  raw_df = pd.read_csv(\n"
     ]
    },
    {
     "name": "stdout",
     "output_type": "stream",
     "text": [
      "Done loading for: SBA. Missing columns: []\n"
     ]
    },
    {
     "name": "stderr",
     "output_type": "stream",
     "text": [
      "C:\\Users\\brian\\AppData\\Local\\Temp\\ipykernel_15468\\3060233666.py:26: DtypeWarning: Columns (22,30) have mixed types. Specify dtype option on import or set low_memory=False.\n",
      "  raw_df = pd.read_csv(\n"
     ]
    },
    {
     "name": "stdout",
     "output_type": "stream",
     "text": [
      "Done loading for: SBN. Missing columns: []\n"
     ]
    },
    {
     "name": "stderr",
     "output_type": "stream",
     "text": [
      "C:\\Users\\brian\\AppData\\Local\\Temp\\ipykernel_15468\\3060233666.py:26: DtypeWarning: Columns (26,33,41,42,43) have mixed types. Specify dtype option on import or set low_memory=False.\n",
      "  raw_df = pd.read_csv(\n"
     ]
    },
    {
     "name": "stdout",
     "output_type": "stream",
     "text": [
      "Done loading for: SBP. Missing columns: []\n"
     ]
    },
    {
     "name": "stderr",
     "output_type": "stream",
     "text": [
      "C:\\Users\\brian\\AppData\\Local\\Temp\\ipykernel_15468\\3060233666.py:26: DtypeWarning: Columns (27,33,41,42,43) have mixed types. Specify dtype option on import or set low_memory=False.\n",
      "  raw_df = pd.read_csv(\n"
     ]
    },
    {
     "name": "stdout",
     "output_type": "stream",
     "text": [
      "Done loading for: SCK. Missing columns: []\n"
     ]
    },
    {
     "name": "stderr",
     "output_type": "stream",
     "text": [
      "C:\\Users\\brian\\AppData\\Local\\Temp\\ipykernel_15468\\3060233666.py:26: DtypeWarning: Columns (23,30) have mixed types. Specify dtype option on import or set low_memory=False.\n",
      "  raw_df = pd.read_csv(\n"
     ]
    },
    {
     "name": "stdout",
     "output_type": "stream",
     "text": [
      "Done loading for: SDF. Missing columns: []\n"
     ]
    },
    {
     "name": "stderr",
     "output_type": "stream",
     "text": [
      "C:\\Users\\brian\\AppData\\Local\\Temp\\ipykernel_15468\\3060233666.py:26: DtypeWarning: Columns (28,34,42,43,44) have mixed types. Specify dtype option on import or set low_memory=False.\n",
      "  raw_df = pd.read_csv(\n"
     ]
    },
    {
     "name": "stdout",
     "output_type": "stream",
     "text": [
      "Done loading for: SEA. Missing columns: []\n"
     ]
    },
    {
     "name": "stderr",
     "output_type": "stream",
     "text": [
      "C:\\Users\\brian\\AppData\\Local\\Temp\\ipykernel_15468\\3060233666.py:26: DtypeWarning: Columns (27,33,41,42,43) have mixed types. Specify dtype option on import or set low_memory=False.\n",
      "  raw_df = pd.read_csv(\n"
     ]
    },
    {
     "name": "stdout",
     "output_type": "stream",
     "text": [
      "Done loading for: SFO. Missing columns: []\n"
     ]
    },
    {
     "name": "stderr",
     "output_type": "stream",
     "text": [
      "C:\\Users\\brian\\AppData\\Local\\Temp\\ipykernel_15468\\3060233666.py:26: DtypeWarning: Columns (22,29) have mixed types. Specify dtype option on import or set low_memory=False.\n",
      "  raw_df = pd.read_csv(\n"
     ]
    },
    {
     "name": "stdout",
     "output_type": "stream",
     "text": [
      "Done loading for: SGF. Missing columns: []\n"
     ]
    },
    {
     "name": "stderr",
     "output_type": "stream",
     "text": [
      "C:\\Users\\brian\\AppData\\Local\\Temp\\ipykernel_15468\\3060233666.py:26: DtypeWarning: Columns (29,39,40,41,42,43) have mixed types. Specify dtype option on import or set low_memory=False.\n",
      "  raw_df = pd.read_csv(\n"
     ]
    },
    {
     "name": "stdout",
     "output_type": "stream",
     "text": [
      "Done loading for: SGU. Missing columns: []\n"
     ]
    },
    {
     "name": "stderr",
     "output_type": "stream",
     "text": [
      "C:\\Users\\brian\\AppData\\Local\\Temp\\ipykernel_15468\\3060233666.py:26: DtypeWarning: Columns (22,30) have mixed types. Specify dtype option on import or set low_memory=False.\n",
      "  raw_df = pd.read_csv(\n"
     ]
    },
    {
     "name": "stdout",
     "output_type": "stream",
     "text": [
      "Done loading for: SHV. Missing columns: []\n"
     ]
    },
    {
     "name": "stderr",
     "output_type": "stream",
     "text": [
      "C:\\Users\\brian\\AppData\\Local\\Temp\\ipykernel_15468\\3060233666.py:26: DtypeWarning: Columns (26,33,41,42,43) have mixed types. Specify dtype option on import or set low_memory=False.\n",
      "  raw_df = pd.read_csv(\n"
     ]
    },
    {
     "name": "stdout",
     "output_type": "stream",
     "text": [
      "Done loading for: SJC. Missing columns: []\n"
     ]
    },
    {
     "name": "stderr",
     "output_type": "stream",
     "text": [
      "C:\\Users\\brian\\AppData\\Local\\Temp\\ipykernel_15468\\3060233666.py:26: DtypeWarning: Columns (27,33,39,40,41,42,43) have mixed types. Specify dtype option on import or set low_memory=False.\n",
      "  raw_df = pd.read_csv(\n"
     ]
    },
    {
     "name": "stdout",
     "output_type": "stream",
     "text": [
      "Done loading for: SMF. Missing columns: []\n"
     ]
    },
    {
     "name": "stderr",
     "output_type": "stream",
     "text": [
      "C:\\Users\\brian\\AppData\\Local\\Temp\\ipykernel_15468\\3060233666.py:26: DtypeWarning: Columns (26,33,41,42,43) have mixed types. Specify dtype option on import or set low_memory=False.\n",
      "  raw_df = pd.read_csv(\n"
     ]
    },
    {
     "name": "stdout",
     "output_type": "stream",
     "text": [
      "Done loading for: SNA. Missing columns: []\n"
     ]
    },
    {
     "name": "stderr",
     "output_type": "stream",
     "text": [
      "C:\\Users\\brian\\AppData\\Local\\Temp\\ipykernel_15468\\3060233666.py:26: DtypeWarning: Columns (19,30) have mixed types. Specify dtype option on import or set low_memory=False.\n",
      "  raw_df = pd.read_csv(\n"
     ]
    },
    {
     "name": "stdout",
     "output_type": "stream",
     "text": [
      "Done loading for: STL. Missing columns: []\n"
     ]
    },
    {
     "name": "stderr",
     "output_type": "stream",
     "text": [
      "C:\\Users\\brian\\AppData\\Local\\Temp\\ipykernel_15468\\3060233666.py:26: DtypeWarning: Columns (26,33,41,42,43) have mixed types. Specify dtype option on import or set low_memory=False.\n",
      "  raw_df = pd.read_csv(\n"
     ]
    },
    {
     "name": "stdout",
     "output_type": "stream",
     "text": [
      "Done loading for: STS. Missing columns: []\n"
     ]
    },
    {
     "name": "stderr",
     "output_type": "stream",
     "text": [
      "C:\\Users\\brian\\AppData\\Local\\Temp\\ipykernel_15468\\3060233666.py:26: DtypeWarning: Columns (13,29) have mixed types. Specify dtype option on import or set low_memory=False.\n",
      "  raw_df = pd.read_csv(\n"
     ]
    },
    {
     "name": "stdout",
     "output_type": "stream",
     "text": [
      "Done loading for: TPA. Missing columns: []\n"
     ]
    },
    {
     "name": "stderr",
     "output_type": "stream",
     "text": [
      "C:\\Users\\brian\\AppData\\Local\\Temp\\ipykernel_15468\\3060233666.py:26: DtypeWarning: Columns (21,30) have mixed types. Specify dtype option on import or set low_memory=False.\n",
      "  raw_df = pd.read_csv(\n"
     ]
    },
    {
     "name": "stdout",
     "output_type": "stream",
     "text": [
      "Done loading for: TUL. Missing columns: []\n"
     ]
    },
    {
     "name": "stderr",
     "output_type": "stream",
     "text": [
      "C:\\Users\\brian\\AppData\\Local\\Temp\\ipykernel_15468\\3060233666.py:26: DtypeWarning: Columns (27,33,41,42,43) have mixed types. Specify dtype option on import or set low_memory=False.\n",
      "  raw_df = pd.read_csv(\n"
     ]
    },
    {
     "name": "stdout",
     "output_type": "stream",
     "text": [
      "Done loading for: TUS. Missing columns: []\n"
     ]
    },
    {
     "name": "stderr",
     "output_type": "stream",
     "text": [
      "C:\\Users\\brian\\AppData\\Local\\Temp\\ipykernel_15468\\3060233666.py:26: DtypeWarning: Columns (19,29) have mixed types. Specify dtype option on import or set low_memory=False.\n",
      "  raw_df = pd.read_csv(\n"
     ]
    },
    {
     "name": "stdout",
     "output_type": "stream",
     "text": [
      "Done loading for: XNA. Missing columns: []\n"
     ]
    },
    {
     "name": "stderr",
     "output_type": "stream",
     "text": [
      "C:\\Users\\brian\\AppData\\Local\\Temp\\ipykernel_15468\\3060233666.py:26: DtypeWarning: Columns (20,30) have mixed types. Specify dtype option on import or set low_memory=False.\n",
      "  raw_df = pd.read_csv(\n"
     ]
    },
    {
     "name": "stdout",
     "output_type": "stream",
     "text": [
      "Done loading for: ANC. Missing columns: []\n"
     ]
    },
    {
     "name": "stderr",
     "output_type": "stream",
     "text": [
      "C:\\Users\\brian\\AppData\\Local\\Temp\\ipykernel_15468\\3060233666.py:26: DtypeWarning: Columns (22,29) have mixed types. Specify dtype option on import or set low_memory=False.\n",
      "  raw_df = pd.read_csv(\n"
     ]
    },
    {
     "name": "stdout",
     "output_type": "stream",
     "text": [
      "Done loading for: KOA. Missing columns: []\n"
     ]
    },
    {
     "name": "stderr",
     "output_type": "stream",
     "text": [
      "C:\\Users\\brian\\AppData\\Local\\Temp\\ipykernel_15468\\3060233666.py:26: DtypeWarning: Columns (23,29) have mixed types. Specify dtype option on import or set low_memory=False.\n",
      "  raw_df = pd.read_csv(\n"
     ]
    },
    {
     "name": "stdout",
     "output_type": "stream",
     "text": [
      "Done loading for: LIH. Missing columns: []\n"
     ]
    },
    {
     "name": "stderr",
     "output_type": "stream",
     "text": [
      "C:\\Users\\brian\\AppData\\Local\\Temp\\ipykernel_15468\\3060233666.py:26: DtypeWarning: Columns (22,29) have mixed types. Specify dtype option on import or set low_memory=False.\n",
      "  raw_df = pd.read_csv(\n"
     ]
    },
    {
     "name": "stdout",
     "output_type": "stream",
     "text": [
      "Done loading for: HNL. Missing columns: []\n"
     ]
    },
    {
     "name": "stderr",
     "output_type": "stream",
     "text": [
      "C:\\Users\\brian\\AppData\\Local\\Temp\\ipykernel_15468\\3060233666.py:26: DtypeWarning: Columns (21,29,35) have mixed types. Specify dtype option on import or set low_memory=False.\n",
      "  raw_df = pd.read_csv(\n"
     ]
    },
    {
     "name": "stdout",
     "output_type": "stream",
     "text": [
      "Done loading for: OGG. Missing columns: []\n"
     ]
    },
    {
     "name": "stderr",
     "output_type": "stream",
     "text": [
      "C:\\Users\\brian\\AppData\\Local\\Temp\\ipykernel_15468\\3060233666.py:26: DtypeWarning: Columns (22,29) have mixed types. Specify dtype option on import or set low_memory=False.\n",
      "  raw_df = pd.read_csv(\n"
     ]
    },
    {
     "name": "stdout",
     "output_type": "stream",
     "text": [
      "Done loading for: ITO. Missing columns: []\n"
     ]
    }
   ],
   "source": [
    "# get input path\n",
    "weather_folder = '../Resources/Weather'\n",
    "\n",
    "# get csv files\n",
    "csv_files = glob.glob(os.path.join(weather_folder, '*.csv'))\n",
    "\n",
    "# cols to select\n",
    "desired_cols = [\n",
    "    'Date', 'Time','date_time', 'precip_accum_one_hour', 'precip_accum_six_hour', 'air_temp', 'dew_point_temperature', \n",
    "    'relative_humidity', 'wind_speed', 'wind_direction', 'wind_gust', 'visibility', 'ceiling', 'sea_level_pressure', \n",
    "    'weather_cond_code'\n",
    "]\n",
    "\n",
    "# dict to hold dataframes\n",
    "destination_dfs = {}\n",
    "missing_cols_dict = {}\n",
    "\n",
    "try: \n",
    "    for file_path in csv_files:\n",
    "        file_name = os.path.basename(file_path)\n",
    "        # get key name\n",
    "        station_id = file_name.split('_')[0]\n",
    "        station_code = get_station_code(station_id)\n",
    "\n",
    "        # read csv into df\n",
    "        raw_df = pd.read_csv(\n",
    "            file_path,\n",
    "            skiprows=[1]\n",
    "        )\n",
    "\n",
    "        # see which cols the df has that you want\n",
    "        actual_cols = set(raw_df.columns)\n",
    "        keep_cols = list(actual_cols.intersection(desired_cols))\n",
    "\n",
    "        # subset to those existing columns\n",
    "        df = raw_df[keep_cols].copy()\n",
    "\n",
    "        # identify which desired columns are missing \n",
    "        missing_cols = list(set(desired_cols) - actual_cols)\n",
    "\n",
    "        # create missing cols fileed with NA\n",
    "        for col in missing_cols:\n",
    "            df[col] = pd.NA\n",
    "\n",
    "        # reorder cols\n",
    "        df = df[desired_cols]\n",
    "\n",
    "        # convert some columns to nullable int if they exist\n",
    "        dtype_map ={\n",
    "                'weather_cond_code': 'Int64',\n",
    "                'ceiling': 'Int64'\n",
    "            } \n",
    "        \n",
    "        for col, col_type in dtype_map.items():\n",
    "            if col in df.columns:\n",
    "                df[col] = df[col].astype(col_type)\n",
    "\n",
    "        # store dict: station id is key and df is value\n",
    "        destination_dfs[station_code] = df\n",
    "\n",
    "        # also store record of which columns were missing\n",
    "        missing_cols_dict[station_code] = missing_cols\n",
    "\n",
    "        # print\n",
    "        print(f'Done loading for: {station_code}. Missing columns: {missing_cols}')\n",
    "except Exception as e:\n",
    "    print(f'Error reading {station_code}: {e}')"
   ]
  },
  {
   "cell_type": "code",
   "execution_count": 117,
   "metadata": {},
   "outputs": [
    {
     "data": {
      "text/plain": [
       "{'ABQ': [],\n",
       " 'ACV': [],\n",
       " 'ASE': [],\n",
       " 'ATL': [],\n",
       " 'ATW': ['precip_accum_six_hour'],\n",
       " 'AUS': [],\n",
       " 'BDL': [],\n",
       " 'BHM': [],\n",
       " 'BIH': [],\n",
       " 'BIL': [],\n",
       " 'BLI': [],\n",
       " 'BNA': [],\n",
       " 'BOI': [],\n",
       " 'BOS': [],\n",
       " 'BTR': [],\n",
       " 'BUF': [],\n",
       " 'BUR': [],\n",
       " 'BWI': [],\n",
       " 'BZN': [],\n",
       " 'CHS': [],\n",
       " 'CID': [],\n",
       " 'CLE': [],\n",
       " 'CLT': [],\n",
       " 'CMH': [],\n",
       " 'COS': [],\n",
       " 'CVG': [],\n",
       " 'DAL': [],\n",
       " 'DCA': [],\n",
       " 'DEN': [],\n",
       " 'DFW': [],\n",
       " 'DRO': [],\n",
       " 'DSM': [],\n",
       " 'DTW': [],\n",
       " 'EGE': [],\n",
       " 'ELP': [],\n",
       " 'EUG': [],\n",
       " 'EWR': [],\n",
       " 'FAR': [],\n",
       " 'FAT': [],\n",
       " 'FLG': [],\n",
       " 'FLL': [],\n",
       " 'FSD': [],\n",
       " 'GEG': [],\n",
       " 'GJT': [],\n",
       " 'GRR': [],\n",
       " 'HDN': [],\n",
       " 'HOU': [],\n",
       " 'IAD': [],\n",
       " 'IAH': [],\n",
       " 'ICT': [],\n",
       " 'IDA': [],\n",
       " 'IND': [],\n",
       " 'JAC': [],\n",
       " 'JAX': [],\n",
       " 'JFK': [],\n",
       " 'LAS': [],\n",
       " 'LGA': [],\n",
       " 'LIT': [],\n",
       " 'LRD': [],\n",
       " 'MCI': [],\n",
       " 'MCO': [],\n",
       " 'MDW': [],\n",
       " 'MEM': [],\n",
       " 'MFE': [],\n",
       " 'MFR': [],\n",
       " 'MIA': [],\n",
       " 'MKE': [],\n",
       " 'MMH': [],\n",
       " 'MRY': [],\n",
       " 'MSN': [],\n",
       " 'MSO': [],\n",
       " 'MSP': [],\n",
       " 'MSY': [],\n",
       " 'MTJ': [],\n",
       " 'OAK': [],\n",
       " 'OKC': [],\n",
       " 'OMA': [],\n",
       " 'ORD': [],\n",
       " 'PAE': [],\n",
       " 'PBI': [],\n",
       " 'PDX': [],\n",
       " 'PHL': [],\n",
       " 'PHX': [],\n",
       " 'PIT': [],\n",
       " 'PRC': [],\n",
       " 'PSC': [],\n",
       " 'PSP': [],\n",
       " 'PVU': [],\n",
       " 'RAP': [],\n",
       " 'RDD': [],\n",
       " 'RDM': [],\n",
       " 'RDU': [],\n",
       " 'RFD': [],\n",
       " 'RIC': [],\n",
       " 'RNO': [],\n",
       " 'RSW': [],\n",
       " 'SAF': [],\n",
       " 'SAN': [],\n",
       " 'SAT': [],\n",
       " 'SBA': [],\n",
       " 'SBN': [],\n",
       " 'SBP': [],\n",
       " 'SCK': [],\n",
       " 'SDF': [],\n",
       " 'SEA': [],\n",
       " 'SFO': [],\n",
       " 'SGF': [],\n",
       " 'SGU': [],\n",
       " 'SHV': [],\n",
       " 'SJC': [],\n",
       " 'SMF': [],\n",
       " 'SNA': [],\n",
       " 'STL': [],\n",
       " 'STS': [],\n",
       " 'TPA': [],\n",
       " 'TUL': [],\n",
       " 'TUS': [],\n",
       " 'XNA': [],\n",
       " 'ANC': [],\n",
       " 'KOA': [],\n",
       " 'LIH': [],\n",
       " 'HNL': [],\n",
       " 'OGG': [],\n",
       " 'ITO': []}"
      ]
     },
     "execution_count": 117,
     "metadata": {},
     "output_type": "execute_result"
    }
   ],
   "source": [
    "missing_cols_dict"
   ]
  },
  {
   "cell_type": "code",
   "execution_count": 65,
   "metadata": {},
   "outputs": [
    {
     "data": {
      "text/plain": [
       "{'SLC'}"
      ]
     },
     "execution_count": 65,
     "metadata": {},
     "output_type": "execute_result"
    }
   ],
   "source": [
    "set(station_codes) - set(list(missing_cols_dict.keys()))"
   ]
  },
  {
   "cell_type": "markdown",
   "metadata": {},
   "source": [
    "### Get airport codes for looping"
   ]
  },
  {
   "cell_type": "code",
   "execution_count": 83,
   "metadata": {},
   "outputs": [
    {
     "data": {
      "text/plain": [
       "['ABQ',\n",
       " 'ACV',\n",
       " 'ASE',\n",
       " 'ATL',\n",
       " 'AUS',\n",
       " 'BDL',\n",
       " 'BHM',\n",
       " 'BIH',\n",
       " 'BIL',\n",
       " 'BLI',\n",
       " 'BNA',\n",
       " 'BOI',\n",
       " 'BOS',\n",
       " 'BTR',\n",
       " 'BUF',\n",
       " 'BUR',\n",
       " 'BWI',\n",
       " 'BZN',\n",
       " 'CHS',\n",
       " 'CID',\n",
       " 'CLE',\n",
       " 'CLT',\n",
       " 'CMH',\n",
       " 'COS',\n",
       " 'CVG',\n",
       " 'DAL',\n",
       " 'DCA',\n",
       " 'DEN',\n",
       " 'DFW',\n",
       " 'DRO',\n",
       " 'DSM',\n",
       " 'DTW',\n",
       " 'EGE',\n",
       " 'ELP',\n",
       " 'EUG',\n",
       " 'EWR',\n",
       " 'FAR',\n",
       " 'FAT',\n",
       " 'FLG',\n",
       " 'FLL',\n",
       " 'FSD',\n",
       " 'GEG',\n",
       " 'GJT',\n",
       " 'GRR',\n",
       " 'HDN',\n",
       " 'HOU',\n",
       " 'IAD',\n",
       " 'IAH',\n",
       " 'ICT',\n",
       " 'IDA',\n",
       " 'IND',\n",
       " 'JAC',\n",
       " 'JAX',\n",
       " 'JFK',\n",
       " 'LAS',\n",
       " 'LGA',\n",
       " 'LIT',\n",
       " 'LRD',\n",
       " 'MCI',\n",
       " 'MCO',\n",
       " 'MDW',\n",
       " 'MEM',\n",
       " 'MFE',\n",
       " 'MFR',\n",
       " 'MIA',\n",
       " 'MKE',\n",
       " 'MMH',\n",
       " 'MRY',\n",
       " 'MSN',\n",
       " 'MSO',\n",
       " 'MSP',\n",
       " 'MSY',\n",
       " 'MTJ',\n",
       " 'OAK',\n",
       " 'OKC',\n",
       " 'OMA',\n",
       " 'ORD',\n",
       " 'PAE',\n",
       " 'PBI',\n",
       " 'PDX',\n",
       " 'PHL',\n",
       " 'PHX',\n",
       " 'PIT',\n",
       " 'PRC',\n",
       " 'PSC',\n",
       " 'PSP',\n",
       " 'PVU',\n",
       " 'RAP',\n",
       " 'RDD',\n",
       " 'RDM',\n",
       " 'RDU',\n",
       " 'RFD',\n",
       " 'RIC',\n",
       " 'RNO',\n",
       " 'RSW',\n",
       " 'SAF',\n",
       " 'SAN',\n",
       " 'SAT',\n",
       " 'SBA',\n",
       " 'SBN',\n",
       " 'SBP',\n",
       " 'SCK',\n",
       " 'SDF',\n",
       " 'SEA',\n",
       " 'SFO',\n",
       " 'SGF',\n",
       " 'SGU',\n",
       " 'SHV',\n",
       " 'SJC',\n",
       " 'SMF',\n",
       " 'SNA',\n",
       " 'STL',\n",
       " 'STS',\n",
       " 'TPA',\n",
       " 'TUL',\n",
       " 'TUS',\n",
       " 'XNA',\n",
       " 'ANC',\n",
       " 'KOA',\n",
       " 'LIH',\n",
       " 'HNL',\n",
       " 'OGG',\n",
       " 'ITO']"
      ]
     },
     "execution_count": 83,
     "metadata": {},
     "output_type": "execute_result"
    }
   ],
   "source": [
    "# get list of airports in main dict\n",
    "airport_codes = list(destination_dfs.keys())\n",
    "airport_codes"
   ]
  },
  {
   "cell_type": "markdown",
   "metadata": {},
   "source": [
    "## Data Check"
   ]
  },
  {
   "cell_type": "markdown",
   "metadata": {},
   "source": [
    "### Create DateTime & Hour columns"
   ]
  },
  {
   "cell_type": "code",
   "execution_count": 84,
   "metadata": {},
   "outputs": [],
   "source": [
    "# loop for each df\n",
    "for airport in airport_codes:\n",
    "    # save df reference\n",
    "    df = destination_dfs[airport]\n",
    "    \n",
    "    # create datetime col\n",
    "    df['DateTime'] = pd.to_datetime(df['date_time'], format='%m/%d/%y-%H:%M')\n",
    "    df['Hour'] = pd.to_datetime(df['Time'], format='%H:%M').dt.round('h').dt.hour\n",
    "    \n",
    "    # remove old one\n",
    "    destination_dfs[airport] = df.drop(columns=['date_time']).copy()"
   ]
  },
  {
   "cell_type": "markdown",
   "metadata": {},
   "source": [
    "### Remove old dates"
   ]
  },
  {
   "cell_type": "code",
   "execution_count": 85,
   "metadata": {},
   "outputs": [],
   "source": [
    "# filter out old dates\n",
    "date_threshold = pd.Timestamp('2018-12-01')\n",
    "for airport in airport_codes:\n",
    "    # save df reference\n",
    "    df = destination_dfs[airport]\n",
    "\n",
    "    # filter\n",
    "    destination_dfs[airport] = df[df['DateTime'] >= date_threshold].copy()"
   ]
  },
  {
   "cell_type": "markdown",
   "metadata": {},
   "source": [
    "### Check data types for one df"
   ]
  },
  {
   "cell_type": "code",
   "execution_count": 86,
   "metadata": {},
   "outputs": [
    {
     "data": {
      "text/plain": [
       "Date                             object\n",
       "Time                             object\n",
       "precip_accum_one_hour           float64\n",
       "precip_accum_six_hour           float64\n",
       "air_temp                        float64\n",
       "dew_point_temperature           float64\n",
       "relative_humidity               float64\n",
       "wind_speed                      float64\n",
       "wind_direction                  float64\n",
       "wind_gust                       float64\n",
       "visibility                      float64\n",
       "ceiling                           Int64\n",
       "sea_level_pressure              float64\n",
       "weather_cond_code                 Int64\n",
       "DateTime                 datetime64[ns]\n",
       "Hour                              int32\n",
       "dtype: object"
      ]
     },
     "execution_count": 86,
     "metadata": {},
     "output_type": "execute_result"
    }
   ],
   "source": [
    "destination_dfs[airport_codes[2]].dtypes"
   ]
  },
  {
   "cell_type": "markdown",
   "metadata": {},
   "source": [
    "## Handle Nulls"
   ]
  },
  {
   "cell_type": "markdown",
   "metadata": {},
   "source": [
    "### Apply function"
   ]
  },
  {
   "cell_type": "code",
   "execution_count": 87,
   "metadata": {},
   "outputs": [
    {
     "name": "stdout",
     "output_type": "stream",
     "text": [
      "1) filling nulls with 0 for: ['precip_accum_one_hour', 'precip_accum_six_hour', 'wind_gust']\n",
      "2) weather_cond_code--> dropping column\n",
      "3a) ceiling--> adding missingness indicator\n",
      "3b) ceiling--> filling nulls with 35000 (max ceiling is 35000)\n",
      "4) wind direction--> interpolate sin/cos\n",
      "5a) sea_level_pressure--> adding missingness indicator\n",
      "5b) interpolate rest: ['air_temp', 'dew_point_temperature', 'relative_humidity', 'wind_speed', 'visibility', 'sea_level_pressure']\n",
      "-----------------------------------------\n",
      "1) filling nulls with 0 for: ['precip_accum_one_hour', 'precip_accum_six_hour', 'wind_gust']\n",
      "2) weather_cond_code--> dropping column\n",
      "3a) ceiling--> adding missingness indicator\n",
      "3b) ceiling--> filling nulls with 35000 (max ceiling is 12000)\n",
      "4) wind direction--> interpolate sin/cos\n",
      "5a) sea_level_pressure--> adding missingness indicator\n",
      "5b) interpolate rest: ['air_temp', 'dew_point_temperature', 'relative_humidity', 'wind_speed', 'visibility', 'sea_level_pressure']\n",
      "-----------------------------------------\n",
      "1) filling nulls with 0 for: ['precip_accum_one_hour', 'precip_accum_six_hour', 'wind_gust']\n",
      "2) weather_cond_code--> dropping column\n",
      "3a) ceiling--> adding missingness indicator\n",
      "3b) ceiling--> filling nulls with 35000 (max ceiling is 15500)\n",
      "4) wind direction--> interpolate sin/cos\n",
      "5a) sea_level_pressure--> adding missingness indicator\n",
      "5b) interpolate rest: ['air_temp', 'dew_point_temperature', 'relative_humidity', 'wind_speed', 'visibility', 'sea_level_pressure']\n",
      "-----------------------------------------\n",
      "1) filling nulls with 0 for: ['precip_accum_one_hour', 'precip_accum_six_hour', 'wind_gust']\n",
      "2) weather_cond_code--> dropping column\n",
      "3a) ceiling--> adding missingness indicator\n",
      "3b) ceiling--> filling nulls with 35000 (max ceiling is 30000)\n",
      "4) wind direction--> interpolate sin/cos\n",
      "5a) sea_level_pressure--> adding missingness indicator\n",
      "5b) interpolate rest: ['dew_point_temperature', 'wind_speed', 'visibility', 'sea_level_pressure']\n",
      "-----------------------------------------\n",
      "1) filling nulls with 0 for: ['precip_accum_one_hour', 'precip_accum_six_hour', 'wind_gust']\n",
      "2) weather_cond_code--> dropping column\n",
      "3a) ceiling--> adding missingness indicator\n",
      "3b) ceiling--> filling nulls with 35000 (max ceiling is 35000)\n",
      "4) wind direction--> interpolate sin/cos\n",
      "5a) sea_level_pressure--> adding missingness indicator\n",
      "5b) interpolate rest: ['dew_point_temperature', 'relative_humidity', 'wind_speed', 'visibility', 'sea_level_pressure']\n",
      "-----------------------------------------\n",
      "1) filling nulls with 0 for: ['precip_accum_one_hour', 'precip_accum_six_hour', 'wind_gust']\n",
      "2) weather_cond_code--> dropping column\n",
      "3a) ceiling--> adding missingness indicator\n",
      "3b) ceiling--> filling nulls with 35000 (max ceiling is 30000)\n",
      "4) wind direction--> interpolate sin/cos\n",
      "5a) sea_level_pressure--> adding missingness indicator\n",
      "5b) interpolate rest: ['air_temp', 'dew_point_temperature', 'relative_humidity', 'wind_speed', 'visibility', 'sea_level_pressure']\n",
      "-----------------------------------------\n",
      "1) filling nulls with 0 for: ['precip_accum_one_hour', 'precip_accum_six_hour', 'wind_gust']\n",
      "2) weather_cond_code--> dropping column\n",
      "3a) ceiling--> adding missingness indicator\n",
      "3b) ceiling--> filling nulls with 35000 (max ceiling is 29000)\n",
      "4) wind direction--> interpolate sin/cos\n",
      "5a) sea_level_pressure--> adding missingness indicator\n",
      "5b) interpolate rest: ['air_temp', 'dew_point_temperature', 'relative_humidity', 'wind_speed', 'visibility', 'sea_level_pressure']\n",
      "-----------------------------------------\n",
      "1) filling nulls with 0 for: ['precip_accum_one_hour', 'precip_accum_six_hour', 'wind_gust']\n",
      "2) weather_cond_code--> dropping column\n",
      "3a) ceiling--> adding missingness indicator\n",
      "3b) ceiling--> filling nulls with 35000 (max ceiling is 12000)\n",
      "4) wind direction--> interpolate sin/cos\n",
      "5a) sea_level_pressure--> adding missingness indicator\n",
      "5b) interpolate rest: ['air_temp', 'dew_point_temperature', 'relative_humidity', 'wind_speed', 'visibility', 'sea_level_pressure']\n",
      "-----------------------------------------\n",
      "1) filling nulls with 0 for: ['precip_accum_one_hour', 'precip_accum_six_hour', 'wind_gust']\n",
      "2) weather_cond_code--> dropping column\n",
      "3a) ceiling--> adding missingness indicator\n",
      "3b) ceiling--> filling nulls with 35000 (max ceiling is 28000)\n",
      "4) wind direction--> interpolate sin/cos\n",
      "5a) sea_level_pressure--> adding missingness indicator\n",
      "5b) interpolate rest: ['air_temp', 'dew_point_temperature', 'relative_humidity', 'wind_speed', 'visibility', 'sea_level_pressure']\n",
      "-----------------------------------------\n",
      "1) filling nulls with 0 for: ['precip_accum_one_hour', 'precip_accum_six_hour', 'wind_gust']\n",
      "2) weather_cond_code--> dropping column\n",
      "3a) ceiling--> adding missingness indicator\n",
      "3b) ceiling--> filling nulls with 35000 (max ceiling is 30800)\n",
      "4) wind direction--> interpolate sin/cos\n",
      "5a) sea_level_pressure--> adding missingness indicator\n",
      "5b) interpolate rest: ['air_temp', 'dew_point_temperature', 'relative_humidity', 'wind_speed', 'visibility', 'sea_level_pressure']\n",
      "-----------------------------------------\n",
      "1) filling nulls with 0 for: ['precip_accum_one_hour', 'precip_accum_six_hour', 'wind_gust']\n",
      "2) weather_cond_code--> dropping column\n",
      "3a) ceiling--> adding missingness indicator\n",
      "3b) ceiling--> filling nulls with 35000 (max ceiling is 25000)\n",
      "4) wind direction--> interpolate sin/cos\n",
      "5a) sea_level_pressure--> adding missingness indicator\n",
      "5b) interpolate rest: ['air_temp', 'dew_point_temperature', 'relative_humidity', 'wind_speed', 'visibility', 'sea_level_pressure']\n",
      "-----------------------------------------\n",
      "1) filling nulls with 0 for: ['precip_accum_one_hour', 'precip_accum_six_hour', 'wind_gust']\n",
      "2) weather_cond_code--> dropping column\n",
      "3a) ceiling--> adding missingness indicator\n",
      "3b) ceiling--> filling nulls with 35000 (max ceiling is 12000)\n",
      "4) wind direction--> interpolate sin/cos\n",
      "5a) sea_level_pressure--> adding missingness indicator\n",
      "5b) interpolate rest: ['air_temp', 'dew_point_temperature', 'relative_humidity', 'wind_speed', 'visibility', 'sea_level_pressure']\n",
      "-----------------------------------------\n",
      "1) filling nulls with 0 for: ['precip_accum_one_hour', 'precip_accum_six_hour', 'wind_gust']\n",
      "2) weather_cond_code--> dropping column\n",
      "3a) ceiling--> adding missingness indicator\n",
      "3b) ceiling--> filling nulls with 35000 (max ceiling is 33000)\n",
      "4) wind direction--> interpolate sin/cos\n",
      "5a) sea_level_pressure--> adding missingness indicator\n",
      "5b) interpolate rest: ['dew_point_temperature', 'relative_humidity', 'wind_speed', 'visibility', 'sea_level_pressure']\n",
      "-----------------------------------------\n",
      "1) filling nulls with 0 for: ['precip_accum_one_hour', 'precip_accum_six_hour', 'wind_gust']\n",
      "2) weather_cond_code--> dropping column\n",
      "3a) ceiling--> adding missingness indicator\n",
      "3b) ceiling--> filling nulls with 35000 (max ceiling is 12000)\n",
      "4) wind direction--> interpolate sin/cos\n",
      "5a) sea_level_pressure--> adding missingness indicator\n",
      "5b) interpolate rest: ['air_temp', 'dew_point_temperature', 'relative_humidity', 'wind_speed', 'visibility', 'sea_level_pressure']\n",
      "-----------------------------------------\n",
      "1) filling nulls with 0 for: ['precip_accum_one_hour', 'precip_accum_six_hour', 'wind_gust']\n",
      "2) weather_cond_code--> dropping column\n",
      "3a) ceiling--> adding missingness indicator\n",
      "3b) ceiling--> filling nulls with 35000 (max ceiling is 35000)\n",
      "4) wind direction--> interpolate sin/cos\n",
      "5a) sea_level_pressure--> adding missingness indicator\n",
      "5b) interpolate rest: ['air_temp', 'dew_point_temperature', 'relative_humidity', 'wind_speed', 'visibility', 'sea_level_pressure']\n",
      "-----------------------------------------\n",
      "1) filling nulls with 0 for: ['precip_accum_one_hour', 'precip_accum_six_hour', 'wind_gust']\n",
      "2) weather_cond_code--> dropping column\n",
      "3a) ceiling--> adding missingness indicator\n",
      "3b) ceiling--> filling nulls with 35000 (max ceiling is 12000)\n",
      "4) wind direction--> interpolate sin/cos\n",
      "5a) sea_level_pressure--> adding missingness indicator\n",
      "5b) interpolate rest: ['air_temp', 'dew_point_temperature', 'relative_humidity', 'wind_speed', 'visibility', 'sea_level_pressure']\n",
      "-----------------------------------------\n",
      "1) filling nulls with 0 for: ['precip_accum_one_hour', 'precip_accum_six_hour', 'wind_gust']\n",
      "2) weather_cond_code--> dropping column\n",
      "3a) ceiling--> adding missingness indicator\n",
      "3b) ceiling--> filling nulls with 35000 (max ceiling is 30000)\n",
      "4) wind direction--> interpolate sin/cos\n",
      "5a) sea_level_pressure--> adding missingness indicator\n",
      "5b) interpolate rest: ['air_temp', 'dew_point_temperature', 'relative_humidity', 'wind_speed', 'visibility', 'sea_level_pressure']\n",
      "-----------------------------------------\n",
      "1) filling nulls with 0 for: ['precip_accum_one_hour', 'precip_accum_six_hour', 'wind_gust']\n",
      "2) weather_cond_code--> dropping column\n",
      "3a) ceiling--> adding missingness indicator\n",
      "3b) ceiling--> filling nulls with 35000 (max ceiling is 12000)\n",
      "4) wind direction--> interpolate sin/cos\n",
      "5a) sea_level_pressure--> adding missingness indicator\n",
      "5b) interpolate rest: ['air_temp', 'dew_point_temperature', 'relative_humidity', 'wind_speed', 'visibility', 'sea_level_pressure']\n",
      "-----------------------------------------\n",
      "1) filling nulls with 0 for: ['precip_accum_one_hour', 'precip_accum_six_hour', 'wind_gust']\n",
      "2) weather_cond_code--> dropping column\n",
      "3a) ceiling--> adding missingness indicator\n",
      "3b) ceiling--> filling nulls with 35000 (max ceiling is 32000)\n",
      "4) wind direction--> interpolate sin/cos\n",
      "5a) sea_level_pressure--> adding missingness indicator\n",
      "5b) interpolate rest: ['air_temp', 'dew_point_temperature', 'relative_humidity', 'wind_speed', 'visibility', 'sea_level_pressure']\n",
      "-----------------------------------------\n",
      "1) filling nulls with 0 for: ['precip_accum_one_hour', 'precip_accum_six_hour', 'wind_gust']\n",
      "2) weather_cond_code--> dropping column\n",
      "3a) ceiling--> adding missingness indicator\n",
      "3b) ceiling--> filling nulls with 35000 (max ceiling is 12000)\n",
      "4) wind direction--> interpolate sin/cos\n",
      "5a) sea_level_pressure--> adding missingness indicator\n",
      "5b) interpolate rest: ['air_temp', 'dew_point_temperature', 'relative_humidity', 'wind_speed', 'visibility', 'sea_level_pressure']\n",
      "-----------------------------------------\n",
      "1) filling nulls with 0 for: ['precip_accum_one_hour', 'precip_accum_six_hour', 'wind_gust']\n",
      "2) weather_cond_code--> dropping column\n",
      "3a) ceiling--> adding missingness indicator\n",
      "3b) ceiling--> filling nulls with 35000 (max ceiling is 28000)\n",
      "4) wind direction--> interpolate sin/cos\n",
      "5a) sea_level_pressure--> adding missingness indicator\n",
      "5b) interpolate rest: ['air_temp', 'dew_point_temperature', 'relative_humidity', 'wind_speed', 'visibility', 'sea_level_pressure']\n",
      "-----------------------------------------\n",
      "1) filling nulls with 0 for: ['precip_accum_one_hour', 'precip_accum_six_hour', 'wind_gust']\n",
      "2) weather_cond_code--> dropping column\n",
      "3a) ceiling--> adding missingness indicator\n",
      "3b) ceiling--> filling nulls with 35000 (max ceiling is 30000)\n",
      "4) wind direction--> interpolate sin/cos\n",
      "5a) sea_level_pressure--> adding missingness indicator\n",
      "5b) interpolate rest: ['air_temp', 'dew_point_temperature', 'relative_humidity', 'wind_speed', 'visibility', 'sea_level_pressure']\n",
      "-----------------------------------------\n",
      "1) filling nulls with 0 for: ['precip_accum_one_hour', 'precip_accum_six_hour', 'wind_gust']\n",
      "2) weather_cond_code--> dropping column\n",
      "3a) ceiling--> adding missingness indicator\n",
      "3b) ceiling--> filling nulls with 35000 (max ceiling is 35000)\n",
      "4) wind direction--> interpolate sin/cos\n",
      "5a) sea_level_pressure--> adding missingness indicator\n",
      "5b) interpolate rest: ['air_temp', 'dew_point_temperature', 'relative_humidity', 'wind_speed', 'visibility', 'sea_level_pressure']\n",
      "-----------------------------------------\n",
      "1) filling nulls with 0 for: ['precip_accum_one_hour', 'precip_accum_six_hour', 'wind_gust']\n",
      "2) weather_cond_code--> dropping column\n",
      "3a) ceiling--> adding missingness indicator\n",
      "3b) ceiling--> filling nulls with 35000 (max ceiling is 26000)\n",
      "4) wind direction--> interpolate sin/cos\n",
      "5a) sea_level_pressure--> adding missingness indicator\n",
      "5b) interpolate rest: ['dew_point_temperature', 'wind_speed', 'visibility', 'sea_level_pressure']\n",
      "-----------------------------------------\n",
      "1) filling nulls with 0 for: ['precip_accum_one_hour', 'precip_accum_six_hour', 'wind_gust']\n",
      "2) weather_cond_code--> dropping column\n",
      "3a) ceiling--> adding missingness indicator\n",
      "3b) ceiling--> filling nulls with 35000 (max ceiling is 35000)\n",
      "4) wind direction--> interpolate sin/cos\n",
      "5a) sea_level_pressure--> adding missingness indicator\n",
      "5b) interpolate rest: ['air_temp', 'dew_point_temperature', 'relative_humidity', 'wind_speed', 'visibility', 'sea_level_pressure']\n",
      "-----------------------------------------\n",
      "1) filling nulls with 0 for: ['precip_accum_one_hour', 'precip_accum_six_hour', 'wind_gust']\n",
      "2) weather_cond_code--> dropping column\n",
      "3a) ceiling--> adding missingness indicator\n",
      "3b) ceiling--> filling nulls with 35000 (max ceiling is 30000)\n",
      "4) wind direction--> interpolate sin/cos\n",
      "5a) sea_level_pressure--> adding missingness indicator\n",
      "5b) interpolate rest: ['air_temp', 'dew_point_temperature', 'relative_humidity', 'wind_speed', 'visibility', 'sea_level_pressure']\n",
      "-----------------------------------------\n",
      "1) filling nulls with 0 for: ['precip_accum_one_hour', 'precip_accum_six_hour', 'wind_gust']\n",
      "2) weather_cond_code--> dropping column\n",
      "3a) ceiling--> adding missingness indicator\n",
      "3b) ceiling--> filling nulls with 35000 (max ceiling is 28000)\n",
      "4) wind direction--> interpolate sin/cos\n",
      "5a) sea_level_pressure--> adding missingness indicator\n",
      "5b) interpolate rest: ['air_temp', 'dew_point_temperature', 'relative_humidity', 'wind_speed', 'sea_level_pressure']\n",
      "-----------------------------------------\n",
      "1) filling nulls with 0 for: ['precip_accum_one_hour', 'precip_accum_six_hour', 'wind_gust']\n",
      "2) weather_cond_code--> dropping column\n",
      "3a) ceiling--> adding missingness indicator\n",
      "3b) ceiling--> filling nulls with 35000 (max ceiling is 33000)\n",
      "4) wind direction--> interpolate sin/cos\n",
      "5a) sea_level_pressure--> adding missingness indicator\n",
      "5b) interpolate rest: ['dew_point_temperature', 'relative_humidity', 'wind_speed', 'sea_level_pressure']\n",
      "-----------------------------------------\n",
      "1) filling nulls with 0 for: ['precip_accum_one_hour', 'precip_accum_six_hour', 'wind_gust']\n",
      "2) weather_cond_code--> dropping column\n",
      "3a) ceiling--> adding missingness indicator\n",
      "3b) ceiling--> filling nulls with 35000 (max ceiling is 30000)\n",
      "4) wind direction--> interpolate sin/cos\n",
      "5a) sea_level_pressure--> adding missingness indicator\n",
      "5b) interpolate rest: ['air_temp', 'dew_point_temperature', 'relative_humidity', 'wind_speed', 'sea_level_pressure']\n",
      "-----------------------------------------\n",
      "1) filling nulls with 0 for: ['precip_accum_one_hour', 'precip_accum_six_hour', 'wind_gust']\n",
      "2) weather_cond_code--> dropping column\n",
      "3a) ceiling--> adding missingness indicator\n",
      "3b) ceiling--> filling nulls with 35000 (max ceiling is 12000)\n",
      "4) wind direction--> interpolate sin/cos\n",
      "5a) sea_level_pressure--> adding missingness indicator\n",
      "5b) interpolate rest: ['air_temp', 'dew_point_temperature', 'relative_humidity', 'wind_speed', 'visibility', 'sea_level_pressure']\n",
      "-----------------------------------------\n",
      "1) filling nulls with 0 for: ['precip_accum_one_hour', 'precip_accum_six_hour', 'wind_gust']\n",
      "2) weather_cond_code--> dropping column\n",
      "3a) ceiling--> adding missingness indicator\n",
      "3b) ceiling--> filling nulls with 35000 (max ceiling is 30000)\n",
      "4) wind direction--> interpolate sin/cos\n",
      "5a) sea_level_pressure--> adding missingness indicator\n",
      "5b) interpolate rest: ['dew_point_temperature', 'relative_humidity', 'wind_speed', 'visibility', 'sea_level_pressure']\n",
      "-----------------------------------------\n",
      "1) filling nulls with 0 for: ['precip_accum_one_hour', 'precip_accum_six_hour', 'wind_gust']\n",
      "2) weather_cond_code--> dropping column\n",
      "3a) ceiling--> adding missingness indicator\n",
      "3b) ceiling--> filling nulls with 35000 (max ceiling is 35000)\n",
      "4) wind direction--> interpolate sin/cos\n",
      "5a) sea_level_pressure--> adding missingness indicator\n",
      "5b) interpolate rest: ['air_temp', 'dew_point_temperature', 'relative_humidity', 'wind_speed', 'visibility', 'sea_level_pressure']\n",
      "-----------------------------------------\n",
      "1) filling nulls with 0 for: ['precip_accum_one_hour', 'precip_accum_six_hour', 'wind_gust']\n",
      "2) weather_cond_code--> dropping column\n",
      "3a) ceiling--> adding missingness indicator\n",
      "3b) ceiling--> filling nulls with 35000 (max ceiling is 13000)\n",
      "4) wind direction--> interpolate sin/cos\n",
      "5a) sea_level_pressure--> adding missingness indicator\n",
      "5b) interpolate rest: ['air_temp', 'dew_point_temperature', 'relative_humidity', 'wind_speed', 'visibility', 'sea_level_pressure']\n",
      "-----------------------------------------\n",
      "1) filling nulls with 0 for: ['precip_accum_one_hour', 'precip_accum_six_hour', 'wind_gust']\n",
      "2) weather_cond_code--> dropping column\n",
      "3a) ceiling--> adding missingness indicator\n",
      "3b) ceiling--> filling nulls with 35000 (max ceiling is 25000)\n",
      "4) wind direction--> interpolate sin/cos\n",
      "5a) sea_level_pressure--> adding missingness indicator\n",
      "5b) interpolate rest: ['air_temp', 'dew_point_temperature', 'relative_humidity', 'wind_speed', 'visibility', 'sea_level_pressure']\n",
      "-----------------------------------------\n",
      "1) filling nulls with 0 for: ['precip_accum_one_hour', 'precip_accum_six_hour', 'wind_gust']\n",
      "2) weather_cond_code--> dropping column\n",
      "3a) ceiling--> adding missingness indicator\n",
      "3b) ceiling--> filling nulls with 35000 (max ceiling is 32000)\n",
      "4) wind direction--> interpolate sin/cos\n",
      "5a) sea_level_pressure--> adding missingness indicator\n",
      "5b) interpolate rest: ['air_temp', 'dew_point_temperature', 'relative_humidity', 'wind_speed', 'visibility', 'sea_level_pressure']\n",
      "-----------------------------------------\n",
      "1) filling nulls with 0 for: ['precip_accum_one_hour', 'precip_accum_six_hour', 'wind_gust']\n",
      "2) weather_cond_code--> dropping column\n",
      "3a) ceiling--> adding missingness indicator\n",
      "3b) ceiling--> filling nulls with 35000 (max ceiling is 30000)\n",
      "4) wind direction--> interpolate sin/cos\n",
      "5a) sea_level_pressure--> adding missingness indicator\n",
      "5b) interpolate rest: ['dew_point_temperature', 'wind_speed', 'visibility', 'sea_level_pressure']\n",
      "-----------------------------------------\n",
      "1) filling nulls with 0 for: ['precip_accum_one_hour', 'precip_accum_six_hour', 'wind_gust']\n",
      "2) weather_cond_code--> dropping column\n",
      "3a) ceiling--> adding missingness indicator\n",
      "3b) ceiling--> filling nulls with 35000 (max ceiling is 22000)\n",
      "4) wind direction--> interpolate sin/cos\n",
      "5a) sea_level_pressure--> adding missingness indicator\n",
      "5b) interpolate rest: ['air_temp', 'dew_point_temperature', 'relative_humidity', 'wind_speed', 'visibility', 'sea_level_pressure']\n",
      "-----------------------------------------\n",
      "1) filling nulls with 0 for: ['precip_accum_one_hour', 'precip_accum_six_hour', 'wind_gust']\n",
      "2) weather_cond_code--> dropping column\n",
      "3a) ceiling--> adding missingness indicator\n",
      "3b) ceiling--> filling nulls with 35000 (max ceiling is 29900)\n",
      "4) wind direction--> interpolate sin/cos\n",
      "5a) sea_level_pressure--> adding missingness indicator\n",
      "5b) interpolate rest: ['air_temp', 'dew_point_temperature', 'relative_humidity', 'wind_speed', 'visibility', 'sea_level_pressure']\n",
      "-----------------------------------------\n",
      "1) filling nulls with 0 for: ['precip_accum_one_hour', 'precip_accum_six_hour', 'wind_gust']\n",
      "2) weather_cond_code--> dropping column\n",
      "3a) ceiling--> adding missingness indicator\n",
      "3b) ceiling--> filling nulls with 35000 (max ceiling is 32000)\n",
      "4) wind direction--> interpolate sin/cos\n",
      "5a) sea_level_pressure--> adding missingness indicator\n",
      "5b) interpolate rest: ['air_temp', 'dew_point_temperature', 'relative_humidity', 'wind_speed', 'visibility', 'sea_level_pressure']\n",
      "-----------------------------------------\n",
      "1) filling nulls with 0 for: ['precip_accum_one_hour', 'precip_accum_six_hour', 'wind_gust']\n",
      "2) weather_cond_code--> dropping column\n",
      "3a) ceiling--> adding missingness indicator\n",
      "3b) ceiling--> filling nulls with 35000 (max ceiling is 35000)\n",
      "4) wind direction--> interpolate sin/cos\n",
      "5a) sea_level_pressure--> adding missingness indicator\n",
      "5b) interpolate rest: ['air_temp', 'dew_point_temperature', 'relative_humidity', 'wind_speed', 'visibility', 'sea_level_pressure']\n",
      "-----------------------------------------\n",
      "1) filling nulls with 0 for: ['precip_accum_one_hour', 'precip_accum_six_hour', 'wind_gust']\n",
      "2) weather_cond_code--> dropping column\n",
      "3a) ceiling--> adding missingness indicator\n",
      "3b) ceiling--> filling nulls with 35000 (max ceiling is 26000)\n",
      "4) wind direction--> interpolate sin/cos\n",
      "5a) sea_level_pressure--> adding missingness indicator\n",
      "5b) interpolate rest: ['air_temp', 'dew_point_temperature', 'relative_humidity', 'wind_speed', 'visibility', 'sea_level_pressure']\n",
      "-----------------------------------------\n",
      "1) filling nulls with 0 for: ['precip_accum_one_hour', 'precip_accum_six_hour', 'wind_gust']\n",
      "2) weather_cond_code--> dropping column\n",
      "3a) ceiling--> adding missingness indicator\n",
      "3b) ceiling--> filling nulls with 35000 (max ceiling is 33000)\n",
      "4) wind direction--> interpolate sin/cos\n",
      "5a) sea_level_pressure--> adding missingness indicator\n",
      "5b) interpolate rest: ['air_temp', 'dew_point_temperature', 'relative_humidity', 'wind_speed', 'visibility', 'sea_level_pressure']\n",
      "-----------------------------------------\n",
      "1) filling nulls with 0 for: ['precip_accum_one_hour', 'precip_accum_six_hour', 'wind_gust']\n",
      "2) weather_cond_code--> dropping column\n",
      "3a) ceiling--> adding missingness indicator\n",
      "3b) ceiling--> filling nulls with 35000 (max ceiling is 12000)\n",
      "4) wind direction--> interpolate sin/cos\n",
      "5a) sea_level_pressure--> adding missingness indicator\n",
      "5b) interpolate rest: ['air_temp', 'dew_point_temperature', 'relative_humidity', 'wind_speed', 'visibility', 'sea_level_pressure']\n",
      "-----------------------------------------\n",
      "1) filling nulls with 0 for: ['precip_accum_one_hour', 'precip_accum_six_hour', 'wind_gust']\n",
      "2) weather_cond_code--> dropping column\n",
      "3a) ceiling--> adding missingness indicator\n",
      "3b) ceiling--> filling nulls with 35000 (max ceiling is 27000)\n",
      "4) wind direction--> interpolate sin/cos\n",
      "5a) sea_level_pressure--> adding missingness indicator\n",
      "5b) interpolate rest: ['dew_point_temperature', 'relative_humidity', 'wind_speed', 'visibility', 'sea_level_pressure']\n",
      "-----------------------------------------\n",
      "1) filling nulls with 0 for: ['precip_accum_one_hour', 'precip_accum_six_hour', 'wind_gust']\n",
      "2) weather_cond_code--> dropping column\n",
      "3a) ceiling--> adding missingness indicator\n",
      "3b) ceiling--> filling nulls with 35000 (max ceiling is 12000)\n",
      "4) wind direction--> interpolate sin/cos\n",
      "5a) sea_level_pressure--> adding missingness indicator\n",
      "5b) interpolate rest: ['air_temp', 'dew_point_temperature', 'relative_humidity', 'wind_speed', 'visibility', 'sea_level_pressure']\n",
      "-----------------------------------------\n",
      "1) filling nulls with 0 for: ['precip_accum_one_hour', 'precip_accum_six_hour', 'wind_gust']\n",
      "2) weather_cond_code--> dropping column\n",
      "3a) ceiling--> adding missingness indicator\n",
      "3b) ceiling--> filling nulls with 35000 (max ceiling is 30000)\n",
      "4) wind direction--> interpolate sin/cos\n",
      "5a) sea_level_pressure--> adding missingness indicator\n",
      "5b) interpolate rest: ['air_temp', 'dew_point_temperature', 'relative_humidity', 'wind_speed', 'visibility', 'sea_level_pressure']\n",
      "-----------------------------------------\n",
      "1) filling nulls with 0 for: ['precip_accum_one_hour', 'precip_accum_six_hour', 'wind_gust']\n",
      "2) weather_cond_code--> dropping column\n",
      "3a) ceiling--> adding missingness indicator\n",
      "3b) ceiling--> filling nulls with 35000 (max ceiling is 30000)\n",
      "4) wind direction--> interpolate sin/cos\n",
      "5a) sea_level_pressure--> adding missingness indicator\n",
      "5b) interpolate rest: ['air_temp', 'dew_point_temperature', 'relative_humidity', 'wind_speed', 'visibility', 'sea_level_pressure']\n",
      "-----------------------------------------\n",
      "1) filling nulls with 0 for: ['precip_accum_one_hour', 'precip_accum_six_hour', 'wind_gust']\n",
      "2) weather_cond_code--> dropping column\n",
      "3a) ceiling--> adding missingness indicator\n",
      "3b) ceiling--> filling nulls with 35000 (max ceiling is 30000)\n",
      "4) wind direction--> interpolate sin/cos\n",
      "5a) sea_level_pressure--> adding missingness indicator\n",
      "5b) interpolate rest: ['air_temp', 'dew_point_temperature', 'relative_humidity', 'wind_speed', 'visibility', 'sea_level_pressure']\n",
      "-----------------------------------------\n",
      "1) filling nulls with 0 for: ['precip_accum_one_hour', 'precip_accum_six_hour', 'wind_gust']\n",
      "2) weather_cond_code--> dropping column\n",
      "3a) ceiling--> adding missingness indicator\n",
      "3b) ceiling--> filling nulls with 35000 (max ceiling is 30000)\n",
      "4) wind direction--> interpolate sin/cos\n",
      "5a) sea_level_pressure--> adding missingness indicator\n",
      "5b) interpolate rest: ['air_temp', 'dew_point_temperature', 'relative_humidity', 'wind_speed', 'visibility', 'sea_level_pressure']\n",
      "-----------------------------------------\n",
      "1) filling nulls with 0 for: ['precip_accum_one_hour', 'precip_accum_six_hour', 'wind_gust']\n",
      "2) weather_cond_code--> dropping column\n",
      "3a) ceiling--> adding missingness indicator\n",
      "3b) ceiling--> filling nulls with 35000 (max ceiling is 25000)\n",
      "4) wind direction--> interpolate sin/cos\n",
      "5a) sea_level_pressure--> adding missingness indicator\n",
      "5b) interpolate rest: ['air_temp', 'dew_point_temperature', 'relative_humidity', 'wind_speed', 'visibility', 'sea_level_pressure']\n",
      "-----------------------------------------\n",
      "1) filling nulls with 0 for: ['precip_accum_one_hour', 'precip_accum_six_hour', 'wind_gust']\n",
      "2) weather_cond_code--> dropping column\n",
      "3a) ceiling--> adding missingness indicator\n",
      "3b) ceiling--> filling nulls with 35000 (max ceiling is 30000)\n",
      "4) wind direction--> interpolate sin/cos\n",
      "5a) sea_level_pressure--> adding missingness indicator\n",
      "5b) interpolate rest: ['air_temp', 'dew_point_temperature', 'relative_humidity', 'wind_speed', 'visibility', 'sea_level_pressure']\n",
      "-----------------------------------------\n",
      "1) filling nulls with 0 for: ['precip_accum_one_hour', 'precip_accum_six_hour', 'wind_gust']\n",
      "2) weather_cond_code--> dropping column\n",
      "3a) ceiling--> adding missingness indicator\n",
      "3b) ceiling--> filling nulls with 35000 (max ceiling is 13000)\n",
      "4) wind direction--> interpolate sin/cos\n",
      "5a) sea_level_pressure--> adding missingness indicator\n",
      "5b) interpolate rest: ['air_temp', 'dew_point_temperature', 'relative_humidity', 'wind_speed', 'visibility', 'sea_level_pressure']\n",
      "-----------------------------------------\n",
      "1) filling nulls with 0 for: ['precip_accum_one_hour', 'precip_accum_six_hour', 'wind_gust']\n",
      "2) weather_cond_code--> dropping column\n",
      "3a) ceiling--> adding missingness indicator\n",
      "3b) ceiling--> filling nulls with 35000 (max ceiling is 35000)\n",
      "4) wind direction--> interpolate sin/cos\n",
      "5a) sea_level_pressure--> adding missingness indicator\n",
      "5b) interpolate rest: ['air_temp', 'dew_point_temperature', 'relative_humidity', 'wind_speed', 'visibility', 'sea_level_pressure']\n",
      "-----------------------------------------\n",
      "1) filling nulls with 0 for: ['precip_accum_one_hour', 'precip_accum_six_hour', 'wind_gust']\n",
      "2) weather_cond_code--> dropping column\n",
      "3a) ceiling--> adding missingness indicator\n",
      "3b) ceiling--> filling nulls with 35000 (max ceiling is 35000)\n",
      "4) wind direction--> interpolate sin/cos\n",
      "5a) sea_level_pressure--> adding missingness indicator\n",
      "5b) interpolate rest: ['air_temp', 'dew_point_temperature', 'relative_humidity', 'wind_speed', 'visibility', 'sea_level_pressure']\n",
      "-----------------------------------------\n",
      "1) filling nulls with 0 for: ['precip_accum_one_hour', 'precip_accum_six_hour', 'wind_gust']\n",
      "2) weather_cond_code--> dropping column\n",
      "3a) ceiling--> adding missingness indicator\n",
      "3b) ceiling--> filling nulls with 35000 (max ceiling is 25000)\n",
      "4) wind direction--> interpolate sin/cos\n",
      "5a) sea_level_pressure--> adding missingness indicator\n",
      "5b) interpolate rest: ['air_temp', 'dew_point_temperature', 'relative_humidity', 'wind_speed', 'visibility', 'sea_level_pressure']\n",
      "-----------------------------------------\n",
      "1) filling nulls with 0 for: ['precip_accum_one_hour', 'precip_accum_six_hour', 'wind_gust']\n",
      "2) weather_cond_code--> dropping column\n",
      "3a) ceiling--> adding missingness indicator\n",
      "3b) ceiling--> filling nulls with 35000 (max ceiling is 30000)\n",
      "4) wind direction--> interpolate sin/cos\n",
      "5a) sea_level_pressure--> adding missingness indicator\n",
      "5b) interpolate rest: ['dew_point_temperature', 'wind_speed', 'visibility', 'sea_level_pressure']\n",
      "-----------------------------------------\n",
      "1) filling nulls with 0 for: ['precip_accum_one_hour', 'precip_accum_six_hour', 'wind_gust']\n",
      "2) weather_cond_code--> dropping column\n",
      "3a) ceiling--> adding missingness indicator\n",
      "3b) ceiling--> filling nulls with 35000 (max ceiling is 27000)\n",
      "4) wind direction--> interpolate sin/cos\n",
      "5a) sea_level_pressure--> adding missingness indicator\n",
      "5b) interpolate rest: ['air_temp', 'dew_point_temperature', 'relative_humidity', 'wind_speed', 'visibility', 'sea_level_pressure']\n",
      "-----------------------------------------\n",
      "1) filling nulls with 0 for: ['precip_accum_one_hour', 'precip_accum_six_hour', 'wind_gust']\n",
      "2) weather_cond_code--> dropping column\n",
      "3a) ceiling--> adding missingness indicator\n",
      "3b) ceiling--> filling nulls with 35000 (max ceiling is 12000)\n",
      "4) wind direction--> interpolate sin/cos\n",
      "5a) sea_level_pressure--> adding missingness indicator\n",
      "5b) interpolate rest: ['air_temp', 'dew_point_temperature', 'relative_humidity', 'wind_speed', 'visibility', 'sea_level_pressure']\n",
      "-----------------------------------------\n",
      "1) filling nulls with 0 for: ['precip_accum_one_hour', 'precip_accum_six_hour', 'wind_gust']\n",
      "2) weather_cond_code--> dropping column\n",
      "3a) ceiling--> adding missingness indicator\n",
      "3b) ceiling--> filling nulls with 35000 (max ceiling is 30000)\n",
      "4) wind direction--> interpolate sin/cos\n",
      "5a) sea_level_pressure--> adding missingness indicator\n",
      "5b) interpolate rest: ['air_temp', 'dew_point_temperature', 'relative_humidity', 'wind_speed', 'visibility', 'sea_level_pressure']\n",
      "-----------------------------------------\n",
      "1) filling nulls with 0 for: ['precip_accum_one_hour', 'precip_accum_six_hour', 'wind_gust']\n",
      "2) weather_cond_code--> dropping column\n",
      "3a) ceiling--> adding missingness indicator\n",
      "3b) ceiling--> filling nulls with 35000 (max ceiling is 33000)\n",
      "4) wind direction--> interpolate sin/cos\n",
      "5a) sea_level_pressure--> adding missingness indicator\n",
      "5b) interpolate rest: ['air_temp', 'dew_point_temperature', 'relative_humidity', 'wind_speed', 'visibility', 'sea_level_pressure']\n",
      "-----------------------------------------\n",
      "1) filling nulls with 0 for: ['precip_accum_one_hour', 'precip_accum_six_hour', 'wind_gust']\n",
      "2) weather_cond_code--> dropping column\n",
      "3a) ceiling--> adding missingness indicator\n",
      "3b) ceiling--> filling nulls with 35000 (max ceiling is 30000)\n",
      "4) wind direction--> interpolate sin/cos\n",
      "5a) sea_level_pressure--> adding missingness indicator\n",
      "5b) interpolate rest: ['dew_point_temperature', 'wind_speed', 'visibility', 'sea_level_pressure']\n",
      "-----------------------------------------\n",
      "1) filling nulls with 0 for: ['precip_accum_one_hour', 'precip_accum_six_hour', 'wind_gust']\n",
      "2) weather_cond_code--> dropping column\n",
      "3a) ceiling--> adding missingness indicator\n",
      "3b) ceiling--> filling nulls with 35000 (max ceiling is 25900)\n",
      "4) wind direction--> interpolate sin/cos\n",
      "5a) sea_level_pressure--> adding missingness indicator\n",
      "5b) interpolate rest: ['air_temp', 'dew_point_temperature', 'relative_humidity', 'wind_speed', 'visibility', 'sea_level_pressure']\n",
      "-----------------------------------------\n",
      "1) filling nulls with 0 for: ['precip_accum_one_hour', 'precip_accum_six_hour', 'wind_gust']\n",
      "2) weather_cond_code--> dropping column\n",
      "3a) ceiling--> adding missingness indicator\n",
      "3b) ceiling--> filling nulls with 35000 (max ceiling is 12000)\n",
      "4) wind direction--> interpolate sin/cos\n",
      "5a) sea_level_pressure--> adding missingness indicator\n",
      "5b) interpolate rest: ['air_temp', 'dew_point_temperature', 'relative_humidity', 'wind_speed', 'visibility', 'sea_level_pressure']\n",
      "-----------------------------------------\n",
      "1) filling nulls with 0 for: ['precip_accum_one_hour', 'precip_accum_six_hour', 'wind_gust']\n",
      "2) weather_cond_code--> dropping column\n",
      "3a) ceiling--> adding missingness indicator\n",
      "3b) ceiling--> filling nulls with 35000 (max ceiling is 25000)\n",
      "4) wind direction--> interpolate sin/cos\n",
      "5a) sea_level_pressure--> adding missingness indicator\n",
      "5b) interpolate rest: ['air_temp', 'dew_point_temperature', 'relative_humidity', 'wind_speed', 'visibility', 'sea_level_pressure']\n",
      "-----------------------------------------\n",
      "1) filling nulls with 0 for: ['precip_accum_one_hour', 'precip_accum_six_hour', 'wind_gust']\n",
      "2) weather_cond_code--> dropping column\n",
      "3a) ceiling--> adding missingness indicator\n",
      "3b) ceiling--> filling nulls with 35000 (max ceiling is 30000)\n",
      "4) wind direction--> interpolate sin/cos\n",
      "5a) sea_level_pressure--> adding missingness indicator\n",
      "5b) interpolate rest: ['air_temp', 'dew_point_temperature', 'relative_humidity', 'wind_speed', 'visibility', 'sea_level_pressure']\n",
      "-----------------------------------------\n",
      "1) filling nulls with 0 for: ['precip_accum_one_hour', 'precip_accum_six_hour', 'wind_gust']\n",
      "2) weather_cond_code--> dropping column\n",
      "3a) ceiling--> adding missingness indicator\n",
      "3b) ceiling--> filling nulls with 35000 (max ceiling is 30000)\n",
      "4) wind direction--> interpolate sin/cos\n",
      "5a) sea_level_pressure--> adding missingness indicator\n",
      "5b) interpolate rest: ['air_temp', 'dew_point_temperature', 'relative_humidity', 'wind_speed', 'visibility', 'sea_level_pressure']\n",
      "-----------------------------------------\n",
      "1) filling nulls with 0 for: ['precip_accum_one_hour', 'precip_accum_six_hour', 'wind_gust']\n",
      "2) weather_cond_code--> dropping column\n",
      "3a) ceiling--> adding missingness indicator\n",
      "3b) ceiling--> filling nulls with 35000 (max ceiling is 16000)\n",
      "4) wind direction--> interpolate sin/cos\n",
      "5a) sea_level_pressure--> adding missingness indicator\n",
      "5b) interpolate rest: ['air_temp', 'dew_point_temperature', 'relative_humidity', 'wind_speed', 'visibility', 'sea_level_pressure']\n",
      "-----------------------------------------\n",
      "1) filling nulls with 0 for: ['precip_accum_one_hour', 'precip_accum_six_hour', 'wind_gust']\n",
      "2) weather_cond_code--> dropping column\n",
      "3a) ceiling--> adding missingness indicator\n",
      "3b) ceiling--> filling nulls with 35000 (max ceiling is 12000)\n",
      "4) wind direction--> interpolate sin/cos\n",
      "5a) sea_level_pressure--> adding missingness indicator\n",
      "5b) interpolate rest: ['air_temp', 'dew_point_temperature', 'relative_humidity', 'wind_speed', 'visibility', 'sea_level_pressure']\n",
      "-----------------------------------------\n",
      "1) filling nulls with 0 for: ['precip_accum_one_hour', 'precip_accum_six_hour', 'wind_gust']\n",
      "2) weather_cond_code--> dropping column\n",
      "3a) ceiling--> adding missingness indicator\n",
      "3b) ceiling--> filling nulls with 35000 (max ceiling is 30000)\n",
      "4) wind direction--> interpolate sin/cos\n",
      "5a) sea_level_pressure--> adding missingness indicator\n",
      "5b) interpolate rest: ['air_temp', 'dew_point_temperature', 'relative_humidity', 'wind_speed', 'visibility', 'sea_level_pressure']\n",
      "-----------------------------------------\n",
      "1) filling nulls with 0 for: ['precip_accum_one_hour', 'precip_accum_six_hour', 'wind_gust']\n",
      "2) weather_cond_code--> dropping column\n",
      "3a) ceiling--> adding missingness indicator\n",
      "3b) ceiling--> filling nulls with 35000 (max ceiling is 20000)\n",
      "4) wind direction--> interpolate sin/cos\n",
      "5a) sea_level_pressure--> adding missingness indicator\n",
      "5b) interpolate rest: ['air_temp', 'dew_point_temperature', 'relative_humidity', 'wind_speed', 'visibility', 'sea_level_pressure']\n",
      "-----------------------------------------\n",
      "1) filling nulls with 0 for: ['precip_accum_one_hour', 'precip_accum_six_hour', 'wind_gust']\n",
      "2) weather_cond_code--> dropping column\n",
      "3a) ceiling--> adding missingness indicator\n",
      "3b) ceiling--> filling nulls with 35000 (max ceiling is 30000)\n",
      "4) wind direction--> interpolate sin/cos\n",
      "5a) sea_level_pressure--> adding missingness indicator\n",
      "5b) interpolate rest: ['dew_point_temperature', 'relative_humidity', 'wind_speed', 'visibility', 'sea_level_pressure']\n",
      "-----------------------------------------\n",
      "1) filling nulls with 0 for: ['precip_accum_one_hour', 'precip_accum_six_hour', 'wind_gust']\n",
      "2) weather_cond_code--> dropping column\n",
      "3a) ceiling--> adding missingness indicator\n",
      "3b) ceiling--> filling nulls with 35000 (max ceiling is 35000)\n",
      "4) wind direction--> interpolate sin/cos\n",
      "5a) sea_level_pressure--> adding missingness indicator\n",
      "5b) interpolate rest: ['air_temp', 'dew_point_temperature', 'relative_humidity', 'wind_speed', 'visibility', 'sea_level_pressure']\n",
      "-----------------------------------------\n",
      "1) filling nulls with 0 for: ['precip_accum_one_hour', 'precip_accum_six_hour', 'wind_gust']\n",
      "2) weather_cond_code--> dropping column\n",
      "3a) ceiling--> adding missingness indicator\n",
      "3b) ceiling--> filling nulls with 35000 (max ceiling is 12000)\n",
      "4) wind direction--> interpolate sin/cos\n",
      "5a) sea_level_pressure--> adding missingness indicator\n",
      "5b) interpolate rest: ['air_temp', 'dew_point_temperature', 'relative_humidity', 'wind_speed', 'visibility', 'sea_level_pressure']\n",
      "-----------------------------------------\n",
      "1) filling nulls with 0 for: ['precip_accum_one_hour', 'precip_accum_six_hour', 'wind_gust']\n",
      "2) weather_cond_code--> dropping column\n",
      "3a) ceiling--> adding missingness indicator\n",
      "3b) ceiling--> filling nulls with 35000 (max ceiling is 30000)\n",
      "4) wind direction--> interpolate sin/cos\n",
      "5a) sea_level_pressure--> adding missingness indicator\n",
      "5b) interpolate rest: ['air_temp', 'dew_point_temperature', 'relative_humidity', 'wind_speed', 'visibility', 'sea_level_pressure']\n",
      "-----------------------------------------\n",
      "1) filling nulls with 0 for: ['precip_accum_one_hour', 'precip_accum_six_hour', 'wind_gust']\n",
      "2) weather_cond_code--> dropping column\n",
      "3a) ceiling--> adding missingness indicator\n",
      "3b) ceiling--> filling nulls with 35000 (max ceiling is 30000)\n",
      "4) wind direction--> interpolate sin/cos\n",
      "5a) sea_level_pressure--> adding missingness indicator\n",
      "5b) interpolate rest: ['air_temp', 'dew_point_temperature', 'relative_humidity', 'wind_speed', 'visibility', 'sea_level_pressure']\n",
      "-----------------------------------------\n",
      "1) filling nulls with 0 for: ['precip_accum_one_hour', 'precip_accum_six_hour', 'wind_gust']\n",
      "2) weather_cond_code--> dropping column\n",
      "3a) ceiling--> adding missingness indicator\n",
      "3b) ceiling--> filling nulls with 35000 (max ceiling is 35000)\n",
      "4) wind direction--> interpolate sin/cos\n",
      "5a) sea_level_pressure--> adding missingness indicator\n",
      "5b) interpolate rest: ['air_temp', 'dew_point_temperature', 'relative_humidity', 'wind_speed', 'visibility', 'sea_level_pressure']\n",
      "-----------------------------------------\n",
      "1) filling nulls with 0 for: ['precip_accum_one_hour', 'precip_accum_six_hour', 'wind_gust']\n",
      "2) weather_cond_code--> dropping column\n",
      "3a) ceiling--> adding missingness indicator\n",
      "3b) ceiling--> filling nulls with 35000 (max ceiling is 35000)\n",
      "4) wind direction--> interpolate sin/cos\n",
      "5a) sea_level_pressure--> adding missingness indicator\n",
      "5b) interpolate rest: ['dew_point_temperature', 'relative_humidity', 'wind_speed', 'visibility', 'sea_level_pressure']\n",
      "-----------------------------------------\n",
      "1) filling nulls with 0 for: ['precip_accum_one_hour', 'precip_accum_six_hour', 'wind_gust']\n",
      "2) weather_cond_code--> dropping column\n",
      "3a) ceiling--> adding missingness indicator\n",
      "3b) ceiling--> filling nulls with 35000 (max ceiling is 12000)\n",
      "4) wind direction--> interpolate sin/cos\n",
      "5a) sea_level_pressure--> adding missingness indicator\n",
      "5b) interpolate rest: ['air_temp', 'dew_point_temperature', 'relative_humidity', 'wind_speed', 'visibility', 'sea_level_pressure']\n",
      "-----------------------------------------\n",
      "1) filling nulls with 0 for: ['precip_accum_one_hour', 'precip_accum_six_hour', 'wind_gust']\n",
      "2) weather_cond_code--> dropping column\n",
      "3a) ceiling--> adding missingness indicator\n",
      "3b) ceiling--> filling nulls with 35000 (max ceiling is 25900)\n",
      "4) wind direction--> interpolate sin/cos\n",
      "5a) sea_level_pressure--> adding missingness indicator\n",
      "5b) interpolate rest: ['air_temp', 'dew_point_temperature', 'relative_humidity', 'wind_speed', 'visibility', 'sea_level_pressure']\n",
      "-----------------------------------------\n",
      "1) filling nulls with 0 for: ['precip_accum_one_hour', 'precip_accum_six_hour', 'wind_gust']\n",
      "2) weather_cond_code--> dropping column\n",
      "3a) ceiling--> adding missingness indicator\n",
      "3b) ceiling--> filling nulls with 35000 (max ceiling is 32000)\n",
      "4) wind direction--> interpolate sin/cos\n",
      "5a) sea_level_pressure--> adding missingness indicator\n",
      "5b) interpolate rest: ['air_temp', 'dew_point_temperature', 'relative_humidity', 'wind_speed', 'visibility', 'sea_level_pressure']\n",
      "-----------------------------------------\n",
      "1) filling nulls with 0 for: ['precip_accum_one_hour', 'precip_accum_six_hour', 'wind_gust']\n",
      "2) weather_cond_code--> dropping column\n",
      "3a) ceiling--> adding missingness indicator\n",
      "3b) ceiling--> filling nulls with 35000 (max ceiling is 35000)\n",
      "4) wind direction--> interpolate sin/cos\n",
      "5a) sea_level_pressure--> adding missingness indicator\n",
      "5b) interpolate rest: ['air_temp', 'dew_point_temperature', 'relative_humidity', 'wind_speed', 'visibility', 'sea_level_pressure']\n",
      "-----------------------------------------\n",
      "1) filling nulls with 0 for: ['precip_accum_one_hour', 'precip_accum_six_hour', 'wind_gust']\n",
      "2) weather_cond_code--> dropping column\n",
      "3a) ceiling--> adding missingness indicator\n",
      "3b) ceiling--> filling nulls with 35000 (max ceiling is 31000)\n",
      "4) wind direction--> interpolate sin/cos\n",
      "5a) sea_level_pressure--> adding missingness indicator\n",
      "5b) interpolate rest: ['air_temp', 'dew_point_temperature', 'relative_humidity', 'wind_speed', 'visibility', 'sea_level_pressure']\n",
      "-----------------------------------------\n",
      "1) filling nulls with 0 for: ['precip_accum_one_hour', 'precip_accum_six_hour', 'wind_gust']\n",
      "2) weather_cond_code--> dropping column\n",
      "3a) ceiling--> adding missingness indicator\n",
      "3b) ceiling--> filling nulls with 35000 (max ceiling is 25000)\n",
      "4) wind direction--> interpolate sin/cos\n",
      "5a) sea_level_pressure--> adding missingness indicator\n",
      "5b) interpolate rest: ['dew_point_temperature', 'relative_humidity', 'wind_speed', 'visibility', 'sea_level_pressure']\n",
      "-----------------------------------------\n",
      "1) filling nulls with 0 for: ['precip_accum_one_hour', 'precip_accum_six_hour', 'wind_gust']\n",
      "2) weather_cond_code--> dropping column\n",
      "3a) ceiling--> adding missingness indicator\n",
      "3b) ceiling--> filling nulls with 35000 (max ceiling is 12000)\n",
      "4) wind direction--> interpolate sin/cos\n",
      "5a) sea_level_pressure--> adding missingness indicator\n",
      "5b) interpolate rest: ['air_temp', 'dew_point_temperature', 'relative_humidity', 'wind_speed', 'visibility', 'sea_level_pressure']\n",
      "-----------------------------------------\n",
      "1) filling nulls with 0 for: ['precip_accum_one_hour', 'precip_accum_six_hour', 'wind_gust']\n",
      "2) weather_cond_code--> dropping column\n",
      "3a) ceiling--> adding missingness indicator\n",
      "3b) ceiling--> filling nulls with 35000 (max ceiling is 12000)\n",
      "4) wind direction--> interpolate sin/cos\n",
      "5a) sea_level_pressure--> adding missingness indicator\n",
      "5b) interpolate rest: ['air_temp', 'dew_point_temperature', 'relative_humidity', 'wind_speed', 'visibility', 'sea_level_pressure']\n",
      "-----------------------------------------\n",
      "1) filling nulls with 0 for: ['precip_accum_one_hour', 'precip_accum_six_hour', 'wind_gust']\n",
      "2) weather_cond_code--> dropping column\n",
      "3a) ceiling--> adding missingness indicator\n",
      "3b) ceiling--> filling nulls with 35000 (max ceiling is 12000)\n",
      "4) wind direction--> interpolate sin/cos\n",
      "5a) sea_level_pressure--> adding missingness indicator\n",
      "5b) interpolate rest: ['air_temp', 'dew_point_temperature', 'relative_humidity', 'wind_speed', 'visibility', 'sea_level_pressure']\n",
      "-----------------------------------------\n",
      "1) filling nulls with 0 for: ['precip_accum_one_hour', 'precip_accum_six_hour', 'wind_gust']\n",
      "2) weather_cond_code--> dropping column\n",
      "3a) ceiling--> adding missingness indicator\n",
      "3b) ceiling--> filling nulls with 35000 (max ceiling is 29900)\n",
      "4) wind direction--> interpolate sin/cos\n",
      "5a) sea_level_pressure--> adding missingness indicator\n",
      "5b) interpolate rest: ['air_temp', 'dew_point_temperature', 'relative_humidity', 'wind_speed', 'visibility', 'sea_level_pressure']\n",
      "-----------------------------------------\n",
      "1) filling nulls with 0 for: ['precip_accum_one_hour', 'precip_accum_six_hour', 'wind_gust']\n",
      "2) weather_cond_code--> dropping column\n",
      "3a) ceiling--> adding missingness indicator\n",
      "3b) ceiling--> filling nulls with 35000 (max ceiling is 14000)\n",
      "4) wind direction--> interpolate sin/cos\n",
      "5a) sea_level_pressure--> adding missingness indicator\n",
      "5b) interpolate rest: ['air_temp', 'dew_point_temperature', 'relative_humidity', 'wind_speed', 'visibility', 'sea_level_pressure']\n",
      "-----------------------------------------\n",
      "1) filling nulls with 0 for: ['precip_accum_one_hour', 'precip_accum_six_hour', 'wind_gust']\n",
      "2) weather_cond_code--> dropping column\n",
      "3a) ceiling--> adding missingness indicator\n",
      "3b) ceiling--> filling nulls with 35000 (max ceiling is 20000)\n",
      "4) wind direction--> interpolate sin/cos\n",
      "5a) sea_level_pressure--> adding missingness indicator\n",
      "5b) interpolate rest: ['air_temp', 'dew_point_temperature', 'relative_humidity', 'wind_speed', 'visibility', 'sea_level_pressure']\n",
      "-----------------------------------------\n",
      "1) filling nulls with 0 for: ['precip_accum_one_hour', 'precip_accum_six_hour', 'wind_gust']\n",
      "2) weather_cond_code--> dropping column\n",
      "3a) ceiling--> adding missingness indicator\n",
      "3b) ceiling--> filling nulls with 35000 (max ceiling is 12000)\n",
      "4) wind direction--> interpolate sin/cos\n",
      "5a) sea_level_pressure--> adding missingness indicator\n",
      "5b) interpolate rest: ['air_temp', 'dew_point_temperature', 'relative_humidity', 'wind_speed', 'visibility', 'sea_level_pressure', 'wind_dir_sin', 'wind_dir_cos', 'wind_direction_interp']\n",
      "-----------------------------------------\n",
      "1) filling nulls with 0 for: ['precip_accum_one_hour', 'precip_accum_six_hour', 'wind_gust']\n",
      "2) weather_cond_code--> dropping column\n",
      "3a) ceiling--> adding missingness indicator\n",
      "3b) ceiling--> filling nulls with 35000 (max ceiling is 25000)\n",
      "4) wind direction--> interpolate sin/cos\n",
      "5a) sea_level_pressure--> adding missingness indicator\n",
      "5b) interpolate rest: ['air_temp', 'dew_point_temperature', 'relative_humidity', 'wind_speed', 'visibility', 'sea_level_pressure']\n",
      "-----------------------------------------\n",
      "1) filling nulls with 0 for: ['precip_accum_one_hour', 'precip_accum_six_hour', 'wind_gust']\n",
      "2) weather_cond_code--> dropping column\n",
      "3a) ceiling--> adding missingness indicator\n",
      "3b) ceiling--> filling nulls with 35000 (max ceiling is 30000)\n",
      "4) wind direction--> interpolate sin/cos\n",
      "5a) sea_level_pressure--> adding missingness indicator\n",
      "5b) interpolate rest: ['air_temp', 'dew_point_temperature', 'relative_humidity', 'wind_speed', 'visibility', 'sea_level_pressure']\n",
      "-----------------------------------------\n",
      "1) filling nulls with 0 for: ['precip_accum_one_hour', 'precip_accum_six_hour', 'wind_gust']\n",
      "2) weather_cond_code--> dropping column\n",
      "3a) ceiling--> adding missingness indicator\n",
      "3b) ceiling--> filling nulls with 35000 (max ceiling is 35000)\n",
      "4) wind direction--> interpolate sin/cos\n",
      "5a) sea_level_pressure--> adding missingness indicator\n",
      "5b) interpolate rest: ['air_temp', 'dew_point_temperature', 'relative_humidity', 'wind_speed', 'visibility', 'sea_level_pressure']\n",
      "-----------------------------------------\n",
      "1) filling nulls with 0 for: ['precip_accum_one_hour', 'precip_accum_six_hour', 'wind_gust']\n",
      "2) weather_cond_code--> dropping column\n",
      "3a) ceiling--> adding missingness indicator\n",
      "3b) ceiling--> filling nulls with 35000 (max ceiling is 28000)\n",
      "4) wind direction--> interpolate sin/cos\n",
      "5a) sea_level_pressure--> adding missingness indicator\n",
      "5b) interpolate rest: ['air_temp', 'dew_point_temperature', 'relative_humidity', 'wind_speed', 'visibility', 'sea_level_pressure']\n",
      "-----------------------------------------\n",
      "1) filling nulls with 0 for: ['precip_accum_one_hour', 'precip_accum_six_hour', 'wind_gust']\n",
      "2) weather_cond_code--> dropping column\n",
      "3a) ceiling--> adding missingness indicator\n",
      "3b) ceiling--> filling nulls with 35000 (max ceiling is 12000)\n",
      "4) wind direction--> interpolate sin/cos\n",
      "5a) sea_level_pressure--> adding missingness indicator\n",
      "5b) interpolate rest: ['air_temp', 'dew_point_temperature', 'relative_humidity', 'wind_speed', 'visibility', 'sea_level_pressure']\n",
      "-----------------------------------------\n",
      "1) filling nulls with 0 for: ['precip_accum_one_hour', 'precip_accum_six_hour', 'wind_gust']\n",
      "2) weather_cond_code--> dropping column\n",
      "3a) ceiling--> adding missingness indicator\n",
      "3b) ceiling--> filling nulls with 35000 (max ceiling is 25000)\n",
      "4) wind direction--> interpolate sin/cos\n",
      "5a) sea_level_pressure--> adding missingness indicator\n",
      "5b) interpolate rest: ['air_temp', 'dew_point_temperature', 'relative_humidity', 'wind_speed', 'visibility', 'sea_level_pressure']\n",
      "-----------------------------------------\n",
      "1) filling nulls with 0 for: ['precip_accum_one_hour', 'precip_accum_six_hour', 'wind_gust']\n",
      "2) weather_cond_code--> dropping column\n",
      "3a) ceiling--> adding missingness indicator\n",
      "3b) ceiling--> filling nulls with 35000 (max ceiling is 26000)\n",
      "4) wind direction--> interpolate sin/cos\n",
      "5a) sea_level_pressure--> adding missingness indicator\n",
      "5b) interpolate rest: ['air_temp', 'dew_point_temperature', 'relative_humidity', 'wind_speed', 'visibility', 'sea_level_pressure']\n",
      "-----------------------------------------\n",
      "1) filling nulls with 0 for: ['precip_accum_one_hour', 'precip_accum_six_hour', 'wind_gust']\n",
      "2) weather_cond_code--> dropping column\n",
      "3a) ceiling--> adding missingness indicator\n",
      "3b) ceiling--> filling nulls with 35000 (max ceiling is 26000)\n",
      "4) wind direction--> interpolate sin/cos\n",
      "5a) sea_level_pressure--> adding missingness indicator\n",
      "5b) interpolate rest: ['dew_point_temperature', 'relative_humidity', 'wind_speed', 'sea_level_pressure']\n",
      "-----------------------------------------\n",
      "1) filling nulls with 0 for: ['precip_accum_one_hour', 'precip_accum_six_hour', 'wind_gust']\n",
      "2) weather_cond_code--> dropping column\n",
      "3a) ceiling--> adding missingness indicator\n",
      "3b) ceiling--> filling nulls with 35000 (max ceiling is 35000)\n",
      "4) wind direction--> interpolate sin/cos\n",
      "5a) sea_level_pressure--> adding missingness indicator\n",
      "5b) interpolate rest: ['air_temp', 'dew_point_temperature', 'relative_humidity', 'wind_speed', 'visibility', 'sea_level_pressure']\n",
      "-----------------------------------------\n",
      "1) filling nulls with 0 for: ['precip_accum_one_hour', 'precip_accum_six_hour', 'wind_gust']\n",
      "2) weather_cond_code--> dropping column\n",
      "3a) ceiling--> adding missingness indicator\n",
      "3b) ceiling--> filling nulls with 35000 (max ceiling is 12000)\n",
      "4) wind direction--> interpolate sin/cos\n",
      "5a) sea_level_pressure--> adding missingness indicator\n",
      "5b) interpolate rest: ['air_temp', 'dew_point_temperature', 'relative_humidity', 'wind_speed', 'visibility', 'sea_level_pressure']\n",
      "-----------------------------------------\n",
      "1) filling nulls with 0 for: ['precip_accum_one_hour', 'precip_accum_six_hour', 'wind_gust']\n",
      "2) weather_cond_code--> dropping column\n",
      "3a) ceiling--> adding missingness indicator\n",
      "3b) ceiling--> filling nulls with 35000 (max ceiling is 25000)\n",
      "4) wind direction--> interpolate sin/cos\n",
      "5a) sea_level_pressure--> adding missingness indicator\n",
      "5b) interpolate rest: ['air_temp', 'dew_point_temperature', 'relative_humidity', 'wind_speed', 'visibility', 'sea_level_pressure']\n",
      "-----------------------------------------\n",
      "1) filling nulls with 0 for: ['precip_accum_one_hour', 'precip_accum_six_hour', 'wind_gust']\n",
      "2) weather_cond_code--> dropping column\n",
      "3a) ceiling--> adding missingness indicator\n",
      "3b) ceiling--> filling nulls with 35000 (max ceiling is 12000)\n",
      "4) wind direction--> interpolate sin/cos\n",
      "5a) sea_level_pressure--> adding missingness indicator\n",
      "5b) interpolate rest: ['air_temp', 'dew_point_temperature', 'relative_humidity', 'wind_speed', 'visibility', 'sea_level_pressure']\n",
      "-----------------------------------------\n",
      "1) filling nulls with 0 for: ['precip_accum_one_hour', 'precip_accum_six_hour', 'wind_gust']\n",
      "2) weather_cond_code--> dropping column\n",
      "3a) ceiling--> adding missingness indicator\n",
      "3b) ceiling--> filling nulls with 35000 (max ceiling is 35000)\n",
      "4) wind direction--> interpolate sin/cos\n",
      "5a) sea_level_pressure--> adding missingness indicator\n",
      "5b) interpolate rest: ['air_temp', 'dew_point_temperature', 'relative_humidity', 'wind_speed', 'visibility', 'sea_level_pressure']\n",
      "-----------------------------------------\n",
      "1) filling nulls with 0 for: ['precip_accum_one_hour', 'precip_accum_six_hour', 'wind_gust']\n",
      "2) weather_cond_code--> dropping column\n",
      "3a) ceiling--> adding missingness indicator\n",
      "3b) ceiling--> filling nulls with 35000 (max ceiling is 25000)\n",
      "4) wind direction--> interpolate sin/cos\n",
      "5a) sea_level_pressure--> adding missingness indicator\n",
      "5b) interpolate rest: ['air_temp', 'dew_point_temperature', 'relative_humidity', 'wind_speed', 'visibility', 'sea_level_pressure']\n",
      "-----------------------------------------\n",
      "1) filling nulls with 0 for: ['precip_accum_one_hour', 'precip_accum_six_hour', 'wind_gust']\n",
      "2) weather_cond_code--> dropping column\n",
      "3a) ceiling--> adding missingness indicator\n",
      "3b) ceiling--> filling nulls with 35000 (max ceiling is 25000)\n",
      "4) wind direction--> interpolate sin/cos\n",
      "5a) sea_level_pressure--> adding missingness indicator\n",
      "5b) interpolate rest: ['air_temp', 'dew_point_temperature', 'relative_humidity', 'wind_speed', 'visibility', 'sea_level_pressure']\n",
      "-----------------------------------------\n",
      "1) filling nulls with 0 for: ['precip_accum_one_hour', 'precip_accum_six_hour', 'wind_gust']\n",
      "2) weather_cond_code--> dropping column\n",
      "3a) ceiling--> adding missingness indicator\n",
      "3b) ceiling--> filling nulls with 35000 (max ceiling is 12000)\n",
      "4) wind direction--> interpolate sin/cos\n",
      "5a) sea_level_pressure--> adding missingness indicator\n",
      "5b) interpolate rest: ['air_temp', 'dew_point_temperature', 'relative_humidity', 'wind_speed', 'visibility', 'sea_level_pressure']\n",
      "-----------------------------------------\n",
      "1) filling nulls with 0 for: ['precip_accum_one_hour', 'precip_accum_six_hour', 'wind_gust']\n",
      "2) weather_cond_code--> dropping column\n",
      "3a) ceiling--> adding missingness indicator\n",
      "3b) ceiling--> filling nulls with 35000 (max ceiling is 12000)\n",
      "4) wind direction--> interpolate sin/cos\n",
      "5a) sea_level_pressure--> adding missingness indicator\n",
      "5b) interpolate rest: ['air_temp', 'dew_point_temperature', 'relative_humidity', 'wind_speed', 'visibility', 'sea_level_pressure']\n",
      "-----------------------------------------\n",
      "1) filling nulls with 0 for: ['precip_accum_one_hour', 'precip_accum_six_hour', 'wind_gust']\n",
      "2) weather_cond_code--> dropping column\n",
      "3a) ceiling--> adding missingness indicator\n",
      "3b) ceiling--> filling nulls with 35000 (max ceiling is 35000)\n",
      "4) wind direction--> interpolate sin/cos\n",
      "5a) sea_level_pressure--> adding missingness indicator\n",
      "5b) interpolate rest: ['air_temp', 'dew_point_temperature', 'relative_humidity', 'wind_speed', 'visibility', 'sea_level_pressure']\n",
      "-----------------------------------------\n",
      "1) filling nulls with 0 for: ['precip_accum_one_hour', 'precip_accum_six_hour', 'wind_gust']\n",
      "2) weather_cond_code--> dropping column\n",
      "3a) ceiling--> adding missingness indicator\n",
      "3b) ceiling--> filling nulls with 35000 (max ceiling is 25000)\n",
      "4) wind direction--> interpolate sin/cos\n",
      "5a) sea_level_pressure--> adding missingness indicator\n",
      "5b) interpolate rest: ['air_temp', 'dew_point_temperature', 'relative_humidity', 'wind_speed', 'visibility', 'sea_level_pressure']\n",
      "-----------------------------------------\n",
      "1) filling nulls with 0 for: ['precip_accum_one_hour', 'precip_accum_six_hour', 'wind_gust']\n",
      "2) weather_cond_code--> dropping column\n",
      "3a) ceiling--> adding missingness indicator\n",
      "3b) ceiling--> filling nulls with 35000 (max ceiling is 30000)\n",
      "4) wind direction--> interpolate sin/cos\n",
      "5a) sea_level_pressure--> adding missingness indicator\n",
      "5b) interpolate rest: ['dew_point_temperature', 'wind_speed', 'visibility', 'sea_level_pressure']\n",
      "-----------------------------------------\n",
      "1) filling nulls with 0 for: ['precip_accum_one_hour', 'precip_accum_six_hour', 'wind_gust']\n",
      "2) weather_cond_code--> dropping column\n",
      "3a) ceiling--> adding missingness indicator\n",
      "3b) ceiling--> filling nulls with 35000 (max ceiling is 30000)\n",
      "4) wind direction--> interpolate sin/cos\n",
      "5a) sea_level_pressure--> adding missingness indicator\n",
      "5b) interpolate rest: ['air_temp', 'dew_point_temperature', 'relative_humidity', 'wind_speed', 'visibility', 'sea_level_pressure']\n",
      "-----------------------------------------\n",
      "1) filling nulls with 0 for: ['precip_accum_one_hour', 'precip_accum_six_hour', 'wind_gust']\n",
      "2) weather_cond_code--> dropping column\n",
      "3a) ceiling--> adding missingness indicator\n",
      "3b) ceiling--> filling nulls with 35000 (max ceiling is 35000)\n",
      "4) wind direction--> interpolate sin/cos\n",
      "5a) sea_level_pressure--> adding missingness indicator\n",
      "5b) interpolate rest: ['air_temp', 'dew_point_temperature', 'relative_humidity', 'wind_speed', 'visibility', 'sea_level_pressure']\n",
      "-----------------------------------------\n",
      "1) filling nulls with 0 for: ['precip_accum_one_hour', 'precip_accum_six_hour', 'wind_gust']\n",
      "2) weather_cond_code--> dropping column\n",
      "3a) ceiling--> adding missingness indicator\n",
      "3b) ceiling--> filling nulls with 35000 (max ceiling is 30000)\n",
      "4) wind direction--> interpolate sin/cos\n",
      "5a) sea_level_pressure--> adding missingness indicator\n",
      "5b) interpolate rest: ['air_temp', 'dew_point_temperature', 'relative_humidity', 'wind_speed', 'visibility', 'sea_level_pressure', 'wind_dir_sin', 'wind_dir_cos', 'wind_direction_interp']\n",
      "-----------------------------------------\n",
      "1) filling nulls with 0 for: ['precip_accum_one_hour', 'precip_accum_six_hour', 'wind_gust']\n",
      "2) weather_cond_code--> dropping column\n",
      "3a) ceiling--> adding missingness indicator\n",
      "3b) ceiling--> filling nulls with 35000 (max ceiling is 35000)\n",
      "4) wind direction--> interpolate sin/cos\n",
      "5a) sea_level_pressure--> adding missingness indicator\n",
      "5b) interpolate rest: ['air_temp', 'dew_point_temperature', 'relative_humidity', 'wind_speed', 'visibility', 'sea_level_pressure']\n",
      "-----------------------------------------\n",
      "1) filling nulls with 0 for: ['precip_accum_one_hour', 'precip_accum_six_hour', 'wind_gust']\n",
      "2) weather_cond_code--> dropping column\n",
      "3a) ceiling--> adding missingness indicator\n",
      "3b) ceiling--> filling nulls with 35000 (max ceiling is 28000)\n",
      "4) wind direction--> interpolate sin/cos\n",
      "5a) sea_level_pressure--> adding missingness indicator\n",
      "5b) interpolate rest: ['air_temp', 'dew_point_temperature', 'relative_humidity', 'wind_speed', 'visibility', 'sea_level_pressure']\n",
      "-----------------------------------------\n",
      "1) filling nulls with 0 for: ['precip_accum_one_hour', 'precip_accum_six_hour', 'wind_gust']\n",
      "2) weather_cond_code--> dropping column\n",
      "3a) ceiling--> adding missingness indicator\n",
      "3b) ceiling--> filling nulls with 35000 (max ceiling is 17000)\n",
      "4) wind direction--> interpolate sin/cos\n",
      "5a) sea_level_pressure--> adding missingness indicator\n",
      "5b) interpolate rest: ['air_temp', 'dew_point_temperature', 'relative_humidity', 'wind_speed', 'visibility', 'sea_level_pressure']\n",
      "-----------------------------------------\n",
      "1) filling nulls with 0 for: ['precip_accum_one_hour', 'precip_accum_six_hour', 'wind_gust']\n",
      "2) weather_cond_code--> dropping column\n",
      "3a) ceiling--> adding missingness indicator\n",
      "3b) ceiling--> filling nulls with 35000 (max ceiling is 12000)\n",
      "4) wind direction--> interpolate sin/cos\n",
      "5a) sea_level_pressure--> adding missingness indicator\n",
      "5b) interpolate rest: ['air_temp', 'dew_point_temperature', 'relative_humidity', 'wind_speed', 'visibility', 'sea_level_pressure']\n",
      "-----------------------------------------\n",
      "1) filling nulls with 0 for: ['precip_accum_one_hour', 'precip_accum_six_hour', 'wind_gust']\n",
      "2) weather_cond_code--> dropping column\n",
      "3a) ceiling--> adding missingness indicator\n",
      "3b) ceiling--> filling nulls with 35000 (max ceiling is 35000)\n",
      "4) wind direction--> interpolate sin/cos\n",
      "5a) sea_level_pressure--> adding missingness indicator\n",
      "5b) interpolate rest: ['air_temp', 'dew_point_temperature', 'relative_humidity', 'wind_speed', 'visibility', 'sea_level_pressure']\n",
      "-----------------------------------------\n",
      "1) filling nulls with 0 for: ['precip_accum_one_hour', 'precip_accum_six_hour', 'wind_gust']\n",
      "2) weather_cond_code--> dropping column\n",
      "3a) ceiling--> adding missingness indicator\n",
      "3b) ceiling--> filling nulls with 35000 (max ceiling is 25000)\n",
      "4) wind direction--> interpolate sin/cos\n",
      "5a) sea_level_pressure--> adding missingness indicator\n",
      "5b) interpolate rest: ['air_temp', 'dew_point_temperature', 'relative_humidity', 'wind_speed', 'visibility', 'sea_level_pressure']\n",
      "-----------------------------------------\n",
      "1) filling nulls with 0 for: ['precip_accum_one_hour', 'precip_accum_six_hour', 'wind_gust']\n",
      "2) weather_cond_code--> dropping column\n",
      "3a) ceiling--> adding missingness indicator\n",
      "3b) ceiling--> filling nulls with 35000 (max ceiling is 12000)\n",
      "4) wind direction--> interpolate sin/cos\n",
      "5a) sea_level_pressure--> adding missingness indicator\n",
      "5b) interpolate rest: ['air_temp', 'dew_point_temperature', 'relative_humidity', 'wind_speed', 'visibility', 'sea_level_pressure']\n",
      "-----------------------------------------\n",
      "1) filling nulls with 0 for: ['precip_accum_one_hour', 'precip_accum_six_hour', 'wind_gust']\n",
      "2) weather_cond_code--> dropping column\n",
      "3a) ceiling--> adding missingness indicator\n",
      "3b) ceiling--> filling nulls with 35000 (max ceiling is 30000)\n",
      "4) wind direction--> interpolate sin/cos\n",
      "5a) sea_level_pressure--> adding missingness indicator\n",
      "5b) interpolate rest: ['air_temp', 'dew_point_temperature', 'relative_humidity', 'wind_speed', 'visibility', 'sea_level_pressure']\n",
      "-----------------------------------------\n",
      "1) filling nulls with 0 for: ['precip_accum_one_hour', 'precip_accum_six_hour', 'wind_gust']\n",
      "2) weather_cond_code--> dropping column\n",
      "3a) ceiling--> adding missingness indicator\n",
      "3b) ceiling--> filling nulls with 35000 (max ceiling is 13000)\n",
      "4) wind direction--> interpolate sin/cos\n",
      "5a) sea_level_pressure--> adding missingness indicator\n",
      "5b) interpolate rest: ['air_temp', 'dew_point_temperature', 'relative_humidity', 'wind_speed', 'visibility', 'sea_level_pressure']\n",
      "-----------------------------------------\n",
      "1) filling nulls with 0 for: ['precip_accum_one_hour', 'precip_accum_six_hour', 'wind_gust']\n",
      "2) weather_cond_code--> dropping column\n",
      "3a) ceiling--> adding missingness indicator\n",
      "3b) ceiling--> filling nulls with 35000 (max ceiling is 16000)\n",
      "4) wind direction--> interpolate sin/cos\n",
      "5a) sea_level_pressure--> adding missingness indicator\n",
      "5b) interpolate rest: ['air_temp', 'dew_point_temperature', 'relative_humidity', 'wind_speed', 'visibility', 'sea_level_pressure']\n",
      "-----------------------------------------\n"
     ]
    }
   ],
   "source": [
    "# apply function to handle nulls for each df\n",
    "for airport in airport_codes:\n",
    "    destination_dfs[airport] = fill_nulls(destination_dfs[airport])"
   ]
  },
  {
   "cell_type": "markdown",
   "metadata": {},
   "source": [
    "### Remove old dates"
   ]
  },
  {
   "cell_type": "code",
   "execution_count": 88,
   "metadata": {},
   "outputs": [],
   "source": [
    "# filter out old dates\n",
    "date_threshold = pd.Timestamp('2019-01-01')\n",
    "for airport in airport_codes:\n",
    "    # save df reference\n",
    "    df = destination_dfs[airport]\n",
    "\n",
    "    # reset index\n",
    "    df = df.reset_index()\n",
    "\n",
    "    # filter\n",
    "    destination_dfs[airport] = df[df['DateTime'] >= date_threshold].copy()"
   ]
  },
  {
   "cell_type": "markdown",
   "metadata": {},
   "source": [
    "### Check nulls"
   ]
  },
  {
   "cell_type": "code",
   "execution_count": 89,
   "metadata": {},
   "outputs": [
    {
     "data": {
      "text/plain": [
       "DateTime                      0\n",
       "Date                          0\n",
       "Time                          0\n",
       "precip_accum_one_hour         0\n",
       "precip_accum_six_hour         0\n",
       "air_temp                      0\n",
       "dew_point_temperature         0\n",
       "relative_humidity             0\n",
       "wind_speed                    0\n",
       "wind_gust                     0\n",
       "visibility                    0\n",
       "ceiling                       0\n",
       "sea_level_pressure            0\n",
       "Hour                          0\n",
       "ceiling_missing               0\n",
       "wind_dir_sin                  0\n",
       "wind_dir_cos                  0\n",
       "wind_direction_interp         0\n",
       "sea_level_pressure_missing    0\n",
       "dtype: int64"
      ]
     },
     "execution_count": 89,
     "metadata": {},
     "output_type": "execute_result"
    }
   ],
   "source": [
    "# single check here\n",
    "destination_dfs[airport_codes[2]].isna().sum()"
   ]
  },
  {
   "cell_type": "code",
   "execution_count": 90,
   "metadata": {},
   "outputs": [
    {
     "name": "stdout",
     "output_type": "stream",
     "text": [
      "ABQ: []\n",
      "ACV: []\n",
      "ASE: []\n",
      "ATL: []\n",
      "AUS: []\n",
      "BDL: []\n",
      "BHM: []\n",
      "BIH: []\n",
      "BIL: []\n",
      "BLI: []\n",
      "BNA: []\n",
      "BOI: []\n",
      "BOS: []\n",
      "BTR: []\n",
      "BUF: []\n",
      "BUR: []\n",
      "BWI: []\n",
      "BZN: []\n",
      "CHS: []\n",
      "CID: []\n",
      "CLE: []\n",
      "CLT: []\n",
      "CMH: []\n",
      "COS: []\n",
      "CVG: []\n",
      "DAL: []\n",
      "DCA: []\n",
      "DEN: []\n",
      "DFW: []\n",
      "DRO: []\n",
      "DSM: []\n",
      "DTW: []\n",
      "EGE: []\n",
      "ELP: []\n",
      "EUG: []\n",
      "EWR: []\n",
      "FAR: []\n",
      "FAT: []\n",
      "FLG: []\n",
      "FLL: []\n",
      "FSD: []\n",
      "GEG: []\n",
      "GJT: []\n",
      "GRR: []\n",
      "HDN: []\n",
      "HOU: []\n",
      "IAD: []\n",
      "IAH: []\n",
      "ICT: []\n",
      "IDA: []\n",
      "IND: []\n",
      "JAC: []\n",
      "JAX: []\n",
      "JFK: []\n",
      "LAS: []\n",
      "LGA: []\n",
      "LIT: []\n",
      "LRD: []\n",
      "MCI: []\n",
      "MCO: []\n",
      "MDW: []\n",
      "MEM: []\n",
      "MFE: []\n",
      "MFR: []\n",
      "MIA: []\n",
      "MKE: []\n",
      "MMH: []\n",
      "MRY: []\n",
      "MSN: []\n",
      "MSO: []\n",
      "MSP: []\n",
      "MSY: []\n",
      "MTJ: []\n",
      "OAK: []\n",
      "OKC: []\n",
      "OMA: []\n",
      "ORD: []\n",
      "PAE: []\n",
      "PBI: []\n",
      "PDX: []\n",
      "PHL: []\n",
      "PHX: []\n",
      "PIT: []\n",
      "PRC: []\n",
      "PSC: []\n",
      "PSP: []\n",
      "PVU: []\n",
      "RAP: []\n",
      "RDD: []\n",
      "RDM: []\n",
      "RDU: []\n",
      "RFD: []\n",
      "RIC: []\n",
      "RNO: []\n",
      "RSW: []\n",
      "SAF: []\n",
      "SAN: []\n",
      "SAT: []\n",
      "SBA: []\n",
      "SBN: []\n",
      "SBP: []\n",
      "SCK: []\n",
      "SDF: []\n",
      "SEA: []\n",
      "SFO: []\n",
      "SGF: []\n",
      "SGU: []\n",
      "SHV: []\n",
      "SJC: []\n",
      "SMF: []\n",
      "SNA: []\n",
      "STL: []\n",
      "STS: []\n",
      "TPA: []\n",
      "TUL: []\n",
      "TUS: []\n",
      "XNA: []\n",
      "ANC: []\n",
      "KOA: []\n",
      "LIH: []\n",
      "HNL: []\n",
      "OGG: []\n",
      "ITO: []\n"
     ]
    }
   ],
   "source": [
    "# check all of the df's for any null columns\n",
    "for airport in airport_codes:\n",
    "    df = destination_dfs[airport]\n",
    "    print(f'{airport}: {df.columns[df.isna().any()].tolist()}')"
   ]
  },
  {
   "cell_type": "markdown",
   "metadata": {},
   "source": [
    "## Export"
   ]
  },
  {
   "cell_type": "markdown",
   "metadata": {},
   "source": [
    "### Drop columns"
   ]
  },
  {
   "cell_type": "code",
   "execution_count": 91,
   "metadata": {},
   "outputs": [],
   "source": [
    "# drop columns\n",
    "drop_cols = ['Date', 'Time', 'Hour']\n",
    "for airport in airport_codes:\n",
    "    destination_dfs[airport] = df.drop(columns=drop_cols).copy()"
   ]
  },
  {
   "cell_type": "code",
   "execution_count": 92,
   "metadata": {},
   "outputs": [
    {
     "data": {
      "text/plain": [
       "DateTime                      datetime64[ns]\n",
       "precip_accum_one_hour                float64\n",
       "precip_accum_six_hour                float64\n",
       "air_temp                             float64\n",
       "dew_point_temperature                float64\n",
       "relative_humidity                    float64\n",
       "wind_speed                           float64\n",
       "wind_gust                            float64\n",
       "visibility                           float64\n",
       "ceiling                                Int64\n",
       "sea_level_pressure                   float64\n",
       "ceiling_missing                        int32\n",
       "wind_dir_sin                         float64\n",
       "wind_dir_cos                         float64\n",
       "wind_direction_interp                float64\n",
       "sea_level_pressure_missing             int32\n",
       "dtype: object"
      ]
     },
     "execution_count": 92,
     "metadata": {},
     "output_type": "execute_result"
    }
   ],
   "source": [
    "# look at one updated col list\n",
    "destination_dfs[airport_codes[0]].dtypes"
   ]
  },
  {
   "cell_type": "code",
   "execution_count": 93,
   "metadata": {},
   "outputs": [],
   "source": [
    "# set index as DateTime\n",
    "for airport in airport_codes:\n",
    "    # save df reference\n",
    "    df = destination_dfs[airport]\n",
    "\n",
    "    # reset index\n",
    "    df = df.set_index('DateTime', inplace=True)"
   ]
  },
  {
   "cell_type": "markdown",
   "metadata": {},
   "source": [
    "### Rename columns with dest_"
   ]
  },
  {
   "cell_type": "code",
   "execution_count": 94,
   "metadata": {},
   "outputs": [],
   "source": [
    "# loop to add destination indicator to each column\n",
    "for airport in airport_codes:\n",
    "    df = destination_dfs[airport]\n",
    "    df.columns = ['dest_' + col for col in df.columns if col != 'DateTime']"
   ]
  },
  {
   "cell_type": "code",
   "execution_count": 95,
   "metadata": {},
   "outputs": [
    {
     "data": {
      "text/plain": [
       "Index(['dest_precip_accum_one_hour', 'dest_precip_accum_six_hour',\n",
       "       'dest_air_temp', 'dest_dew_point_temperature', 'dest_relative_humidity',\n",
       "       'dest_wind_speed', 'dest_wind_gust', 'dest_visibility', 'dest_ceiling',\n",
       "       'dest_sea_level_pressure', 'dest_ceiling_missing', 'dest_wind_dir_sin',\n",
       "       'dest_wind_dir_cos', 'dest_wind_direction_interp',\n",
       "       'dest_sea_level_pressure_missing'],\n",
       "      dtype='object')"
      ]
     },
     "execution_count": 95,
     "metadata": {},
     "output_type": "execute_result"
    }
   ],
   "source": [
    "# list one dfs columns\n",
    "destination_dfs[airport_codes[0]].columns"
   ]
  },
  {
   "cell_type": "markdown",
   "metadata": {},
   "source": [
    "### Export zipped"
   ]
  },
  {
   "cell_type": "code",
   "execution_count": 96,
   "metadata": {},
   "outputs": [],
   "source": [
    "# export each df as a zipped file\n",
    "for airport in airport_codes:\n",
    "    df = destination_dfs[airport]\n",
    "    df.to_csv(\n",
    "        f'Output/Weather/{airport}_2018-2025_cleaned.zip',\n",
    "        compression={\n",
    "            'method': 'zip',\n",
    "            'archive_name': f'{airport}_2018-2025_cleaned.csv'\n",
    "        }\n",
    "    )"
   ]
  }
 ],
 "metadata": {
  "kernelspec": {
   "display_name": "base",
   "language": "python",
   "name": "python3"
  },
  "language_info": {
   "codemirror_mode": {
    "name": "ipython",
    "version": 3
   },
   "file_extension": ".py",
   "mimetype": "text/x-python",
   "name": "python",
   "nbconvert_exporter": "python",
   "pygments_lexer": "ipython3",
   "version": "3.12.4"
  }
 },
 "nbformat": 4,
 "nbformat_minor": 2
}
