{
 "cells": [
  {
   "cell_type": "markdown",
   "metadata": {},
   "source": [
    "## Setup"
   ]
  },
  {
   "cell_type": "code",
   "execution_count": 1,
   "metadata": {},
   "outputs": [],
   "source": [
    "#imports\n",
    "import zipfile\n",
    "import pandas as pd\n",
    "import numpy as np\n",
    "from sklearn.compose import ColumnTransformer\n",
    "from sklearn.model_selection import train_test_split\n",
    "from sklearn.preprocessing import OneHotEncoder, StandardScaler"
   ]
  },
  {
   "cell_type": "code",
   "execution_count": 2,
   "metadata": {},
   "outputs": [],
   "source": [
    "# function to open zipped file and read into df\n",
    "def unzip_to_df(zip_filepath, file_inside_zip, **read_csv_kwargs):\n",
    "    try:\n",
    "        with zipfile.ZipFile(zip_filepath, 'r') as z:\n",
    "            with z.open(file_inside_zip) as f:\n",
    "                df = pd.read_csv(f, dtype={'Manufacturer Code': str}, **read_csv_kwargs)\n",
    "        return df\n",
    "    except Exception as e:\n",
    "        print(f'Error occured: {e}')\n",
    "        return None"
   ]
  },
  {
   "cell_type": "code",
   "execution_count": 8,
   "metadata": {},
   "outputs": [],
   "source": [
    "# get df\n",
    "zip_path = 'Output/Delays/modeling_data.zip'\n",
    "file_name = 'modeling_data.csv'\n",
    "\n",
    "delays_df = unzip_to_df(zip_path, file_name)"
   ]
  },
  {
   "cell_type": "markdown",
   "metadata": {},
   "source": [
    "## Check Data\n",
    "---"
   ]
  },
  {
   "cell_type": "code",
   "execution_count": 9,
   "metadata": {},
   "outputs": [
    {
     "data": {
      "text/html": [
       "<div>\n",
       "<style scoped>\n",
       "    .dataframe tbody tr th:only-of-type {\n",
       "        vertical-align: middle;\n",
       "    }\n",
       "\n",
       "    .dataframe tbody tr th {\n",
       "        vertical-align: top;\n",
       "    }\n",
       "\n",
       "    .dataframe thead th {\n",
       "        text-align: right;\n",
       "    }\n",
       "</style>\n",
       "<table border=\"1\" class=\"dataframe\">\n",
       "  <thead>\n",
       "    <tr style=\"text-align: right;\">\n",
       "      <th></th>\n",
       "      <th>Delay Bin</th>\n",
       "      <th>Month (sin)</th>\n",
       "      <th>Month (cos)</th>\n",
       "      <th>Day (sin)</th>\n",
       "      <th>Day (cos)</th>\n",
       "      <th>Day of Week (sin)</th>\n",
       "      <th>Day of Week (cos)</th>\n",
       "      <th>Scheduled Departure Total Minutes (sin)</th>\n",
       "      <th>Scheduled Departure Total Minutes (cos)</th>\n",
       "      <th>Scheduled Elapsed Time</th>\n",
       "      <th>...</th>\n",
       "      <th>Dew Point Temperature</th>\n",
       "      <th>Relative Humidity</th>\n",
       "      <th>Wind Speed</th>\n",
       "      <th>Wind Direction Interpolation</th>\n",
       "      <th>Wind Gust</th>\n",
       "      <th>Visibility</th>\n",
       "      <th>Ceiling</th>\n",
       "      <th>Ceiling Missing</th>\n",
       "      <th>Sea Level Pressure</th>\n",
       "      <th>Sea Level Pressure Missing</th>\n",
       "    </tr>\n",
       "  </thead>\n",
       "  <tbody>\n",
       "    <tr>\n",
       "      <th>0</th>\n",
       "      <td>Early</td>\n",
       "      <td>0.5</td>\n",
       "      <td>0.866025</td>\n",
       "      <td>0.201299</td>\n",
       "      <td>0.97953</td>\n",
       "      <td>0.866025</td>\n",
       "      <td>-0.5</td>\n",
       "      <td>0.065403</td>\n",
       "      <td>0.997859</td>\n",
       "      <td>307</td>\n",
       "      <td>...</td>\n",
       "      <td>33.08</td>\n",
       "      <td>40.23</td>\n",
       "      <td>5.75</td>\n",
       "      <td>80.0</td>\n",
       "      <td>0.0</td>\n",
       "      <td>10.0</td>\n",
       "      <td>35000</td>\n",
       "      <td>1</td>\n",
       "      <td>1017.5</td>\n",
       "      <td>0</td>\n",
       "    </tr>\n",
       "    <tr>\n",
       "      <th>1</th>\n",
       "      <td>11-30 min</td>\n",
       "      <td>0.5</td>\n",
       "      <td>0.866025</td>\n",
       "      <td>0.201299</td>\n",
       "      <td>0.97953</td>\n",
       "      <td>0.866025</td>\n",
       "      <td>-0.5</td>\n",
       "      <td>0.130526</td>\n",
       "      <td>0.991445</td>\n",
       "      <td>278</td>\n",
       "      <td>...</td>\n",
       "      <td>33.08</td>\n",
       "      <td>40.23</td>\n",
       "      <td>5.75</td>\n",
       "      <td>80.0</td>\n",
       "      <td>0.0</td>\n",
       "      <td>10.0</td>\n",
       "      <td>35000</td>\n",
       "      <td>1</td>\n",
       "      <td>1017.5</td>\n",
       "      <td>0</td>\n",
       "    </tr>\n",
       "    <tr>\n",
       "      <th>2</th>\n",
       "      <td>31-60 min</td>\n",
       "      <td>0.5</td>\n",
       "      <td>0.866025</td>\n",
       "      <td>0.201299</td>\n",
       "      <td>0.97953</td>\n",
       "      <td>0.866025</td>\n",
       "      <td>-0.5</td>\n",
       "      <td>0.130526</td>\n",
       "      <td>0.991445</td>\n",
       "      <td>295</td>\n",
       "      <td>...</td>\n",
       "      <td>33.08</td>\n",
       "      <td>40.23</td>\n",
       "      <td>5.75</td>\n",
       "      <td>80.0</td>\n",
       "      <td>0.0</td>\n",
       "      <td>10.0</td>\n",
       "      <td>35000</td>\n",
       "      <td>1</td>\n",
       "      <td>1017.5</td>\n",
       "      <td>0</td>\n",
       "    </tr>\n",
       "    <tr>\n",
       "      <th>3</th>\n",
       "      <td>Early</td>\n",
       "      <td>0.5</td>\n",
       "      <td>0.866025</td>\n",
       "      <td>0.201299</td>\n",
       "      <td>0.97953</td>\n",
       "      <td>0.866025</td>\n",
       "      <td>-0.5</td>\n",
       "      <td>0.130526</td>\n",
       "      <td>0.991445</td>\n",
       "      <td>320</td>\n",
       "      <td>...</td>\n",
       "      <td>33.08</td>\n",
       "      <td>40.23</td>\n",
       "      <td>5.75</td>\n",
       "      <td>80.0</td>\n",
       "      <td>0.0</td>\n",
       "      <td>10.0</td>\n",
       "      <td>35000</td>\n",
       "      <td>1</td>\n",
       "      <td>1017.5</td>\n",
       "      <td>0</td>\n",
       "    </tr>\n",
       "    <tr>\n",
       "      <th>4</th>\n",
       "      <td>Early</td>\n",
       "      <td>0.5</td>\n",
       "      <td>0.866025</td>\n",
       "      <td>0.201299</td>\n",
       "      <td>0.97953</td>\n",
       "      <td>0.866025</td>\n",
       "      <td>-0.5</td>\n",
       "      <td>0.173648</td>\n",
       "      <td>0.984808</td>\n",
       "      <td>209</td>\n",
       "      <td>...</td>\n",
       "      <td>33.08</td>\n",
       "      <td>40.23</td>\n",
       "      <td>5.75</td>\n",
       "      <td>80.0</td>\n",
       "      <td>0.0</td>\n",
       "      <td>10.0</td>\n",
       "      <td>35000</td>\n",
       "      <td>1</td>\n",
       "      <td>1017.5</td>\n",
       "      <td>0</td>\n",
       "    </tr>\n",
       "  </tbody>\n",
       "</table>\n",
       "<p>5 rows × 32 columns</p>\n",
       "</div>"
      ],
      "text/plain": [
       "   Delay Bin  Month (sin)  Month (cos)  Day (sin)  Day (cos)  \\\n",
       "0      Early          0.5     0.866025   0.201299    0.97953   \n",
       "1  11-30 min          0.5     0.866025   0.201299    0.97953   \n",
       "2  31-60 min          0.5     0.866025   0.201299    0.97953   \n",
       "3      Early          0.5     0.866025   0.201299    0.97953   \n",
       "4      Early          0.5     0.866025   0.201299    0.97953   \n",
       "\n",
       "   Day of Week (sin)  Day of Week (cos)  \\\n",
       "0           0.866025               -0.5   \n",
       "1           0.866025               -0.5   \n",
       "2           0.866025               -0.5   \n",
       "3           0.866025               -0.5   \n",
       "4           0.866025               -0.5   \n",
       "\n",
       "   Scheduled Departure Total Minutes (sin)  \\\n",
       "0                                 0.065403   \n",
       "1                                 0.130526   \n",
       "2                                 0.130526   \n",
       "3                                 0.130526   \n",
       "4                                 0.173648   \n",
       "\n",
       "   Scheduled Departure Total Minutes (cos)  Scheduled Elapsed Time  ...  \\\n",
       "0                                 0.997859                     307  ...   \n",
       "1                                 0.991445                     278  ...   \n",
       "2                                 0.991445                     295  ...   \n",
       "3                                 0.991445                     320  ...   \n",
       "4                                 0.984808                     209  ...   \n",
       "\n",
       "  Dew Point Temperature Relative Humidity Wind Speed  \\\n",
       "0                 33.08             40.23       5.75   \n",
       "1                 33.08             40.23       5.75   \n",
       "2                 33.08             40.23       5.75   \n",
       "3                 33.08             40.23       5.75   \n",
       "4                 33.08             40.23       5.75   \n",
       "\n",
       "  Wind Direction Interpolation  Wind Gust  Visibility Ceiling  \\\n",
       "0                         80.0        0.0        10.0   35000   \n",
       "1                         80.0        0.0        10.0   35000   \n",
       "2                         80.0        0.0        10.0   35000   \n",
       "3                         80.0        0.0        10.0   35000   \n",
       "4                         80.0        0.0        10.0   35000   \n",
       "\n",
       "   Ceiling Missing  Sea Level Pressure  Sea Level Pressure Missing  \n",
       "0                1              1017.5                           0  \n",
       "1                1              1017.5                           0  \n",
       "2                1              1017.5                           0  \n",
       "3                1              1017.5                           0  \n",
       "4                1              1017.5                           0  \n",
       "\n",
       "[5 rows x 32 columns]"
      ]
     },
     "execution_count": 9,
     "metadata": {},
     "output_type": "execute_result"
    }
   ],
   "source": [
    "# display\n",
    "delays_df.head()"
   ]
  },
  {
   "cell_type": "code",
   "execution_count": null,
   "metadata": {},
   "outputs": [
    {
     "name": "stdout",
     "output_type": "stream",
     "text": [
      "Aircraft Age Missing: int64\n",
      "Builder Type Certificated: int64\n"
     ]
    }
   ],
   "source": [
    "# convert dtype to int if bool\n",
    "bool_cols = [col for col in list(delays_df.columns) if delays_df[col].dtype == 'bool']\n",
    "\n",
    "# convert bool types to int64\n",
    "for bool in bool_cols:\n",
    "    delays_df[bool] = delays_df[bool].astype(np.int64)\n",
    "    print(f'{bool}: {delays_df[bool].dtype}')"
   ]
  },
  {
   "cell_type": "code",
   "execution_count": 11,
   "metadata": {},
   "outputs": [
    {
     "data": {
      "text/plain": [
       "Delay Bin                                   object\n",
       "Month (sin)                                float64\n",
       "Month (cos)                                float64\n",
       "Day (sin)                                  float64\n",
       "Day (cos)                                  float64\n",
       "Day of Week (sin)                          float64\n",
       "Day of Week (cos)                          float64\n",
       "Scheduled Departure Total Minutes (sin)    float64\n",
       "Scheduled Departure Total Minutes (cos)    float64\n",
       "Scheduled Elapsed Time                       int64\n",
       "Carrier Code                                object\n",
       "Destination Airport                         object\n",
       "Manufacturer                                object\n",
       "Model                                       object\n",
       "Aircraft Age                                 int64\n",
       "Aircraft Age Missing                         int64\n",
       "Type of Engine                              object\n",
       "Number of Seats                              int64\n",
       "Builder Type Certificated                    int64\n",
       "Precipitation Accumulation One Hour        float64\n",
       "Precipitation Accumulation Six Hours       float64\n",
       "Air Temperature                            float64\n",
       "Dew Point Temperature                      float64\n",
       "Relative Humidity                          float64\n",
       "Wind Speed                                 float64\n",
       "Wind Direction Interpolation               float64\n",
       "Wind Gust                                  float64\n",
       "Visibility                                 float64\n",
       "Ceiling                                      int64\n",
       "Ceiling Missing                              int64\n",
       "Sea Level Pressure                         float64\n",
       "Sea Level Pressure Missing                   int64\n",
       "dtype: object"
      ]
     },
     "execution_count": 11,
     "metadata": {},
     "output_type": "execute_result"
    }
   ],
   "source": [
    "# data type\n",
    "delays_df.dtypes"
   ]
  },
  {
   "cell_type": "markdown",
   "metadata": {},
   "source": [
    "## Categorize Features\n",
    "---"
   ]
  },
  {
   "cell_type": "markdown",
   "metadata": {},
   "source": [
    "### separate y and x's"
   ]
  },
  {
   "cell_type": "code",
   "execution_count": 13,
   "metadata": {},
   "outputs": [],
   "source": [
    "# separate \n",
    "t_name = 'Delay Bin'\n",
    "y_var = delays_df[t_name]\n",
    "x_vars = delays_df.drop(columns=t_name).copy()"
   ]
  },
  {
   "cell_type": "markdown",
   "metadata": {},
   "source": [
    "### identify categorical and numerical columns"
   ]
  },
  {
   "cell_type": "code",
   "execution_count": 30,
   "metadata": {},
   "outputs": [],
   "source": [
    "# get x cols list\n",
    "cols_list = list(x_vars.columns)\n",
    "\n",
    "# get numeric cols\n",
    "num_cols = [\n",
    "    col for col in cols_list\n",
    "    if (x_vars[col].dtypes == 'int64' or x_vars[col].dtypes == 'float64')\n",
    "        and col.endswith('Missing') == False\n",
    "]\n",
    "\n",
    "# get categorical cols--> leftover\n",
    "cat_cols = set(cols_list) - set(num_cols)"
   ]
  },
  {
   "cell_type": "code",
   "execution_count": 31,
   "metadata": {},
   "outputs": [
    {
     "data": {
      "text/plain": [
       "['Month (sin)',\n",
       " 'Month (cos)',\n",
       " 'Day (sin)',\n",
       " 'Day (cos)',\n",
       " 'Day of Week (sin)',\n",
       " 'Day of Week (cos)',\n",
       " 'Scheduled Departure Total Minutes (sin)',\n",
       " 'Scheduled Departure Total Minutes (cos)',\n",
       " 'Scheduled Elapsed Time',\n",
       " 'Aircraft Age',\n",
       " 'Number of Seats',\n",
       " 'Builder Type Certificated',\n",
       " 'Precipitation Accumulation One Hour',\n",
       " 'Precipitation Accumulation Six Hours',\n",
       " 'Air Temperature',\n",
       " 'Dew Point Temperature',\n",
       " 'Relative Humidity',\n",
       " 'Wind Speed',\n",
       " 'Wind Direction Interpolation',\n",
       " 'Wind Gust',\n",
       " 'Visibility',\n",
       " 'Ceiling',\n",
       " 'Sea Level Pressure']"
      ]
     },
     "metadata": {},
     "output_type": "display_data"
    },
    {
     "data": {
      "text/plain": [
       "{'Aircraft Age Missing',\n",
       " 'Carrier Code',\n",
       " 'Ceiling Missing',\n",
       " 'Destination Airport',\n",
       " 'Manufacturer',\n",
       " 'Model',\n",
       " 'Sea Level Pressure Missing',\n",
       " 'Type of Engine'}"
      ]
     },
     "execution_count": 31,
     "metadata": {},
     "output_type": "execute_result"
    }
   ],
   "source": [
    "# display cols\n",
    "display(num_cols)\n",
    "cat_cols"
   ]
  }
 ],
 "metadata": {
  "kernelspec": {
   "display_name": "base",
   "language": "python",
   "name": "python3"
  },
  "language_info": {
   "codemirror_mode": {
    "name": "ipython",
    "version": 3
   },
   "file_extension": ".py",
   "mimetype": "text/x-python",
   "name": "python",
   "nbconvert_exporter": "python",
   "pygments_lexer": "ipython3",
   "version": "3.12.4"
  }
 },
 "nbformat": 4,
 "nbformat_minor": 2
}
